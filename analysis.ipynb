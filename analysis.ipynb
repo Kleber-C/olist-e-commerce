{
  "nbformat": 4,
  "nbformat_minor": 0,
  "metadata": {
    "colab": {
      "name": "analysis.ipynb",
      "provenance": [],
      "authorship_tag": "ABX9TyN5iqdHxqIAeg+zKnYlX/Af",
      "include_colab_link": true
    },
    "kernelspec": {
      "name": "python3",
      "display_name": "Python 3"
    }
  },
  "cells": [
    {
      "cell_type": "markdown",
      "metadata": {
        "id": "view-in-github",
        "colab_type": "text"
      },
      "source": [
        "<a href=\"https://colab.research.google.com/github/Mario-RJunior/olist-e-commerce/blob/master/analysis.ipynb\" target=\"_parent\"><img src=\"https://colab.research.google.com/assets/colab-badge.svg\" alt=\"Open In Colab\"/></a>"
      ]
    },
    {
      "cell_type": "markdown",
      "metadata": {
        "id": "lowEzt9WU4Wh",
        "colab_type": "text"
      },
      "source": [
        "# Segmentação de Clientes"
      ]
    },
    {
      "cell_type": "markdown",
      "metadata": {
        "id": "TAUmY0dyVEZs",
        "colab_type": "text"
      },
      "source": [
        "## 1) Introdução"
      ]
    },
    {
      "cell_type": "markdown",
      "metadata": {
        "id": "lcXwUnnRVIeR",
        "colab_type": "text"
      },
      "source": [
        "Neste trabalho iremos analisar a base de dados disponibilizada online pela Olist.\n",
        "\n",
        "Esta base refere-se ao desenvolvimento do comércio eletrônico no Brasil nos últimos anos, apresentando informações tanto das compras realizadas, quanto dos clientes que as fizeram, dos vendedores envolvidos e dos produtos comercializado neste tempo.\n",
        "\n",
        "Nosso objetivo é explorar esta base de dados para tirar informações relevantes para serem utilizadas nos negócios, culminando com uma segmentação dos clientes, onde estes possam ser classificados de acordo com sua assiduidade às compras online."
      ]
    },
    {
      "cell_type": "markdown",
      "metadata": {
        "id": "lBODl_Ffhr6i",
        "colab_type": "text"
      },
      "source": [
        "## 2) Preparação dos dados"
      ]
    },
    {
      "cell_type": "code",
      "metadata": {
        "id": "9gR_EVSDU_eh",
        "colab_type": "code",
        "colab": {
          "base_uri": "https://localhost:8080/",
          "height": 110
        },
        "outputId": "b8e0a48b-f170-4e63-82f8-a26422a8d902"
      },
      "source": [
        "! pip install squarify"
      ],
      "execution_count": 3,
      "outputs": [
        {
          "output_type": "stream",
          "text": [
            "Collecting squarify\n",
            "  Downloading https://files.pythonhosted.org/packages/0b/2b/2e77c35326efec19819cd1d729540d4d235e6c2a3f37658288a363a67da5/squarify-0.4.3-py3-none-any.whl\n",
            "Installing collected packages: squarify\n",
            "Successfully installed squarify-0.4.3\n"
          ],
          "name": "stdout"
        }
      ]
    },
    {
      "cell_type": "code",
      "metadata": {
        "id": "nSqpnV3tUtmp",
        "colab_type": "code",
        "colab": {}
      },
      "source": [
        "# Importando as bibliotecas\n",
        "import pandas as pd\n",
        "import matplotlib.pyplot as plt\n",
        "import seaborn as sns\n",
        "import numpy as np\n",
        "from datetime import timedelta\n",
        "import squarify\n",
        "import warnings\n",
        "warnings.filterwarnings('ignore')"
      ],
      "execution_count": 4,
      "outputs": []
    },
    {
      "cell_type": "code",
      "metadata": {
        "id": "OFjCMJoLc5Pm",
        "colab_type": "code",
        "colab": {
          "base_uri": "https://localhost:8080/",
          "height": 126
        },
        "outputId": "30e9e0b3-a9a0-4295-9ca6-9db87601ad6a"
      },
      "source": [
        "! git clone https://github.com/Mario-RJunior/olist-e-commerce"
      ],
      "execution_count": 6,
      "outputs": [
        {
          "output_type": "stream",
          "text": [
            "Cloning into 'olist-e-commerce'...\n",
            "remote: Enumerating objects: 16, done.\u001b[K\n",
            "remote: Counting objects: 100% (16/16), done.\u001b[K\n",
            "remote: Compressing objects: 100% (15/15), done.\u001b[K\n",
            "remote: Total 16 (delta 2), reused 0 (delta 0), pack-reused 0\u001b[K\n",
            "Unpacking objects: 100% (16/16), done.\n"
          ],
          "name": "stdout"
        }
      ]
    },
    {
      "cell_type": "markdown",
      "metadata": {
        "id": "gstTij7OkB7T",
        "colab_type": "text"
      },
      "source": [
        "### 2.1) Gerando o dataframe"
      ]
    },
    {
      "cell_type": "markdown",
      "metadata": {
        "id": "XEFSBd6ykNEy",
        "colab_type": "text"
      },
      "source": [
        "Para gerar um dataframe, iremos carregar os arquivos ***.csv*** de forma independente e depois iremos juntá-los uns aos outros através das chaves correspondentes."
      ]
    },
    {
      "cell_type": "code",
      "metadata": {
        "id": "mZFUlq76U21y",
        "colab_type": "code",
        "colab": {}
      },
      "source": [
        "# Carregando os datasets\n",
        "customer = pd.read_csv('olist-e-commerce/olist_customers_dataset.csv')\n",
        "orders = pd.read_csv('olist-e-commerce/olist_orders_dataset.csv')\n",
        "orders_items = pd.read_csv('olist-e-commerce/olist_order_items_dataset.csv')"
      ],
      "execution_count": 15,
      "outputs": []
    },
    {
      "cell_type": "code",
      "metadata": {
        "id": "rUx7v5lac2KK",
        "colab_type": "code",
        "colab": {}
      },
      "source": [
        "# Junção dos dataframes\n",
        "df = pd.merge(right=customer,\n",
        "             left=orders,\n",
        "             on='customer_id')\n",
        "\n",
        "df = pd.merge(right=orders_items,\n",
        "             left=df,\n",
        "             on='order_id')"
      ],
      "execution_count": 18,
      "outputs": []
    },
    {
      "cell_type": "code",
      "metadata": {
        "id": "Nh052x6wi0aZ",
        "colab_type": "code",
        "colab": {
          "base_uri": "https://localhost:8080/",
          "height": 235
        },
        "outputId": "e7d25d39-e230-4b61-808d-f7c37491f479"
      },
      "source": [
        "df.head()"
      ],
      "execution_count": 19,
      "outputs": [
        {
          "output_type": "execute_result",
          "data": {
            "text/html": [
              "<div>\n",
              "<style scoped>\n",
              "    .dataframe tbody tr th:only-of-type {\n",
              "        vertical-align: middle;\n",
              "    }\n",
              "\n",
              "    .dataframe tbody tr th {\n",
              "        vertical-align: top;\n",
              "    }\n",
              "\n",
              "    .dataframe thead th {\n",
              "        text-align: right;\n",
              "    }\n",
              "</style>\n",
              "<table border=\"1\" class=\"dataframe\">\n",
              "  <thead>\n",
              "    <tr style=\"text-align: right;\">\n",
              "      <th></th>\n",
              "      <th>order_id</th>\n",
              "      <th>customer_id</th>\n",
              "      <th>order_status</th>\n",
              "      <th>order_purchase_timestamp</th>\n",
              "      <th>order_approved_at</th>\n",
              "      <th>order_delivered_carrier_date</th>\n",
              "      <th>order_delivered_customer_date</th>\n",
              "      <th>order_estimated_delivery_date</th>\n",
              "      <th>customer_unique_id</th>\n",
              "      <th>customer_zip_code_prefix</th>\n",
              "      <th>customer_city</th>\n",
              "      <th>customer_state</th>\n",
              "      <th>order_item_id</th>\n",
              "      <th>product_id</th>\n",
              "      <th>seller_id</th>\n",
              "      <th>shipping_limit_date</th>\n",
              "      <th>price</th>\n",
              "      <th>freight_value</th>\n",
              "    </tr>\n",
              "  </thead>\n",
              "  <tbody>\n",
              "    <tr>\n",
              "      <th>0</th>\n",
              "      <td>e481f51cbdc54678b7cc49136f2d6af7</td>\n",
              "      <td>9ef432eb6251297304e76186b10a928d</td>\n",
              "      <td>delivered</td>\n",
              "      <td>2017-10-02 10:56:33</td>\n",
              "      <td>2017-10-02 11:07:15</td>\n",
              "      <td>2017-10-04 19:55:00</td>\n",
              "      <td>2017-10-10 21:25:13</td>\n",
              "      <td>2017-10-18 00:00:00</td>\n",
              "      <td>7c396fd4830fd04220f754e42b4e5bff</td>\n",
              "      <td>3149</td>\n",
              "      <td>sao paulo</td>\n",
              "      <td>SP</td>\n",
              "      <td>1</td>\n",
              "      <td>87285b34884572647811a353c7ac498a</td>\n",
              "      <td>3504c0cb71d7fa48d967e0e4c94d59d9</td>\n",
              "      <td>2017-10-06 11:07:15</td>\n",
              "      <td>29.99</td>\n",
              "      <td>8.72</td>\n",
              "    </tr>\n",
              "    <tr>\n",
              "      <th>1</th>\n",
              "      <td>53cdb2fc8bc7dce0b6741e2150273451</td>\n",
              "      <td>b0830fb4747a6c6d20dea0b8c802d7ef</td>\n",
              "      <td>delivered</td>\n",
              "      <td>2018-07-24 20:41:37</td>\n",
              "      <td>2018-07-26 03:24:27</td>\n",
              "      <td>2018-07-26 14:31:00</td>\n",
              "      <td>2018-08-07 15:27:45</td>\n",
              "      <td>2018-08-13 00:00:00</td>\n",
              "      <td>af07308b275d755c9edb36a90c618231</td>\n",
              "      <td>47813</td>\n",
              "      <td>barreiras</td>\n",
              "      <td>BA</td>\n",
              "      <td>1</td>\n",
              "      <td>595fac2a385ac33a80bd5114aec74eb8</td>\n",
              "      <td>289cdb325fb7e7f891c38608bf9e0962</td>\n",
              "      <td>2018-07-30 03:24:27</td>\n",
              "      <td>118.70</td>\n",
              "      <td>22.76</td>\n",
              "    </tr>\n",
              "    <tr>\n",
              "      <th>2</th>\n",
              "      <td>47770eb9100c2d0c44946d9cf07ec65d</td>\n",
              "      <td>41ce2a54c0b03bf3443c3d931a367089</td>\n",
              "      <td>delivered</td>\n",
              "      <td>2018-08-08 08:38:49</td>\n",
              "      <td>2018-08-08 08:55:23</td>\n",
              "      <td>2018-08-08 13:50:00</td>\n",
              "      <td>2018-08-17 18:06:29</td>\n",
              "      <td>2018-09-04 00:00:00</td>\n",
              "      <td>3a653a41f6f9fc3d2a113cf8398680e8</td>\n",
              "      <td>75265</td>\n",
              "      <td>vianopolis</td>\n",
              "      <td>GO</td>\n",
              "      <td>1</td>\n",
              "      <td>aa4383b373c6aca5d8797843e5594415</td>\n",
              "      <td>4869f7a5dfa277a7dca6462dcf3b52b2</td>\n",
              "      <td>2018-08-13 08:55:23</td>\n",
              "      <td>159.90</td>\n",
              "      <td>19.22</td>\n",
              "    </tr>\n",
              "    <tr>\n",
              "      <th>3</th>\n",
              "      <td>949d5b44dbf5de918fe9c16f97b45f8a</td>\n",
              "      <td>f88197465ea7920adcdbec7375364d82</td>\n",
              "      <td>delivered</td>\n",
              "      <td>2017-11-18 19:28:06</td>\n",
              "      <td>2017-11-18 19:45:59</td>\n",
              "      <td>2017-11-22 13:39:59</td>\n",
              "      <td>2017-12-02 00:28:42</td>\n",
              "      <td>2017-12-15 00:00:00</td>\n",
              "      <td>7c142cf63193a1473d2e66489a9ae977</td>\n",
              "      <td>59296</td>\n",
              "      <td>sao goncalo do amarante</td>\n",
              "      <td>RN</td>\n",
              "      <td>1</td>\n",
              "      <td>d0b61bfb1de832b15ba9d266ca96e5b0</td>\n",
              "      <td>66922902710d126a0e7d26b0e3805106</td>\n",
              "      <td>2017-11-23 19:45:59</td>\n",
              "      <td>45.00</td>\n",
              "      <td>27.20</td>\n",
              "    </tr>\n",
              "    <tr>\n",
              "      <th>4</th>\n",
              "      <td>ad21c59c0840e6cb83a9ceb5573f8159</td>\n",
              "      <td>8ab97904e6daea8866dbdbc4fb7aad2c</td>\n",
              "      <td>delivered</td>\n",
              "      <td>2018-02-13 21:18:39</td>\n",
              "      <td>2018-02-13 22:20:29</td>\n",
              "      <td>2018-02-14 19:46:34</td>\n",
              "      <td>2018-02-16 18:17:02</td>\n",
              "      <td>2018-02-26 00:00:00</td>\n",
              "      <td>72632f0f9dd73dfee390c9b22eb56dd6</td>\n",
              "      <td>9195</td>\n",
              "      <td>santo andre</td>\n",
              "      <td>SP</td>\n",
              "      <td>1</td>\n",
              "      <td>65266b2da20d04dbe00c5c2d3bb7859e</td>\n",
              "      <td>2c9e548be18521d1c43cde1c582c6de8</td>\n",
              "      <td>2018-02-19 20:31:37</td>\n",
              "      <td>19.90</td>\n",
              "      <td>8.72</td>\n",
              "    </tr>\n",
              "  </tbody>\n",
              "</table>\n",
              "</div>"
            ],
            "text/plain": [
              "                           order_id  ... freight_value\n",
              "0  e481f51cbdc54678b7cc49136f2d6af7  ...          8.72\n",
              "1  53cdb2fc8bc7dce0b6741e2150273451  ...         22.76\n",
              "2  47770eb9100c2d0c44946d9cf07ec65d  ...         19.22\n",
              "3  949d5b44dbf5de918fe9c16f97b45f8a  ...         27.20\n",
              "4  ad21c59c0840e6cb83a9ceb5573f8159  ...          8.72\n",
              "\n",
              "[5 rows x 18 columns]"
            ]
          },
          "metadata": {
            "tags": []
          },
          "execution_count": 19
        }
      ]
    },
    {
      "cell_type": "code",
      "metadata": {
        "id": "lXkVZCWOi46-",
        "colab_type": "code",
        "colab": {
          "base_uri": "https://localhost:8080/",
          "height": 54
        },
        "outputId": "1a8b7147-446b-47aa-aa0b-ec7bced87d3e"
      },
      "source": [
        "print(f'Número de linhas: {df.shape[0]} \\nNúmero de colunas: {df.shape[1]}')"
      ],
      "execution_count": 22,
      "outputs": [
        {
          "output_type": "stream",
          "text": [
            "Número de linhas: 112650 \n",
            "Número de colunas: 18\n"
          ],
          "name": "stdout"
        }
      ]
    },
    {
      "cell_type": "markdown",
      "metadata": {
        "id": "ZNpm0GUSmUNk",
        "colab_type": "text"
      },
      "source": [
        "### 2.2) Deletando colunas"
      ]
    },
    {
      "cell_type": "markdown",
      "metadata": {
        "id": "4Ye4jM6ckr-1",
        "colab_type": "text"
      },
      "source": [
        "Iremos agora excluir algumas colunas que por ora não utilizaremos. Para isso, criaremos um novo dataframe denominado \"df_2\"."
      ]
    },
    {
      "cell_type": "code",
      "metadata": {
        "id": "rl0T8YP9je_Y",
        "colab_type": "code",
        "colab": {
          "base_uri": "https://localhost:8080/",
          "height": 235
        },
        "outputId": "5ea9972b-949d-4fdc-fd59-e9dbc30df3c0"
      },
      "source": [
        "# Deletando colunas\n",
        "df_2 = df.drop(columns=['order_status', 'order_approved_at', 'order_delivered_carrier_date', 'order_delivered_customer_date',\n",
        "                        'order_estimated_delivery_date', 'order_item_id', 'seller_id', 'shipping_limit_date'])\n",
        "\n",
        "df_2.head()"
      ],
      "execution_count": 23,
      "outputs": [
        {
          "output_type": "execute_result",
          "data": {
            "text/html": [
              "<div>\n",
              "<style scoped>\n",
              "    .dataframe tbody tr th:only-of-type {\n",
              "        vertical-align: middle;\n",
              "    }\n",
              "\n",
              "    .dataframe tbody tr th {\n",
              "        vertical-align: top;\n",
              "    }\n",
              "\n",
              "    .dataframe thead th {\n",
              "        text-align: right;\n",
              "    }\n",
              "</style>\n",
              "<table border=\"1\" class=\"dataframe\">\n",
              "  <thead>\n",
              "    <tr style=\"text-align: right;\">\n",
              "      <th></th>\n",
              "      <th>order_id</th>\n",
              "      <th>customer_id</th>\n",
              "      <th>order_purchase_timestamp</th>\n",
              "      <th>customer_unique_id</th>\n",
              "      <th>customer_zip_code_prefix</th>\n",
              "      <th>customer_city</th>\n",
              "      <th>customer_state</th>\n",
              "      <th>product_id</th>\n",
              "      <th>price</th>\n",
              "      <th>freight_value</th>\n",
              "    </tr>\n",
              "  </thead>\n",
              "  <tbody>\n",
              "    <tr>\n",
              "      <th>0</th>\n",
              "      <td>e481f51cbdc54678b7cc49136f2d6af7</td>\n",
              "      <td>9ef432eb6251297304e76186b10a928d</td>\n",
              "      <td>2017-10-02 10:56:33</td>\n",
              "      <td>7c396fd4830fd04220f754e42b4e5bff</td>\n",
              "      <td>3149</td>\n",
              "      <td>sao paulo</td>\n",
              "      <td>SP</td>\n",
              "      <td>87285b34884572647811a353c7ac498a</td>\n",
              "      <td>29.99</td>\n",
              "      <td>8.72</td>\n",
              "    </tr>\n",
              "    <tr>\n",
              "      <th>1</th>\n",
              "      <td>53cdb2fc8bc7dce0b6741e2150273451</td>\n",
              "      <td>b0830fb4747a6c6d20dea0b8c802d7ef</td>\n",
              "      <td>2018-07-24 20:41:37</td>\n",
              "      <td>af07308b275d755c9edb36a90c618231</td>\n",
              "      <td>47813</td>\n",
              "      <td>barreiras</td>\n",
              "      <td>BA</td>\n",
              "      <td>595fac2a385ac33a80bd5114aec74eb8</td>\n",
              "      <td>118.70</td>\n",
              "      <td>22.76</td>\n",
              "    </tr>\n",
              "    <tr>\n",
              "      <th>2</th>\n",
              "      <td>47770eb9100c2d0c44946d9cf07ec65d</td>\n",
              "      <td>41ce2a54c0b03bf3443c3d931a367089</td>\n",
              "      <td>2018-08-08 08:38:49</td>\n",
              "      <td>3a653a41f6f9fc3d2a113cf8398680e8</td>\n",
              "      <td>75265</td>\n",
              "      <td>vianopolis</td>\n",
              "      <td>GO</td>\n",
              "      <td>aa4383b373c6aca5d8797843e5594415</td>\n",
              "      <td>159.90</td>\n",
              "      <td>19.22</td>\n",
              "    </tr>\n",
              "    <tr>\n",
              "      <th>3</th>\n",
              "      <td>949d5b44dbf5de918fe9c16f97b45f8a</td>\n",
              "      <td>f88197465ea7920adcdbec7375364d82</td>\n",
              "      <td>2017-11-18 19:28:06</td>\n",
              "      <td>7c142cf63193a1473d2e66489a9ae977</td>\n",
              "      <td>59296</td>\n",
              "      <td>sao goncalo do amarante</td>\n",
              "      <td>RN</td>\n",
              "      <td>d0b61bfb1de832b15ba9d266ca96e5b0</td>\n",
              "      <td>45.00</td>\n",
              "      <td>27.20</td>\n",
              "    </tr>\n",
              "    <tr>\n",
              "      <th>4</th>\n",
              "      <td>ad21c59c0840e6cb83a9ceb5573f8159</td>\n",
              "      <td>8ab97904e6daea8866dbdbc4fb7aad2c</td>\n",
              "      <td>2018-02-13 21:18:39</td>\n",
              "      <td>72632f0f9dd73dfee390c9b22eb56dd6</td>\n",
              "      <td>9195</td>\n",
              "      <td>santo andre</td>\n",
              "      <td>SP</td>\n",
              "      <td>65266b2da20d04dbe00c5c2d3bb7859e</td>\n",
              "      <td>19.90</td>\n",
              "      <td>8.72</td>\n",
              "    </tr>\n",
              "  </tbody>\n",
              "</table>\n",
              "</div>"
            ],
            "text/plain": [
              "                           order_id  ... freight_value\n",
              "0  e481f51cbdc54678b7cc49136f2d6af7  ...          8.72\n",
              "1  53cdb2fc8bc7dce0b6741e2150273451  ...         22.76\n",
              "2  47770eb9100c2d0c44946d9cf07ec65d  ...         19.22\n",
              "3  949d5b44dbf5de918fe9c16f97b45f8a  ...         27.20\n",
              "4  ad21c59c0840e6cb83a9ceb5573f8159  ...          8.72\n",
              "\n",
              "[5 rows x 10 columns]"
            ]
          },
          "metadata": {
            "tags": []
          },
          "execution_count": 23
        }
      ]
    },
    {
      "cell_type": "markdown",
      "metadata": {
        "id": "TrGq_R03mfaZ",
        "colab_type": "text"
      },
      "source": [
        "### 2.3) Verificando a consistência dos dados"
      ]
    },
    {
      "cell_type": "markdown",
      "metadata": {
        "id": "tujyeVNVmmfp",
        "colab_type": "text"
      },
      "source": [
        "Para utilizar nosso dataframe da forma ideal, precisamos inicialmente ter certeza que os dados estão consistentes, ou seja, no formato ideal, que não há valores faltantes na tabela, etc. Checaremos essas condições a seguir."
      ]
    },
    {
      "cell_type": "code",
      "metadata": {
        "id": "V4jxM1gck9xK",
        "colab_type": "code",
        "colab": {}
      },
      "source": [
        "# Convertendo a coluna \"order_purchase_timestamp\" para o formato datetime\n",
        "df_2['order_purchase_timestamp'] = pd.to_datetime(df_2['order_purchase_timestamp'])"
      ],
      "execution_count": 24,
      "outputs": []
    },
    {
      "cell_type": "code",
      "metadata": {
        "id": "TxdAEuV3lEz7",
        "colab_type": "code",
        "colab": {
          "base_uri": "https://localhost:8080/",
          "height": 217
        },
        "outputId": "dfea5592-bc35-4a5a-9b7d-ec647073cbb4"
      },
      "source": [
        "# Confirmando os tipos dos dados de cada coluna\n",
        "df_2.dtypes"
      ],
      "execution_count": 25,
      "outputs": [
        {
          "output_type": "execute_result",
          "data": {
            "text/plain": [
              "order_id                            object\n",
              "customer_id                         object\n",
              "order_purchase_timestamp    datetime64[ns]\n",
              "customer_unique_id                  object\n",
              "customer_zip_code_prefix             int64\n",
              "customer_city                       object\n",
              "customer_state                      object\n",
              "product_id                          object\n",
              "price                              float64\n",
              "freight_value                      float64\n",
              "dtype: object"
            ]
          },
          "metadata": {
            "tags": []
          },
          "execution_count": 25
        }
      ]
    },
    {
      "cell_type": "code",
      "metadata": {
        "id": "yfWWrZzwla8E",
        "colab_type": "code",
        "colab": {
          "base_uri": "https://localhost:8080/",
          "height": 217
        },
        "outputId": "0517912f-21f9-4f60-a224-8e288c29e2c9"
      },
      "source": [
        "# Verificando os valores nulos\n",
        "df_2.isnull().sum()"
      ],
      "execution_count": 26,
      "outputs": [
        {
          "output_type": "execute_result",
          "data": {
            "text/plain": [
              "order_id                    0\n",
              "customer_id                 0\n",
              "order_purchase_timestamp    0\n",
              "customer_unique_id          0\n",
              "customer_zip_code_prefix    0\n",
              "customer_city               0\n",
              "customer_state              0\n",
              "product_id                  0\n",
              "price                       0\n",
              "freight_value               0\n",
              "dtype: int64"
            ]
          },
          "metadata": {
            "tags": []
          },
          "execution_count": 26
        }
      ]
    },
    {
      "cell_type": "markdown",
      "metadata": {
        "id": "56XnBvYklpF3",
        "colab_type": "text"
      },
      "source": [
        "## 3) Gerando Visualizações"
      ]
    },
    {
      "cell_type": "markdown",
      "metadata": {
        "id": "HEaC0o9AnESo",
        "colab_type": "text"
      },
      "source": [
        "### 3.1) Modelo RFM"
      ]
    },
    {
      "cell_type": "markdown",
      "metadata": {
        "id": "koa_1TOJnJ2L",
        "colab_type": "text"
      },
      "source": [
        "O modelo RFM é largamente utilizado para segmentação de clientes, levando em consideração as respectivas características:\n",
        "\n",
        "- ***Recência (Recency)***: total de dias em que o cliente não realiza uma compra.\n",
        "- ***Frequência (Frequency)***: número total de compras que o cliente já realizou.\n",
        "- ***Monetaridade (Monetary)***: gasto total do cliente.\n",
        "\n",
        "Iremos então descobrir cada uma dessas variáveis a partir do dataframe obtido acima."
      ]
    },
    {
      "cell_type": "code",
      "metadata": {
        "id": "1r-i2Foyle6W",
        "colab_type": "code",
        "colab": {}
      },
      "source": [
        ""
      ],
      "execution_count": null,
      "outputs": []
    }
  ]
}