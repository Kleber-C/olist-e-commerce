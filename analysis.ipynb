{
  "nbformat": 4,
  "nbformat_minor": 0,
  "metadata": {
    "colab": {
      "name": "analysis.ipynb",
      "provenance": [],
      "include_colab_link": true
    },
    "kernelspec": {
      "name": "python3",
      "display_name": "Python 3"
    }
  },
  "cells": [
    {
      "cell_type": "markdown",
      "metadata": {
        "id": "view-in-github",
        "colab_type": "text"
      },
      "source": [
        "<a href=\"https://colab.research.google.com/github/Mario-RJunior/olist-e-commerce/blob/master/analysis.ipynb\" target=\"_parent\"><img src=\"https://colab.research.google.com/assets/colab-badge.svg\" alt=\"Open In Colab\"/></a>"
      ]
    },
    {
      "cell_type": "markdown",
      "metadata": {
        "id": "lowEzt9WU4Wh",
        "colab_type": "text"
      },
      "source": [
        "# Segmentação de Clientes"
      ]
    },
    {
      "cell_type": "markdown",
      "metadata": {
        "id": "TAUmY0dyVEZs",
        "colab_type": "text"
      },
      "source": [
        "## 1) Introdução"
      ]
    },
    {
      "cell_type": "markdown",
      "metadata": {
        "id": "lcXwUnnRVIeR",
        "colab_type": "text"
      },
      "source": [
        "Neste trabalho iremos analisar a base de dados disponibilizada online pela Olist.\n",
        "\n",
        "Esta base refere-se ao desenvolvimento do comércio eletrônico no Brasil nos últimos anos, apresentando informações tanto das compras realizadas, quanto dos clientes que as fizeram, dos vendedores envolvidos e dos produtos comercializado neste tempo.\n",
        "\n",
        "Nosso objetivo é explorar esta base de dados para tirar informações relevantes para serem utilizadas nos negócios, culminando com uma segmentação dos clientes, onde estes possam ser classificados de acordo com sua assiduidade às compras online."
      ]
    },
    {
      "cell_type": "markdown",
      "metadata": {
        "id": "lBODl_Ffhr6i",
        "colab_type": "text"
      },
      "source": [
        "## 2) Preparação dos dados"
      ]
    },
    {
      "cell_type": "code",
      "metadata": {
        "id": "nSqpnV3tUtmp",
        "colab_type": "code",
        "colab": {
          "base_uri": "https://localhost:8080/",
          "height": 71
        },
        "outputId": "d009dd87-a125-4c72-c00b-c940ca5360bd"
      },
      "source": [
        "# Importando as bibliotecas\n",
        "import pandas as pd\n",
        "import matplotlib.pyplot as plt\n",
        "import seaborn as sns\n",
        "from datetime import timedelta\n",
        "from sklearn.cluster import KMeans\n",
        "from sklearn.preprocessing import StandardScaler\n",
        "import warnings\n",
        "warnings.filterwarnings('ignore')"
      ],
      "execution_count": 1,
      "outputs": [
        {
          "output_type": "stream",
          "text": [
            "/usr/local/lib/python3.6/dist-packages/statsmodels/tools/_testing.py:19: FutureWarning: pandas.util.testing is deprecated. Use the functions in the public API at pandas.testing instead.\n",
            "  import pandas.util.testing as tm\n"
          ],
          "name": "stderr"
        }
      ]
    },
    {
      "cell_type": "code",
      "metadata": {
        "id": "OFjCMJoLc5Pm",
        "colab_type": "code",
        "colab": {
          "base_uri": "https://localhost:8080/",
          "height": 119
        },
        "outputId": "47253946-7767-46d6-a672-7fc3c1395b0c"
      },
      "source": [
        "! git clone https://github.com/Mario-RJunior/olist-e-commerce"
      ],
      "execution_count": 2,
      "outputs": [
        {
          "output_type": "stream",
          "text": [
            "Cloning into 'olist-e-commerce'...\n",
            "remote: Enumerating objects: 49, done.\u001b[K\n",
            "remote: Counting objects: 100% (49/49), done.\u001b[K\n",
            "remote: Compressing objects: 100% (48/48), done.\u001b[K\n",
            "remote: Total 49 (delta 23), reused 0 (delta 0), pack-reused 0\u001b[K\n",
            "Unpacking objects: 100% (49/49), done.\n"
          ],
          "name": "stdout"
        }
      ]
    },
    {
      "cell_type": "markdown",
      "metadata": {
        "id": "gstTij7OkB7T",
        "colab_type": "text"
      },
      "source": [
        "### 2.1) Gerando o dataframe"
      ]
    },
    {
      "cell_type": "markdown",
      "metadata": {
        "id": "XEFSBd6ykNEy",
        "colab_type": "text"
      },
      "source": [
        "Para gerar um dataframe, iremos carregar os arquivos ***.csv*** de forma independente e depois iremos juntá-los uns aos outros através das chaves correspondentes."
      ]
    },
    {
      "cell_type": "code",
      "metadata": {
        "id": "mZFUlq76U21y",
        "colab_type": "code",
        "colab": {}
      },
      "source": [
        "# Carregando os datasets\n",
        "customer = pd.read_csv('olist-e-commerce/olist_customers_dataset.csv')\n",
        "orders = pd.read_csv('olist-e-commerce/olist_orders_dataset.csv')\n",
        "orders_items = pd.read_csv('olist-e-commerce/olist_order_items_dataset.csv')"
      ],
      "execution_count": 3,
      "outputs": []
    },
    {
      "cell_type": "code",
      "metadata": {
        "id": "rUx7v5lac2KK",
        "colab_type": "code",
        "colab": {}
      },
      "source": [
        "# Junção dos dataframes\n",
        "df = pd.merge(right=orders,\n",
        "             left=customer,\n",
        "             on='customer_id')\n",
        "\n",
        "df = pd.merge(right=orders_items,\n",
        "             left=df,\n",
        "             on='order_id')"
      ],
      "execution_count": 4,
      "outputs": []
    },
    {
      "cell_type": "code",
      "metadata": {
        "id": "Nh052x6wi0aZ",
        "colab_type": "code",
        "colab": {
          "base_uri": "https://localhost:8080/",
          "height": 258
        },
        "outputId": "b8707ca1-47d7-41a6-c926-2d1b24ad1c08"
      },
      "source": [
        "df.head()"
      ],
      "execution_count": 5,
      "outputs": [
        {
          "output_type": "execute_result",
          "data": {
            "text/html": [
              "<div>\n",
              "<style scoped>\n",
              "    .dataframe tbody tr th:only-of-type {\n",
              "        vertical-align: middle;\n",
              "    }\n",
              "\n",
              "    .dataframe tbody tr th {\n",
              "        vertical-align: top;\n",
              "    }\n",
              "\n",
              "    .dataframe thead th {\n",
              "        text-align: right;\n",
              "    }\n",
              "</style>\n",
              "<table border=\"1\" class=\"dataframe\">\n",
              "  <thead>\n",
              "    <tr style=\"text-align: right;\">\n",
              "      <th></th>\n",
              "      <th>customer_id</th>\n",
              "      <th>customer_unique_id</th>\n",
              "      <th>customer_zip_code_prefix</th>\n",
              "      <th>customer_city</th>\n",
              "      <th>customer_state</th>\n",
              "      <th>order_id</th>\n",
              "      <th>order_status</th>\n",
              "      <th>order_purchase_timestamp</th>\n",
              "      <th>order_approved_at</th>\n",
              "      <th>order_delivered_carrier_date</th>\n",
              "      <th>order_delivered_customer_date</th>\n",
              "      <th>order_estimated_delivery_date</th>\n",
              "      <th>order_item_id</th>\n",
              "      <th>product_id</th>\n",
              "      <th>seller_id</th>\n",
              "      <th>shipping_limit_date</th>\n",
              "      <th>price</th>\n",
              "      <th>freight_value</th>\n",
              "    </tr>\n",
              "  </thead>\n",
              "  <tbody>\n",
              "    <tr>\n",
              "      <th>0</th>\n",
              "      <td>06b8999e2fba1a1fbc88172c00ba8bc7</td>\n",
              "      <td>861eff4711a542e4b93843c6dd7febb0</td>\n",
              "      <td>14409</td>\n",
              "      <td>franca</td>\n",
              "      <td>SP</td>\n",
              "      <td>00e7ee1b050b8499577073aeb2a297a1</td>\n",
              "      <td>delivered</td>\n",
              "      <td>2017-05-16 15:05:35</td>\n",
              "      <td>2017-05-16 15:22:12</td>\n",
              "      <td>2017-05-23 10:47:57</td>\n",
              "      <td>2017-05-25 10:35:35</td>\n",
              "      <td>2017-06-05 00:00:00</td>\n",
              "      <td>1</td>\n",
              "      <td>a9516a079e37a9c9c36b9b78b10169e8</td>\n",
              "      <td>7c67e1448b00f6e969d365cea6b010ab</td>\n",
              "      <td>2017-05-22 15:22:12</td>\n",
              "      <td>124.99</td>\n",
              "      <td>21.88</td>\n",
              "    </tr>\n",
              "    <tr>\n",
              "      <th>1</th>\n",
              "      <td>18955e83d337fd6b2def6b18a428ac77</td>\n",
              "      <td>290c77bc529b7ac935b93aa66c333dc3</td>\n",
              "      <td>9790</td>\n",
              "      <td>sao bernardo do campo</td>\n",
              "      <td>SP</td>\n",
              "      <td>29150127e6685892b6eab3eec79f59c7</td>\n",
              "      <td>delivered</td>\n",
              "      <td>2018-01-12 20:48:24</td>\n",
              "      <td>2018-01-12 20:58:32</td>\n",
              "      <td>2018-01-15 17:14:59</td>\n",
              "      <td>2018-01-29 12:41:19</td>\n",
              "      <td>2018-02-06 00:00:00</td>\n",
              "      <td>1</td>\n",
              "      <td>4aa6014eceb682077f9dc4bffebc05b0</td>\n",
              "      <td>b8bc237ba3788b23da09c0f1f3a3288c</td>\n",
              "      <td>2018-01-18 20:58:32</td>\n",
              "      <td>289.00</td>\n",
              "      <td>46.48</td>\n",
              "    </tr>\n",
              "    <tr>\n",
              "      <th>2</th>\n",
              "      <td>4e7b3e00288586ebd08712fdd0374a03</td>\n",
              "      <td>060e732b5b29e8181a18229c7b0b2b5e</td>\n",
              "      <td>1151</td>\n",
              "      <td>sao paulo</td>\n",
              "      <td>SP</td>\n",
              "      <td>b2059ed67ce144a36e2aa97d2c9e9ad2</td>\n",
              "      <td>delivered</td>\n",
              "      <td>2018-05-19 16:07:45</td>\n",
              "      <td>2018-05-20 16:19:10</td>\n",
              "      <td>2018-06-11 14:31:00</td>\n",
              "      <td>2018-06-14 17:58:51</td>\n",
              "      <td>2018-06-13 00:00:00</td>\n",
              "      <td>1</td>\n",
              "      <td>bd07b66896d6f1494f5b86251848ced7</td>\n",
              "      <td>7c67e1448b00f6e969d365cea6b010ab</td>\n",
              "      <td>2018-06-05 16:19:10</td>\n",
              "      <td>139.94</td>\n",
              "      <td>17.79</td>\n",
              "    </tr>\n",
              "    <tr>\n",
              "      <th>3</th>\n",
              "      <td>b2b6027bc5c5109e529d4dc6358b12c3</td>\n",
              "      <td>259dac757896d24d7702b9acbbff3f3c</td>\n",
              "      <td>8775</td>\n",
              "      <td>mogi das cruzes</td>\n",
              "      <td>SP</td>\n",
              "      <td>951670f92359f4fe4a63112aa7306eba</td>\n",
              "      <td>delivered</td>\n",
              "      <td>2018-03-13 16:06:38</td>\n",
              "      <td>2018-03-13 17:29:19</td>\n",
              "      <td>2018-03-27 23:22:42</td>\n",
              "      <td>2018-03-28 16:04:25</td>\n",
              "      <td>2018-04-10 00:00:00</td>\n",
              "      <td>1</td>\n",
              "      <td>a5647c44af977b148e0a3a4751a09e2e</td>\n",
              "      <td>7c67e1448b00f6e969d365cea6b010ab</td>\n",
              "      <td>2018-03-27 16:31:16</td>\n",
              "      <td>149.94</td>\n",
              "      <td>23.36</td>\n",
              "    </tr>\n",
              "    <tr>\n",
              "      <th>4</th>\n",
              "      <td>4f2d8ab171c80ec8364f7c12e35b23ad</td>\n",
              "      <td>345ecd01c38d18a9036ed96c73b8d066</td>\n",
              "      <td>13056</td>\n",
              "      <td>campinas</td>\n",
              "      <td>SP</td>\n",
              "      <td>6b7d50bd145f6fc7f33cebabd7e49d0f</td>\n",
              "      <td>delivered</td>\n",
              "      <td>2018-07-29 09:51:30</td>\n",
              "      <td>2018-07-29 10:10:09</td>\n",
              "      <td>2018-07-30 15:16:00</td>\n",
              "      <td>2018-08-09 20:55:48</td>\n",
              "      <td>2018-08-15 00:00:00</td>\n",
              "      <td>1</td>\n",
              "      <td>9391a573abe00141c56e38d84d7d5b3b</td>\n",
              "      <td>4a3ca9315b744ce9f8e9374361493884</td>\n",
              "      <td>2018-07-31 10:10:09</td>\n",
              "      <td>230.00</td>\n",
              "      <td>22.25</td>\n",
              "    </tr>\n",
              "  </tbody>\n",
              "</table>\n",
              "</div>"
            ],
            "text/plain": [
              "                        customer_id  ... freight_value\n",
              "0  06b8999e2fba1a1fbc88172c00ba8bc7  ...         21.88\n",
              "1  18955e83d337fd6b2def6b18a428ac77  ...         46.48\n",
              "2  4e7b3e00288586ebd08712fdd0374a03  ...         17.79\n",
              "3  b2b6027bc5c5109e529d4dc6358b12c3  ...         23.36\n",
              "4  4f2d8ab171c80ec8364f7c12e35b23ad  ...         22.25\n",
              "\n",
              "[5 rows x 18 columns]"
            ]
          },
          "metadata": {
            "tags": []
          },
          "execution_count": 5
        }
      ]
    },
    {
      "cell_type": "code",
      "metadata": {
        "id": "lXkVZCWOi46-",
        "colab_type": "code",
        "colab": {
          "base_uri": "https://localhost:8080/",
          "height": 51
        },
        "outputId": "87e6cb61-9671-4aad-d338-9e159547c66a"
      },
      "source": [
        "print(f'Número de linhas: {df.shape[0]} \\nNúmero de colunas: {df.shape[1]}')"
      ],
      "execution_count": 6,
      "outputs": [
        {
          "output_type": "stream",
          "text": [
            "Número de linhas: 112650 \n",
            "Número de colunas: 18\n"
          ],
          "name": "stdout"
        }
      ]
    },
    {
      "cell_type": "markdown",
      "metadata": {
        "id": "TrGq_R03mfaZ",
        "colab_type": "text"
      },
      "source": [
        "### 2.2) Verificando a consistência dos dados"
      ]
    },
    {
      "cell_type": "markdown",
      "metadata": {
        "id": "tujyeVNVmmfp",
        "colab_type": "text"
      },
      "source": [
        "Para utilizar nosso dataframe da forma ideal, precisamos inicialmente ter certeza que os dados estão consistentes, ou seja, no formato ideal, que não há valores faltantes na tabela, etc. Checaremos essas condições a seguir."
      ]
    },
    {
      "cell_type": "code",
      "metadata": {
        "id": "V4jxM1gck9xK",
        "colab_type": "code",
        "colab": {}
      },
      "source": [
        "# Convertendo a coluna \"order_purchase_timestamp\" para o formato datetime\n",
        "df['order_purchase_timestamp'] = pd.to_datetime(df['order_purchase_timestamp'])"
      ],
      "execution_count": 7,
      "outputs": []
    },
    {
      "cell_type": "code",
      "metadata": {
        "id": "TxdAEuV3lEz7",
        "colab_type": "code",
        "colab": {
          "base_uri": "https://localhost:8080/",
          "height": 340
        },
        "outputId": "134b89e8-9a83-403d-8eb3-a597d8b1cfb3"
      },
      "source": [
        "# Confirmando os tipos dos dados de cada coluna\n",
        "df.dtypes"
      ],
      "execution_count": 8,
      "outputs": [
        {
          "output_type": "execute_result",
          "data": {
            "text/plain": [
              "customer_id                              object\n",
              "customer_unique_id                       object\n",
              "customer_zip_code_prefix                  int64\n",
              "customer_city                            object\n",
              "customer_state                           object\n",
              "order_id                                 object\n",
              "order_status                             object\n",
              "order_purchase_timestamp         datetime64[ns]\n",
              "order_approved_at                        object\n",
              "order_delivered_carrier_date             object\n",
              "order_delivered_customer_date            object\n",
              "order_estimated_delivery_date            object\n",
              "order_item_id                             int64\n",
              "product_id                               object\n",
              "seller_id                                object\n",
              "shipping_limit_date                      object\n",
              "price                                   float64\n",
              "freight_value                           float64\n",
              "dtype: object"
            ]
          },
          "metadata": {
            "tags": []
          },
          "execution_count": 8
        }
      ]
    },
    {
      "cell_type": "code",
      "metadata": {
        "id": "yfWWrZzwla8E",
        "colab_type": "code",
        "colab": {
          "base_uri": "https://localhost:8080/",
          "height": 340
        },
        "outputId": "8f741f2e-8c20-40b3-efdb-9856e7333375"
      },
      "source": [
        "# Verificando os valores nulos\n",
        "df.isnull().sum()"
      ],
      "execution_count": 9,
      "outputs": [
        {
          "output_type": "execute_result",
          "data": {
            "text/plain": [
              "customer_id                         0\n",
              "customer_unique_id                  0\n",
              "customer_zip_code_prefix            0\n",
              "customer_city                       0\n",
              "customer_state                      0\n",
              "order_id                            0\n",
              "order_status                        0\n",
              "order_purchase_timestamp            0\n",
              "order_approved_at                  15\n",
              "order_delivered_carrier_date     1194\n",
              "order_delivered_customer_date    2454\n",
              "order_estimated_delivery_date       0\n",
              "order_item_id                       0\n",
              "product_id                          0\n",
              "seller_id                           0\n",
              "shipping_limit_date                 0\n",
              "price                               0\n",
              "freight_value                       0\n",
              "dtype: int64"
            ]
          },
          "metadata": {
            "tags": []
          },
          "execution_count": 9
        }
      ]
    },
    {
      "cell_type": "markdown",
      "metadata": {
        "id": "HEaC0o9AnESo",
        "colab_type": "text"
      },
      "source": [
        "## 3) Modelo RFM"
      ]
    },
    {
      "cell_type": "markdown",
      "metadata": {
        "id": "koa_1TOJnJ2L",
        "colab_type": "text"
      },
      "source": [
        "O modelo RFM é largamente utilizado para segmentação de clientes, levando em consideração as respectivas características:\n",
        "\n",
        "- ***Recência (Recency)***: total de dias em que o cliente não realiza uma compra.\n",
        "- ***Frequência (Frequency)***: número total de compras que o cliente já realizou.\n",
        "- ***Monetaridade (Monetary)***: gasto total do cliente.\n",
        "\n",
        "Iremos então descobrir cada uma dessas variáveis a partir do dataframe obtido acima."
      ]
    },
    {
      "cell_type": "markdown",
      "metadata": {
        "id": "ZNpm0GUSmUNk",
        "colab_type": "text"
      },
      "source": [
        "### 3.1) Deletando colunas"
      ]
    },
    {
      "cell_type": "markdown",
      "metadata": {
        "id": "4Ye4jM6ckr-1",
        "colab_type": "text"
      },
      "source": [
        "Agora, criaremos dataframes específicos para cada uma das três variáveis de interesse para o modelo RFM. Para isso, excluiremos algumas colunas do dataframe original, deixando apenas as features que são mais relevantes para cada caso."
      ]
    },
    {
      "cell_type": "markdown",
      "metadata": {
        "id": "3Pm-IMc2nD36",
        "colab_type": "text"
      },
      "source": [
        "- ***Recência (R)***"
      ]
    },
    {
      "cell_type": "code",
      "metadata": {
        "id": "rl0T8YP9je_Y",
        "colab_type": "code",
        "colab": {}
      },
      "source": [
        "# Criando o dataframe df_r para recência\n",
        "df_r = df.drop(columns=['order_id', 'customer_id', 'product_id',\n",
        "                        'customer_zip_code_prefix', 'customer_city', \n",
        "                        'customer_state', 'order_status', 'order_approved_at', \n",
        "                        'order_delivered_carrier_date', \n",
        "                        'order_delivered_customer_date',\n",
        "                        'order_estimated_delivery_date', 'order_item_id', \n",
        "                        'seller_id', 'shipping_limit_date',\n",
        "                        'freight_value', 'price'])"
      ],
      "execution_count": 10,
      "outputs": []
    },
    {
      "cell_type": "code",
      "metadata": {
        "id": "1r-i2Foyle6W",
        "colab_type": "code",
        "colab": {
          "base_uri": "https://localhost:8080/",
          "height": 68
        },
        "outputId": "aea108c2-0709-4066-82ee-2715a7df7b5d"
      },
      "source": [
        "df_r.isnull().sum()"
      ],
      "execution_count": 11,
      "outputs": [
        {
          "output_type": "execute_result",
          "data": {
            "text/plain": [
              "customer_unique_id          0\n",
              "order_purchase_timestamp    0\n",
              "dtype: int64"
            ]
          },
          "metadata": {
            "tags": []
          },
          "execution_count": 11
        }
      ]
    },
    {
      "cell_type": "markdown",
      "metadata": {
        "id": "hDU0Hh9cnVFr",
        "colab_type": "text"
      },
      "source": [
        "Como agora, para essas colunas não há valores nulos podemos partir diretamente para a análise."
      ]
    },
    {
      "cell_type": "code",
      "metadata": {
        "id": "nC-eyVsan9nt",
        "colab_type": "code",
        "colab": {
          "base_uri": "https://localhost:8080/",
          "height": 34
        },
        "outputId": "b5c0da5b-9d6e-4774-9981-49692b7d4c8d"
      },
      "source": [
        "# Criando uma data de referência\n",
        "data_referencia = df_r['order_purchase_timestamp'].max() + timedelta(days=1)\n",
        "print(f'Data de referência: {data_referencia}')"
      ],
      "execution_count": 12,
      "outputs": [
        {
          "output_type": "stream",
          "text": [
            "Data de referência: 2018-09-04 09:06:57\n"
          ],
          "name": "stdout"
        }
      ]
    },
    {
      "cell_type": "code",
      "metadata": {
        "id": "nS6ea4Di7sgC",
        "colab_type": "code",
        "colab": {}
      },
      "source": [
        "df_r = df_r.groupby(['customer_unique_id']).agg({'order_purchase_timestamp': lambda x: (data_referencia - x.max()).days})"
      ],
      "execution_count": 13,
      "outputs": []
    },
    {
      "cell_type": "code",
      "metadata": {
        "id": "-XY9m6cMnRgy",
        "colab_type": "code",
        "colab": {}
      },
      "source": [
        "df_r.reset_index(inplace=True)\n",
        "df_r.rename(columns={'order_purchase_timestamp': 'recency'}, inplace=True)"
      ],
      "execution_count": 14,
      "outputs": []
    },
    {
      "cell_type": "code",
      "metadata": {
        "id": "zK3s9ohro50U",
        "colab_type": "code",
        "colab": {
          "base_uri": "https://localhost:8080/",
          "height": 204
        },
        "outputId": "845f1fd2-c34b-41c7-a3f4-95b4a320b591"
      },
      "source": [
        "df_r.head()"
      ],
      "execution_count": 15,
      "outputs": [
        {
          "output_type": "execute_result",
          "data": {
            "text/html": [
              "<div>\n",
              "<style scoped>\n",
              "    .dataframe tbody tr th:only-of-type {\n",
              "        vertical-align: middle;\n",
              "    }\n",
              "\n",
              "    .dataframe tbody tr th {\n",
              "        vertical-align: top;\n",
              "    }\n",
              "\n",
              "    .dataframe thead th {\n",
              "        text-align: right;\n",
              "    }\n",
              "</style>\n",
              "<table border=\"1\" class=\"dataframe\">\n",
              "  <thead>\n",
              "    <tr style=\"text-align: right;\">\n",
              "      <th></th>\n",
              "      <th>customer_unique_id</th>\n",
              "      <th>recency</th>\n",
              "    </tr>\n",
              "  </thead>\n",
              "  <tbody>\n",
              "    <tr>\n",
              "      <th>0</th>\n",
              "      <td>0000366f3b9a7992bf8c76cfdf3221e2</td>\n",
              "      <td>116</td>\n",
              "    </tr>\n",
              "    <tr>\n",
              "      <th>1</th>\n",
              "      <td>0000b849f77a49e4a4ce2b2a4ca5be3f</td>\n",
              "      <td>119</td>\n",
              "    </tr>\n",
              "    <tr>\n",
              "      <th>2</th>\n",
              "      <td>0000f46a3911fa3c0805444483337064</td>\n",
              "      <td>542</td>\n",
              "    </tr>\n",
              "    <tr>\n",
              "      <th>3</th>\n",
              "      <td>0000f6ccb0745a6a4b88665a16c9f078</td>\n",
              "      <td>326</td>\n",
              "    </tr>\n",
              "    <tr>\n",
              "      <th>4</th>\n",
              "      <td>0004aac84e0df4da2b147fca70cf8255</td>\n",
              "      <td>293</td>\n",
              "    </tr>\n",
              "  </tbody>\n",
              "</table>\n",
              "</div>"
            ],
            "text/plain": [
              "                 customer_unique_id  recency\n",
              "0  0000366f3b9a7992bf8c76cfdf3221e2      116\n",
              "1  0000b849f77a49e4a4ce2b2a4ca5be3f      119\n",
              "2  0000f46a3911fa3c0805444483337064      542\n",
              "3  0000f6ccb0745a6a4b88665a16c9f078      326\n",
              "4  0004aac84e0df4da2b147fca70cf8255      293"
            ]
          },
          "metadata": {
            "tags": []
          },
          "execution_count": 15
        }
      ]
    },
    {
      "cell_type": "markdown",
      "metadata": {
        "id": "I0xdytO_41xa",
        "colab_type": "text"
      },
      "source": [
        "- ***Frequência (F)***"
      ]
    },
    {
      "cell_type": "code",
      "metadata": {
        "id": "ekq1zO4z4zaE",
        "colab_type": "code",
        "colab": {}
      },
      "source": [
        "# Criando o dataframe df_f para frequência\n",
        "df_f = df.drop(columns=['order_purchase_timestamp', 'customer_id', 'product_id',\n",
        "                        'customer_zip_code_prefix', 'customer_city', \n",
        "                        'customer_state', 'order_status', 'order_approved_at', \n",
        "                        'order_delivered_carrier_date', \n",
        "                        'order_delivered_customer_date',\n",
        "                        'order_estimated_delivery_date', 'order_item_id', \n",
        "                        'seller_id', 'shipping_limit_date',\n",
        "                        'freight_value', 'price'])"
      ],
      "execution_count": 16,
      "outputs": []
    },
    {
      "cell_type": "code",
      "metadata": {
        "id": "vShK5V805zVZ",
        "colab_type": "code",
        "colab": {}
      },
      "source": [
        "df_f = df_f.groupby('customer_unique_id').count()"
      ],
      "execution_count": 17,
      "outputs": []
    },
    {
      "cell_type": "code",
      "metadata": {
        "id": "koL_VPY65Zzy",
        "colab_type": "code",
        "colab": {
          "base_uri": "https://localhost:8080/",
          "height": 204
        },
        "outputId": "95dde661-1f23-44a4-86d3-4d95f7169690"
      },
      "source": [
        "df_f.rename(columns={'order_id': 'frequency'}, inplace=True)\n",
        "df_f.reset_index(inplace=True)\n",
        "df_f.head()"
      ],
      "execution_count": 18,
      "outputs": [
        {
          "output_type": "execute_result",
          "data": {
            "text/html": [
              "<div>\n",
              "<style scoped>\n",
              "    .dataframe tbody tr th:only-of-type {\n",
              "        vertical-align: middle;\n",
              "    }\n",
              "\n",
              "    .dataframe tbody tr th {\n",
              "        vertical-align: top;\n",
              "    }\n",
              "\n",
              "    .dataframe thead th {\n",
              "        text-align: right;\n",
              "    }\n",
              "</style>\n",
              "<table border=\"1\" class=\"dataframe\">\n",
              "  <thead>\n",
              "    <tr style=\"text-align: right;\">\n",
              "      <th></th>\n",
              "      <th>customer_unique_id</th>\n",
              "      <th>frequency</th>\n",
              "    </tr>\n",
              "  </thead>\n",
              "  <tbody>\n",
              "    <tr>\n",
              "      <th>0</th>\n",
              "      <td>0000366f3b9a7992bf8c76cfdf3221e2</td>\n",
              "      <td>1</td>\n",
              "    </tr>\n",
              "    <tr>\n",
              "      <th>1</th>\n",
              "      <td>0000b849f77a49e4a4ce2b2a4ca5be3f</td>\n",
              "      <td>1</td>\n",
              "    </tr>\n",
              "    <tr>\n",
              "      <th>2</th>\n",
              "      <td>0000f46a3911fa3c0805444483337064</td>\n",
              "      <td>1</td>\n",
              "    </tr>\n",
              "    <tr>\n",
              "      <th>3</th>\n",
              "      <td>0000f6ccb0745a6a4b88665a16c9f078</td>\n",
              "      <td>1</td>\n",
              "    </tr>\n",
              "    <tr>\n",
              "      <th>4</th>\n",
              "      <td>0004aac84e0df4da2b147fca70cf8255</td>\n",
              "      <td>1</td>\n",
              "    </tr>\n",
              "  </tbody>\n",
              "</table>\n",
              "</div>"
            ],
            "text/plain": [
              "                 customer_unique_id  frequency\n",
              "0  0000366f3b9a7992bf8c76cfdf3221e2          1\n",
              "1  0000b849f77a49e4a4ce2b2a4ca5be3f          1\n",
              "2  0000f46a3911fa3c0805444483337064          1\n",
              "3  0000f6ccb0745a6a4b88665a16c9f078          1\n",
              "4  0004aac84e0df4da2b147fca70cf8255          1"
            ]
          },
          "metadata": {
            "tags": []
          },
          "execution_count": 18
        }
      ]
    },
    {
      "cell_type": "markdown",
      "metadata": {
        "id": "Ijy37Sha8crL",
        "colab_type": "text"
      },
      "source": [
        "- ***Monetaridade (M)***"
      ]
    },
    {
      "cell_type": "code",
      "metadata": {
        "id": "JUIy8BqW5W2E",
        "colab_type": "code",
        "colab": {}
      },
      "source": [
        "# Criando o dataframe df_m para monetaridade\n",
        "df_m = df.drop(columns=['order_id', 'order_purchase_timestamp', 'customer_id', \n",
        "                        'product_id', 'customer_zip_code_prefix', \n",
        "                        'customer_city', 'customer_state', 'order_status', \n",
        "                        'order_approved_at', 'order_delivered_carrier_date', \n",
        "                        'order_delivered_customer_date',\n",
        "                        'order_estimated_delivery_date', 'order_item_id', \n",
        "                        'seller_id', 'shipping_limit_date',\n",
        "                        'freight_value'])"
      ],
      "execution_count": 19,
      "outputs": []
    },
    {
      "cell_type": "code",
      "metadata": {
        "id": "MUUPKQ3T6FW1",
        "colab_type": "code",
        "colab": {}
      },
      "source": [
        "df_m = df_m.groupby('customer_unique_id').sum()"
      ],
      "execution_count": 20,
      "outputs": []
    },
    {
      "cell_type": "code",
      "metadata": {
        "id": "tbUGFP9n8yED",
        "colab_type": "code",
        "colab": {
          "base_uri": "https://localhost:8080/",
          "height": 204
        },
        "outputId": "93a93241-ac3a-46d7-eed0-6740ba4c126c"
      },
      "source": [
        "df_m.rename(columns={'price': 'monetary'}, inplace=True)\n",
        "df_m.reset_index(inplace=True)\n",
        "df_m.head()"
      ],
      "execution_count": 21,
      "outputs": [
        {
          "output_type": "execute_result",
          "data": {
            "text/html": [
              "<div>\n",
              "<style scoped>\n",
              "    .dataframe tbody tr th:only-of-type {\n",
              "        vertical-align: middle;\n",
              "    }\n",
              "\n",
              "    .dataframe tbody tr th {\n",
              "        vertical-align: top;\n",
              "    }\n",
              "\n",
              "    .dataframe thead th {\n",
              "        text-align: right;\n",
              "    }\n",
              "</style>\n",
              "<table border=\"1\" class=\"dataframe\">\n",
              "  <thead>\n",
              "    <tr style=\"text-align: right;\">\n",
              "      <th></th>\n",
              "      <th>customer_unique_id</th>\n",
              "      <th>monetary</th>\n",
              "    </tr>\n",
              "  </thead>\n",
              "  <tbody>\n",
              "    <tr>\n",
              "      <th>0</th>\n",
              "      <td>0000366f3b9a7992bf8c76cfdf3221e2</td>\n",
              "      <td>129.90</td>\n",
              "    </tr>\n",
              "    <tr>\n",
              "      <th>1</th>\n",
              "      <td>0000b849f77a49e4a4ce2b2a4ca5be3f</td>\n",
              "      <td>18.90</td>\n",
              "    </tr>\n",
              "    <tr>\n",
              "      <th>2</th>\n",
              "      <td>0000f46a3911fa3c0805444483337064</td>\n",
              "      <td>69.00</td>\n",
              "    </tr>\n",
              "    <tr>\n",
              "      <th>3</th>\n",
              "      <td>0000f6ccb0745a6a4b88665a16c9f078</td>\n",
              "      <td>25.99</td>\n",
              "    </tr>\n",
              "    <tr>\n",
              "      <th>4</th>\n",
              "      <td>0004aac84e0df4da2b147fca70cf8255</td>\n",
              "      <td>180.00</td>\n",
              "    </tr>\n",
              "  </tbody>\n",
              "</table>\n",
              "</div>"
            ],
            "text/plain": [
              "                 customer_unique_id  monetary\n",
              "0  0000366f3b9a7992bf8c76cfdf3221e2    129.90\n",
              "1  0000b849f77a49e4a4ce2b2a4ca5be3f     18.90\n",
              "2  0000f46a3911fa3c0805444483337064     69.00\n",
              "3  0000f6ccb0745a6a4b88665a16c9f078     25.99\n",
              "4  0004aac84e0df4da2b147fca70cf8255    180.00"
            ]
          },
          "metadata": {
            "tags": []
          },
          "execution_count": 21
        }
      ]
    },
    {
      "cell_type": "markdown",
      "metadata": {
        "id": "u8ZWfenUAuVa",
        "colab_type": "text"
      },
      "source": [
        "### 3.1) Agrupando clientes em cada dataframe"
      ]
    },
    {
      "cell_type": "markdown",
      "metadata": {
        "id": "xN9N7VHaBVLM",
        "colab_type": "text"
      },
      "source": [
        "Nesta etapa iremos organizar os clientes com características semelhantes em grupos e classificá-los através de um label específico referente a tais grupos. Faremos para cada um dos dataframes acima (df_r, df_f, df_m) utilizando o algorítmo K-Means.\n",
        "\n",
        "Iremos inicialmente definir variáveis correspondentes as colunas \"recency\", \"frequency\" e \"monetary\" dos respectivos dataframes e a seguir iremos definir o número de grupos apropriado. "
      ]
    },
    {
      "cell_type": "code",
      "metadata": {
        "id": "syU2PI6V9RxU",
        "colab_type": "code",
        "colab": {}
      },
      "source": [
        "# Variável de df_r\n",
        "X_R = df_r.iloc[:, [1]].values\n",
        "\n",
        "# Variável de df_f\n",
        "X_F = df_f.iloc[:, [1]].values\n",
        "\n",
        "# Variável de df_m\n",
        "X_M = df_m.iloc[:, [1]].values"
      ],
      "execution_count": 22,
      "outputs": []
    },
    {
      "cell_type": "code",
      "metadata": {
        "id": "sYwA3yFfDwBY",
        "colab_type": "code",
        "colab": {}
      },
      "source": [
        "# Utilizando o K-Means para definir o número de agrupamentos\n",
        "def define_clusters(df):\n",
        "  wcss = []\n",
        "  X = df.iloc[:, [1]].values\n",
        "  for i in range(1, 11):\n",
        "    kmeans = KMeans(n_clusters=i, random_state=0)\n",
        "    kmeans.fit(X)\n",
        "    wcss.append(kmeans.inertia_)\n",
        "  return wcss"
      ],
      "execution_count": 23,
      "outputs": []
    },
    {
      "cell_type": "code",
      "metadata": {
        "id": "FOkQvsOAD0zK",
        "colab_type": "code",
        "colab": {}
      },
      "source": [
        "wcss_r = define_clusters(df_r)\n",
        "wcss_f = define_clusters(df_f)\n",
        "wcss_m = define_clusters(df_m)"
      ],
      "execution_count": 24,
      "outputs": []
    },
    {
      "cell_type": "code",
      "metadata": {
        "id": "y8mhmsdCFPaw",
        "colab_type": "code",
        "colab": {
          "base_uri": "https://localhost:8080/",
          "height": 295
        },
        "outputId": "3c1b1e15-b2de-48bd-9205-b510ecae8a20"
      },
      "source": [
        "# Plotando os gráficos para cada dataframe\n",
        "plt.figure(figsize=(15,4))\n",
        "\n",
        "# Distribuição da recência\n",
        "plt.subplot(1,3,1)\n",
        "plt.plot(range(1, 11), wcss_f, marker='s')\n",
        "plt.title('Grupos - Recência')\n",
        "plt.xlabel('Number of Clusters')\n",
        "plt.ylabel('WCSS_R')\n",
        "\n",
        "# Distribuição da frequência\n",
        "plt.subplot(1,3,2)\n",
        "plt.plot(range(1, 11), wcss_r, marker='s')\n",
        "plt.title('Grupos - Frequência')\n",
        "plt.xlabel('Number of Clusters')\n",
        "plt.ylabel('WCSS_F')\n",
        "\n",
        "# Distribuição da monetaridade\n",
        "plt.subplot(1,3,3)\n",
        "plt.plot(range(1, 11), wcss_m, marker='s')\n",
        "plt.title('Grupos - Monetaridade')\n",
        "plt.xlabel('Number of Clusters')\n",
        "plt.ylabel('WCSS_M')\n",
        "\n",
        "plt.show()"
      ],
      "execution_count": 25,
      "outputs": [
        {
          "output_type": "display_data",
          "data": {
            "image/png": "[encoded data removed]",
            "text/plain": [
              "<Figure size 1080x288 with 3 Axes>"
            ]
          },
          "metadata": {
            "tags": [],
            "needs_background": "light"
          }
        }
      ]
    },
    {
      "cell_type": "markdown",
      "metadata": {
        "id": "pnWOIxevTWfw",
        "colab_type": "text"
      },
      "source": [
        "Baseado nos plots acima, podemos considerar 4 grupos para cada variável. Assim, poderemos finalmente criar os grupos e os respectivos labels para cada caso. "
      ]
    },
    {
      "cell_type": "code",
      "metadata": {
        "id": "vqmsb7foVNqg",
        "colab_type": "code",
        "colab": {}
      },
      "source": [
        "# Considerando portanto 4 clusters\n",
        "def cluster_clients(df):\n",
        "  X = df.iloc[:, [1]].values\n",
        "  kmeans = KMeans(n_clusters=4, random_state=0)\n",
        "  previsoes = kmeans.fit_predict(X)\n",
        "  return previsoes"
      ],
      "execution_count": 26,
      "outputs": []
    },
    {
      "cell_type": "code",
      "metadata": {
        "id": "ahe3uSCuVxQ1",
        "colab_type": "code",
        "colab": {}
      },
      "source": [
        "# Criando os labels para cada dataframe\n",
        "label_r = cluster_clients(df_r)\n",
        "label_f = cluster_clients(df_f)\n",
        "label_m = cluster_clients(df_m)"
      ],
      "execution_count": 27,
      "outputs": []
    },
    {
      "cell_type": "code",
      "metadata": {
        "id": "nOQSSGEgV0sw",
        "colab_type": "code",
        "colab": {}
      },
      "source": [
        "df_r['R'] = label_r\n",
        "df_f['F'] = label_f\n",
        "df_m['M'] = label_m"
      ],
      "execution_count": 28,
      "outputs": []
    },
    {
      "cell_type": "code",
      "metadata": {
        "id": "bRlvGm-JWLS0",
        "colab_type": "code",
        "colab": {
          "base_uri": "https://localhost:8080/",
          "height": 204
        },
        "outputId": "bdd0a747-578b-4e7c-e052-d6af92219d04"
      },
      "source": [
        "df_r.head()"
      ],
      "execution_count": 29,
      "outputs": [
        {
          "output_type": "execute_result",
          "data": {
            "text/html": [
              "<div>\n",
              "<style scoped>\n",
              "    .dataframe tbody tr th:only-of-type {\n",
              "        vertical-align: middle;\n",
              "    }\n",
              "\n",
              "    .dataframe tbody tr th {\n",
              "        vertical-align: top;\n",
              "    }\n",
              "\n",
              "    .dataframe thead th {\n",
              "        text-align: right;\n",
              "    }\n",
              "</style>\n",
              "<table border=\"1\" class=\"dataframe\">\n",
              "  <thead>\n",
              "    <tr style=\"text-align: right;\">\n",
              "      <th></th>\n",
              "      <th>customer_unique_id</th>\n",
              "      <th>recency</th>\n",
              "      <th>R</th>\n",
              "    </tr>\n",
              "  </thead>\n",
              "  <tbody>\n",
              "    <tr>\n",
              "      <th>0</th>\n",
              "      <td>0000366f3b9a7992bf8c76cfdf3221e2</td>\n",
              "      <td>116</td>\n",
              "      <td>3</td>\n",
              "    </tr>\n",
              "    <tr>\n",
              "      <th>1</th>\n",
              "      <td>0000b849f77a49e4a4ce2b2a4ca5be3f</td>\n",
              "      <td>119</td>\n",
              "      <td>3</td>\n",
              "    </tr>\n",
              "    <tr>\n",
              "      <th>2</th>\n",
              "      <td>0000f46a3911fa3c0805444483337064</td>\n",
              "      <td>542</td>\n",
              "      <td>2</td>\n",
              "    </tr>\n",
              "    <tr>\n",
              "      <th>3</th>\n",
              "      <td>0000f6ccb0745a6a4b88665a16c9f078</td>\n",
              "      <td>326</td>\n",
              "      <td>1</td>\n",
              "    </tr>\n",
              "    <tr>\n",
              "      <th>4</th>\n",
              "      <td>0004aac84e0df4da2b147fca70cf8255</td>\n",
              "      <td>293</td>\n",
              "      <td>1</td>\n",
              "    </tr>\n",
              "  </tbody>\n",
              "</table>\n",
              "</div>"
            ],
            "text/plain": [
              "                 customer_unique_id  recency  R\n",
              "0  0000366f3b9a7992bf8c76cfdf3221e2      116  3\n",
              "1  0000b849f77a49e4a4ce2b2a4ca5be3f      119  3\n",
              "2  0000f46a3911fa3c0805444483337064      542  2\n",
              "3  0000f6ccb0745a6a4b88665a16c9f078      326  1\n",
              "4  0004aac84e0df4da2b147fca70cf8255      293  1"
            ]
          },
          "metadata": {
            "tags": []
          },
          "execution_count": 29
        }
      ]
    },
    {
      "cell_type": "code",
      "metadata": {
        "id": "gZqguv1GWHPa",
        "colab_type": "code",
        "colab": {
          "base_uri": "https://localhost:8080/",
          "height": 204
        },
        "outputId": "0599ba5a-47ab-44d8-905e-d434797ab6f4"
      },
      "source": [
        "df_f.head()"
      ],
      "execution_count": 30,
      "outputs": [
        {
          "output_type": "execute_result",
          "data": {
            "text/html": [
              "<div>\n",
              "<style scoped>\n",
              "    .dataframe tbody tr th:only-of-type {\n",
              "        vertical-align: middle;\n",
              "    }\n",
              "\n",
              "    .dataframe tbody tr th {\n",
              "        vertical-align: top;\n",
              "    }\n",
              "\n",
              "    .dataframe thead th {\n",
              "        text-align: right;\n",
              "    }\n",
              "</style>\n",
              "<table border=\"1\" class=\"dataframe\">\n",
              "  <thead>\n",
              "    <tr style=\"text-align: right;\">\n",
              "      <th></th>\n",
              "      <th>customer_unique_id</th>\n",
              "      <th>frequency</th>\n",
              "      <th>F</th>\n",
              "    </tr>\n",
              "  </thead>\n",
              "  <tbody>\n",
              "    <tr>\n",
              "      <th>0</th>\n",
              "      <td>0000366f3b9a7992bf8c76cfdf3221e2</td>\n",
              "      <td>1</td>\n",
              "      <td>0</td>\n",
              "    </tr>\n",
              "    <tr>\n",
              "      <th>1</th>\n",
              "      <td>0000b849f77a49e4a4ce2b2a4ca5be3f</td>\n",
              "      <td>1</td>\n",
              "      <td>0</td>\n",
              "    </tr>\n",
              "    <tr>\n",
              "      <th>2</th>\n",
              "      <td>0000f46a3911fa3c0805444483337064</td>\n",
              "      <td>1</td>\n",
              "      <td>0</td>\n",
              "    </tr>\n",
              "    <tr>\n",
              "      <th>3</th>\n",
              "      <td>0000f6ccb0745a6a4b88665a16c9f078</td>\n",
              "      <td>1</td>\n",
              "      <td>0</td>\n",
              "    </tr>\n",
              "    <tr>\n",
              "      <th>4</th>\n",
              "      <td>0004aac84e0df4da2b147fca70cf8255</td>\n",
              "      <td>1</td>\n",
              "      <td>0</td>\n",
              "    </tr>\n",
              "  </tbody>\n",
              "</table>\n",
              "</div>"
            ],
            "text/plain": [
              "                 customer_unique_id  frequency  F\n",
              "0  0000366f3b9a7992bf8c76cfdf3221e2          1  0\n",
              "1  0000b849f77a49e4a4ce2b2a4ca5be3f          1  0\n",
              "2  0000f46a3911fa3c0805444483337064          1  0\n",
              "3  0000f6ccb0745a6a4b88665a16c9f078          1  0\n",
              "4  0004aac84e0df4da2b147fca70cf8255          1  0"
            ]
          },
          "metadata": {
            "tags": []
          },
          "execution_count": 30
        }
      ]
    },
    {
      "cell_type": "code",
      "metadata": {
        "id": "mlomgtBXWM7x",
        "colab_type": "code",
        "colab": {
          "base_uri": "https://localhost:8080/",
          "height": 204
        },
        "outputId": "61b528a2-4de2-43e6-da09-22f6ff6d4862"
      },
      "source": [
        "df_m.head()"
      ],
      "execution_count": 31,
      "outputs": [
        {
          "output_type": "execute_result",
          "data": {
            "text/html": [
              "<div>\n",
              "<style scoped>\n",
              "    .dataframe tbody tr th:only-of-type {\n",
              "        vertical-align: middle;\n",
              "    }\n",
              "\n",
              "    .dataframe tbody tr th {\n",
              "        vertical-align: top;\n",
              "    }\n",
              "\n",
              "    .dataframe thead th {\n",
              "        text-align: right;\n",
              "    }\n",
              "</style>\n",
              "<table border=\"1\" class=\"dataframe\">\n",
              "  <thead>\n",
              "    <tr style=\"text-align: right;\">\n",
              "      <th></th>\n",
              "      <th>customer_unique_id</th>\n",
              "      <th>monetary</th>\n",
              "      <th>M</th>\n",
              "    </tr>\n",
              "  </thead>\n",
              "  <tbody>\n",
              "    <tr>\n",
              "      <th>0</th>\n",
              "      <td>0000366f3b9a7992bf8c76cfdf3221e2</td>\n",
              "      <td>129.90</td>\n",
              "      <td>0</td>\n",
              "    </tr>\n",
              "    <tr>\n",
              "      <th>1</th>\n",
              "      <td>0000b849f77a49e4a4ce2b2a4ca5be3f</td>\n",
              "      <td>18.90</td>\n",
              "      <td>0</td>\n",
              "    </tr>\n",
              "    <tr>\n",
              "      <th>2</th>\n",
              "      <td>0000f46a3911fa3c0805444483337064</td>\n",
              "      <td>69.00</td>\n",
              "      <td>0</td>\n",
              "    </tr>\n",
              "    <tr>\n",
              "      <th>3</th>\n",
              "      <td>0000f6ccb0745a6a4b88665a16c9f078</td>\n",
              "      <td>25.99</td>\n",
              "      <td>0</td>\n",
              "    </tr>\n",
              "    <tr>\n",
              "      <th>4</th>\n",
              "      <td>0004aac84e0df4da2b147fca70cf8255</td>\n",
              "      <td>180.00</td>\n",
              "      <td>0</td>\n",
              "    </tr>\n",
              "  </tbody>\n",
              "</table>\n",
              "</div>"
            ],
            "text/plain": [
              "                 customer_unique_id  monetary  M\n",
              "0  0000366f3b9a7992bf8c76cfdf3221e2    129.90  0\n",
              "1  0000b849f77a49e4a4ce2b2a4ca5be3f     18.90  0\n",
              "2  0000f46a3911fa3c0805444483337064     69.00  0\n",
              "3  0000f6ccb0745a6a4b88665a16c9f078     25.99  0\n",
              "4  0004aac84e0df4da2b147fca70cf8255    180.00  0"
            ]
          },
          "metadata": {
            "tags": []
          },
          "execution_count": 31
        }
      ]
    },
    {
      "cell_type": "markdown",
      "metadata": {
        "id": "g1eI4ByD664m",
        "colab_type": "text"
      },
      "source": [
        "### 3.2) Rearranjando os índices dos labels"
      ]
    },
    {
      "cell_type": "markdown",
      "metadata": {
        "id": "_srKVjwqep8I",
        "colab_type": "text"
      },
      "source": [
        "Um importante ajuste que necessita-se fazer agora é redefinir os labels R, F, M para que eles possam associar a cada grupo um grau de importância, atribuindo-se assim um \"peso\" para cada cluster. Neste ponto, podemos utilizar a seguinte referência:\n",
        "\n",
        "- Recência: quanto maior, pior. Ordem de importância: 3, 2, 1, 0.\n",
        "- Frequência: quanto maior, melhor. Ordem de importância: 0, 1, 2, 3.\n",
        "- Monetaridade: quanto maior, melhor. Ordem de importância: 0, 1, 2, 3.\n",
        "\n",
        "Assim, os labels precisam ser alterados da forma:\n",
        "\n",
        "- R: 0 -> 2; 1 -> 1; 2 -> 0; 3 -> 3.\n",
        "- F: 0 -> 0; 1 -> 2; 2 -> 1; 3 -> 3.\n",
        "- M: 0 -> 0; 1 -> 2; 2 -> 3, 3 -> 1.\n",
        "\n",
        "Podemos realizar este ajusta mediante uma função."
      ]
    },
    {
      "cell_type": "code",
      "metadata": {
        "id": "2gthU2--YD2H",
        "colab_type": "code",
        "colab": {}
      },
      "source": [
        "def adjust_index(df, column, label):\n",
        "    if column == 'recency' and label == 'R':\n",
        "        x = df.groupby(label).mean().sort_values(by=column, ascending=False).reset_index()       \n",
        "    else:\n",
        "        x = df.groupby(label).mean().sort_values(by=column, ascending=True).reset_index()\n",
        "    index = tuple(zip(x.index, x[label].values))\n",
        "    for c in index:\n",
        "            df.loc[df[label] == c[1], f'adjusted_{label}'] = c[0] \n",
        "    return df"
      ],
      "execution_count": 32,
      "outputs": []
    },
    {
      "cell_type": "code",
      "metadata": {
        "id": "c_0Ck7YcdxVL",
        "colab_type": "code",
        "colab": {}
      },
      "source": [
        "df_r = adjust_index(df_r, 'recency', 'R')\n",
        "df_f = adjust_index(df_f, 'frequency', 'F')\n",
        "df_m = adjust_index(df_m, 'monetary', 'M')"
      ],
      "execution_count": 33,
      "outputs": []
    },
    {
      "cell_type": "code",
      "metadata": {
        "id": "sXLInR8-YGUz",
        "colab_type": "code",
        "colab": {
          "base_uri": "https://localhost:8080/",
          "height": 204
        },
        "outputId": "cfe16698-df11-4415-81d7-735034941126"
      },
      "source": [
        "df_r.head()"
      ],
      "execution_count": 34,
      "outputs": [
        {
          "output_type": "execute_result",
          "data": {
            "text/html": [
              "<div>\n",
              "<style scoped>\n",
              "    .dataframe tbody tr th:only-of-type {\n",
              "        vertical-align: middle;\n",
              "    }\n",
              "\n",
              "    .dataframe tbody tr th {\n",
              "        vertical-align: top;\n",
              "    }\n",
              "\n",
              "    .dataframe thead th {\n",
              "        text-align: right;\n",
              "    }\n",
              "</style>\n",
              "<table border=\"1\" class=\"dataframe\">\n",
              "  <thead>\n",
              "    <tr style=\"text-align: right;\">\n",
              "      <th></th>\n",
              "      <th>customer_unique_id</th>\n",
              "      <th>recency</th>\n",
              "      <th>R</th>\n",
              "      <th>adjusted_R</th>\n",
              "    </tr>\n",
              "  </thead>\n",
              "  <tbody>\n",
              "    <tr>\n",
              "      <th>0</th>\n",
              "      <td>0000366f3b9a7992bf8c76cfdf3221e2</td>\n",
              "      <td>116</td>\n",
              "      <td>3</td>\n",
              "      <td>3.0</td>\n",
              "    </tr>\n",
              "    <tr>\n",
              "      <th>1</th>\n",
              "      <td>0000b849f77a49e4a4ce2b2a4ca5be3f</td>\n",
              "      <td>119</td>\n",
              "      <td>3</td>\n",
              "      <td>3.0</td>\n",
              "    </tr>\n",
              "    <tr>\n",
              "      <th>2</th>\n",
              "      <td>0000f46a3911fa3c0805444483337064</td>\n",
              "      <td>542</td>\n",
              "      <td>2</td>\n",
              "      <td>0.0</td>\n",
              "    </tr>\n",
              "    <tr>\n",
              "      <th>3</th>\n",
              "      <td>0000f6ccb0745a6a4b88665a16c9f078</td>\n",
              "      <td>326</td>\n",
              "      <td>1</td>\n",
              "      <td>1.0</td>\n",
              "    </tr>\n",
              "    <tr>\n",
              "      <th>4</th>\n",
              "      <td>0004aac84e0df4da2b147fca70cf8255</td>\n",
              "      <td>293</td>\n",
              "      <td>1</td>\n",
              "      <td>1.0</td>\n",
              "    </tr>\n",
              "  </tbody>\n",
              "</table>\n",
              "</div>"
            ],
            "text/plain": [
              "                 customer_unique_id  recency  R  adjusted_R\n",
              "0  0000366f3b9a7992bf8c76cfdf3221e2      116  3         3.0\n",
              "1  0000b849f77a49e4a4ce2b2a4ca5be3f      119  3         3.0\n",
              "2  0000f46a3911fa3c0805444483337064      542  2         0.0\n",
              "3  0000f6ccb0745a6a4b88665a16c9f078      326  1         1.0\n",
              "4  0004aac84e0df4da2b147fca70cf8255      293  1         1.0"
            ]
          },
          "metadata": {
            "tags": []
          },
          "execution_count": 34
        }
      ]
    },
    {
      "cell_type": "code",
      "metadata": {
        "id": "P6eMIwv2aN5k",
        "colab_type": "code",
        "colab": {
          "base_uri": "https://localhost:8080/",
          "height": 204
        },
        "outputId": "4f2d2c6e-e32a-4b61-badc-3d2fb2b9eac4"
      },
      "source": [
        "df_f.head()"
      ],
      "execution_count": 35,
      "outputs": [
        {
          "output_type": "execute_result",
          "data": {
            "text/html": [
              "<div>\n",
              "<style scoped>\n",
              "    .dataframe tbody tr th:only-of-type {\n",
              "        vertical-align: middle;\n",
              "    }\n",
              "\n",
              "    .dataframe tbody tr th {\n",
              "        vertical-align: top;\n",
              "    }\n",
              "\n",
              "    .dataframe thead th {\n",
              "        text-align: right;\n",
              "    }\n",
              "</style>\n",
              "<table border=\"1\" class=\"dataframe\">\n",
              "  <thead>\n",
              "    <tr style=\"text-align: right;\">\n",
              "      <th></th>\n",
              "      <th>customer_unique_id</th>\n",
              "      <th>frequency</th>\n",
              "      <th>F</th>\n",
              "      <th>adjusted_F</th>\n",
              "    </tr>\n",
              "  </thead>\n",
              "  <tbody>\n",
              "    <tr>\n",
              "      <th>0</th>\n",
              "      <td>0000366f3b9a7992bf8c76cfdf3221e2</td>\n",
              "      <td>1</td>\n",
              "      <td>0</td>\n",
              "      <td>0.0</td>\n",
              "    </tr>\n",
              "    <tr>\n",
              "      <th>1</th>\n",
              "      <td>0000b849f77a49e4a4ce2b2a4ca5be3f</td>\n",
              "      <td>1</td>\n",
              "      <td>0</td>\n",
              "      <td>0.0</td>\n",
              "    </tr>\n",
              "    <tr>\n",
              "      <th>2</th>\n",
              "      <td>0000f46a3911fa3c0805444483337064</td>\n",
              "      <td>1</td>\n",
              "      <td>0</td>\n",
              "      <td>0.0</td>\n",
              "    </tr>\n",
              "    <tr>\n",
              "      <th>3</th>\n",
              "      <td>0000f6ccb0745a6a4b88665a16c9f078</td>\n",
              "      <td>1</td>\n",
              "      <td>0</td>\n",
              "      <td>0.0</td>\n",
              "    </tr>\n",
              "    <tr>\n",
              "      <th>4</th>\n",
              "      <td>0004aac84e0df4da2b147fca70cf8255</td>\n",
              "      <td>1</td>\n",
              "      <td>0</td>\n",
              "      <td>0.0</td>\n",
              "    </tr>\n",
              "  </tbody>\n",
              "</table>\n",
              "</div>"
            ],
            "text/plain": [
              "                 customer_unique_id  frequency  F  adjusted_F\n",
              "0  0000366f3b9a7992bf8c76cfdf3221e2          1  0         0.0\n",
              "1  0000b849f77a49e4a4ce2b2a4ca5be3f          1  0         0.0\n",
              "2  0000f46a3911fa3c0805444483337064          1  0         0.0\n",
              "3  0000f6ccb0745a6a4b88665a16c9f078          1  0         0.0\n",
              "4  0004aac84e0df4da2b147fca70cf8255          1  0         0.0"
            ]
          },
          "metadata": {
            "tags": []
          },
          "execution_count": 35
        }
      ]
    },
    {
      "cell_type": "code",
      "metadata": {
        "id": "qkAMk0QjsthP",
        "colab_type": "code",
        "colab": {
          "base_uri": "https://localhost:8080/",
          "height": 204
        },
        "outputId": "1a7a1e88-6087-404e-b02c-10f83703752f"
      },
      "source": [
        "df_m.head()"
      ],
      "execution_count": 36,
      "outputs": [
        {
          "output_type": "execute_result",
          "data": {
            "text/html": [
              "<div>\n",
              "<style scoped>\n",
              "    .dataframe tbody tr th:only-of-type {\n",
              "        vertical-align: middle;\n",
              "    }\n",
              "\n",
              "    .dataframe tbody tr th {\n",
              "        vertical-align: top;\n",
              "    }\n",
              "\n",
              "    .dataframe thead th {\n",
              "        text-align: right;\n",
              "    }\n",
              "</style>\n",
              "<table border=\"1\" class=\"dataframe\">\n",
              "  <thead>\n",
              "    <tr style=\"text-align: right;\">\n",
              "      <th></th>\n",
              "      <th>customer_unique_id</th>\n",
              "      <th>monetary</th>\n",
              "      <th>M</th>\n",
              "      <th>adjusted_M</th>\n",
              "    </tr>\n",
              "  </thead>\n",
              "  <tbody>\n",
              "    <tr>\n",
              "      <th>0</th>\n",
              "      <td>0000366f3b9a7992bf8c76cfdf3221e2</td>\n",
              "      <td>129.90</td>\n",
              "      <td>0</td>\n",
              "      <td>0.0</td>\n",
              "    </tr>\n",
              "    <tr>\n",
              "      <th>1</th>\n",
              "      <td>0000b849f77a49e4a4ce2b2a4ca5be3f</td>\n",
              "      <td>18.90</td>\n",
              "      <td>0</td>\n",
              "      <td>0.0</td>\n",
              "    </tr>\n",
              "    <tr>\n",
              "      <th>2</th>\n",
              "      <td>0000f46a3911fa3c0805444483337064</td>\n",
              "      <td>69.00</td>\n",
              "      <td>0</td>\n",
              "      <td>0.0</td>\n",
              "    </tr>\n",
              "    <tr>\n",
              "      <th>3</th>\n",
              "      <td>0000f6ccb0745a6a4b88665a16c9f078</td>\n",
              "      <td>25.99</td>\n",
              "      <td>0</td>\n",
              "      <td>0.0</td>\n",
              "    </tr>\n",
              "    <tr>\n",
              "      <th>4</th>\n",
              "      <td>0004aac84e0df4da2b147fca70cf8255</td>\n",
              "      <td>180.00</td>\n",
              "      <td>0</td>\n",
              "      <td>0.0</td>\n",
              "    </tr>\n",
              "  </tbody>\n",
              "</table>\n",
              "</div>"
            ],
            "text/plain": [
              "                 customer_unique_id  monetary  M  adjusted_M\n",
              "0  0000366f3b9a7992bf8c76cfdf3221e2    129.90  0         0.0\n",
              "1  0000b849f77a49e4a4ce2b2a4ca5be3f     18.90  0         0.0\n",
              "2  0000f46a3911fa3c0805444483337064     69.00  0         0.0\n",
              "3  0000f6ccb0745a6a4b88665a16c9f078     25.99  0         0.0\n",
              "4  0004aac84e0df4da2b147fca70cf8255    180.00  0         0.0"
            ]
          },
          "metadata": {
            "tags": []
          },
          "execution_count": 36
        }
      ]
    },
    {
      "cell_type": "markdown",
      "metadata": {
        "id": "oiqZE-tG7aeu",
        "colab_type": "text"
      },
      "source": [
        "### 3.3) Criando o dataframe final"
      ]
    },
    {
      "cell_type": "markdown",
      "metadata": {
        "id": "XsfXwrVO7hCV",
        "colab_type": "text"
      },
      "source": [
        "Finalmente, podemos agora criar o dataframe final com os dados obtidos nos passos anteriores."
      ]
    },
    {
      "cell_type": "code",
      "metadata": {
        "id": "UT0H1yDc3691",
        "colab_type": "code",
        "colab": {}
      },
      "source": [
        "dados = {'customer_unique_id': df_r['customer_unique_id'],\n",
        "         'recency': df_r['recency'],\n",
        "         'R': df_r['adjusted_R'],\n",
        "         'frequency': df_f['frequency'],\n",
        "         'F': df_f['adjusted_F'],\n",
        "         'monetary': df_m['monetary'],\n",
        "         'M': df_m['adjusted_M']}"
      ],
      "execution_count": 37,
      "outputs": []
    },
    {
      "cell_type": "code",
      "metadata": {
        "id": "fwElX43t5Uku",
        "colab_type": "code",
        "colab": {}
      },
      "source": [
        "df_final = pd.DataFrame(dados)"
      ],
      "execution_count": 38,
      "outputs": []
    },
    {
      "cell_type": "code",
      "metadata": {
        "id": "iS0Od-OA5WFY",
        "colab_type": "code",
        "colab": {
          "base_uri": "https://localhost:8080/",
          "height": 204
        },
        "outputId": "c586f685-1e2e-43b5-d0df-3c2ea670bf0c"
      },
      "source": [
        "df_final.head()"
      ],
      "execution_count": 39,
      "outputs": [
        {
          "output_type": "execute_result",
          "data": {
            "text/html": [
              "<div>\n",
              "<style scoped>\n",
              "    .dataframe tbody tr th:only-of-type {\n",
              "        vertical-align: middle;\n",
              "    }\n",
              "\n",
              "    .dataframe tbody tr th {\n",
              "        vertical-align: top;\n",
              "    }\n",
              "\n",
              "    .dataframe thead th {\n",
              "        text-align: right;\n",
              "    }\n",
              "</style>\n",
              "<table border=\"1\" class=\"dataframe\">\n",
              "  <thead>\n",
              "    <tr style=\"text-align: right;\">\n",
              "      <th></th>\n",
              "      <th>customer_unique_id</th>\n",
              "      <th>recency</th>\n",
              "      <th>R</th>\n",
              "      <th>frequency</th>\n",
              "      <th>F</th>\n",
              "      <th>monetary</th>\n",
              "      <th>M</th>\n",
              "    </tr>\n",
              "  </thead>\n",
              "  <tbody>\n",
              "    <tr>\n",
              "      <th>0</th>\n",
              "      <td>0000366f3b9a7992bf8c76cfdf3221e2</td>\n",
              "      <td>116</td>\n",
              "      <td>3.0</td>\n",
              "      <td>1</td>\n",
              "      <td>0.0</td>\n",
              "      <td>129.90</td>\n",
              "      <td>0.0</td>\n",
              "    </tr>\n",
              "    <tr>\n",
              "      <th>1</th>\n",
              "      <td>0000b849f77a49e4a4ce2b2a4ca5be3f</td>\n",
              "      <td>119</td>\n",
              "      <td>3.0</td>\n",
              "      <td>1</td>\n",
              "      <td>0.0</td>\n",
              "      <td>18.90</td>\n",
              "      <td>0.0</td>\n",
              "    </tr>\n",
              "    <tr>\n",
              "      <th>2</th>\n",
              "      <td>0000f46a3911fa3c0805444483337064</td>\n",
              "      <td>542</td>\n",
              "      <td>0.0</td>\n",
              "      <td>1</td>\n",
              "      <td>0.0</td>\n",
              "      <td>69.00</td>\n",
              "      <td>0.0</td>\n",
              "    </tr>\n",
              "    <tr>\n",
              "      <th>3</th>\n",
              "      <td>0000f6ccb0745a6a4b88665a16c9f078</td>\n",
              "      <td>326</td>\n",
              "      <td>1.0</td>\n",
              "      <td>1</td>\n",
              "      <td>0.0</td>\n",
              "      <td>25.99</td>\n",
              "      <td>0.0</td>\n",
              "    </tr>\n",
              "    <tr>\n",
              "      <th>4</th>\n",
              "      <td>0004aac84e0df4da2b147fca70cf8255</td>\n",
              "      <td>293</td>\n",
              "      <td>1.0</td>\n",
              "      <td>1</td>\n",
              "      <td>0.0</td>\n",
              "      <td>180.00</td>\n",
              "      <td>0.0</td>\n",
              "    </tr>\n",
              "  </tbody>\n",
              "</table>\n",
              "</div>"
            ],
            "text/plain": [
              "                 customer_unique_id  recency    R  ...    F  monetary    M\n",
              "0  0000366f3b9a7992bf8c76cfdf3221e2      116  3.0  ...  0.0    129.90  0.0\n",
              "1  0000b849f77a49e4a4ce2b2a4ca5be3f      119  3.0  ...  0.0     18.90  0.0\n",
              "2  0000f46a3911fa3c0805444483337064      542  0.0  ...  0.0     69.00  0.0\n",
              "3  0000f6ccb0745a6a4b88665a16c9f078      326  1.0  ...  0.0     25.99  0.0\n",
              "4  0004aac84e0df4da2b147fca70cf8255      293  1.0  ...  0.0    180.00  0.0\n",
              "\n",
              "[5 rows x 7 columns]"
            ]
          },
          "metadata": {
            "tags": []
          },
          "execution_count": 39
        }
      ]
    },
    {
      "cell_type": "markdown",
      "metadata": {
        "id": "25p5xfbHBR42",
        "colab_type": "text"
      },
      "source": [
        "## 4) Agrupando os clientes"
      ]
    },
    {
      "cell_type": "markdown",
      "metadata": {
        "id": "eMxoXlg7BeGo",
        "colab_type": "text"
      },
      "source": [
        "Agora podemos fazer um agrupamento dos clientes considerando as variáveis recência, frequência e monetaridade duas a duas, obtendo assim três gráficos relacionando os clientes a cada uma das variáveis."
      ]
    },
    {
      "cell_type": "markdown",
      "metadata": {
        "id": "V7bT2UelCd8S",
        "colab_type": "text"
      },
      "source": [
        "### 4.1) Escalonando as variáveis"
      ]
    },
    {
      "cell_type": "markdown",
      "metadata": {
        "id": "yxzyTpJ2Cj73",
        "colab_type": "text"
      },
      "source": [
        "O algorítmo usado para fazer agrupamentos, o K-Means, utiliza o cálculo de distância euclidiana entre os dados para plotar os pontos no gráfico. Um importante passo então, é deixar estas variáveis na mesma escala para que o resultado final fique o mais preciso e com a melhor acurácia possível."
      ]
    },
    {
      "cell_type": "code",
      "metadata": {
        "id": "9hYgyWHj5tsb",
        "colab_type": "code",
        "colab": {}
      },
      "source": [
        "# Criando o scaler\n",
        "scaler = StandardScaler()"
      ],
      "execution_count": 40,
      "outputs": []
    },
    {
      "cell_type": "markdown",
      "metadata": {
        "id": "yO9BOVGlESfP",
        "colab_type": "text"
      },
      "source": [
        "Começaremos separando as variáveis a serem utilizadas a seguir."
      ]
    },
    {
      "cell_type": "code",
      "metadata": {
        "id": "JZk727tqEnCa",
        "colab_type": "code",
        "colab": {}
      },
      "source": [
        "# Criando as variáveis\n",
        "\n",
        "# Variáveis recência e frequência\n",
        "X_RF = df_final.iloc[:, [1,3]].values\n",
        "\n",
        "# Variáveis recência e monetaridade\n",
        "X_RM = df_final.iloc[:, [1,5]].values\n",
        "\n",
        "# Variáveis frequência e monetaridade\n",
        "X_FM = df_final.iloc[:, [3,5]].values"
      ],
      "execution_count": 41,
      "outputs": []
    },
    {
      "cell_type": "markdown",
      "metadata": {
        "id": "VUGUW_ncEMmN",
        "colab_type": "text"
      },
      "source": [
        "- Escalonamento das variáveis"
      ]
    },
    {
      "cell_type": "code",
      "metadata": {
        "id": "_kZDkUggEBTP",
        "colab_type": "code",
        "colab": {}
      },
      "source": [
        "X_RF = scaler.fit_transform(X_RF)\n",
        "X_RM = scaler.fit_transform(X_RM)\n",
        "X_FM = scaler.fit_transform(X_FM)"
      ],
      "execution_count": 42,
      "outputs": []
    },
    {
      "cell_type": "code",
      "metadata": {
        "id": "Yxo_gdUlGgd3",
        "colab_type": "code",
        "colab": {
          "base_uri": "https://localhost:8080/",
          "height": 136
        },
        "outputId": "951ebe11-0a49-4319-e061-4ea9f650c21d"
      },
      "source": [
        "X_RF"
      ],
      "execution_count": 43,
      "outputs": [
        {
          "output_type": "execute_result",
          "data": {
            "text/plain": [
              "array([[-0.83312079, -0.2905643 ],\n",
              "       [-0.81353336, -0.2905643 ],\n",
              "       [ 1.94829305, -0.2905643 ],\n",
              "       ...,\n",
              "       [ 2.1506964 , -0.2905643 ],\n",
              "       [-0.78088766, -0.2905643 ],\n",
              "       [ 1.60224861, -0.2905643 ]])"
            ]
          },
          "metadata": {
            "tags": []
          },
          "execution_count": 43
        }
      ]
    },
    {
      "cell_type": "code",
      "metadata": {
        "id": "_8LaWsFsG0dS",
        "colab_type": "code",
        "colab": {
          "base_uri": "https://localhost:8080/",
          "height": 136
        },
        "outputId": "d358f911-b364-4c49-eb7a-687723b1d892"
      },
      "source": [
        "X_RM"
      ],
      "execution_count": 44,
      "outputs": [
        {
          "output_type": "execute_result",
          "data": {
            "text/plain": [
              "array([[-0.83312079, -0.05761497],\n",
              "       [-0.81353336, -0.56759586],\n",
              "       [ 1.94829305, -0.33741529],\n",
              "       ...,\n",
              "       [ 2.1506964 , -0.24139187],\n",
              "       [-0.78088766, -0.12607186],\n",
              "       [ 1.60224861, -0.39259431]])"
            ]
          },
          "metadata": {
            "tags": []
          },
          "execution_count": 44
        }
      ]
    },
    {
      "cell_type": "code",
      "metadata": {
        "id": "IfCy9Kj2HlAA",
        "colab_type": "code",
        "colab": {
          "base_uri": "https://localhost:8080/",
          "height": 136
        },
        "outputId": "34bebbbe-878f-44a0-d302-2d59b67f5200"
      },
      "source": [
        "X_FM"
      ],
      "execution_count": 45,
      "outputs": [
        {
          "output_type": "execute_result",
          "data": {
            "text/plain": [
              "array([[-0.2905643 , -0.05761497],\n",
              "       [-0.2905643 , -0.56759586],\n",
              "       [-0.2905643 , -0.33741529],\n",
              "       ...,\n",
              "       [-0.2905643 , -0.24139187],\n",
              "       [-0.2905643 , -0.12607186],\n",
              "       [-0.2905643 , -0.39259431]])"
            ]
          },
          "metadata": {
            "tags": []
          },
          "execution_count": 45
        }
      ]
    },
    {
      "cell_type": "markdown",
      "metadata": {
        "id": "Z0t7WOVR7gLb",
        "colab_type": "text"
      },
      "source": [
        "### 4.2) Verificando o número ideal de clusters"
      ]
    },
    {
      "cell_type": "markdown",
      "metadata": {
        "id": "BO88ISF67Rzj",
        "colab_type": "text"
      },
      "source": [
        "Iremos novamente usar o Elbow Method para definir o número mais apropriado de grupos."
      ]
    },
    {
      "cell_type": "code",
      "metadata": {
        "id": "beJ2vpuw7-g3",
        "colab_type": "code",
        "colab": {}
      },
      "source": [
        "wcss_rf = []\n",
        "wcss_rm = []\n",
        "wcss_fm = []\n",
        "\n",
        "for i in range(1, 11):\n",
        "  kmeans = KMeans(n_clusters=i, random_state=0)\n",
        "  kmeans.fit(X_RF)\n",
        "  wcss_rf.append(kmeans.inertia_)\n",
        "\n",
        "for i in range(1, 11):\n",
        "  kmeans = KMeans(n_clusters=i, random_state=0)\n",
        "  kmeans.fit(X_RM)\n",
        "  wcss_rm.append(kmeans.inertia_)\n",
        "\n",
        "for i in range(1, 11):\n",
        "  kmeans = KMeans(n_clusters=i, random_state=0)\n",
        "  kmeans.fit(X_FM)\n",
        "  wcss_fm.append(kmeans.inertia_)"
      ],
      "execution_count": 46,
      "outputs": []
    },
    {
      "cell_type": "code",
      "metadata": {
        "id": "LqV4WiSlAFBl",
        "colab_type": "code",
        "colab": {
          "base_uri": "https://localhost:8080/",
          "height": 187
        },
        "outputId": "8d12e00b-d008-452c-a7b7-953027018f1f"
      },
      "source": [
        "wcss_rf"
      ],
      "execution_count": 47,
      "outputs": [
        {
          "output_type": "execute_result",
          "data": {
            "text/plain": [
              "[190840.0,\n",
              " 123688.78293929374,\n",
              " 70316.90548889985,\n",
              " 50718.9593878254,\n",
              " 36275.61878752389,\n",
              " 29345.2228670073,\n",
              " 23299.94702144569,\n",
              " 18805.445420201137,\n",
              " 15255.072658594127,\n",
              " 12834.957300519785]"
            ]
          },
          "metadata": {
            "tags": []
          },
          "execution_count": 47
        }
      ]
    },
    {
      "cell_type": "code",
      "metadata": {
        "id": "9hPTX8GRAVUT",
        "colab_type": "code",
        "colab": {
          "base_uri": "https://localhost:8080/",
          "height": 187
        },
        "outputId": "4ed8d198-0163-46b7-a96b-4bac7797b5c7"
      },
      "source": [
        "wcss_rm"
      ],
      "execution_count": 48,
      "outputs": [
        {
          "output_type": "execute_result",
          "data": {
            "text/plain": [
              "[190840.0,\n",
              " 123726.5034536445,\n",
              " 74198.40683970101,\n",
              " 58793.24245321976,\n",
              " 43834.4591202136,\n",
              " 37572.030957731164,\n",
              " 33031.94293697683,\n",
              " 28469.43952448155,\n",
              " 25177.848941173226,\n",
              " 22693.742861865903]"
            ]
          },
          "metadata": {
            "tags": []
          },
          "execution_count": 48
        }
      ]
    },
    {
      "cell_type": "code",
      "metadata": {
        "id": "CDPxXUmVAZ_e",
        "colab_type": "code",
        "colab": {
          "base_uri": "https://localhost:8080/",
          "height": 187
        },
        "outputId": "494e3687-9ce7-49ae-d5bc-32d96620c120"
      },
      "source": [
        "wcss_fm"
      ],
      "execution_count": 49,
      "outputs": [
        {
          "output_type": "execute_result",
          "data": {
            "text/plain": [
              "[190840.00000000003,\n",
              " 127500.65626781646,\n",
              " 85382.25433582606,\n",
              " 61287.67922859735,\n",
              " 46210.21573303964,\n",
              " 38940.439767221214,\n",
              " 31575.843087001977,\n",
              " 26567.641212898125,\n",
              " 22078.637500687335,\n",
              " 19329.96699154336]"
            ]
          },
          "metadata": {
            "tags": []
          },
          "execution_count": 49
        }
      ]
    },
    {
      "cell_type": "code",
      "metadata": {
        "id": "rPgcCEbRAgPk",
        "colab_type": "code",
        "colab": {
          "base_uri": "https://localhost:8080/",
          "height": 295
        },
        "outputId": "62a1167e-9b7c-45c6-c435-a1b0c6938c5a"
      },
      "source": [
        "# Plotando os gráficos para cada wcss\n",
        "plt.figure(figsize=(15,4))\n",
        "\n",
        "# Distribuição da recência\n",
        "plt.subplot(1,3,1)\n",
        "plt.plot(range(1, 11), wcss_rf, marker='s')\n",
        "plt.title('Grupos - Recência x Frequência')\n",
        "plt.xlabel('Number of Clusters')\n",
        "plt.ylabel('WCSS_RF')\n",
        "\n",
        "# Distribuição da frequência\n",
        "plt.subplot(1,3,2)\n",
        "plt.plot(range(1, 11), wcss_rm, marker='s')\n",
        "plt.title('Grupos - Recência x Monetaridade')\n",
        "plt.xlabel('Number of Clusters')\n",
        "plt.ylabel('WCSS_RM')\n",
        "\n",
        "# Distribuição da monetaridade\n",
        "plt.subplot(1,3,3)\n",
        "plt.plot(range(1, 11), wcss_fm, marker='s')\n",
        "plt.title('Grupos - Frequência x Monetaridade')\n",
        "plt.xlabel('Number of Clusters')\n",
        "plt.ylabel('WCSS_FM')\n",
        "\n",
        "plt.show()"
      ],
      "execution_count": 50,
      "outputs": [
        {
          "output_type": "display_data",
          "data": {
            "image/png": "[encoded data removed]",
            "text/plain": [
              "<Figure size 1080x288 with 3 Axes>"
            ]
          },
          "metadata": {
            "tags": [],
            "needs_background": "light"
          }
        }
      ]
    },
    {
      "cell_type": "markdown",
      "metadata": {
        "id": "0u8v9zD_Brbx",
        "colab_type": "text"
      },
      "source": [
        "Assim, podemos definir seis clusters para cada uma das relações. "
      ]
    },
    {
      "cell_type": "markdown",
      "metadata": {
        "id": "mJ_YxsBXCsT7",
        "colab_type": "text"
      },
      "source": [
        "### 4.3) Criação do modelo de Agrupamento"
      ]
    },
    {
      "cell_type": "markdown",
      "metadata": {
        "id": "-hEMfUweC_33",
        "colab_type": "text"
      },
      "source": [
        "Passaremos agora para a criação do modelo usando o K-Means."
      ]
    },
    {
      "cell_type": "code",
      "metadata": {
        "id": "Y3OCF9B5CzyH",
        "colab_type": "code",
        "colab": {}
      },
      "source": [
        "# Modelo para Recência x Frequência\n",
        "kmeans = KMeans(n_clusters=6, random_state=0)\n",
        "previsoes_rf = kmeans.fit_predict(X_RF)\n",
        "\n",
        "# Modelo para Recência x Monetaridade\n",
        "kmeans = KMeans(n_clusters=6, random_state=0)\n",
        "previsoes_rm = kmeans.fit_predict(X_RM)\n",
        "\n",
        "# Modelo para Frequência x Monetaridade\n",
        "kmeans = KMeans(n_clusters=6, random_state=0)\n",
        "previsoes_fm = kmeans.fit_predict(X_FM)"
      ],
      "execution_count": 52,
      "outputs": []
    }
  ]
}