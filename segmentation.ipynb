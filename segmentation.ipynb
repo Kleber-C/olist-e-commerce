{
  "nbformat": 4,
  "nbformat_minor": 0,
  "metadata": {
    "colab": {
      "name": "analysis.ipynb",
      "provenance": [],
      "collapsed_sections": [
        "ZNpm0GUSmUNk",
        "u8ZWfenUAuVa",
        "g1eI4ByD664m",
        "oiqZE-tG7aeu",
        "V7bT2UelCd8S",
        "Z0t7WOVR7gLb",
        "mJ_YxsBXCsT7",
        "cEA9B2XKHflc",
        "EzsAjji6HoXu",
        "MWmSDrQmJcIG",
        "kutmsxXeKGxD",
        "wOZnhgT7cBK0",
        "nNHJGTSadJdk",
        "hTKq2sCngOmY",
        "XzWu3TuOrIIQ"
      ],
      "include_colab_link": true
    },
    "kernelspec": {
      "name": "python3",
      "display_name": "Python 3"
    }
  },
  "cells": [
    {
      "cell_type": "markdown",
      "metadata": {
        "id": "view-in-github",
        "colab_type": "text"
      },
      "source": [
        "<a href=\"https://colab.research.google.com/github/Mario-RJunior/olist-e-commerce/blob/master/segmentation.ipynb\" target=\"_parent\"><img src=\"https://colab.research.google.com/assets/colab-badge.svg\" alt=\"Open In Colab\"/></a>"
      ]
    },
    {
      "cell_type": "markdown",
      "metadata": {
        "id": "lowEzt9WU4Wh",
        "colab_type": "text"
      },
      "source": [
        "# Segmentação de Clientes"
      ]
    },
    {
      "cell_type": "markdown",
      "metadata": {
        "id": "TAUmY0dyVEZs",
        "colab_type": "text"
      },
      "source": [
        "## 1) Introdução"
      ]
    },
    {
      "cell_type": "markdown",
      "metadata": {
        "id": "lcXwUnnRVIeR",
        "colab_type": "text"
      },
      "source": [
        "Neste trabalho iremos analisar a base de dados disponibilizada online pela Olist.\n",
        "\n",
        "Esta base refere-se ao desenvolvimento do comércio eletrônico no Brasil nos últimos anos, apresentando informações tanto das compras realizadas, quanto dos clientes que as fizeram, dos vendedores envolvidos e dos produtos comercializado neste tempo.\n",
        "\n",
        "Nosso objetivo é explorar esta base de dados para tirar informações relevantes para serem utilizadas nos negócios, culminando com uma segmentação dos clientes, onde estes possam ser classificados de acordo com sua assiduidade às compras online."
      ]
    },
    {
      "cell_type": "markdown",
      "metadata": {
        "id": "lBODl_Ffhr6i",
        "colab_type": "text"
      },
      "source": [
        "## 2) Preparação dos dados"
      ]
    },
    {
      "cell_type": "code",
      "metadata": {
        "id": "CYXHlnPXsWlb",
        "colab_type": "code",
        "colab": {
          "base_uri": "https://localhost:8080/",
          "height": 34
        },
        "outputId": "aba0d678-b7fb-444a-8f00-5de3bdd8fef6"
      },
      "source": [
        "! pip install squarify"
      ],
      "execution_count": 26,
      "outputs": [
        {
          "output_type": "stream",
          "text": [
            "Requirement already satisfied: squarify in /usr/local/lib/python3.6/dist-packages (0.4.3)\n"
          ],
          "name": "stdout"
        }
      ]
    },
    {
      "cell_type": "code",
      "metadata": {
        "id": "nSqpnV3tUtmp",
        "colab_type": "code",
        "colab": {}
      },
      "source": [
        "# Importando as bibliotecas\n",
        "import pandas as pd\n",
        "import matplotlib.pyplot as plt\n",
        "import seaborn as sns\n",
        "from datetime import timedelta\n",
        "from sklearn.cluster import KMeans\n",
        "from sklearn.preprocessing import StandardScaler\n",
        "import squarify\n",
        "import warnings\n",
        "warnings.filterwarnings('ignore')"
      ],
      "execution_count": 27,
      "outputs": []
    },
    {
      "cell_type": "code",
      "metadata": {
        "id": "OFjCMJoLc5Pm",
        "colab_type": "code",
        "colab": {
          "base_uri": "https://localhost:8080/",
          "height": 136
        },
        "outputId": "133e427d-613c-4c56-8940-aa12afe77c17"
      },
      "source": [
        "! git clone https://github.com/Mario-RJunior/olist-e-commerce"
      ],
      "execution_count": null,
      "outputs": [
        {
          "output_type": "stream",
          "text": [
            "Cloning into 'olist-e-commerce'...\n",
            "remote: Enumerating objects: 112, done.\u001b[K\n",
            "remote: Counting objects: 100% (112/112), done.\u001b[K\n",
            "remote: Compressing objects: 100% (110/110), done.\u001b[K\n",
            "remote: Total 112 (delta 60), reused 0 (delta 0), pack-reused 0\u001b[K\n",
            "Receiving objects: 100% (112/112), 19.02 MiB | 6.43 MiB/s, done.\n",
            "Resolving deltas: 100% (60/60), done.\n"
          ],
          "name": "stdout"
        }
      ]
    },
    {
      "cell_type": "markdown",
      "metadata": {
        "id": "gstTij7OkB7T",
        "colab_type": "text"
      },
      "source": [
        "### 2.1) Gerando o dataframe"
      ]
    },
    {
      "cell_type": "markdown",
      "metadata": {
        "id": "XEFSBd6ykNEy",
        "colab_type": "text"
      },
      "source": [
        "Para gerar um dataframe, iremos carregar os arquivos ***.csv*** de forma independente e depois iremos juntá-los uns aos outros através das chaves correspondentes."
      ]
    },
    {
      "cell_type": "code",
      "metadata": {
        "id": "mZFUlq76U21y",
        "colab_type": "code",
        "colab": {}
      },
      "source": [
        "# Carregando os datasets\n",
        "customer = pd.read_csv('olist-e-commerce/datasets/olist_customers_dataset.csv')\n",
        "orders = pd.read_csv('olist-e-commerce/datasets/olist_orders_dataset.csv')\n",
        "orders_items = pd.read_csv('olist-e-commerce/datasets/olist_order_items_dataset.csv')"
      ],
      "execution_count": null,
      "outputs": []
    },
    {
      "cell_type": "code",
      "metadata": {
        "id": "rUx7v5lac2KK",
        "colab_type": "code",
        "colab": {}
      },
      "source": [
        "# Junção dos dataframes\n",
        "df = pd.merge(right=orders,\n",
        "             left=customer,\n",
        "             on='customer_id')\n",
        "\n",
        "df = pd.merge(right=orders_items,\n",
        "             left=df,\n",
        "             on='order_id')"
      ],
      "execution_count": null,
      "outputs": []
    },
    {
      "cell_type": "code",
      "metadata": {
        "id": "Nh052x6wi0aZ",
        "colab_type": "code",
        "colab": {
          "base_uri": "https://localhost:8080/",
          "height": 258
        },
        "outputId": "54253e03-2867-451f-c52b-0eb3eed34fa9"
      },
      "source": [
        "df.head()"
      ],
      "execution_count": null,
      "outputs": [
        {
          "output_type": "execute_result",
          "data": {
            "text/html": [
              "<div>\n",
              "<style scoped>\n",
              "    .dataframe tbody tr th:only-of-type {\n",
              "        vertical-align: middle;\n",
              "    }\n",
              "\n",
              "    .dataframe tbody tr th {\n",
              "        vertical-align: top;\n",
              "    }\n",
              "\n",
              "    .dataframe thead th {\n",
              "        text-align: right;\n",
              "    }\n",
              "</style>\n",
              "<table border=\"1\" class=\"dataframe\">\n",
              "  <thead>\n",
              "    <tr style=\"text-align: right;\">\n",
              "      <th></th>\n",
              "      <th>customer_id</th>\n",
              "      <th>customer_unique_id</th>\n",
              "      <th>customer_zip_code_prefix</th>\n",
              "      <th>customer_city</th>\n",
              "      <th>customer_state</th>\n",
              "      <th>order_id</th>\n",
              "      <th>order_status</th>\n",
              "      <th>order_purchase_timestamp</th>\n",
              "      <th>order_approved_at</th>\n",
              "      <th>order_delivered_carrier_date</th>\n",
              "      <th>order_delivered_customer_date</th>\n",
              "      <th>order_estimated_delivery_date</th>\n",
              "      <th>order_item_id</th>\n",
              "      <th>product_id</th>\n",
              "      <th>seller_id</th>\n",
              "      <th>shipping_limit_date</th>\n",
              "      <th>price</th>\n",
              "      <th>freight_value</th>\n",
              "    </tr>\n",
              "  </thead>\n",
              "  <tbody>\n",
              "    <tr>\n",
              "      <th>0</th>\n",
              "      <td>06b8999e2fba1a1fbc88172c00ba8bc7</td>\n",
              "      <td>861eff4711a542e4b93843c6dd7febb0</td>\n",
              "      <td>14409</td>\n",
              "      <td>franca</td>\n",
              "      <td>SP</td>\n",
              "      <td>00e7ee1b050b8499577073aeb2a297a1</td>\n",
              "      <td>delivered</td>\n",
              "      <td>2017-05-16 15:05:35</td>\n",
              "      <td>2017-05-16 15:22:12</td>\n",
              "      <td>2017-05-23 10:47:57</td>\n",
              "      <td>2017-05-25 10:35:35</td>\n",
              "      <td>2017-06-05 00:00:00</td>\n",
              "      <td>1</td>\n",
              "      <td>a9516a079e37a9c9c36b9b78b10169e8</td>\n",
              "      <td>7c67e1448b00f6e969d365cea6b010ab</td>\n",
              "      <td>2017-05-22 15:22:12</td>\n",
              "      <td>124.99</td>\n",
              "      <td>21.88</td>\n",
              "    </tr>\n",
              "    <tr>\n",
              "      <th>1</th>\n",
              "      <td>18955e83d337fd6b2def6b18a428ac77</td>\n",
              "      <td>290c77bc529b7ac935b93aa66c333dc3</td>\n",
              "      <td>9790</td>\n",
              "      <td>sao bernardo do campo</td>\n",
              "      <td>SP</td>\n",
              "      <td>29150127e6685892b6eab3eec79f59c7</td>\n",
              "      <td>delivered</td>\n",
              "      <td>2018-01-12 20:48:24</td>\n",
              "      <td>2018-01-12 20:58:32</td>\n",
              "      <td>2018-01-15 17:14:59</td>\n",
              "      <td>2018-01-29 12:41:19</td>\n",
              "      <td>2018-02-06 00:00:00</td>\n",
              "      <td>1</td>\n",
              "      <td>4aa6014eceb682077f9dc4bffebc05b0</td>\n",
              "      <td>b8bc237ba3788b23da09c0f1f3a3288c</td>\n",
              "      <td>2018-01-18 20:58:32</td>\n",
              "      <td>289.00</td>\n",
              "      <td>46.48</td>\n",
              "    </tr>\n",
              "    <tr>\n",
              "      <th>2</th>\n",
              "      <td>4e7b3e00288586ebd08712fdd0374a03</td>\n",
              "      <td>060e732b5b29e8181a18229c7b0b2b5e</td>\n",
              "      <td>1151</td>\n",
              "      <td>sao paulo</td>\n",
              "      <td>SP</td>\n",
              "      <td>b2059ed67ce144a36e2aa97d2c9e9ad2</td>\n",
              "      <td>delivered</td>\n",
              "      <td>2018-05-19 16:07:45</td>\n",
              "      <td>2018-05-20 16:19:10</td>\n",
              "      <td>2018-06-11 14:31:00</td>\n",
              "      <td>2018-06-14 17:58:51</td>\n",
              "      <td>2018-06-13 00:00:00</td>\n",
              "      <td>1</td>\n",
              "      <td>bd07b66896d6f1494f5b86251848ced7</td>\n",
              "      <td>7c67e1448b00f6e969d365cea6b010ab</td>\n",
              "      <td>2018-06-05 16:19:10</td>\n",
              "      <td>139.94</td>\n",
              "      <td>17.79</td>\n",
              "    </tr>\n",
              "    <tr>\n",
              "      <th>3</th>\n",
              "      <td>b2b6027bc5c5109e529d4dc6358b12c3</td>\n",
              "      <td>259dac757896d24d7702b9acbbff3f3c</td>\n",
              "      <td>8775</td>\n",
              "      <td>mogi das cruzes</td>\n",
              "      <td>SP</td>\n",
              "      <td>951670f92359f4fe4a63112aa7306eba</td>\n",
              "      <td>delivered</td>\n",
              "      <td>2018-03-13 16:06:38</td>\n",
              "      <td>2018-03-13 17:29:19</td>\n",
              "      <td>2018-03-27 23:22:42</td>\n",
              "      <td>2018-03-28 16:04:25</td>\n",
              "      <td>2018-04-10 00:00:00</td>\n",
              "      <td>1</td>\n",
              "      <td>a5647c44af977b148e0a3a4751a09e2e</td>\n",
              "      <td>7c67e1448b00f6e969d365cea6b010ab</td>\n",
              "      <td>2018-03-27 16:31:16</td>\n",
              "      <td>149.94</td>\n",
              "      <td>23.36</td>\n",
              "    </tr>\n",
              "    <tr>\n",
              "      <th>4</th>\n",
              "      <td>4f2d8ab171c80ec8364f7c12e35b23ad</td>\n",
              "      <td>345ecd01c38d18a9036ed96c73b8d066</td>\n",
              "      <td>13056</td>\n",
              "      <td>campinas</td>\n",
              "      <td>SP</td>\n",
              "      <td>6b7d50bd145f6fc7f33cebabd7e49d0f</td>\n",
              "      <td>delivered</td>\n",
              "      <td>2018-07-29 09:51:30</td>\n",
              "      <td>2018-07-29 10:10:09</td>\n",
              "      <td>2018-07-30 15:16:00</td>\n",
              "      <td>2018-08-09 20:55:48</td>\n",
              "      <td>2018-08-15 00:00:00</td>\n",
              "      <td>1</td>\n",
              "      <td>9391a573abe00141c56e38d84d7d5b3b</td>\n",
              "      <td>4a3ca9315b744ce9f8e9374361493884</td>\n",
              "      <td>2018-07-31 10:10:09</td>\n",
              "      <td>230.00</td>\n",
              "      <td>22.25</td>\n",
              "    </tr>\n",
              "  </tbody>\n",
              "</table>\n",
              "</div>"
            ],
            "text/plain": [
              "                        customer_id  ... freight_value\n",
              "0  06b8999e2fba1a1fbc88172c00ba8bc7  ...         21.88\n",
              "1  18955e83d337fd6b2def6b18a428ac77  ...         46.48\n",
              "2  4e7b3e00288586ebd08712fdd0374a03  ...         17.79\n",
              "3  b2b6027bc5c5109e529d4dc6358b12c3  ...         23.36\n",
              "4  4f2d8ab171c80ec8364f7c12e35b23ad  ...         22.25\n",
              "\n",
              "[5 rows x 18 columns]"
            ]
          },
          "metadata": {
            "tags": []
          },
          "execution_count": 7
        }
      ]
    },
    {
      "cell_type": "code",
      "metadata": {
        "id": "lXkVZCWOi46-",
        "colab_type": "code",
        "colab": {
          "base_uri": "https://localhost:8080/",
          "height": 51
        },
        "outputId": "bba08615-68f0-4e85-80f1-ffde2a98f2d2"
      },
      "source": [
        "print(f'Número de linhas: {df.shape[0]} \\nNúmero de colunas: {df.shape[1]}')"
      ],
      "execution_count": null,
      "outputs": [
        {
          "output_type": "stream",
          "text": [
            "Número de linhas: 112650 \n",
            "Número de colunas: 18\n"
          ],
          "name": "stdout"
        }
      ]
    },
    {
      "cell_type": "markdown",
      "metadata": {
        "id": "TrGq_R03mfaZ",
        "colab_type": "text"
      },
      "source": [
        "### 2.2) Verificando a consistência dos dados"
      ]
    },
    {
      "cell_type": "markdown",
      "metadata": {
        "id": "tujyeVNVmmfp",
        "colab_type": "text"
      },
      "source": [
        "Para utilizar nosso dataframe da forma ideal, precisamos inicialmente ter certeza que os dados estão consistentes, ou seja, no formato ideal, que não há valores faltantes na tabela, etc. Checaremos essas condições a seguir."
      ]
    },
    {
      "cell_type": "code",
      "metadata": {
        "id": "V4jxM1gck9xK",
        "colab_type": "code",
        "colab": {}
      },
      "source": [
        "# Convertendo a coluna \"order_purchase_timestamp\" para o formato datetime\n",
        "df['order_purchase_timestamp'] = pd.to_datetime(df['order_purchase_timestamp'])"
      ],
      "execution_count": null,
      "outputs": []
    },
    {
      "cell_type": "code",
      "metadata": {
        "id": "TxdAEuV3lEz7",
        "colab_type": "code",
        "colab": {
          "base_uri": "https://localhost:8080/",
          "height": 340
        },
        "outputId": "9942d427-de59-475c-d144-9ba7d74f5635"
      },
      "source": [
        "# Confirmando os tipos dos dados de cada coluna\n",
        "df.dtypes"
      ],
      "execution_count": null,
      "outputs": [
        {
          "output_type": "execute_result",
          "data": {
            "text/plain": [
              "customer_id                              object\n",
              "customer_unique_id                       object\n",
              "customer_zip_code_prefix                  int64\n",
              "customer_city                            object\n",
              "customer_state                           object\n",
              "order_id                                 object\n",
              "order_status                             object\n",
              "order_purchase_timestamp         datetime64[ns]\n",
              "order_approved_at                        object\n",
              "order_delivered_carrier_date             object\n",
              "order_delivered_customer_date            object\n",
              "order_estimated_delivery_date            object\n",
              "order_item_id                             int64\n",
              "product_id                               object\n",
              "seller_id                                object\n",
              "shipping_limit_date                      object\n",
              "price                                   float64\n",
              "freight_value                           float64\n",
              "dtype: object"
            ]
          },
          "metadata": {
            "tags": []
          },
          "execution_count": 10
        }
      ]
    },
    {
      "cell_type": "code",
      "metadata": {
        "id": "yfWWrZzwla8E",
        "colab_type": "code",
        "colab": {
          "base_uri": "https://localhost:8080/",
          "height": 340
        },
        "outputId": "e3e9cd5d-cc74-4643-c2e3-0b1e1d7368ee"
      },
      "source": [
        "# Verificando os valores nulos\n",
        "df.isnull().sum()"
      ],
      "execution_count": null,
      "outputs": [
        {
          "output_type": "execute_result",
          "data": {
            "text/plain": [
              "customer_id                         0\n",
              "customer_unique_id                  0\n",
              "customer_zip_code_prefix            0\n",
              "customer_city                       0\n",
              "customer_state                      0\n",
              "order_id                            0\n",
              "order_status                        0\n",
              "order_purchase_timestamp            0\n",
              "order_approved_at                  15\n",
              "order_delivered_carrier_date     1194\n",
              "order_delivered_customer_date    2454\n",
              "order_estimated_delivery_date       0\n",
              "order_item_id                       0\n",
              "product_id                          0\n",
              "seller_id                           0\n",
              "shipping_limit_date                 0\n",
              "price                               0\n",
              "freight_value                       0\n",
              "dtype: int64"
            ]
          },
          "metadata": {
            "tags": []
          },
          "execution_count": 11
        }
      ]
    },
    {
      "cell_type": "markdown",
      "metadata": {
        "id": "HEaC0o9AnESo",
        "colab_type": "text"
      },
      "source": [
        "## 3) Modelo RFM"
      ]
    },
    {
      "cell_type": "markdown",
      "metadata": {
        "id": "koa_1TOJnJ2L",
        "colab_type": "text"
      },
      "source": [
        "O modelo RFM é largamente utilizado para segmentação de clientes, levando em consideração as respectivas características:\n",
        "\n",
        "- ***Recência (Recency)***: total de dias em que o cliente não realiza uma compra.\n",
        "- ***Frequência (Frequency)***: número total de compras que o cliente já realizou.\n",
        "- ***Monetaridade (Monetary)***: gasto total do cliente.\n",
        "\n",
        "Iremos então descobrir cada uma dessas variáveis a partir do dataframe obtido acima."
      ]
    },
    {
      "cell_type": "markdown",
      "metadata": {
        "id": "ZNpm0GUSmUNk",
        "colab_type": "text"
      },
      "source": [
        "### 3.1) Selecionando as colunas"
      ]
    },
    {
      "cell_type": "markdown",
      "metadata": {
        "id": "4Ye4jM6ckr-1",
        "colab_type": "text"
      },
      "source": [
        "Agora, criaremos dataframes específicos para cada uma das três variáveis de interesse para o modelo RFM. Para isso, excluiremos algumas colunas do dataframe original, deixando apenas as features que são mais relevantes para cada caso."
      ]
    },
    {
      "cell_type": "markdown",
      "metadata": {
        "id": "3Pm-IMc2nD36",
        "colab_type": "text"
      },
      "source": [
        "- ***Recência (R)***"
      ]
    },
    {
      "cell_type": "code",
      "metadata": {
        "id": "rl0T8YP9je_Y",
        "colab_type": "code",
        "colab": {}
      },
      "source": [
        "# Criando o dataframe df_r para recência\n",
        "df_r = df.drop(columns=['order_id', 'customer_id', 'product_id',\n",
        "                        'customer_zip_code_prefix', 'customer_city', \n",
        "                        'customer_state', 'order_status', 'order_approved_at', \n",
        "                        'order_delivered_carrier_date', \n",
        "                        'order_delivered_customer_date',\n",
        "                        'order_estimated_delivery_date', 'order_item_id', \n",
        "                        'seller_id', 'shipping_limit_date',\n",
        "                        'freight_value', 'price'])"
      ],
      "execution_count": null,
      "outputs": []
    },
    {
      "cell_type": "code",
      "metadata": {
        "id": "1r-i2Foyle6W",
        "colab_type": "code",
        "colab": {
          "base_uri": "https://localhost:8080/",
          "height": 68
        },
        "outputId": "a70334c0-9eb4-4aa4-8a1f-532ed5f53fbc"
      },
      "source": [
        "df_r.isnull().sum()"
      ],
      "execution_count": null,
      "outputs": [
        {
          "output_type": "execute_result",
          "data": {
            "text/plain": [
              "customer_unique_id          0\n",
              "order_purchase_timestamp    0\n",
              "dtype: int64"
            ]
          },
          "metadata": {
            "tags": []
          },
          "execution_count": 13
        }
      ]
    },
    {
      "cell_type": "markdown",
      "metadata": {
        "id": "hDU0Hh9cnVFr",
        "colab_type": "text"
      },
      "source": [
        "Como agora, para essas colunas não há valores nulos podemos partir diretamente para a análise."
      ]
    },
    {
      "cell_type": "code",
      "metadata": {
        "id": "nC-eyVsan9nt",
        "colab_type": "code",
        "colab": {
          "base_uri": "https://localhost:8080/",
          "height": 34
        },
        "outputId": "f7917426-bc8e-4360-8a60-bf8a3998f403"
      },
      "source": [
        "# Criando uma data de referência\n",
        "data_referencia = df_r['order_purchase_timestamp'].max() + timedelta(days=1)\n",
        "print(f'Data de referência: {data_referencia}')"
      ],
      "execution_count": null,
      "outputs": [
        {
          "output_type": "stream",
          "text": [
            "Data de referência: 2018-09-04 09:06:57\n"
          ],
          "name": "stdout"
        }
      ]
    },
    {
      "cell_type": "code",
      "metadata": {
        "id": "nS6ea4Di7sgC",
        "colab_type": "code",
        "colab": {}
      },
      "source": [
        "df_r = df_r.groupby(['customer_unique_id']).agg({'order_purchase_timestamp': lambda x: (data_referencia - x.max()).days})"
      ],
      "execution_count": null,
      "outputs": []
    },
    {
      "cell_type": "code",
      "metadata": {
        "id": "-XY9m6cMnRgy",
        "colab_type": "code",
        "colab": {}
      },
      "source": [
        "df_r.reset_index(inplace=True)\n",
        "df_r.rename(columns={'order_purchase_timestamp': 'recency'}, inplace=True)"
      ],
      "execution_count": null,
      "outputs": []
    },
    {
      "cell_type": "code",
      "metadata": {
        "id": "zK3s9ohro50U",
        "colab_type": "code",
        "colab": {
          "base_uri": "https://localhost:8080/",
          "height": 204
        },
        "outputId": "6e0a7301-619e-4cb9-b981-2ab6e840c9b9"
      },
      "source": [
        "df_r.head()"
      ],
      "execution_count": null,
      "outputs": [
        {
          "output_type": "execute_result",
          "data": {
            "text/html": [
              "<div>\n",
              "<style scoped>\n",
              "    .dataframe tbody tr th:only-of-type {\n",
              "        vertical-align: middle;\n",
              "    }\n",
              "\n",
              "    .dataframe tbody tr th {\n",
              "        vertical-align: top;\n",
              "    }\n",
              "\n",
              "    .dataframe thead th {\n",
              "        text-align: right;\n",
              "    }\n",
              "</style>\n",
              "<table border=\"1\" class=\"dataframe\">\n",
              "  <thead>\n",
              "    <tr style=\"text-align: right;\">\n",
              "      <th></th>\n",
              "      <th>customer_unique_id</th>\n",
              "      <th>recency</th>\n",
              "    </tr>\n",
              "  </thead>\n",
              "  <tbody>\n",
              "    <tr>\n",
              "      <th>0</th>\n",
              "      <td>0000366f3b9a7992bf8c76cfdf3221e2</td>\n",
              "      <td>116</td>\n",
              "    </tr>\n",
              "    <tr>\n",
              "      <th>1</th>\n",
              "      <td>0000b849f77a49e4a4ce2b2a4ca5be3f</td>\n",
              "      <td>119</td>\n",
              "    </tr>\n",
              "    <tr>\n",
              "      <th>2</th>\n",
              "      <td>0000f46a3911fa3c0805444483337064</td>\n",
              "      <td>542</td>\n",
              "    </tr>\n",
              "    <tr>\n",
              "      <th>3</th>\n",
              "      <td>0000f6ccb0745a6a4b88665a16c9f078</td>\n",
              "      <td>326</td>\n",
              "    </tr>\n",
              "    <tr>\n",
              "      <th>4</th>\n",
              "      <td>0004aac84e0df4da2b147fca70cf8255</td>\n",
              "      <td>293</td>\n",
              "    </tr>\n",
              "  </tbody>\n",
              "</table>\n",
              "</div>"
            ],
            "text/plain": [
              "                 customer_unique_id  recency\n",
              "0  0000366f3b9a7992bf8c76cfdf3221e2      116\n",
              "1  0000b849f77a49e4a4ce2b2a4ca5be3f      119\n",
              "2  0000f46a3911fa3c0805444483337064      542\n",
              "3  0000f6ccb0745a6a4b88665a16c9f078      326\n",
              "4  0004aac84e0df4da2b147fca70cf8255      293"
            ]
          },
          "metadata": {
            "tags": []
          },
          "execution_count": 17
        }
      ]
    },
    {
      "cell_type": "markdown",
      "metadata": {
        "id": "I0xdytO_41xa",
        "colab_type": "text"
      },
      "source": [
        "- ***Frequência (F)***"
      ]
    },
    {
      "cell_type": "code",
      "metadata": {
        "id": "ekq1zO4z4zaE",
        "colab_type": "code",
        "colab": {}
      },
      "source": [
        "# Criando o dataframe df_f para frequência\n",
        "df_f = df.drop(columns=['order_purchase_timestamp', 'customer_id', 'product_id',\n",
        "                        'customer_zip_code_prefix', 'customer_city', \n",
        "                        'customer_state', 'order_status', 'order_approved_at', \n",
        "                        'order_delivered_carrier_date', \n",
        "                        'order_delivered_customer_date',\n",
        "                        'order_estimated_delivery_date', 'order_item_id', \n",
        "                        'seller_id', 'shipping_limit_date',\n",
        "                        'freight_value', 'price'])"
      ],
      "execution_count": null,
      "outputs": []
    },
    {
      "cell_type": "code",
      "metadata": {
        "id": "vShK5V805zVZ",
        "colab_type": "code",
        "colab": {}
      },
      "source": [
        "df_f = df_f.groupby('customer_unique_id').count()"
      ],
      "execution_count": null,
      "outputs": []
    },
    {
      "cell_type": "code",
      "metadata": {
        "id": "koL_VPY65Zzy",
        "colab_type": "code",
        "colab": {
          "base_uri": "https://localhost:8080/",
          "height": 204
        },
        "outputId": "ab24e9a6-b432-40d3-9004-3668b8748b99"
      },
      "source": [
        "df_f.rename(columns={'order_id': 'frequency'}, inplace=True)\n",
        "df_f.reset_index(inplace=True)\n",
        "df_f.head()"
      ],
      "execution_count": null,
      "outputs": [
        {
          "output_type": "execute_result",
          "data": {
            "text/html": [
              "<div>\n",
              "<style scoped>\n",
              "    .dataframe tbody tr th:only-of-type {\n",
              "        vertical-align: middle;\n",
              "    }\n",
              "\n",
              "    .dataframe tbody tr th {\n",
              "        vertical-align: top;\n",
              "    }\n",
              "\n",
              "    .dataframe thead th {\n",
              "        text-align: right;\n",
              "    }\n",
              "</style>\n",
              "<table border=\"1\" class=\"dataframe\">\n",
              "  <thead>\n",
              "    <tr style=\"text-align: right;\">\n",
              "      <th></th>\n",
              "      <th>customer_unique_id</th>\n",
              "      <th>frequency</th>\n",
              "    </tr>\n",
              "  </thead>\n",
              "  <tbody>\n",
              "    <tr>\n",
              "      <th>0</th>\n",
              "      <td>0000366f3b9a7992bf8c76cfdf3221e2</td>\n",
              "      <td>1</td>\n",
              "    </tr>\n",
              "    <tr>\n",
              "      <th>1</th>\n",
              "      <td>0000b849f77a49e4a4ce2b2a4ca5be3f</td>\n",
              "      <td>1</td>\n",
              "    </tr>\n",
              "    <tr>\n",
              "      <th>2</th>\n",
              "      <td>0000f46a3911fa3c0805444483337064</td>\n",
              "      <td>1</td>\n",
              "    </tr>\n",
              "    <tr>\n",
              "      <th>3</th>\n",
              "      <td>0000f6ccb0745a6a4b88665a16c9f078</td>\n",
              "      <td>1</td>\n",
              "    </tr>\n",
              "    <tr>\n",
              "      <th>4</th>\n",
              "      <td>0004aac84e0df4da2b147fca70cf8255</td>\n",
              "      <td>1</td>\n",
              "    </tr>\n",
              "  </tbody>\n",
              "</table>\n",
              "</div>"
            ],
            "text/plain": [
              "                 customer_unique_id  frequency\n",
              "0  0000366f3b9a7992bf8c76cfdf3221e2          1\n",
              "1  0000b849f77a49e4a4ce2b2a4ca5be3f          1\n",
              "2  0000f46a3911fa3c0805444483337064          1\n",
              "3  0000f6ccb0745a6a4b88665a16c9f078          1\n",
              "4  0004aac84e0df4da2b147fca70cf8255          1"
            ]
          },
          "metadata": {
            "tags": []
          },
          "execution_count": 20
        }
      ]
    },
    {
      "cell_type": "markdown",
      "metadata": {
        "id": "Ijy37Sha8crL",
        "colab_type": "text"
      },
      "source": [
        "- ***Monetaridade (M)***"
      ]
    },
    {
      "cell_type": "code",
      "metadata": {
        "id": "JUIy8BqW5W2E",
        "colab_type": "code",
        "colab": {}
      },
      "source": [
        "# Criando o dataframe df_m para monetaridade\n",
        "df_m = df.drop(columns=['order_id', 'order_purchase_timestamp', 'customer_id', \n",
        "                        'product_id', 'customer_zip_code_prefix', \n",
        "                        'customer_city', 'customer_state', 'order_status', \n",
        "                        'order_approved_at', 'order_delivered_carrier_date', \n",
        "                        'order_delivered_customer_date',\n",
        "                        'order_estimated_delivery_date', 'order_item_id', \n",
        "                        'seller_id', 'shipping_limit_date',\n",
        "                        'freight_value'])"
      ],
      "execution_count": null,
      "outputs": []
    },
    {
      "cell_type": "code",
      "metadata": {
        "id": "MUUPKQ3T6FW1",
        "colab_type": "code",
        "colab": {}
      },
      "source": [
        "df_m = df_m.groupby('customer_unique_id').sum()"
      ],
      "execution_count": null,
      "outputs": []
    },
    {
      "cell_type": "code",
      "metadata": {
        "id": "tbUGFP9n8yED",
        "colab_type": "code",
        "colab": {
          "base_uri": "https://localhost:8080/",
          "height": 204
        },
        "outputId": "43d1f55b-f39f-48c4-e928-4863ec4e0a5d"
      },
      "source": [
        "df_m.rename(columns={'price': 'monetary'}, inplace=True)\n",
        "df_m.reset_index(inplace=True)\n",
        "df_m.head()"
      ],
      "execution_count": null,
      "outputs": [
        {
          "output_type": "execute_result",
          "data": {
            "text/html": [
              "<div>\n",
              "<style scoped>\n",
              "    .dataframe tbody tr th:only-of-type {\n",
              "        vertical-align: middle;\n",
              "    }\n",
              "\n",
              "    .dataframe tbody tr th {\n",
              "        vertical-align: top;\n",
              "    }\n",
              "\n",
              "    .dataframe thead th {\n",
              "        text-align: right;\n",
              "    }\n",
              "</style>\n",
              "<table border=\"1\" class=\"dataframe\">\n",
              "  <thead>\n",
              "    <tr style=\"text-align: right;\">\n",
              "      <th></th>\n",
              "      <th>customer_unique_id</th>\n",
              "      <th>monetary</th>\n",
              "    </tr>\n",
              "  </thead>\n",
              "  <tbody>\n",
              "    <tr>\n",
              "      <th>0</th>\n",
              "      <td>0000366f3b9a7992bf8c76cfdf3221e2</td>\n",
              "      <td>129.90</td>\n",
              "    </tr>\n",
              "    <tr>\n",
              "      <th>1</th>\n",
              "      <td>0000b849f77a49e4a4ce2b2a4ca5be3f</td>\n",
              "      <td>18.90</td>\n",
              "    </tr>\n",
              "    <tr>\n",
              "      <th>2</th>\n",
              "      <td>0000f46a3911fa3c0805444483337064</td>\n",
              "      <td>69.00</td>\n",
              "    </tr>\n",
              "    <tr>\n",
              "      <th>3</th>\n",
              "      <td>0000f6ccb0745a6a4b88665a16c9f078</td>\n",
              "      <td>25.99</td>\n",
              "    </tr>\n",
              "    <tr>\n",
              "      <th>4</th>\n",
              "      <td>0004aac84e0df4da2b147fca70cf8255</td>\n",
              "      <td>180.00</td>\n",
              "    </tr>\n",
              "  </tbody>\n",
              "</table>\n",
              "</div>"
            ],
            "text/plain": [
              "                 customer_unique_id  monetary\n",
              "0  0000366f3b9a7992bf8c76cfdf3221e2    129.90\n",
              "1  0000b849f77a49e4a4ce2b2a4ca5be3f     18.90\n",
              "2  0000f46a3911fa3c0805444483337064     69.00\n",
              "3  0000f6ccb0745a6a4b88665a16c9f078     25.99\n",
              "4  0004aac84e0df4da2b147fca70cf8255    180.00"
            ]
          },
          "metadata": {
            "tags": []
          },
          "execution_count": 23
        }
      ]
    },
    {
      "cell_type": "markdown",
      "metadata": {
        "id": "aR7G18DAzm2J",
        "colab_type": "text"
      },
      "source": [
        "### 3.2) Juntando os dataframes em um"
      ]
    },
    {
      "cell_type": "markdown",
      "metadata": {
        "id": "MhI2Rly1z7oV",
        "colab_type": "text"
      },
      "source": [
        "Podemos agora obter um novo dataframe contendo os três dataframes gerados anteriormente."
      ]
    },
    {
      "cell_type": "code",
      "metadata": {
        "id": "QRCqnyo90GsX",
        "colab_type": "code",
        "colab": {}
      },
      "source": [
        "dados1 = {'customer_unique_id': df_r['customer_unique_id'],\n",
        "         'recency': df_r['recency'],\n",
        "         'frequency': df_f['frequency'],\n",
        "         'monetary': df_m['monetary']\n",
        "          }\n",
        "df_temp = pd.DataFrame(dados1)"
      ],
      "execution_count": null,
      "outputs": []
    },
    {
      "cell_type": "code",
      "metadata": {
        "id": "0ujLu0VZ0pFr",
        "colab_type": "code",
        "colab": {
          "base_uri": "https://localhost:8080/",
          "height": 204
        },
        "outputId": "7b129d3c-5710-4494-84c1-32c401dbd816"
      },
      "source": [
        "df_temp.head()"
      ],
      "execution_count": null,
      "outputs": [
        {
          "output_type": "execute_result",
          "data": {
            "text/html": [
              "<div>\n",
              "<style scoped>\n",
              "    .dataframe tbody tr th:only-of-type {\n",
              "        vertical-align: middle;\n",
              "    }\n",
              "\n",
              "    .dataframe tbody tr th {\n",
              "        vertical-align: top;\n",
              "    }\n",
              "\n",
              "    .dataframe thead th {\n",
              "        text-align: right;\n",
              "    }\n",
              "</style>\n",
              "<table border=\"1\" class=\"dataframe\">\n",
              "  <thead>\n",
              "    <tr style=\"text-align: right;\">\n",
              "      <th></th>\n",
              "      <th>customer_unique_id</th>\n",
              "      <th>recency</th>\n",
              "      <th>frequency</th>\n",
              "      <th>monetary</th>\n",
              "    </tr>\n",
              "  </thead>\n",
              "  <tbody>\n",
              "    <tr>\n",
              "      <th>0</th>\n",
              "      <td>0000366f3b9a7992bf8c76cfdf3221e2</td>\n",
              "      <td>116</td>\n",
              "      <td>1</td>\n",
              "      <td>129.90</td>\n",
              "    </tr>\n",
              "    <tr>\n",
              "      <th>1</th>\n",
              "      <td>0000b849f77a49e4a4ce2b2a4ca5be3f</td>\n",
              "      <td>119</td>\n",
              "      <td>1</td>\n",
              "      <td>18.90</td>\n",
              "    </tr>\n",
              "    <tr>\n",
              "      <th>2</th>\n",
              "      <td>0000f46a3911fa3c0805444483337064</td>\n",
              "      <td>542</td>\n",
              "      <td>1</td>\n",
              "      <td>69.00</td>\n",
              "    </tr>\n",
              "    <tr>\n",
              "      <th>3</th>\n",
              "      <td>0000f6ccb0745a6a4b88665a16c9f078</td>\n",
              "      <td>326</td>\n",
              "      <td>1</td>\n",
              "      <td>25.99</td>\n",
              "    </tr>\n",
              "    <tr>\n",
              "      <th>4</th>\n",
              "      <td>0004aac84e0df4da2b147fca70cf8255</td>\n",
              "      <td>293</td>\n",
              "      <td>1</td>\n",
              "      <td>180.00</td>\n",
              "    </tr>\n",
              "  </tbody>\n",
              "</table>\n",
              "</div>"
            ],
            "text/plain": [
              "                 customer_unique_id  recency  frequency  monetary\n",
              "0  0000366f3b9a7992bf8c76cfdf3221e2      116          1    129.90\n",
              "1  0000b849f77a49e4a4ce2b2a4ca5be3f      119          1     18.90\n",
              "2  0000f46a3911fa3c0805444483337064      542          1     69.00\n",
              "3  0000f6ccb0745a6a4b88665a16c9f078      326          1     25.99\n",
              "4  0004aac84e0df4da2b147fca70cf8255      293          1    180.00"
            ]
          },
          "metadata": {
            "tags": []
          },
          "execution_count": 25
        }
      ]
    },
    {
      "cell_type": "markdown",
      "metadata": {
        "id": "u8ZWfenUAuVa",
        "colab_type": "text"
      },
      "source": [
        "### 3.3) Definindo a quantidade ideal de grupos"
      ]
    },
    {
      "cell_type": "markdown",
      "metadata": {
        "id": "xN9N7VHaBVLM",
        "colab_type": "text"
      },
      "source": [
        "Para atingirmos nosso objetivo, precisamos organizar os clientes com características semelhantes em grupos e classificá-los através de um label específico referente a tais grupos e para isso, precisamos encontrar o número ideal de agrupamentos de acordo com nossos dados. Portanto, para tal informação urilizaremos uma técnica denominada *Elbow Method*. \n",
        "\n",
        "Aplicaremos então o *Elbow Method* em dois casos possíveis: \n",
        " - Nos dados originais do dataframe df_temp.\n",
        " - Com os respectivos dados devidamente escalonados.\n",
        " \n",
        "Este teste visa compreender o comportamento dos dados em ambas as abordagem para definir se há significância entre uma ou outra."
      ]
    },
    {
      "cell_type": "markdown",
      "metadata": {
        "id": "aE28RPSd1Tb9",
        "colab_type": "text"
      },
      "source": [
        "#### 3.3.1) Valores originais"
      ]
    },
    {
      "cell_type": "code",
      "metadata": {
        "id": "sYwA3yFfDwBY",
        "colab_type": "code",
        "colab": {}
      },
      "source": [
        "# Utilizando o K-Means para definir o número de agrupamentos\n",
        "def define_clusters(df, column):\n",
        "  wcss = []\n",
        "  X = df.iloc[:, [column]].values\n",
        "  for i in range(1, 11):\n",
        "    kmeans = KMeans(n_clusters=i, random_state=0)\n",
        "    kmeans.fit(X)\n",
        "    wcss.append(kmeans.inertia_)\n",
        "  return wcss"
      ],
      "execution_count": 54,
      "outputs": []
    },
    {
      "cell_type": "code",
      "metadata": {
        "id": "FOkQvsOAD0zK",
        "colab_type": "code",
        "colab": {}
      },
      "source": [
        "wcss_r = define_clusters(df_temp, 1)\n",
        "wcss_f = define_clusters(df_temp, 2)\n",
        "wcss_m = define_clusters(df_temp, 3)"
      ],
      "execution_count": 55,
      "outputs": []
    },
    {
      "cell_type": "code",
      "metadata": {
        "id": "y8mhmsdCFPaw",
        "colab_type": "code",
        "colab": {
          "base_uri": "https://localhost:8080/",
          "height": 295
        },
        "outputId": "a745306e-5f14-4ad2-e09e-40a6d53a8018"
      },
      "source": [
        "# Plotando os gráficos para cada dataframe\n",
        "plt.figure(figsize=(15,4))\n",
        "\n",
        "# Distribuição da recência\n",
        "plt.subplot(1,3,1)\n",
        "plt.plot(range(1, 11), wcss_r, marker='s')\n",
        "plt.title('Grupos - Recência')\n",
        "plt.xlabel('Number of Clusters')\n",
        "plt.ylabel('WCSS_R')\n",
        "\n",
        "# Distribuição da frequência\n",
        "plt.subplot(1,3,2)\n",
        "plt.plot(range(1, 11), wcss_f, marker='s')\n",
        "plt.title('Grupos - Frequência')\n",
        "plt.xlabel('Number of Clusters')\n",
        "plt.ylabel('WCSS_F')\n",
        "\n",
        "# Distribuição da monetaridade\n",
        "plt.subplot(1,3,3)\n",
        "plt.plot(range(1, 11), wcss_m, marker='s')\n",
        "plt.title('Grupos - Monetaridade')\n",
        "plt.xlabel('Number of Clusters')\n",
        "plt.ylabel('WCSS_M')\n",
        "\n",
        "plt.show()"
      ],
      "execution_count": 56,
      "outputs": [
        {
          "output_type": "display_data",
          "data": {
            "image/png": "[encoded data removed]",
            "text/plain": [
              "<Figure size 1080x288 with 3 Axes>"
            ]
          },
          "metadata": {
            "tags": [],
            "needs_background": "light"
          }
        }
      ]
    },
    {
      "cell_type": "markdown",
      "metadata": {
        "id": "btkW21lM2mQt",
        "colab_type": "text"
      },
      "source": [
        "#### 3.3.2) Valores escalonados"
      ]
    },
    {
      "cell_type": "markdown",
      "metadata": {
        "id": "0PPmIba12tYp",
        "colab_type": "text"
      },
      "source": [
        "Iremos agora repetir o processo feito em (3.3.1) com os respectivos valores escalonados."
      ]
    },
    {
      "cell_type": "code",
      "metadata": {
        "id": "5C-blX9524dy",
        "colab_type": "code",
        "colab": {}
      },
      "source": [
        "# Criando o scaler\n",
        "scaler = StandardScaler()"
      ],
      "execution_count": 33,
      "outputs": []
    },
    {
      "cell_type": "code",
      "metadata": {
        "id": "XUUGON5WIkU2",
        "colab_type": "code",
        "colab": {}
      },
      "source": [
        "# Separando as variáveis de df_temp para serem escalonadas\n",
        "\n",
        "# Variável recency\n",
        "X_R = df_temp.iloc[:, [1]].values\n",
        "\n",
        "# Variável frequency\n",
        "X_F = df_temp.iloc[:, [2]].values\n",
        "\n",
        "# Variável monetary\n",
        "X_M = df_temp.iloc[:, [3]].values"
      ],
      "execution_count": 74,
      "outputs": []
    },
    {
      "cell_type": "code",
      "metadata": {
        "id": "4aVKvGLx4D9D",
        "colab_type": "code",
        "colab": {}
      },
      "source": [
        "# Escalonando as variáveis X_R, X_F, X_M\n",
        "X_RE = scaler.fit_transform(X_R)\n",
        "X_FE = scaler.fit_transform(X_F)\n",
        "X_ME = scaler.fit_transform(X_M)"
      ],
      "execution_count": 40,
      "outputs": []
    },
    {
      "cell_type": "code",
      "metadata": {
        "id": "fEJPROJN_Wne",
        "colab_type": "code",
        "colab": {}
      },
      "source": [
        "# Utilizando o K-Means para definir o número de agrupamentos\n",
        "def define_clusters_scaled(var):\n",
        "  wcss = []\n",
        "  for i in range(1, 11):\n",
        "    kmeans = KMeans(n_clusters=i, random_state=0)\n",
        "    kmeans.fit(var)\n",
        "    wcss.append(kmeans.inertia_)\n",
        "  return wcss"
      ],
      "execution_count": 75,
      "outputs": []
    },
    {
      "cell_type": "code",
      "metadata": {
        "id": "zc0rCQlH3o0R",
        "colab_type": "code",
        "colab": {}
      },
      "source": [
        "wcss_re = define_clusters_scaled(X_RE)\n",
        "wcss_fe = define_clusters_scaled(X_FE)\n",
        "wcss_me = define_clusters_scaled(X_ME)"
      ],
      "execution_count": 62,
      "outputs": []
    },
    {
      "cell_type": "code",
      "metadata": {
        "id": "MpGo-nid36Wi",
        "colab_type": "code",
        "colab": {
          "base_uri": "https://localhost:8080/",
          "height": 295
        },
        "outputId": "97d7cba5-067f-450a-d4ba-955770ed339b"
      },
      "source": [
        "# Plotando os gráficos para as variáveis escalonadas\n",
        "plt.figure(figsize=(15,4))\n",
        "\n",
        "# Distribuição da recência\n",
        "plt.subplot(1,3,1)\n",
        "plt.plot(range(1, 11), wcss_re, marker='s')\n",
        "plt.title('Grupos - Recência')\n",
        "plt.xlabel('Number of Clusters')\n",
        "plt.ylabel('WCSS_R')\n",
        "\n",
        "# Distribuição da frequência\n",
        "plt.subplot(1,3,2)\n",
        "plt.plot(range(1, 11), wcss_fe, marker='s')\n",
        "plt.title('Grupos - Frequência')\n",
        "plt.xlabel('Number of Clusters')\n",
        "plt.ylabel('WCSS_F')\n",
        "\n",
        "# Distribuição da monetaridade\n",
        "plt.subplot(1,3,3)\n",
        "plt.plot(range(1, 11), wcss_me, marker='s')\n",
        "plt.title('Grupos - Monetaridade')\n",
        "plt.xlabel('Number of Clusters')\n",
        "plt.ylabel('WCSS_M')\n",
        "\n",
        "plt.show()"
      ],
      "execution_count": 65,
      "outputs": [
        {
          "output_type": "display_data",
          "data": {
            "image/png": "[encoded data removed]",
            "text/plain": [
              "<Figure size 1080x288 with 3 Axes>"
            ]
          },
          "metadata": {
            "tags": [],
            "needs_background": "light"
          }
        }
      ]
    },
    {
      "cell_type": "markdown",
      "metadata": {
        "id": "pnWOIxevTWfw",
        "colab_type": "text"
      },
      "source": [
        "Note que pelos gráficos obtidos na partes (3.3.1) e (3.3.2) obtivemos resultados similares, e portanto para este caso o escalonamento das variáveis é opcional, sendo então possível utilizar ambas as abordagens. Por isso, consideraremos cinco clusters como a quantidade ideal. "
      ]
    },
    {
      "cell_type": "markdown",
      "metadata": {
        "id": "lm5D7CJ_FP8D",
        "colab_type": "text"
      },
      "source": [
        "### 3.4) Fazendo o treinamento via K-Means"
      ]
    },
    {
      "cell_type": "markdown",
      "metadata": {
        "id": "sMH0IfhrFXFu",
        "colab_type": "text"
      },
      "source": [
        "Definido então a quantidade de 5 clusteres como o ideal, podemos fazer o treinamento dos dados da maneira como segue. Além disso, de acordo com o resultado obtido criaremos labels referentes a cada grupo."
      ]
    },
    {
      "cell_type": "code",
      "metadata": {
        "id": "vqmsb7foVNqg",
        "colab_type": "code",
        "colab": {}
      },
      "source": [
        "# Considerando portanto 5 clusters\n",
        "def cluster_clients(df, column):\n",
        "  X = df.iloc[:, [column]].values\n",
        "  kmeans = KMeans(n_clusters=5, random_state=0)\n",
        "  previsoes = kmeans.fit_predict(X)\n",
        "  return previsoes"
      ],
      "execution_count": 68,
      "outputs": []
    },
    {
      "cell_type": "code",
      "metadata": {
        "id": "ahe3uSCuVxQ1",
        "colab_type": "code",
        "colab": {}
      },
      "source": [
        "# Criando os labels para cada dataframe\n",
        "label_r = cluster_clients(df_temp, 1)\n",
        "label_f = cluster_clients(df_temp, 2)\n",
        "label_m = cluster_clients(df_temp, 3)"
      ],
      "execution_count": 69,
      "outputs": []
    },
    {
      "cell_type": "code",
      "metadata": {
        "id": "nOQSSGEgV0sw",
        "colab_type": "code",
        "colab": {}
      },
      "source": [
        "# Criação de uma coluna com os labels\n",
        "df_temp['R'] = label_r\n",
        "df_temp['F'] = label_f\n",
        "df_temp['M'] = label_m"
      ],
      "execution_count": 70,
      "outputs": []
    },
    {
      "cell_type": "code",
      "metadata": {
        "id": "-gipuVoQGuSa",
        "colab_type": "code",
        "colab": {}
      },
      "source": [
        "# Alterando a ordem das colunas de forma apropriada\n",
        "columnsTitles = ['customer_unique_id', \n",
        "                 'recency', 'R', \n",
        "                 'frequency', 'F', \n",
        "                 'monetary', 'M']\n",
        "\n",
        "df_temp = df_temp.reindex(columns=columnsTitles)"
      ],
      "execution_count": 72,
      "outputs": []
    },
    {
      "cell_type": "code",
      "metadata": {
        "id": "bRlvGm-JWLS0",
        "colab_type": "code",
        "colab": {
          "base_uri": "https://localhost:8080/",
          "height": 204
        },
        "outputId": "e30b5d11-d32f-4dd6-d6d3-9586c8a3fe0f"
      },
      "source": [
        "df_temp.head()"
      ],
      "execution_count": 76,
      "outputs": [
        {
          "output_type": "execute_result",
          "data": {
            "text/html": [
              "<div>\n",
              "<style scoped>\n",
              "    .dataframe tbody tr th:only-of-type {\n",
              "        vertical-align: middle;\n",
              "    }\n",
              "\n",
              "    .dataframe tbody tr th {\n",
              "        vertical-align: top;\n",
              "    }\n",
              "\n",
              "    .dataframe thead th {\n",
              "        text-align: right;\n",
              "    }\n",
              "</style>\n",
              "<table border=\"1\" class=\"dataframe\">\n",
              "  <thead>\n",
              "    <tr style=\"text-align: right;\">\n",
              "      <th></th>\n",
              "      <th>customer_unique_id</th>\n",
              "      <th>recency</th>\n",
              "      <th>R</th>\n",
              "      <th>frequency</th>\n",
              "      <th>F</th>\n",
              "      <th>monetary</th>\n",
              "      <th>M</th>\n",
              "    </tr>\n",
              "  </thead>\n",
              "  <tbody>\n",
              "    <tr>\n",
              "      <th>0</th>\n",
              "      <td>0000366f3b9a7992bf8c76cfdf3221e2</td>\n",
              "      <td>116</td>\n",
              "      <td>0</td>\n",
              "      <td>1</td>\n",
              "      <td>0</td>\n",
              "      <td>129.90</td>\n",
              "      <td>0</td>\n",
              "    </tr>\n",
              "    <tr>\n",
              "      <th>1</th>\n",
              "      <td>0000b849f77a49e4a4ce2b2a4ca5be3f</td>\n",
              "      <td>119</td>\n",
              "      <td>0</td>\n",
              "      <td>1</td>\n",
              "      <td>0</td>\n",
              "      <td>18.90</td>\n",
              "      <td>0</td>\n",
              "    </tr>\n",
              "    <tr>\n",
              "      <th>2</th>\n",
              "      <td>0000f46a3911fa3c0805444483337064</td>\n",
              "      <td>542</td>\n",
              "      <td>1</td>\n",
              "      <td>1</td>\n",
              "      <td>0</td>\n",
              "      <td>69.00</td>\n",
              "      <td>0</td>\n",
              "    </tr>\n",
              "    <tr>\n",
              "      <th>3</th>\n",
              "      <td>0000f6ccb0745a6a4b88665a16c9f078</td>\n",
              "      <td>326</td>\n",
              "      <td>2</td>\n",
              "      <td>1</td>\n",
              "      <td>0</td>\n",
              "      <td>25.99</td>\n",
              "      <td>0</td>\n",
              "    </tr>\n",
              "    <tr>\n",
              "      <th>4</th>\n",
              "      <td>0004aac84e0df4da2b147fca70cf8255</td>\n",
              "      <td>293</td>\n",
              "      <td>2</td>\n",
              "      <td>1</td>\n",
              "      <td>0</td>\n",
              "      <td>180.00</td>\n",
              "      <td>4</td>\n",
              "    </tr>\n",
              "  </tbody>\n",
              "</table>\n",
              "</div>"
            ],
            "text/plain": [
              "                 customer_unique_id  recency  R  frequency  F  monetary  M\n",
              "0  0000366f3b9a7992bf8c76cfdf3221e2      116  0          1  0    129.90  0\n",
              "1  0000b849f77a49e4a4ce2b2a4ca5be3f      119  0          1  0     18.90  0\n",
              "2  0000f46a3911fa3c0805444483337064      542  1          1  0     69.00  0\n",
              "3  0000f6ccb0745a6a4b88665a16c9f078      326  2          1  0     25.99  0\n",
              "4  0004aac84e0df4da2b147fca70cf8255      293  2          1  0    180.00  4"
            ]
          },
          "metadata": {
            "tags": []
          },
          "execution_count": 76
        }
      ]
    },
    {
      "cell_type": "markdown",
      "metadata": {
        "id": "g1eI4ByD664m",
        "colab_type": "text"
      },
      "source": [
        "### 3.5) Rearranjando os índices dos labels"
      ]
    },
    {
      "cell_type": "markdown",
      "metadata": {
        "id": "_srKVjwqep8I",
        "colab_type": "text"
      },
      "source": [
        "Um importante ajuste que necessita-se fazer agora é redefinir os labels R, F, M para que eles possam associar a cada grupo um grau de importância, atribuindo-se assim um \"peso\" para cada cluster. Neste ponto, podemos utilizar a seguinte referência:\n",
        "\n",
        "- Recência: quanto maior, pior. Ordem de importância: 4, 3, 2, 1, 0.\n",
        "- Frequência: quanto maior, melhor. Ordem de importância: 0, 1, 2, 3, 4.\n",
        "- Monetaridade: quanto maior, melhor. Ordem de importância: 0, 1, 2, 3, 4."
      ]
    },
    {
      "cell_type": "code",
      "metadata": {
        "id": "D6pyQjCpKAzx",
        "colab_type": "code",
        "colab": {
          "base_uri": "https://localhost:8080/",
          "height": 119
        },
        "outputId": "c64892bb-31cc-4f75-a467-a1389a05fe18"
      },
      "source": [
        "df_temp.groupby('R').mean().sort_values(by='recency', ascending=False).reset_index()['R']"
      ],
      "execution_count": 82,
      "outputs": [
        {
          "output_type": "execute_result",
          "data": {
            "text/plain": [
              "0    1\n",
              "1    4\n",
              "2    2\n",
              "3    0\n",
              "4    3\n",
              "Name: R, dtype: int64"
            ]
          },
          "metadata": {
            "tags": []
          },
          "execution_count": 82
        }
      ]
    },
    {
      "cell_type": "code",
      "metadata": {
        "id": "wLYeqvSbLK3M",
        "colab_type": "code",
        "colab": {
          "base_uri": "https://localhost:8080/",
          "height": 119
        },
        "outputId": "df261827-cf9c-4658-f23d-b855a116b0f7"
      },
      "source": [
        "df_temp.groupby('F').mean().sort_values(by='recency', ascending=True).reset_index()['F']"
      ],
      "execution_count": 85,
      "outputs": [
        {
          "output_type": "execute_result",
          "data": {
            "text/plain": [
              "0    4\n",
              "1    3\n",
              "2    1\n",
              "3    2\n",
              "4    0\n",
              "Name: F, dtype: int64"
            ]
          },
          "metadata": {
            "tags": []
          },
          "execution_count": 85
        }
      ]
    },
    {
      "cell_type": "code",
      "metadata": {
        "id": "HipeN6JBLqzW",
        "colab_type": "code",
        "colab": {
          "base_uri": "https://localhost:8080/",
          "height": 119
        },
        "outputId": "ea575c30-fb98-44bd-ca3d-f4139f5b5f8a"
      },
      "source": [
        "df_temp.groupby('M').mean().sort_values(by='monetary', ascending=True).reset_index()['M']"
      ],
      "execution_count": 86,
      "outputs": [
        {
          "output_type": "execute_result",
          "data": {
            "text/plain": [
              "0    0\n",
              "1    4\n",
              "2    1\n",
              "3    3\n",
              "4    2\n",
              "Name: M, dtype: int64"
            ]
          },
          "metadata": {
            "tags": []
          },
          "execution_count": 86
        }
      ]
    },
    {
      "cell_type": "markdown",
      "metadata": {
        "id": "sGMWgGAVLHTU",
        "colab_type": "text"
      },
      "source": [
        "Assim, os labels precisam ser alterados da forma:\n",
        "\n",
        "- R: 0 -> 3; 1 -> 0; 2 -> 2; 3 -> 4; 4 -> 1.\n",
        "- F: 0 -> 4; 1 -> 2; 2 -> 3; 3 -> 1; 4 -> 0.\n",
        "- M: 0 -> 0; 1 -> 2; 2 -> 4; 3 -> 3; 4 -> 1.\n",
        "\n",
        "Podemos realizar este ajusta mediante uma função."
      ]
    },
    {
      "cell_type": "code",
      "metadata": {
        "id": "2gthU2--YD2H",
        "colab_type": "code",
        "colab": {}
      },
      "source": [
        "def adjust_index(df, column, label, ascend):\n",
        "  x = df.groupby(label).mean().sort_values(by=column, ascending=ascend).reset_index()\n",
        "  index = tuple(zip(x.index, x[label].values))\n",
        "  for c in index:\n",
        "    df.loc[df[label] == c[1], f'adjusted_{label}'] = c[0] \n",
        "  df[f'adjusted_{label}'] = df[f'adjusted_{label}'].apply(lambda x: int(x))\n",
        "  return df"
      ],
      "execution_count": 87,
      "outputs": []
    },
    {
      "cell_type": "code",
      "metadata": {
        "id": "c_0Ck7YcdxVL",
        "colab_type": "code",
        "colab": {}
      },
      "source": [
        "df_temp = adjust_index(df_temp, 'recency', 'R', False)\n",
        "df_temp = adjust_index(df_temp, 'frequency', 'F', True)\n",
        "df_temp = adjust_index(df_temp, 'monetary', 'M', True)"
      ],
      "execution_count": 88,
      "outputs": []
    },
    {
      "cell_type": "code",
      "metadata": {
        "id": "U41hXKuRMrXg",
        "colab_type": "code",
        "colab": {}
      },
      "source": [
        "# Alterando a ordem das colunas de forma apropriada\n",
        "columnsTitles = ['customer_unique_id', \n",
        "                 'recency', 'R', 'adjusted_R' ,\n",
        "                 'frequency', 'F', 'adjusted_F',\n",
        "                 'monetary', 'M', 'adjusted_M']\n",
        "\n",
        "df_temp = df_temp.reindex(columns=columnsTitles)"
      ],
      "execution_count": 90,
      "outputs": []
    },
    {
      "cell_type": "markdown",
      "metadata": {
        "id": "oiqZE-tG7aeu",
        "colab_type": "text"
      },
      "source": [
        "### 3.6) Criando o dataframe final"
      ]
    },
    {
      "cell_type": "markdown",
      "metadata": {
        "id": "XsfXwrVO7hCV",
        "colab_type": "text"
      },
      "source": [
        "Finalmente, podemos agora criar o dataframe final com os dados obtidos nos passos anteriores."
      ]
    },
    {
      "cell_type": "code",
      "metadata": {
        "id": "YHIfIGj0PKlb",
        "colab_type": "code",
        "colab": {}
      },
      "source": [
        "# Excluindo as colunas R, F, M e renomeando as colunas adjusted_R, adjusted_F, adjusted_M\n",
        "df_final = df_temp.drop(columns=['R', 'F', 'M'])"
      ],
      "execution_count": 92,
      "outputs": []
    },
    {
      "cell_type": "code",
      "metadata": {
        "id": "D7v91MnbPu39",
        "colab_type": "code",
        "colab": {}
      },
      "source": [
        "df_final.rename(columns={'adjusted_R': 'R',\n",
        "                         'adjusted_F': 'F',\n",
        "                         'adjusted_M': 'M'}, inplace=True)"
      ],
      "execution_count": 97,
      "outputs": []
    },
    {
      "cell_type": "code",
      "metadata": {
        "id": "y3UQ0BfIVr-L",
        "colab_type": "code",
        "colab": {
          "base_uri": "https://localhost:8080/",
          "height": 204
        },
        "outputId": "bf9065c0-b7a1-4616-fb8a-c72225dbb657"
      },
      "source": [
        "# Criando uma coluna com a pontuação final de cada cliente\n",
        "df_final['score'] = df_final['R'] + df_final['F'] + df_final['M']\n",
        "df_final.head()"
      ],
      "execution_count": 98,
      "outputs": [
        {
          "output_type": "execute_result",
          "data": {
            "text/html": [
              "<div>\n",
              "<style scoped>\n",
              "    .dataframe tbody tr th:only-of-type {\n",
              "        vertical-align: middle;\n",
              "    }\n",
              "\n",
              "    .dataframe tbody tr th {\n",
              "        vertical-align: top;\n",
              "    }\n",
              "\n",
              "    .dataframe thead th {\n",
              "        text-align: right;\n",
              "    }\n",
              "</style>\n",
              "<table border=\"1\" class=\"dataframe\">\n",
              "  <thead>\n",
              "    <tr style=\"text-align: right;\">\n",
              "      <th></th>\n",
              "      <th>customer_unique_id</th>\n",
              "      <th>recency</th>\n",
              "      <th>R</th>\n",
              "      <th>frequency</th>\n",
              "      <th>F</th>\n",
              "      <th>monetary</th>\n",
              "      <th>M</th>\n",
              "      <th>score</th>\n",
              "    </tr>\n",
              "  </thead>\n",
              "  <tbody>\n",
              "    <tr>\n",
              "      <th>0</th>\n",
              "      <td>0000366f3b9a7992bf8c76cfdf3221e2</td>\n",
              "      <td>116</td>\n",
              "      <td>3</td>\n",
              "      <td>1</td>\n",
              "      <td>0</td>\n",
              "      <td>129.90</td>\n",
              "      <td>0</td>\n",
              "      <td>3</td>\n",
              "    </tr>\n",
              "    <tr>\n",
              "      <th>1</th>\n",
              "      <td>0000b849f77a49e4a4ce2b2a4ca5be3f</td>\n",
              "      <td>119</td>\n",
              "      <td>3</td>\n",
              "      <td>1</td>\n",
              "      <td>0</td>\n",
              "      <td>18.90</td>\n",
              "      <td>0</td>\n",
              "      <td>3</td>\n",
              "    </tr>\n",
              "    <tr>\n",
              "      <th>2</th>\n",
              "      <td>0000f46a3911fa3c0805444483337064</td>\n",
              "      <td>542</td>\n",
              "      <td>0</td>\n",
              "      <td>1</td>\n",
              "      <td>0</td>\n",
              "      <td>69.00</td>\n",
              "      <td>0</td>\n",
              "      <td>0</td>\n",
              "    </tr>\n",
              "    <tr>\n",
              "      <th>3</th>\n",
              "      <td>0000f6ccb0745a6a4b88665a16c9f078</td>\n",
              "      <td>326</td>\n",
              "      <td>2</td>\n",
              "      <td>1</td>\n",
              "      <td>0</td>\n",
              "      <td>25.99</td>\n",
              "      <td>0</td>\n",
              "      <td>2</td>\n",
              "    </tr>\n",
              "    <tr>\n",
              "      <th>4</th>\n",
              "      <td>0004aac84e0df4da2b147fca70cf8255</td>\n",
              "      <td>293</td>\n",
              "      <td>2</td>\n",
              "      <td>1</td>\n",
              "      <td>0</td>\n",
              "      <td>180.00</td>\n",
              "      <td>1</td>\n",
              "      <td>3</td>\n",
              "    </tr>\n",
              "  </tbody>\n",
              "</table>\n",
              "</div>"
            ],
            "text/plain": [
              "                 customer_unique_id  recency  R  ...  monetary  M  score\n",
              "0  0000366f3b9a7992bf8c76cfdf3221e2      116  3  ...    129.90  0      3\n",
              "1  0000b849f77a49e4a4ce2b2a4ca5be3f      119  3  ...     18.90  0      3\n",
              "2  0000f46a3911fa3c0805444483337064      542  0  ...     69.00  0      0\n",
              "3  0000f6ccb0745a6a4b88665a16c9f078      326  2  ...     25.99  0      2\n",
              "4  0004aac84e0df4da2b147fca70cf8255      293  2  ...    180.00  1      3\n",
              "\n",
              "[5 rows x 8 columns]"
            ]
          },
          "metadata": {
            "tags": []
          },
          "execution_count": 98
        }
      ]
    },
    {
      "cell_type": "markdown",
      "metadata": {
        "id": "25p5xfbHBR42",
        "colab_type": "text"
      },
      "source": [
        "## 4) Agrupando os clientes"
      ]
    },
    {
      "cell_type": "markdown",
      "metadata": {
        "id": "eMxoXlg7BeGo",
        "colab_type": "text"
      },
      "source": [
        "Agora podemos fazer um agrupamento dos clientes considerando as variáveis recência, frequência e monetaridade duas a duas, obtendo assim três gráficos relacionando os clientes a cada uma das variáveis."
      ]
    },
    {
      "cell_type": "code",
      "metadata": {
        "id": "0WimRQUKjtK0",
        "colab_type": "code",
        "colab": {
          "base_uri": "https://localhost:8080/",
          "height": 350
        },
        "outputId": "3c1235b9-ffb5-4321-de78-b50e59e6d12f"
      },
      "source": [
        "# Plotando os gráficos\n",
        "plt.figure(figsize=(20,5))\n",
        "\n",
        "# Recência x Frequência\n",
        "plt.subplot(1,3,1)\n",
        "sns.scatterplot(data=df_final, \n",
        "                x='frequency', \n",
        "                y='recency', \n",
        "                hue='score', \n",
        "                size='score',)\n",
        "plt.title('Recência x Frequência')\n",
        "plt.xlabel('Frequência')\n",
        "plt.ylabel('Recência')\n",
        "\n",
        "# Monetaridade x Recência\n",
        "plt.subplot(1,3,2)\n",
        "sns.scatterplot(data=df_final, \n",
        "                x='recency', \n",
        "                y='monetary', \n",
        "                hue='score')\n",
        "\n",
        "plt.title('Monetaridade x Recência')\n",
        "plt.xlabel('Recência')\n",
        "plt.ylabel('Monetaridade')\n",
        "\n",
        "# Monetaridade x Frequência\n",
        "plt.subplot(1,3,3)\n",
        "sns.scatterplot(data=df_final, x='frequency', y='monetary', hue='score')\n",
        "plt.title('Monetaridade x Frequência')\n",
        "plt.xlabel('Frequência')\n",
        "plt.ylabel('Monetaridade')\n",
        "\n",
        "plt.show()"
      ],
      "execution_count": 134,
      "outputs": [
        {
          "output_type": "display_data",
          "data": {
            "image/png": "[encoded data removed]",
            "text/plain": [
              "<Figure size 1440x360 with 3 Axes>"
            ]
          },
          "metadata": {
            "tags": [],
            "needs_background": "light"
          }
        }
      ]
    },
    {
      "cell_type": "markdown",
      "metadata": {
        "id": "mJ_YxsBXCsT7",
        "colab_type": "text"
      },
      "source": [
        "### 4.3) Criação do modelo de Agrupamento"
      ]
    },
    {
      "cell_type": "markdown",
      "metadata": {
        "id": "-hEMfUweC_33",
        "colab_type": "text"
      },
      "source": [
        "Passaremos agora para a criação do modelo usando o K-Means."
      ]
    },
    {
      "cell_type": "code",
      "metadata": {
        "id": "Y3OCF9B5CzyH",
        "colab_type": "code",
        "colab": {}
      },
      "source": [
        "# Modelo para Recência x Frequência\n",
        "kmeans_rf = KMeans(n_clusters=5, random_state=0)\n",
        "previsoes_rf = kmeans_rf.fit_predict(X_RF)\n",
        "\n",
        "# Modelo para Recência x Monetaridade\n",
        "kmeans_rm = KMeans(n_clusters=5, random_state=0)\n",
        "previsoes_rm = kmeans_rm.fit_predict(X_RM)\n",
        "\n",
        "# Modelo para Frequência x Monetaridade\n",
        "kmeans_fm = KMeans(n_clusters=5, random_state=0)\n",
        "previsoes_fm = kmeans_fm.fit_predict(X_FM)"
      ],
      "execution_count": null,
      "outputs": []
    },
    {
      "cell_type": "markdown",
      "metadata": {
        "id": "cEA9B2XKHflc",
        "colab_type": "text"
      },
      "source": [
        "### 4.4) Gráficos"
      ]
    },
    {
      "cell_type": "markdown",
      "metadata": {
        "id": "EzsAjji6HoXu",
        "colab_type": "text"
      },
      "source": [
        "### 4.4.1) Recência x Frequência"
      ]
    },
    {
      "cell_type": "code",
      "metadata": {
        "id": "oLmMHyKIHnBN",
        "colab_type": "code",
        "colab": {
          "base_uri": "https://localhost:8080/"
        },
        "outputId": "642baf32-b053-4410-f584-e2773bca4034"
      },
      "source": [
        "fig = plt.figure(figsize=(10,5))\n",
        "plt.scatter(X_RF[previsoes_rf == 0, 0], X_RF[previsoes_rf == 0, 1], s=100, c='red', label='Cluster 1')\n",
        "plt.scatter(X_RF[previsoes_rf == 1, 0], X_RF[previsoes_rf == 1, 1], s=100, c='orange', label='Cluster 2')\n",
        "plt.scatter(X_RF[previsoes_rf == 2, 0], X_RF[previsoes_rf == 2, 1], s=100, c='green', label='Cluster 3')\n",
        "plt.scatter(X_RF[previsoes_rf == 3, 0], X_RF[previsoes_rf == 3, 1], s=100, c='blue', label='Cluster 4')\n",
        "plt.scatter(X_RF[previsoes_rf == 4, 0], X_RF[previsoes_rf == 4, 1], s=100, c='yellow', label='Cluster 6')\n",
        "plt.scatter(kmeans_rf.cluster_centers_[:,0], kmeans_rf.cluster_centers_[:,1], s=50, marker='X', c='black', label='Centroids')\n",
        "plt.title('Recência x Frequência')\n",
        "plt.xlabel('Recência')\n",
        "plt.ylabel('Frequência')\n",
        "plt.legend()\n",
        "plt.show()"
      ],
      "execution_count": null,
      "outputs": [
        {
          "output_type": "display_data",
          "data": {
            "image/png": "[encoded data removed]",
            "text/plain": [
              "<Figure size 720x360 with 1 Axes>"
            ]
          },
          "metadata": {
            "tags": [],
            "needs_background": "light"
          }
        }
      ]
    },
    {
      "cell_type": "markdown",
      "metadata": {
        "id": "MWmSDrQmJcIG",
        "colab_type": "text"
      },
      "source": [
        "### 4.4.2) Recência x Monetaridade"
      ]
    },
    {
      "cell_type": "code",
      "metadata": {
        "id": "hnOZIhq9Hk65",
        "colab_type": "code",
        "colab": {
          "base_uri": "https://localhost:8080/"
        },
        "outputId": "d07787c9-5793-4dc6-e2b1-edf562cf7087"
      },
      "source": [
        "fig = plt.figure(figsize=(10,5))\n",
        "plt.scatter(X_RM[previsoes_rm == 0, 0], X_RM[previsoes_rm == 0, 1], s=100, c='red', label='Cluster 1')\n",
        "plt.scatter(X_RM[previsoes_rm == 1, 0], X_RM[previsoes_rm == 1, 1], s=100, c='orange', label='Cluster 2')\n",
        "plt.scatter(X_RM[previsoes_rm == 2, 0], X_RM[previsoes_rm == 2, 1], s=100, c='green', label='Cluster 3')\n",
        "plt.scatter(X_RM[previsoes_rm == 3, 0], X_RM[previsoes_rm == 3, 1], s=100, c='blue', label='Cluster 4')\n",
        "plt.scatter(X_RM[previsoes_rm == 4, 0], X_RM[previsoes_rm == 4, 1], s=100, c='yellow', label='Cluster 6')\n",
        "plt.scatter(kmeans_rm.cluster_centers_[:,0], kmeans_rm.cluster_centers_[:,1], s=50, marker='X', c='black', label='Centroids')\n",
        "plt.title('Recência x Monetaridade')\n",
        "plt.xlabel('Recência')\n",
        "plt.ylabel('Monetaridade')\n",
        "plt.legend()\n",
        "plt.show()"
      ],
      "execution_count": null,
      "outputs": [
        {
          "output_type": "display_data",
          "data": {
            "image/png": "[encoded data removed]",
            "text/plain": [
              "<Figure size 720x360 with 1 Axes>"
            ]
          },
          "metadata": {
            "tags": [],
            "needs_background": "light"
          }
        }
      ]
    },
    {
      "cell_type": "markdown",
      "metadata": {
        "id": "kutmsxXeKGxD",
        "colab_type": "text"
      },
      "source": [
        "### 4.4.3) Frequência x Monetaridade"
      ]
    },
    {
      "cell_type": "code",
      "metadata": {
        "id": "pH7qPda7KPxR",
        "colab_type": "code",
        "colab": {
          "base_uri": "https://localhost:8080/"
        },
        "outputId": "f10947d1-f829-4663-a375-e97d44493f57"
      },
      "source": [
        "fig = plt.figure(figsize=(10,5))\n",
        "plt.scatter(X_FM[previsoes_fm == 0, 0], X_FM[previsoes_fm == 0, 1], s=100, c='red', label='Cluster 1')\n",
        "plt.scatter(X_FM[previsoes_fm == 1, 0], X_FM[previsoes_fm == 1, 1], s=100, c='orange', label='Cluster 2')\n",
        "plt.scatter(X_FM[previsoes_fm == 2, 0], X_FM[previsoes_fm == 2, 1], s=100, c='green', label='Cluster 3')\n",
        "plt.scatter(X_FM[previsoes_fm == 3, 0], X_FM[previsoes_fm == 3, 1], s=100, c='blue', label='Cluster 4')\n",
        "plt.scatter(X_FM[previsoes_fm == 4, 0], X_FM[previsoes_fm == 4, 1], s=100, c='yellow', label='Cluster 6')\n",
        "plt.scatter(kmeans_fm.cluster_centers_[:,0], kmeans_fm.cluster_centers_[:,1], s=50, marker='X', c='black', label='Centroids')\n",
        "plt.title('Frequência x Monetaridade')\n",
        "plt.xlabel('Frequência')\n",
        "plt.ylabel('Monetaridade')\n",
        "plt.legend()\n",
        "plt.show()"
      ],
      "execution_count": null,
      "outputs": [
        {
          "output_type": "display_data",
          "data": {
            "image/png": "[encoded data removed]",
            "text/plain": [
              "<Figure size 720x360 with 1 Axes>"
            ]
          },
          "metadata": {
            "tags": [],
            "needs_background": "light"
          }
        }
      ]
    },
    {
      "cell_type": "markdown",
      "metadata": {
        "id": "wOZnhgT7cBK0",
        "colab_type": "text"
      },
      "source": [
        "### 4.4.4) Agrupamento geral"
      ]
    },
    {
      "cell_type": "markdown",
      "metadata": {
        "id": "nNHJGTSadJdk",
        "colab_type": "text"
      },
      "source": [
        "#### 4.4.4.1) Adicionando uma coluna de score"
      ]
    },
    {
      "cell_type": "markdown",
      "metadata": {
        "id": "WvrdvM3edQCZ",
        "colab_type": "text"
      },
      "source": [
        "Podemos agora adicionar ao dataframe df_final uma coluna contabilizando o score final de cada cliente. Neste caso, apenas somaremos o conteúdo das colunas R, F, M para gerar sua pontuação final."
      ]
    },
    {
      "cell_type": "code",
      "metadata": {
        "id": "B_5YvM0IdH1P",
        "colab_type": "code",
        "colab": {}
      },
      "source": [
        "# Adicionando o score final\n",
        "df_final['score'] = df_final['R'] + df_final['F'] + df_final['M']"
      ],
      "execution_count": null,
      "outputs": []
    },
    {
      "cell_type": "code",
      "metadata": {
        "id": "k7y8MmejcH9Z",
        "colab_type": "code",
        "colab": {
          "base_uri": "https://localhost:8080/"
        },
        "outputId": "4a690aca-a4cd-48d2-d833-54f336eaea8e"
      },
      "source": [
        "df_final.head()"
      ],
      "execution_count": null,
      "outputs": [
        {
          "output_type": "execute_result",
          "data": {
            "text/html": [
              "<div>\n",
              "<style scoped>\n",
              "    .dataframe tbody tr th:only-of-type {\n",
              "        vertical-align: middle;\n",
              "    }\n",
              "\n",
              "    .dataframe tbody tr th {\n",
              "        vertical-align: top;\n",
              "    }\n",
              "\n",
              "    .dataframe thead th {\n",
              "        text-align: right;\n",
              "    }\n",
              "</style>\n",
              "<table border=\"1\" class=\"dataframe\">\n",
              "  <thead>\n",
              "    <tr style=\"text-align: right;\">\n",
              "      <th></th>\n",
              "      <th>customer_unique_id</th>\n",
              "      <th>recency</th>\n",
              "      <th>R</th>\n",
              "      <th>frequency</th>\n",
              "      <th>F</th>\n",
              "      <th>monetary</th>\n",
              "      <th>M</th>\n",
              "      <th>score</th>\n",
              "    </tr>\n",
              "  </thead>\n",
              "  <tbody>\n",
              "    <tr>\n",
              "      <th>0</th>\n",
              "      <td>0000366f3b9a7992bf8c76cfdf3221e2</td>\n",
              "      <td>116</td>\n",
              "      <td>3</td>\n",
              "      <td>1</td>\n",
              "      <td>0</td>\n",
              "      <td>129.90</td>\n",
              "      <td>0</td>\n",
              "      <td>3</td>\n",
              "    </tr>\n",
              "    <tr>\n",
              "      <th>1</th>\n",
              "      <td>0000b849f77a49e4a4ce2b2a4ca5be3f</td>\n",
              "      <td>119</td>\n",
              "      <td>3</td>\n",
              "      <td>1</td>\n",
              "      <td>0</td>\n",
              "      <td>18.90</td>\n",
              "      <td>0</td>\n",
              "      <td>3</td>\n",
              "    </tr>\n",
              "    <tr>\n",
              "      <th>2</th>\n",
              "      <td>0000f46a3911fa3c0805444483337064</td>\n",
              "      <td>542</td>\n",
              "      <td>0</td>\n",
              "      <td>1</td>\n",
              "      <td>0</td>\n",
              "      <td>69.00</td>\n",
              "      <td>0</td>\n",
              "      <td>0</td>\n",
              "    </tr>\n",
              "    <tr>\n",
              "      <th>3</th>\n",
              "      <td>0000f6ccb0745a6a4b88665a16c9f078</td>\n",
              "      <td>326</td>\n",
              "      <td>1</td>\n",
              "      <td>1</td>\n",
              "      <td>0</td>\n",
              "      <td>25.99</td>\n",
              "      <td>0</td>\n",
              "      <td>1</td>\n",
              "    </tr>\n",
              "    <tr>\n",
              "      <th>4</th>\n",
              "      <td>0004aac84e0df4da2b147fca70cf8255</td>\n",
              "      <td>293</td>\n",
              "      <td>1</td>\n",
              "      <td>1</td>\n",
              "      <td>0</td>\n",
              "      <td>180.00</td>\n",
              "      <td>0</td>\n",
              "      <td>1</td>\n",
              "    </tr>\n",
              "  </tbody>\n",
              "</table>\n",
              "</div>"
            ],
            "text/plain": [
              "                 customer_unique_id  recency  R  ...  monetary  M  score\n",
              "0  0000366f3b9a7992bf8c76cfdf3221e2      116  3  ...    129.90  0      3\n",
              "1  0000b849f77a49e4a4ce2b2a4ca5be3f      119  3  ...     18.90  0      3\n",
              "2  0000f46a3911fa3c0805444483337064      542  0  ...     69.00  0      0\n",
              "3  0000f6ccb0745a6a4b88665a16c9f078      326  1  ...     25.99  0      1\n",
              "4  0004aac84e0df4da2b147fca70cf8255      293  1  ...    180.00  0      1\n",
              "\n",
              "[5 rows x 8 columns]"
            ]
          },
          "metadata": {
            "tags": []
          },
          "execution_count": 125
        }
      ]
    },
    {
      "cell_type": "code",
      "metadata": {
        "id": "ZJWY8OJddvAu",
        "colab_type": "code",
        "colab": {
          "base_uri": "https://localhost:8080/"
        },
        "outputId": "6c6e5042-2bfe-4ae0-afe8-de7da7100c29"
      },
      "source": [
        "df_final.tail()"
      ],
      "execution_count": null,
      "outputs": [
        {
          "output_type": "execute_result",
          "data": {
            "text/html": [
              "<div>\n",
              "<style scoped>\n",
              "    .dataframe tbody tr th:only-of-type {\n",
              "        vertical-align: middle;\n",
              "    }\n",
              "\n",
              "    .dataframe tbody tr th {\n",
              "        vertical-align: top;\n",
              "    }\n",
              "\n",
              "    .dataframe thead th {\n",
              "        text-align: right;\n",
              "    }\n",
              "</style>\n",
              "<table border=\"1\" class=\"dataframe\">\n",
              "  <thead>\n",
              "    <tr style=\"text-align: right;\">\n",
              "      <th></th>\n",
              "      <th>customer_unique_id</th>\n",
              "      <th>recency</th>\n",
              "      <th>R</th>\n",
              "      <th>frequency</th>\n",
              "      <th>F</th>\n",
              "      <th>monetary</th>\n",
              "      <th>M</th>\n",
              "      <th>score</th>\n",
              "    </tr>\n",
              "  </thead>\n",
              "  <tbody>\n",
              "    <tr>\n",
              "      <th>95415</th>\n",
              "      <td>fffcf5a5ff07b0908bd4e2dbc735a684</td>\n",
              "      <td>452</td>\n",
              "      <td>0</td>\n",
              "      <td>2</td>\n",
              "      <td>1</td>\n",
              "      <td>1570.00</td>\n",
              "      <td>3</td>\n",
              "      <td>4</td>\n",
              "    </tr>\n",
              "    <tr>\n",
              "      <th>95416</th>\n",
              "      <td>fffea47cd6d3cc0a88bd621562a9d061</td>\n",
              "      <td>267</td>\n",
              "      <td>1</td>\n",
              "      <td>1</td>\n",
              "      <td>0</td>\n",
              "      <td>64.89</td>\n",
              "      <td>0</td>\n",
              "      <td>1</td>\n",
              "    </tr>\n",
              "    <tr>\n",
              "      <th>95417</th>\n",
              "      <td>ffff371b4d645b6ecea244b27531430a</td>\n",
              "      <td>573</td>\n",
              "      <td>0</td>\n",
              "      <td>1</td>\n",
              "      <td>0</td>\n",
              "      <td>89.90</td>\n",
              "      <td>0</td>\n",
              "      <td>0</td>\n",
              "    </tr>\n",
              "    <tr>\n",
              "      <th>95418</th>\n",
              "      <td>ffff5962728ec6157033ef9805bacc48</td>\n",
              "      <td>124</td>\n",
              "      <td>3</td>\n",
              "      <td>1</td>\n",
              "      <td>0</td>\n",
              "      <td>115.00</td>\n",
              "      <td>0</td>\n",
              "      <td>3</td>\n",
              "    </tr>\n",
              "    <tr>\n",
              "      <th>95419</th>\n",
              "      <td>ffffd2657e2aad2907e67c3e9daecbeb</td>\n",
              "      <td>489</td>\n",
              "      <td>0</td>\n",
              "      <td>1</td>\n",
              "      <td>0</td>\n",
              "      <td>56.99</td>\n",
              "      <td>0</td>\n",
              "      <td>0</td>\n",
              "    </tr>\n",
              "  </tbody>\n",
              "</table>\n",
              "</div>"
            ],
            "text/plain": [
              "                     customer_unique_id  recency  R  ...  monetary  M  score\n",
              "95415  fffcf5a5ff07b0908bd4e2dbc735a684      452  0  ...   1570.00  3      4\n",
              "95416  fffea47cd6d3cc0a88bd621562a9d061      267  1  ...     64.89  0      1\n",
              "95417  ffff371b4d645b6ecea244b27531430a      573  0  ...     89.90  0      0\n",
              "95418  ffff5962728ec6157033ef9805bacc48      124  3  ...    115.00  0      3\n",
              "95419  ffffd2657e2aad2907e67c3e9daecbeb      489  0  ...     56.99  0      0\n",
              "\n",
              "[5 rows x 8 columns]"
            ]
          },
          "metadata": {
            "tags": []
          },
          "execution_count": 126
        }
      ]
    },
    {
      "cell_type": "code",
      "metadata": {
        "id": "U2IGpQjYdzdH",
        "colab_type": "code",
        "colab": {
          "base_uri": "https://localhost:8080/"
        },
        "outputId": "2247dbea-f609-4ce4-d9a4-23047fb09952"
      },
      "source": [
        "print(f'Score mínimo: {df_final[\"score\"].min()} \\nScore máximo: {df_final[\"score\"].max()}')"
      ],
      "execution_count": null,
      "outputs": [
        {
          "output_type": "stream",
          "text": [
            "Score mínimo: 0 \n",
            "Score máximo: 9\n"
          ],
          "name": "stdout"
        }
      ]
    },
    {
      "cell_type": "markdown",
      "metadata": {
        "id": "hTKq2sCngOmY",
        "colab_type": "text"
      },
      "source": [
        "### 4.4.4.2) Criação dos labels para classificação"
      ]
    },
    {
      "cell_type": "code",
      "metadata": {
        "id": "mcP-wHujeIKm",
        "colab_type": "code",
        "colab": {}
      },
      "source": [
        "def rfm_classification(df):\n",
        "  if df['score'] <= 1:\n",
        "    return 'Ruim'\n",
        "  elif df['score'] <= 3:\n",
        "    return 'Regular'\n",
        "  elif df['score'] <= 4:\n",
        "    return 'Bom'\n",
        "  elif df['score'] <= 5:\n",
        "    return 'Muito bom'\n",
        "  else:\n",
        "    return 'Ótimo'"
      ],
      "execution_count": null,
      "outputs": []
    },
    {
      "cell_type": "code",
      "metadata": {
        "id": "ns0zQAMKisml",
        "colab_type": "code",
        "colab": {}
      },
      "source": [
        "# Criação de uma nova coluna RMF_leve\n",
        "df_final['RFM_level'] = df_final.apply(rfm_classification, axis=1)"
      ],
      "execution_count": null,
      "outputs": []
    },
    {
      "cell_type": "code",
      "metadata": {
        "id": "0RWciaqnh4RL",
        "colab_type": "code",
        "colab": {
          "base_uri": "https://localhost:8080/",
          "height": 204
        },
        "outputId": "fe4361a2-2b7c-4a75-9727-3a75e367c68e"
      },
      "source": [
        "df_final.head()"
      ],
      "execution_count": null,
      "outputs": [
        {
          "output_type": "execute_result",
          "data": {
            "text/html": [
              "<div>\n",
              "<style scoped>\n",
              "    .dataframe tbody tr th:only-of-type {\n",
              "        vertical-align: middle;\n",
              "    }\n",
              "\n",
              "    .dataframe tbody tr th {\n",
              "        vertical-align: top;\n",
              "    }\n",
              "\n",
              "    .dataframe thead th {\n",
              "        text-align: right;\n",
              "    }\n",
              "</style>\n",
              "<table border=\"1\" class=\"dataframe\">\n",
              "  <thead>\n",
              "    <tr style=\"text-align: right;\">\n",
              "      <th></th>\n",
              "      <th>customer_unique_id</th>\n",
              "      <th>recency</th>\n",
              "      <th>R</th>\n",
              "      <th>frequency</th>\n",
              "      <th>F</th>\n",
              "      <th>monetary</th>\n",
              "      <th>M</th>\n",
              "      <th>score</th>\n",
              "      <th>RFM_level</th>\n",
              "    </tr>\n",
              "  </thead>\n",
              "  <tbody>\n",
              "    <tr>\n",
              "      <th>0</th>\n",
              "      <td>0000366f3b9a7992bf8c76cfdf3221e2</td>\n",
              "      <td>116</td>\n",
              "      <td>3</td>\n",
              "      <td>1</td>\n",
              "      <td>0</td>\n",
              "      <td>129.90</td>\n",
              "      <td>0</td>\n",
              "      <td>3</td>\n",
              "      <td>Regular</td>\n",
              "    </tr>\n",
              "    <tr>\n",
              "      <th>1</th>\n",
              "      <td>0000b849f77a49e4a4ce2b2a4ca5be3f</td>\n",
              "      <td>119</td>\n",
              "      <td>3</td>\n",
              "      <td>1</td>\n",
              "      <td>0</td>\n",
              "      <td>18.90</td>\n",
              "      <td>0</td>\n",
              "      <td>3</td>\n",
              "      <td>Regular</td>\n",
              "    </tr>\n",
              "    <tr>\n",
              "      <th>2</th>\n",
              "      <td>0000f46a3911fa3c0805444483337064</td>\n",
              "      <td>542</td>\n",
              "      <td>0</td>\n",
              "      <td>1</td>\n",
              "      <td>0</td>\n",
              "      <td>69.00</td>\n",
              "      <td>0</td>\n",
              "      <td>0</td>\n",
              "      <td>Ruim</td>\n",
              "    </tr>\n",
              "    <tr>\n",
              "      <th>3</th>\n",
              "      <td>0000f6ccb0745a6a4b88665a16c9f078</td>\n",
              "      <td>326</td>\n",
              "      <td>1</td>\n",
              "      <td>1</td>\n",
              "      <td>0</td>\n",
              "      <td>25.99</td>\n",
              "      <td>0</td>\n",
              "      <td>1</td>\n",
              "      <td>Ruim</td>\n",
              "    </tr>\n",
              "    <tr>\n",
              "      <th>4</th>\n",
              "      <td>0004aac84e0df4da2b147fca70cf8255</td>\n",
              "      <td>293</td>\n",
              "      <td>1</td>\n",
              "      <td>1</td>\n",
              "      <td>0</td>\n",
              "      <td>180.00</td>\n",
              "      <td>0</td>\n",
              "      <td>1</td>\n",
              "      <td>Ruim</td>\n",
              "    </tr>\n",
              "  </tbody>\n",
              "</table>\n",
              "</div>"
            ],
            "text/plain": [
              "                 customer_unique_id  recency  R  ...  M  score  RFM_level\n",
              "0  0000366f3b9a7992bf8c76cfdf3221e2      116  3  ...  0      3    Regular\n",
              "1  0000b849f77a49e4a4ce2b2a4ca5be3f      119  3  ...  0      3    Regular\n",
              "2  0000f46a3911fa3c0805444483337064      542  0  ...  0      0       Ruim\n",
              "3  0000f6ccb0745a6a4b88665a16c9f078      326  1  ...  0      1       Ruim\n",
              "4  0004aac84e0df4da2b147fca70cf8255      293  1  ...  0      1       Ruim\n",
              "\n",
              "[5 rows x 9 columns]"
            ]
          },
          "metadata": {
            "tags": []
          },
          "execution_count": 130
        }
      ]
    },
    {
      "cell_type": "code",
      "metadata": {
        "id": "p23RQNK1k8Yr",
        "colab_type": "code",
        "colab": {}
      },
      "source": [
        "# Cálculo dos valores médios para RMF_level\n",
        "rfm_level_agg = df_final.groupby('RFM_level').agg({\n",
        "    'recency': 'mean',\n",
        "    'frequency': 'mean',\n",
        "    'monetary': ['mean', 'count']\n",
        "})"
      ],
      "execution_count": null,
      "outputs": []
    },
    {
      "cell_type": "code",
      "metadata": {
        "id": "ZgRooHWsk8N2",
        "colab_type": "code",
        "colab": {
          "base_uri": "https://localhost:8080/",
          "height": 266
        },
        "outputId": "c8167a95-e565-4734-bb00-4473fdeba727"
      },
      "source": [
        "rfm_level_agg"
      ],
      "execution_count": null,
      "outputs": [
        {
          "output_type": "execute_result",
          "data": {
            "text/html": [
              "<div>\n",
              "<style scoped>\n",
              "    .dataframe tbody tr th:only-of-type {\n",
              "        vertical-align: middle;\n",
              "    }\n",
              "\n",
              "    .dataframe tbody tr th {\n",
              "        vertical-align: top;\n",
              "    }\n",
              "\n",
              "    .dataframe thead tr th {\n",
              "        text-align: left;\n",
              "    }\n",
              "\n",
              "    .dataframe thead tr:last-of-type th {\n",
              "        text-align: right;\n",
              "    }\n",
              "</style>\n",
              "<table border=\"1\" class=\"dataframe\">\n",
              "  <thead>\n",
              "    <tr>\n",
              "      <th></th>\n",
              "      <th>recency</th>\n",
              "      <th>frequency</th>\n",
              "      <th colspan=\"2\" halign=\"left\">monetary</th>\n",
              "    </tr>\n",
              "    <tr>\n",
              "      <th></th>\n",
              "      <th>mean</th>\n",
              "      <th>mean</th>\n",
              "      <th>mean</th>\n",
              "      <th>count</th>\n",
              "    </tr>\n",
              "    <tr>\n",
              "      <th>RFM_level</th>\n",
              "      <th></th>\n",
              "      <th></th>\n",
              "      <th></th>\n",
              "      <th></th>\n",
              "    </tr>\n",
              "  </thead>\n",
              "  <tbody>\n",
              "    <tr>\n",
              "      <th>Bom</th>\n",
              "      <td>110.545191</td>\n",
              "      <td>1.639199</td>\n",
              "      <td>311.095227</td>\n",
              "      <td>6893</td>\n",
              "    </tr>\n",
              "    <tr>\n",
              "      <th>Muito bom</th>\n",
              "      <td>99.812045</td>\n",
              "      <td>2.248179</td>\n",
              "      <td>565.148499</td>\n",
              "      <td>2059</td>\n",
              "    </tr>\n",
              "    <tr>\n",
              "      <th>Regular</th>\n",
              "      <td>168.347233</td>\n",
              "      <td>1.136714</td>\n",
              "      <td>128.292987</td>\n",
              "      <td>52233</td>\n",
              "    </tr>\n",
              "    <tr>\n",
              "      <th>Ruim</th>\n",
              "      <td>398.916714</td>\n",
              "      <td>1.038019</td>\n",
              "      <td>88.239042</td>\n",
              "      <td>33667</td>\n",
              "    </tr>\n",
              "    <tr>\n",
              "      <th>Ótimo</th>\n",
              "      <td>93.727113</td>\n",
              "      <td>4.227113</td>\n",
              "      <td>1077.028345</td>\n",
              "      <td>568</td>\n",
              "    </tr>\n",
              "  </tbody>\n",
              "</table>\n",
              "</div>"
            ],
            "text/plain": [
              "              recency frequency     monetary       \n",
              "                 mean      mean         mean  count\n",
              "RFM_level                                          \n",
              "Bom        110.545191  1.639199   311.095227   6893\n",
              "Muito bom   99.812045  2.248179   565.148499   2059\n",
              "Regular    168.347233  1.136714   128.292987  52233\n",
              "Ruim       398.916714  1.038019    88.239042  33667\n",
              "Ótimo       93.727113  4.227113  1077.028345    568"
            ]
          },
          "metadata": {
            "tags": []
          },
          "execution_count": 132
        }
      ]
    },
    {
      "cell_type": "code",
      "metadata": {
        "id": "Og5JiBf3ltkt",
        "colab_type": "code",
        "colab": {}
      },
      "source": [
        "rfm_level_agg.columns = rfm_level_agg.columns.droplevel()\n",
        "rfm_level_agg.columns = ['RecencyMean','FrequencyMean','MonetaryMean', 'Count']"
      ],
      "execution_count": null,
      "outputs": []
    },
    {
      "cell_type": "markdown",
      "metadata": {
        "id": "XzWu3TuOrIIQ",
        "colab_type": "text"
      },
      "source": [
        "#### 4.4.4.3) Plotando o diagrama"
      ]
    },
    {
      "cell_type": "code",
      "metadata": {
        "id": "ctbcFsdtq_xE",
        "colab_type": "code",
        "colab": {
          "base_uri": "https://localhost:8080/",
          "height": 377
        },
        "outputId": "869493bb-4ab6-4023-cb2c-7c7b9eb57bcd"
      },
      "source": [
        "# Plotando o respectivo diagrama\n",
        "fig = plt.gcf()\n",
        "ax = fig.add_subplot()\n",
        "fig.set_size_inches(13,6)\n",
        "squarify.plot(sizes=rfm_level_agg['Count'], \n",
        "              label=['Bom',\n",
        "                     'Muito bom',\n",
        "                     'Regular',\n",
        "                     'Ruim',                                          \n",
        "                     'Ótimo',\n",
        "                     ], alpha=.6 )\n",
        "plt.title(\"Segmentos - RFM\",fontsize=18,fontweight=\"bold\")\n",
        "plt.axis('off')\n",
        "plt.show()"
      ],
      "execution_count": null,
      "outputs": [
        {
          "output_type": "display_data",
          "data": {
            "image/png": "[encoded data removed]",
            "text/plain": [
              "<Figure size 936x432 with 1 Axes>"
            ]
          },
          "metadata": {
            "tags": [],
            "needs_background": "light"
          }
        }
      ]
    }
  ]
}