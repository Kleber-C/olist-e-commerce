{
  "nbformat": 4,
  "nbformat_minor": 0,
  "metadata": {
    "colab": {
      "name": "time_series_analysis.ipynb",
      "provenance": [],
      "authorship_tag": "ABX9TyO5YDn5ZauTo3uBdBDBXgyL",
      "include_colab_link": true
    },
    "kernelspec": {
      "name": "python3",
      "display_name": "Python 3"
    }
  },
  "cells": [
    {
      "cell_type": "markdown",
      "metadata": {
        "id": "view-in-github",
        "colab_type": "text"
      },
      "source": [
        "<a href=\"https://colab.research.google.com/github/Mario-RJunior/olist-e-commerce/blob/master/time_series_analysis.ipynb\" target=\"_parent\"><img src=\"https://colab.research.google.com/assets/colab-badge.svg\" alt=\"Open In Colab\"/></a>"
      ]
    },
    {
      "cell_type": "markdown",
      "metadata": {
        "id": "baEtPtswDHid",
        "colab_type": "text"
      },
      "source": [
        "## Análise Temporal"
      ]
    },
    {
      "cell_type": "markdown",
      "metadata": {
        "id": "uDUb-Nx_iAa-",
        "colab_type": "text"
      },
      "source": [
        "Nesta etapa do trabalho estaremos focados em estudar sobre a sazonalidade e as tendências das compras online e para isso faremos uma análise utilizando as séries temporais correspondentes. Assim, nosso primeiro passo é importar as bibliotecas a serem utilizadas e carregar os dados que precisaremos para tal análise."
      ]
    },
    {
      "cell_type": "markdown",
      "metadata": {
        "id": "AYDJ65WEHdYj",
        "colab_type": "text"
      },
      "source": [
        "### 1) Importando e carregando os dados"
      ]
    },
    {
      "cell_type": "code",
      "metadata": {
        "id": "mh6HyxqlsKxD",
        "colab_type": "code",
        "colab": {
          "base_uri": "https://localhost:8080/",
          "height": 71
        },
        "outputId": "d1ab3681-d252-4e3f-debb-f778e51a1d63"
      },
      "source": [
        "import pandas as pd\n",
        "import matplotlib.pyplot as plt\n",
        "import seaborn as sns\n",
        "from fbprophet import Prophet"
      ],
      "execution_count": 1,
      "outputs": [
        {
          "output_type": "stream",
          "text": [
            "/usr/local/lib/python3.6/dist-packages/statsmodels/tools/_testing.py:19: FutureWarning: pandas.util.testing is deprecated. Use the functions in the public API at pandas.testing instead.\n",
            "  import pandas.util.testing as tm\n"
          ],
          "name": "stderr"
        }
      ]
    },
    {
      "cell_type": "code",
      "metadata": {
        "id": "YuOJXrNjGlaY",
        "colab_type": "code",
        "colab": {
          "base_uri": "https://localhost:8080/",
          "height": 34
        },
        "outputId": "54cb2afd-c580-4b09-b1e1-267d34994d4e"
      },
      "source": [
        "! git clone https://github.com/Mario-RJunior/olist-e-commerce"
      ],
      "execution_count": 2,
      "outputs": [
        {
          "output_type": "stream",
          "text": [
            "fatal: destination path 'olist-e-commerce' already exists and is not an empty directory.\n"
          ],
          "name": "stdout"
        }
      ]
    },
    {
      "cell_type": "code",
      "metadata": {
        "id": "GOK1Xzpe_zzz",
        "colab_type": "code",
        "colab": {}
      },
      "source": [
        "# Selecionando as colunas para uso\n",
        "orders_col = ['order_id', 'order_status', 'order_purchase_timestamp', \n",
        "              'order_approved_at', 'order_delivered_carrier_date', \n",
        "              'order_delivered_customer_date', 'order_estimated_delivery_date']\n",
        "orders_items_col = ['order_id', 'shipping_limit_date']"
      ],
      "execution_count": 3,
      "outputs": []
    },
    {
      "cell_type": "code",
      "metadata": {
        "id": "NHqWNfctsUI1",
        "colab_type": "code",
        "colab": {}
      },
      "source": [
        "# Carregando os datasets\n",
        "orders = pd.read_csv('olist-e-commerce/datasets/olist_orders_dataset.csv', \n",
        "                     usecols=orders_col)\n",
        "orders_items = pd.read_csv('olist-e-commerce/datasets/olist_order_items_dataset.csv', \n",
        "                           usecols=orders_items_col)"
      ],
      "execution_count": 4,
      "outputs": []
    },
    {
      "cell_type": "code",
      "metadata": {
        "id": "BZQf6bdOHBLF",
        "colab_type": "code",
        "colab": {}
      },
      "source": [
        "# Junção dos dataframes\n",
        "df = pd.merge(right=orders_items,\n",
        "             left=orders,\n",
        "             on='order_id')"
      ],
      "execution_count": 5,
      "outputs": []
    },
    {
      "cell_type": "code",
      "metadata": {
        "id": "SgZSuhtQCXIe",
        "colab_type": "code",
        "colab": {
          "base_uri": "https://localhost:8080/",
          "height": 224
        },
        "outputId": "be870ae2-31b7-41e2-adae-9b1ff61848ce"
      },
      "source": [
        "df.head()"
      ],
      "execution_count": 6,
      "outputs": [
        {
          "output_type": "execute_result",
          "data": {
            "text/html": [
              "<div>\n",
              "<style scoped>\n",
              "    .dataframe tbody tr th:only-of-type {\n",
              "        vertical-align: middle;\n",
              "    }\n",
              "\n",
              "    .dataframe tbody tr th {\n",
              "        vertical-align: top;\n",
              "    }\n",
              "\n",
              "    .dataframe thead th {\n",
              "        text-align: right;\n",
              "    }\n",
              "</style>\n",
              "<table border=\"1\" class=\"dataframe\">\n",
              "  <thead>\n",
              "    <tr style=\"text-align: right;\">\n",
              "      <th></th>\n",
              "      <th>order_id</th>\n",
              "      <th>order_status</th>\n",
              "      <th>order_purchase_timestamp</th>\n",
              "      <th>order_approved_at</th>\n",
              "      <th>order_delivered_carrier_date</th>\n",
              "      <th>order_delivered_customer_date</th>\n",
              "      <th>order_estimated_delivery_date</th>\n",
              "      <th>shipping_limit_date</th>\n",
              "    </tr>\n",
              "  </thead>\n",
              "  <tbody>\n",
              "    <tr>\n",
              "      <th>0</th>\n",
              "      <td>e481f51cbdc54678b7cc49136f2d6af7</td>\n",
              "      <td>delivered</td>\n",
              "      <td>2017-10-02 10:56:33</td>\n",
              "      <td>2017-10-02 11:07:15</td>\n",
              "      <td>2017-10-04 19:55:00</td>\n",
              "      <td>2017-10-10 21:25:13</td>\n",
              "      <td>2017-10-18 00:00:00</td>\n",
              "      <td>2017-10-06 11:07:15</td>\n",
              "    </tr>\n",
              "    <tr>\n",
              "      <th>1</th>\n",
              "      <td>53cdb2fc8bc7dce0b6741e2150273451</td>\n",
              "      <td>delivered</td>\n",
              "      <td>2018-07-24 20:41:37</td>\n",
              "      <td>2018-07-26 03:24:27</td>\n",
              "      <td>2018-07-26 14:31:00</td>\n",
              "      <td>2018-08-07 15:27:45</td>\n",
              "      <td>2018-08-13 00:00:00</td>\n",
              "      <td>2018-07-30 03:24:27</td>\n",
              "    </tr>\n",
              "    <tr>\n",
              "      <th>2</th>\n",
              "      <td>47770eb9100c2d0c44946d9cf07ec65d</td>\n",
              "      <td>delivered</td>\n",
              "      <td>2018-08-08 08:38:49</td>\n",
              "      <td>2018-08-08 08:55:23</td>\n",
              "      <td>2018-08-08 13:50:00</td>\n",
              "      <td>2018-08-17 18:06:29</td>\n",
              "      <td>2018-09-04 00:00:00</td>\n",
              "      <td>2018-08-13 08:55:23</td>\n",
              "    </tr>\n",
              "    <tr>\n",
              "      <th>3</th>\n",
              "      <td>949d5b44dbf5de918fe9c16f97b45f8a</td>\n",
              "      <td>delivered</td>\n",
              "      <td>2017-11-18 19:28:06</td>\n",
              "      <td>2017-11-18 19:45:59</td>\n",
              "      <td>2017-11-22 13:39:59</td>\n",
              "      <td>2017-12-02 00:28:42</td>\n",
              "      <td>2017-12-15 00:00:00</td>\n",
              "      <td>2017-11-23 19:45:59</td>\n",
              "    </tr>\n",
              "    <tr>\n",
              "      <th>4</th>\n",
              "      <td>ad21c59c0840e6cb83a9ceb5573f8159</td>\n",
              "      <td>delivered</td>\n",
              "      <td>2018-02-13 21:18:39</td>\n",
              "      <td>2018-02-13 22:20:29</td>\n",
              "      <td>2018-02-14 19:46:34</td>\n",
              "      <td>2018-02-16 18:17:02</td>\n",
              "      <td>2018-02-26 00:00:00</td>\n",
              "      <td>2018-02-19 20:31:37</td>\n",
              "    </tr>\n",
              "  </tbody>\n",
              "</table>\n",
              "</div>"
            ],
            "text/plain": [
              "                           order_id  ...  shipping_limit_date\n",
              "0  e481f51cbdc54678b7cc49136f2d6af7  ...  2017-10-06 11:07:15\n",
              "1  53cdb2fc8bc7dce0b6741e2150273451  ...  2018-07-30 03:24:27\n",
              "2  47770eb9100c2d0c44946d9cf07ec65d  ...  2018-08-13 08:55:23\n",
              "3  949d5b44dbf5de918fe9c16f97b45f8a  ...  2017-11-23 19:45:59\n",
              "4  ad21c59c0840e6cb83a9ceb5573f8159  ...  2018-02-19 20:31:37\n",
              "\n",
              "[5 rows x 8 columns]"
            ]
          },
          "metadata": {
            "tags": []
          },
          "execution_count": 6
        }
      ]
    },
    {
      "cell_type": "code",
      "metadata": {
        "id": "JTraw3haJzbI",
        "colab_type": "code",
        "colab": {
          "base_uri": "https://localhost:8080/",
          "height": 34
        },
        "outputId": "588e5a01-1008-475c-a16e-30c684a6de96"
      },
      "source": [
        "df.shape"
      ],
      "execution_count": 7,
      "outputs": [
        {
          "output_type": "execute_result",
          "data": {
            "text/plain": [
              "(112650, 8)"
            ]
          },
          "metadata": {
            "tags": []
          },
          "execution_count": 7
        }
      ]
    },
    {
      "cell_type": "code",
      "metadata": {
        "id": "PuUc4ViNJ2in",
        "colab_type": "code",
        "colab": {
          "base_uri": "https://localhost:8080/",
          "height": 170
        },
        "outputId": "1842afe4-1dec-4fae-9ae4-c6efb76499ff"
      },
      "source": [
        "# Tipo das variáveis\n",
        "df.dtypes"
      ],
      "execution_count": 8,
      "outputs": [
        {
          "output_type": "execute_result",
          "data": {
            "text/plain": [
              "order_id                         object\n",
              "order_status                     object\n",
              "order_purchase_timestamp         object\n",
              "order_approved_at                object\n",
              "order_delivered_carrier_date     object\n",
              "order_delivered_customer_date    object\n",
              "order_estimated_delivery_date    object\n",
              "shipping_limit_date              object\n",
              "dtype: object"
            ]
          },
          "metadata": {
            "tags": []
          },
          "execution_count": 8
        }
      ]
    },
    {
      "cell_type": "markdown",
      "metadata": {
        "id": "89X7vYOlJRUB",
        "colab_type": "text"
      },
      "source": [
        "Agora, como desejamos trabalhar com séries temporais devemos então converter as respectivas colunas para o formato *datetime*, uma vez que elas estão originalmente no formato *object*."
      ]
    },
    {
      "cell_type": "code",
      "metadata": {
        "id": "YADXoQG_HaK2",
        "colab_type": "code",
        "colab": {}
      },
      "source": [
        "df['order_purchase_timestamp'] = pd.to_datetime(df['order_purchase_timestamp'])\n",
        "df['order_approved_at'] = pd.to_datetime(df['order_approved_at'])\n",
        "df['order_delivered_carrier_date'] = pd.to_datetime(df['order_delivered_carrier_date'])\n",
        "df['order_delivered_customer_date'] = pd.to_datetime(df['order_delivered_customer_date'])\n",
        "df['order_estimated_delivery_date'] = pd.to_datetime(df['order_estimated_delivery_date'])\n",
        "df['shipping_limit_date'] = pd.to_datetime(df['shipping_limit_date'])"
      ],
      "execution_count": 9,
      "outputs": []
    },
    {
      "cell_type": "code",
      "metadata": {
        "id": "6zkMHbEgKH4p",
        "colab_type": "code",
        "colab": {
          "base_uri": "https://localhost:8080/",
          "height": 136
        },
        "outputId": "ce698c2d-c29b-4db3-a61e-df200f7340fd"
      },
      "source": [
        "# Confirmando os tipos de dados\n",
        "df[['order_purchase_timestamp', \n",
        "    'order_approved_at', \n",
        "    'order_delivered_carrier_date', \n",
        "    'order_delivered_customer_date',\n",
        "    'order_estimated_delivery_date',\n",
        "    'shipping_limit_date']].dtypes"
      ],
      "execution_count": 10,
      "outputs": [
        {
          "output_type": "execute_result",
          "data": {
            "text/plain": [
              "order_purchase_timestamp         datetime64[ns]\n",
              "order_approved_at                datetime64[ns]\n",
              "order_delivered_carrier_date     datetime64[ns]\n",
              "order_delivered_customer_date    datetime64[ns]\n",
              "order_estimated_delivery_date    datetime64[ns]\n",
              "shipping_limit_date              datetime64[ns]\n",
              "dtype: object"
            ]
          },
          "metadata": {
            "tags": []
          },
          "execution_count": 10
        }
      ]
    },
    {
      "cell_type": "code",
      "metadata": {
        "id": "cnsjglfxnoy-",
        "colab_type": "code",
        "colab": {
          "base_uri": "https://localhost:8080/",
          "height": 170
        },
        "outputId": "fa5b4ecf-bf1d-4c70-e612-7f1dce823035"
      },
      "source": [
        "# Verificando a existência de valores nulos\n",
        "df.isnull().sum()"
      ],
      "execution_count": 11,
      "outputs": [
        {
          "output_type": "execute_result",
          "data": {
            "text/plain": [
              "order_id                            0\n",
              "order_status                        0\n",
              "order_purchase_timestamp            0\n",
              "order_approved_at                  15\n",
              "order_delivered_carrier_date     1194\n",
              "order_delivered_customer_date    2454\n",
              "order_estimated_delivery_date       0\n",
              "shipping_limit_date                 0\n",
              "dtype: int64"
            ]
          },
          "metadata": {
            "tags": []
          },
          "execution_count": 11
        }
      ]
    },
    {
      "cell_type": "code",
      "metadata": {
        "id": "Kb8dZfXL5Vjw",
        "colab_type": "code",
        "colab": {
          "base_uri": "https://localhost:8080/",
          "height": 51
        },
        "outputId": "6304f1b6-52bb-491c-d0d9-6169796a00d5"
      },
      "source": [
        "print('Data mínima: {} \\nData máxima: {}'.format(df['order_purchase_timestamp'].min(), \n",
        "                                                 df['order_purchase_timestamp'].max()))"
      ],
      "execution_count": 16,
      "outputs": [
        {
          "output_type": "stream",
          "text": [
            "Data mínima: 2016-09-04 21:15:19 \n",
            "Data máxima: 2018-09-03 09:06:57\n"
          ],
          "name": "stdout"
        }
      ]
    },
    {
      "cell_type": "code",
      "metadata": {
        "id": "MtPEgQSnGRtZ",
        "colab_type": "code",
        "colab": {
          "base_uri": "https://localhost:8080/",
          "height": 459
        },
        "outputId": "0341069b-1ad8-4465-e659-2f7e96522db2"
      },
      "source": [
        "df.groupby([df['order_purchase_timestamp'].dt.year,\n",
        "           df['order_purchase_timestamp'].dt.month]).count()['order_id']"
      ],
      "execution_count": 24,
      "outputs": [
        {
          "output_type": "execute_result",
          "data": {
            "text/plain": [
              "order_purchase_timestamp  order_purchase_timestamp\n",
              "2016                      9                              6\n",
              "                          10                           363\n",
              "                          12                             1\n",
              "2017                      1                            955\n",
              "                          2                           1951\n",
              "                          3                           3000\n",
              "                          4                           2684\n",
              "                          5                           4136\n",
              "                          6                           3583\n",
              "                          7                           4519\n",
              "                          8                           4910\n",
              "                          9                           4831\n",
              "                          10                          5322\n",
              "                          11                          8665\n",
              "                          12                          6308\n",
              "2018                      1                           8208\n",
              "                          2                           7672\n",
              "                          3                           8217\n",
              "                          4                           7975\n",
              "                          5                           7925\n",
              "                          6                           7078\n",
              "                          7                           7092\n",
              "                          8                           7248\n",
              "                          9                              1\n",
              "Name: order_id, dtype: int64"
            ]
          },
          "metadata": {
            "tags": []
          },
          "execution_count": 24
        }
      ]
    }
  ]
}