{
  "nbformat": 4,
  "nbformat_minor": 0,
  "metadata": {
    "colab": {
      "name": "time_series_analysis.ipynb",
      "provenance": [],
      "include_colab_link": true
    },
    "kernelspec": {
      "name": "python3",
      "display_name": "Python 3"
    }
  },
  "cells": [
    {
      "cell_type": "markdown",
      "metadata": {
        "id": "view-in-github",
        "colab_type": "text"
      },
      "source": [
        "<a href=\"https://colab.research.google.com/github/Mario-RJunior/olist-e-commerce/blob/master/time_series_analysis.ipynb\" target=\"_parent\"><img src=\"https://colab.research.google.com/assets/colab-badge.svg\" alt=\"Open In Colab\"/></a>"
      ]
    },
    {
      "cell_type": "markdown",
      "metadata": {
        "id": "baEtPtswDHid",
        "colab_type": "text"
      },
      "source": [
        "## Análise Temporal"
      ]
    },
    {
      "cell_type": "markdown",
      "metadata": {
        "id": "uDUb-Nx_iAa-",
        "colab_type": "text"
      },
      "source": [
        "Nesta etapa do trabalho estaremos focados em estudar sobre a sazonalidade e as tendências das compras online e para isso faremos uma análise utilizando as séries temporais correspondentes. Assim, nosso primeiro passo é importar as bibliotecas a serem utilizadas e carregar os dados que precisaremos para tal análise."
      ]
    },
    {
      "cell_type": "markdown",
      "metadata": {
        "id": "AYDJ65WEHdYj",
        "colab_type": "text"
      },
      "source": [
        "### 1) Importando e carregando os dados"
      ]
    },
    {
      "cell_type": "code",
      "metadata": {
        "id": "mh6HyxqlsKxD",
        "colab_type": "code",
        "colab": {}
      },
      "source": [
        "import pandas as pd\n",
        "import matplotlib.pyplot as plt\n",
        "from fbprophet import Prophet\n",
        "from datetime import datetime, date"
      ],
      "execution_count": 1,
      "outputs": []
    },
    {
      "cell_type": "code",
      "metadata": {
        "id": "YuOJXrNjGlaY",
        "colab_type": "code",
        "colab": {
          "base_uri": "https://localhost:8080/",
          "height": 34
        },
        "outputId": "9f0670a9-6f19-4c0d-8d5b-e8eeba6ec69d"
      },
      "source": [
        "! git clone https://github.com/Mario-RJunior/olist-e-commerce"
      ],
      "execution_count": 2,
      "outputs": [
        {
          "output_type": "stream",
          "text": [
            "fatal: destination path 'olist-e-commerce' already exists and is not an empty directory.\n"
          ],
          "name": "stdout"
        }
      ]
    },
    {
      "cell_type": "markdown",
      "metadata": {
        "id": "PFvCS8knO7Vm",
        "colab_type": "text"
      },
      "source": [
        "Inicialmente iremos selecionar as colunas que iremos utilizar e a seguir agrupá-las para gerar o dataframe."
      ]
    },
    {
      "cell_type": "code",
      "metadata": {
        "id": "GOK1Xzpe_zzz",
        "colab_type": "code",
        "colab": {}
      },
      "source": [
        "# Selecionando as colunas para uso\n",
        "orders_col = ['order_id', 'order_status', 'order_purchase_timestamp', \n",
        "              'order_approved_at', 'order_delivered_carrier_date', \n",
        "              'order_delivered_customer_date', 'order_estimated_delivery_date']\n",
        "orders_items_col = ['order_id', 'shipping_limit_date', 'price']"
      ],
      "execution_count": 3,
      "outputs": []
    },
    {
      "cell_type": "code",
      "metadata": {
        "id": "NHqWNfctsUI1",
        "colab_type": "code",
        "colab": {}
      },
      "source": [
        "# Carregando os datasets\n",
        "orders = pd.read_csv('olist-e-commerce/datasets/olist_orders_dataset.csv', \n",
        "                     usecols=orders_col)\n",
        "orders_items = pd.read_csv('olist-e-commerce/datasets/olist_order_items_dataset.csv', \n",
        "                           usecols=orders_items_col)"
      ],
      "execution_count": 4,
      "outputs": []
    },
    {
      "cell_type": "code",
      "metadata": {
        "id": "BZQf6bdOHBLF",
        "colab_type": "code",
        "colab": {}
      },
      "source": [
        "# Junção dos dataframes\n",
        "df = pd.merge(right=orders_items,\n",
        "             left=orders,\n",
        "             on='order_id')"
      ],
      "execution_count": 5,
      "outputs": []
    },
    {
      "cell_type": "code",
      "metadata": {
        "id": "SgZSuhtQCXIe",
        "colab_type": "code",
        "colab": {
          "base_uri": "https://localhost:8080/",
          "height": 224
        },
        "outputId": "872472f6-a083-4c55-e35b-dd30d58a2f26"
      },
      "source": [
        "df.head()"
      ],
      "execution_count": 6,
      "outputs": [
        {
          "output_type": "execute_result",
          "data": {
            "text/html": [
              "<div>\n",
              "<style scoped>\n",
              "    .dataframe tbody tr th:only-of-type {\n",
              "        vertical-align: middle;\n",
              "    }\n",
              "\n",
              "    .dataframe tbody tr th {\n",
              "        vertical-align: top;\n",
              "    }\n",
              "\n",
              "    .dataframe thead th {\n",
              "        text-align: right;\n",
              "    }\n",
              "</style>\n",
              "<table border=\"1\" class=\"dataframe\">\n",
              "  <thead>\n",
              "    <tr style=\"text-align: right;\">\n",
              "      <th></th>\n",
              "      <th>order_id</th>\n",
              "      <th>order_status</th>\n",
              "      <th>order_purchase_timestamp</th>\n",
              "      <th>order_approved_at</th>\n",
              "      <th>order_delivered_carrier_date</th>\n",
              "      <th>order_delivered_customer_date</th>\n",
              "      <th>order_estimated_delivery_date</th>\n",
              "      <th>shipping_limit_date</th>\n",
              "      <th>price</th>\n",
              "    </tr>\n",
              "  </thead>\n",
              "  <tbody>\n",
              "    <tr>\n",
              "      <th>0</th>\n",
              "      <td>e481f51cbdc54678b7cc49136f2d6af7</td>\n",
              "      <td>delivered</td>\n",
              "      <td>2017-10-02 10:56:33</td>\n",
              "      <td>2017-10-02 11:07:15</td>\n",
              "      <td>2017-10-04 19:55:00</td>\n",
              "      <td>2017-10-10 21:25:13</td>\n",
              "      <td>2017-10-18 00:00:00</td>\n",
              "      <td>2017-10-06 11:07:15</td>\n",
              "      <td>29.99</td>\n",
              "    </tr>\n",
              "    <tr>\n",
              "      <th>1</th>\n",
              "      <td>53cdb2fc8bc7dce0b6741e2150273451</td>\n",
              "      <td>delivered</td>\n",
              "      <td>2018-07-24 20:41:37</td>\n",
              "      <td>2018-07-26 03:24:27</td>\n",
              "      <td>2018-07-26 14:31:00</td>\n",
              "      <td>2018-08-07 15:27:45</td>\n",
              "      <td>2018-08-13 00:00:00</td>\n",
              "      <td>2018-07-30 03:24:27</td>\n",
              "      <td>118.70</td>\n",
              "    </tr>\n",
              "    <tr>\n",
              "      <th>2</th>\n",
              "      <td>47770eb9100c2d0c44946d9cf07ec65d</td>\n",
              "      <td>delivered</td>\n",
              "      <td>2018-08-08 08:38:49</td>\n",
              "      <td>2018-08-08 08:55:23</td>\n",
              "      <td>2018-08-08 13:50:00</td>\n",
              "      <td>2018-08-17 18:06:29</td>\n",
              "      <td>2018-09-04 00:00:00</td>\n",
              "      <td>2018-08-13 08:55:23</td>\n",
              "      <td>159.90</td>\n",
              "    </tr>\n",
              "    <tr>\n",
              "      <th>3</th>\n",
              "      <td>949d5b44dbf5de918fe9c16f97b45f8a</td>\n",
              "      <td>delivered</td>\n",
              "      <td>2017-11-18 19:28:06</td>\n",
              "      <td>2017-11-18 19:45:59</td>\n",
              "      <td>2017-11-22 13:39:59</td>\n",
              "      <td>2017-12-02 00:28:42</td>\n",
              "      <td>2017-12-15 00:00:00</td>\n",
              "      <td>2017-11-23 19:45:59</td>\n",
              "      <td>45.00</td>\n",
              "    </tr>\n",
              "    <tr>\n",
              "      <th>4</th>\n",
              "      <td>ad21c59c0840e6cb83a9ceb5573f8159</td>\n",
              "      <td>delivered</td>\n",
              "      <td>2018-02-13 21:18:39</td>\n",
              "      <td>2018-02-13 22:20:29</td>\n",
              "      <td>2018-02-14 19:46:34</td>\n",
              "      <td>2018-02-16 18:17:02</td>\n",
              "      <td>2018-02-26 00:00:00</td>\n",
              "      <td>2018-02-19 20:31:37</td>\n",
              "      <td>19.90</td>\n",
              "    </tr>\n",
              "  </tbody>\n",
              "</table>\n",
              "</div>"
            ],
            "text/plain": [
              "                           order_id order_status  ...  shipping_limit_date   price\n",
              "0  e481f51cbdc54678b7cc49136f2d6af7    delivered  ...  2017-10-06 11:07:15   29.99\n",
              "1  53cdb2fc8bc7dce0b6741e2150273451    delivered  ...  2018-07-30 03:24:27  118.70\n",
              "2  47770eb9100c2d0c44946d9cf07ec65d    delivered  ...  2018-08-13 08:55:23  159.90\n",
              "3  949d5b44dbf5de918fe9c16f97b45f8a    delivered  ...  2017-11-23 19:45:59   45.00\n",
              "4  ad21c59c0840e6cb83a9ceb5573f8159    delivered  ...  2018-02-19 20:31:37   19.90\n",
              "\n",
              "[5 rows x 9 columns]"
            ]
          },
          "metadata": {
            "tags": []
          },
          "execution_count": 6
        }
      ]
    },
    {
      "cell_type": "code",
      "metadata": {
        "id": "JTraw3haJzbI",
        "colab_type": "code",
        "colab": {
          "base_uri": "https://localhost:8080/",
          "height": 34
        },
        "outputId": "9b652e42-0db2-4844-f23b-433be6de257b"
      },
      "source": [
        "df.shape"
      ],
      "execution_count": 7,
      "outputs": [
        {
          "output_type": "execute_result",
          "data": {
            "text/plain": [
              "(112650, 9)"
            ]
          },
          "metadata": {
            "tags": []
          },
          "execution_count": 7
        }
      ]
    },
    {
      "cell_type": "markdown",
      "metadata": {
        "id": "eFnwVu90PF9H",
        "colab_type": "text"
      },
      "source": [
        "- Verificando os tipos das variáveis."
      ]
    },
    {
      "cell_type": "code",
      "metadata": {
        "id": "PuUc4ViNJ2in",
        "colab_type": "code",
        "colab": {
          "base_uri": "https://localhost:8080/",
          "height": 187
        },
        "outputId": "2df469ee-9988-49e4-c4c5-593d8e9c52a8"
      },
      "source": [
        "# Tipo das variáveis\n",
        "df.dtypes"
      ],
      "execution_count": 8,
      "outputs": [
        {
          "output_type": "execute_result",
          "data": {
            "text/plain": [
              "order_id                          object\n",
              "order_status                      object\n",
              "order_purchase_timestamp          object\n",
              "order_approved_at                 object\n",
              "order_delivered_carrier_date      object\n",
              "order_delivered_customer_date     object\n",
              "order_estimated_delivery_date     object\n",
              "shipping_limit_date               object\n",
              "price                            float64\n",
              "dtype: object"
            ]
          },
          "metadata": {
            "tags": []
          },
          "execution_count": 8
        }
      ]
    },
    {
      "cell_type": "markdown",
      "metadata": {
        "id": "89X7vYOlJRUB",
        "colab_type": "text"
      },
      "source": [
        "Agora, como desejamos trabalhar com séries temporais devemos então converter as respectivas colunas para o formato *datetime*, uma vez que elas estão originalmente no formato *object*."
      ]
    },
    {
      "cell_type": "code",
      "metadata": {
        "id": "YADXoQG_HaK2",
        "colab_type": "code",
        "colab": {}
      },
      "source": [
        "df['order_purchase_timestamp'] = pd.to_datetime(df['order_purchase_timestamp'])\n",
        "df['order_approved_at'] = pd.to_datetime(df['order_approved_at'])\n",
        "df['order_delivered_carrier_date'] = pd.to_datetime(df['order_delivered_carrier_date'])\n",
        "df['order_delivered_customer_date'] = pd.to_datetime(df['order_delivered_customer_date'])\n",
        "df['order_estimated_delivery_date'] = pd.to_datetime(df['order_estimated_delivery_date'])\n",
        "df['shipping_limit_date'] = pd.to_datetime(df['shipping_limit_date'])"
      ],
      "execution_count": 9,
      "outputs": []
    },
    {
      "cell_type": "markdown",
      "metadata": {
        "id": "fNA5QqI3PLR5",
        "colab_type": "text"
      },
      "source": [
        "Uma vez convertidas para datetime iremos fazer mais um tratamento, sobretudo na coluna \"order_purchase_timestamp\". Primeiramente iremos pegar apenas a data (desconsiderando a hora da compra) para depois gerar uma nova data com o dia 1 em todas elas. O motivo para isso é agruparmos mais facilmente as datas por ano e mês.\n",
        "\n",
        "***Importante***: Apesar de termos uma time series diária ela não é contínua, ou seja, há dias em que não houve compras e portanto tais dias não aparecem registrados. Desta forma faremos nossa análise contabilizando todas as compras mensalmente."
      ]
    },
    {
      "cell_type": "code",
      "metadata": {
        "id": "MYI6Uqw2_WLm",
        "colab_type": "code",
        "colab": {}
      },
      "source": [
        "# Pegando apenas a data da coluna \"order_purchase_timestamp\"\n",
        "df['order_purchase_timestamp'] = df['order_purchase_timestamp'].apply(lambda x: x.date())\n",
        "\n",
        "# Editando a coluna \"order_purchase_timestamp\" para agrupar por ano e mês\n",
        "df['order_purchase_timestamp'] = df['order_purchase_timestamp'].apply(lambda x: datetime(x.year, x.month, 1))"
      ],
      "execution_count": 10,
      "outputs": []
    },
    {
      "cell_type": "code",
      "metadata": {
        "id": "MZxaQPtw_tot",
        "colab_type": "code",
        "colab": {
          "base_uri": "https://localhost:8080/",
          "height": 187
        },
        "outputId": "e9ceb00b-ddcc-4fb4-fd0a-22c88a645f17"
      },
      "source": [
        "# Confirmando os tipos de dados\n",
        "df.dtypes"
      ],
      "execution_count": 11,
      "outputs": [
        {
          "output_type": "execute_result",
          "data": {
            "text/plain": [
              "order_id                                 object\n",
              "order_status                             object\n",
              "order_purchase_timestamp         datetime64[ns]\n",
              "order_approved_at                datetime64[ns]\n",
              "order_delivered_carrier_date     datetime64[ns]\n",
              "order_delivered_customer_date    datetime64[ns]\n",
              "order_estimated_delivery_date    datetime64[ns]\n",
              "shipping_limit_date              datetime64[ns]\n",
              "price                                   float64\n",
              "dtype: object"
            ]
          },
          "metadata": {
            "tags": []
          },
          "execution_count": 11
        }
      ]
    },
    {
      "cell_type": "code",
      "metadata": {
        "id": "cnsjglfxnoy-",
        "colab_type": "code",
        "colab": {
          "base_uri": "https://localhost:8080/",
          "height": 187
        },
        "outputId": "70123662-f035-4a83-b358-1a629afb86f9"
      },
      "source": [
        "# Verificando a existência de valores nulos\n",
        "df.isnull().sum()"
      ],
      "execution_count": 12,
      "outputs": [
        {
          "output_type": "execute_result",
          "data": {
            "text/plain": [
              "order_id                            0\n",
              "order_status                        0\n",
              "order_purchase_timestamp            0\n",
              "order_approved_at                  15\n",
              "order_delivered_carrier_date     1194\n",
              "order_delivered_customer_date    2454\n",
              "order_estimated_delivery_date       0\n",
              "shipping_limit_date                 0\n",
              "price                               0\n",
              "dtype: int64"
            ]
          },
          "metadata": {
            "tags": []
          },
          "execution_count": 12
        }
      ]
    },
    {
      "cell_type": "code",
      "metadata": {
        "id": "Kb8dZfXL5Vjw",
        "colab_type": "code",
        "colab": {
          "base_uri": "https://localhost:8080/",
          "height": 51
        },
        "outputId": "0e763da8-3a36-4390-f277-ea3f842645c5"
      },
      "source": [
        "# Verificando as datas da primeira e da última compra\n",
        "print('Data mínima: {} \\nData máxima: {}'.format(df['order_purchase_timestamp'].min(), \n",
        "                                                 df['order_purchase_timestamp'].max()))"
      ],
      "execution_count": 13,
      "outputs": [
        {
          "output_type": "stream",
          "text": [
            "Data mínima: 2016-09-01 00:00:00 \n",
            "Data máxima: 2018-09-01 00:00:00\n"
          ],
          "name": "stdout"
        }
      ]
    },
    {
      "cell_type": "code",
      "metadata": {
        "id": "bNrZSO1N7QcS",
        "colab_type": "code",
        "colab": {
          "base_uri": "https://localhost:8080/",
          "height": 459
        },
        "outputId": "a4f9c218-210a-4efa-af3e-030ab03f2340"
      },
      "source": [
        "df.groupby([df['order_purchase_timestamp'].dt.year,\n",
        "           df['order_purchase_timestamp'].dt.month]).count()['order_id']"
      ],
      "execution_count": 14,
      "outputs": [
        {
          "output_type": "execute_result",
          "data": {
            "text/plain": [
              "order_purchase_timestamp  order_purchase_timestamp\n",
              "2016                      9                              6\n",
              "                          10                           363\n",
              "                          12                             1\n",
              "2017                      1                            955\n",
              "                          2                           1951\n",
              "                          3                           3000\n",
              "                          4                           2684\n",
              "                          5                           4136\n",
              "                          6                           3583\n",
              "                          7                           4519\n",
              "                          8                           4910\n",
              "                          9                           4831\n",
              "                          10                          5322\n",
              "                          11                          8665\n",
              "                          12                          6308\n",
              "2018                      1                           8208\n",
              "                          2                           7672\n",
              "                          3                           8217\n",
              "                          4                           7975\n",
              "                          5                           7925\n",
              "                          6                           7078\n",
              "                          7                           7092\n",
              "                          8                           7248\n",
              "                          9                              1\n",
              "Name: order_id, dtype: int64"
            ]
          },
          "metadata": {
            "tags": []
          },
          "execution_count": 14
        }
      ]
    },
    {
      "cell_type": "markdown",
      "metadata": {
        "id": "NgFLeThE59YJ",
        "colab_type": "text"
      },
      "source": [
        "Note que no mês de setembro de 2018 temos apenas 1 registro e portanto iremos desconsiderá-lo da nossa análise."
      ]
    },
    {
      "cell_type": "code",
      "metadata": {
        "id": "Icjw9UpV6Haj",
        "colab_type": "code",
        "colab": {
          "base_uri": "https://localhost:8080/",
          "height": 100
        },
        "outputId": "91dd4c83-a39b-45ac-cd3e-95e69fef34c1"
      },
      "source": [
        "df.query('order_purchase_timestamp == \"2018-09-01\"')"
      ],
      "execution_count": 15,
      "outputs": [
        {
          "output_type": "execute_result",
          "data": {
            "text/html": [
              "<div>\n",
              "<style scoped>\n",
              "    .dataframe tbody tr th:only-of-type {\n",
              "        vertical-align: middle;\n",
              "    }\n",
              "\n",
              "    .dataframe tbody tr th {\n",
              "        vertical-align: top;\n",
              "    }\n",
              "\n",
              "    .dataframe thead th {\n",
              "        text-align: right;\n",
              "    }\n",
              "</style>\n",
              "<table border=\"1\" class=\"dataframe\">\n",
              "  <thead>\n",
              "    <tr style=\"text-align: right;\">\n",
              "      <th></th>\n",
              "      <th>order_id</th>\n",
              "      <th>order_status</th>\n",
              "      <th>order_purchase_timestamp</th>\n",
              "      <th>order_approved_at</th>\n",
              "      <th>order_delivered_carrier_date</th>\n",
              "      <th>order_delivered_customer_date</th>\n",
              "      <th>order_estimated_delivery_date</th>\n",
              "      <th>shipping_limit_date</th>\n",
              "      <th>price</th>\n",
              "    </tr>\n",
              "  </thead>\n",
              "  <tbody>\n",
              "    <tr>\n",
              "      <th>70511</th>\n",
              "      <td>54282e97f61c23b78330c15b154c867d</td>\n",
              "      <td>shipped</td>\n",
              "      <td>2018-09-01</td>\n",
              "      <td>2018-09-03 17:40:06</td>\n",
              "      <td>2018-09-04 15:25:00</td>\n",
              "      <td>NaT</td>\n",
              "      <td>2018-09-06</td>\n",
              "      <td>2018-09-05 17:30:54</td>\n",
              "      <td>145.0</td>\n",
              "    </tr>\n",
              "  </tbody>\n",
              "</table>\n",
              "</div>"
            ],
            "text/plain": [
              "                               order_id order_status  ... shipping_limit_date  price\n",
              "70511  54282e97f61c23b78330c15b154c867d      shipped  ... 2018-09-05 17:30:54  145.0\n",
              "\n",
              "[1 rows x 9 columns]"
            ]
          },
          "metadata": {
            "tags": []
          },
          "execution_count": 15
        }
      ]
    },
    {
      "cell_type": "code",
      "metadata": {
        "id": "xN8HWMcH6cOM",
        "colab_type": "code",
        "colab": {}
      },
      "source": [
        "df.drop(index=70511, inplace=True)"
      ],
      "execution_count": 16,
      "outputs": []
    },
    {
      "cell_type": "code",
      "metadata": {
        "id": "rPi5o14r6jVt",
        "colab_type": "code",
        "colab": {
          "base_uri": "https://localhost:8080/",
          "height": 34
        },
        "outputId": "3ecae192-6497-4f8b-c72c-99def99eadea"
      },
      "source": [
        "# Verificando novamente a data máxima\n",
        "print('Data máxima: {}'.format(df['order_purchase_timestamp'].max()))"
      ],
      "execution_count": 17,
      "outputs": [
        {
          "output_type": "stream",
          "text": [
            "Data máxima: 2018-08-01 00:00:00\n"
          ],
          "name": "stdout"
        }
      ]
    },
    {
      "cell_type": "markdown",
      "metadata": {
        "id": "agx7Z0VkErIV",
        "colab_type": "text"
      },
      "source": [
        "- Plotando os dados para a quantidade de produtos vendidos mensalmente"
      ]
    },
    {
      "cell_type": "code",
      "metadata": {
        "id": "BI3SuafX942r",
        "colab_type": "code",
        "colab": {}
      },
      "source": [
        "# Criando o dataframe da quantidade\n",
        "df_group_quant = df.groupby([df['order_purchase_timestamp'].dt.year,\n",
        "           df['order_purchase_timestamp'].dt.month]).count()['order_id']"
      ],
      "execution_count": 18,
      "outputs": []
    },
    {
      "cell_type": "code",
      "metadata": {
        "id": "vGf6Sh6x67Dv",
        "colab_type": "code",
        "colab": {
          "base_uri": "https://localhost:8080/",
          "height": 404
        },
        "outputId": "7a19349d-fd7a-4f5a-9369-829b79942685"
      },
      "source": [
        "df_group_quant.plot(figsize=(15,6))\n",
        "plt.title('Frequência de compras por mês')\n",
        "plt.xlabel('Ano / Mês')\n",
        "plt.ylabel('Quantidade')\n",
        "plt.show()"
      ],
      "execution_count": 19,
      "outputs": [
        {
          "output_type": "display_data",
          "data": {
            "image/png": "[encoded data removed]",
            "text/plain": [
              "<Figure size 1080x432 with 1 Axes>"
            ]
          },
          "metadata": {
            "tags": [],
            "needs_background": "light"
          }
        }
      ]
    },
    {
      "cell_type": "markdown",
      "metadata": {
        "id": "SjEk9W1GE1ms",
        "colab_type": "text"
      },
      "source": [
        "- Plotando os dados para o total de dinheiro arrecadado pelas vendas mensalmente"
      ]
    },
    {
      "cell_type": "code",
      "metadata": {
        "id": "521pTr5_AZdq",
        "colab_type": "code",
        "colab": {}
      },
      "source": [
        "df_group_price = df.groupby([df['order_purchase_timestamp'].dt.year,\n",
        "           df['order_purchase_timestamp'].dt.month]).sum()['price']"
      ],
      "execution_count": 20,
      "outputs": []
    },
    {
      "cell_type": "code",
      "metadata": {
        "id": "OUVz_0JLAij9",
        "colab_type": "code",
        "colab": {
          "base_uri": "https://localhost:8080/",
          "height": 404
        },
        "outputId": "9902892a-dcdd-4262-aaf2-8f87450868c9"
      },
      "source": [
        "df_group_price.plot(figsize=(15,6))\n",
        "plt.title('Valor total por mês')\n",
        "plt.xlabel('Ano / Mês')\n",
        "plt.ylabel('Valor Total')\n",
        "plt.show()"
      ],
      "execution_count": 21,
      "outputs": [
        {
          "output_type": "display_data",
          "data": {
            "image/png": "[encoded data removed]",
            "text/plain": [
              "<Figure size 1080x432 with 1 Axes>"
            ]
          },
          "metadata": {
            "tags": [],
            "needs_background": "light"
          }
        }
      ]
    }
  ]
}