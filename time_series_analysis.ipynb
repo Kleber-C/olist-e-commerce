{
  "nbformat": 4,
  "nbformat_minor": 0,
  "metadata": {
    "colab": {
      "name": "time_series_analysis.ipynb",
      "provenance": [],
      "authorship_tag": "ABX9TyOCnHP6EQk246bjpTps20yG",
      "include_colab_link": true
    },
    "kernelspec": {
      "name": "python3",
      "display_name": "Python 3"
    }
  },
  "cells": [
    {
      "cell_type": "markdown",
      "metadata": {
        "id": "view-in-github",
        "colab_type": "text"
      },
      "source": [
        "<a href=\"https://colab.research.google.com/github/Mario-RJunior/olist-e-commerce/blob/master/time_series_analysis.ipynb\" target=\"_parent\"><img src=\"https://colab.research.google.com/assets/colab-badge.svg\" alt=\"Open In Colab\"/></a>"
      ]
    },
    {
      "cell_type": "markdown",
      "metadata": {
        "id": "baEtPtswDHid",
        "colab_type": "text"
      },
      "source": [
        "## Análise Temporal"
      ]
    },
    {
      "cell_type": "markdown",
      "metadata": {
        "id": "AYDJ65WEHdYj",
        "colab_type": "text"
      },
      "source": [
        "### 1) Importando e carregando os dados"
      ]
    },
    {
      "cell_type": "code",
      "metadata": {
        "id": "mh6HyxqlsKxD",
        "colab_type": "code",
        "colab": {
          "base_uri": "https://localhost:8080/",
          "height": 71
        },
        "outputId": "5bd3f348-4dca-434b-c773-13590600bf6e"
      },
      "source": [
        "import pandas as pd\n",
        "import matplotlib.pyplot as plt\n",
        "import seaborn as sns"
      ],
      "execution_count": null,
      "outputs": [
        {
          "output_type": "stream",
          "text": [
            "/usr/local/lib/python3.6/dist-packages/statsmodels/tools/_testing.py:19: FutureWarning: pandas.util.testing is deprecated. Use the functions in the public API at pandas.testing instead.\n",
            "  import pandas.util.testing as tm\n"
          ],
          "name": "stderr"
        }
      ]
    },
    {
      "cell_type": "code",
      "metadata": {
        "id": "YuOJXrNjGlaY",
        "colab_type": "code",
        "colab": {
          "base_uri": "https://localhost:8080/",
          "height": 136
        },
        "outputId": "091cfd14-f2bb-44c6-ae79-addb81d2064c"
      },
      "source": [
        "! git clone https://github.com/Mario-RJunior/olist-e-commerce"
      ],
      "execution_count": 3,
      "outputs": [
        {
          "output_type": "stream",
          "text": [
            "Cloning into 'olist-e-commerce'...\n",
            "remote: Enumerating objects: 60, done.\u001b[K\n",
            "remote: Counting objects: 100% (60/60), done.\u001b[K\n",
            "remote: Compressing objects: 100% (60/60), done.\u001b[K\n",
            "remote: Total 440 (delta 36), reused 0 (delta 0), pack-reused 380\u001b[K\n",
            "Receiving objects: 100% (440/440), 30.84 MiB | 10.54 MiB/s, done.\n",
            "Resolving deltas: 100% (264/264), done.\n"
          ],
          "name": "stdout"
        }
      ]
    },
    {
      "cell_type": "code",
      "metadata": {
        "id": "NHqWNfctsUI1",
        "colab_type": "code",
        "colab": {}
      },
      "source": [
        "# Carregando os datasets\n",
        "customer = pd.read_csv('olist-e-commerce/datasets/olist_customers_dataset.csv')\n",
        "orders = pd.read_csv('olist-e-commerce/datasets/olist_orders_dataset.csv')\n",
        "orders_items = pd.read_csv('olist-e-commerce/datasets/olist_order_items_dataset.csv')"
      ],
      "execution_count": 10,
      "outputs": []
    },
    {
      "cell_type": "code",
      "metadata": {
        "id": "BZQf6bdOHBLF",
        "colab_type": "code",
        "colab": {}
      },
      "source": [
        "# Junção dos dataframes\n",
        "df = pd.merge(right=orders,\n",
        "             left=customer,\n",
        "             on='customer_id')\n",
        "\n",
        "df = pd.merge(right=orders_items,\n",
        "             left=df,\n",
        "             on='order_id')"
      ],
      "execution_count": 11,
      "outputs": []
    },
    {
      "cell_type": "code",
      "metadata": {
        "id": "GqzCHYBoHYn9",
        "colab_type": "code",
        "colab": {
          "base_uri": "https://localhost:8080/",
          "height": 258
        },
        "outputId": "6d3302b5-33b1-4289-a1cf-bbbcef248919"
      },
      "source": [
        "df.head()"
      ],
      "execution_count": 12,
      "outputs": [
        {
          "output_type": "execute_result",
          "data": {
            "text/html": [
              "<div>\n",
              "<style scoped>\n",
              "    .dataframe tbody tr th:only-of-type {\n",
              "        vertical-align: middle;\n",
              "    }\n",
              "\n",
              "    .dataframe tbody tr th {\n",
              "        vertical-align: top;\n",
              "    }\n",
              "\n",
              "    .dataframe thead th {\n",
              "        text-align: right;\n",
              "    }\n",
              "</style>\n",
              "<table border=\"1\" class=\"dataframe\">\n",
              "  <thead>\n",
              "    <tr style=\"text-align: right;\">\n",
              "      <th></th>\n",
              "      <th>customer_id</th>\n",
              "      <th>customer_unique_id</th>\n",
              "      <th>customer_zip_code_prefix</th>\n",
              "      <th>customer_city</th>\n",
              "      <th>customer_state</th>\n",
              "      <th>order_id</th>\n",
              "      <th>order_status</th>\n",
              "      <th>order_purchase_timestamp</th>\n",
              "      <th>order_approved_at</th>\n",
              "      <th>order_delivered_carrier_date</th>\n",
              "      <th>order_delivered_customer_date</th>\n",
              "      <th>order_estimated_delivery_date</th>\n",
              "      <th>order_item_id</th>\n",
              "      <th>product_id</th>\n",
              "      <th>seller_id</th>\n",
              "      <th>shipping_limit_date</th>\n",
              "      <th>price</th>\n",
              "      <th>freight_value</th>\n",
              "    </tr>\n",
              "  </thead>\n",
              "  <tbody>\n",
              "    <tr>\n",
              "      <th>0</th>\n",
              "      <td>06b8999e2fba1a1fbc88172c00ba8bc7</td>\n",
              "      <td>861eff4711a542e4b93843c6dd7febb0</td>\n",
              "      <td>14409</td>\n",
              "      <td>franca</td>\n",
              "      <td>SP</td>\n",
              "      <td>00e7ee1b050b8499577073aeb2a297a1</td>\n",
              "      <td>delivered</td>\n",
              "      <td>2017-05-16 15:05:35</td>\n",
              "      <td>2017-05-16 15:22:12</td>\n",
              "      <td>2017-05-23 10:47:57</td>\n",
              "      <td>2017-05-25 10:35:35</td>\n",
              "      <td>2017-06-05 00:00:00</td>\n",
              "      <td>1</td>\n",
              "      <td>a9516a079e37a9c9c36b9b78b10169e8</td>\n",
              "      <td>7c67e1448b00f6e969d365cea6b010ab</td>\n",
              "      <td>2017-05-22 15:22:12</td>\n",
              "      <td>124.99</td>\n",
              "      <td>21.88</td>\n",
              "    </tr>\n",
              "    <tr>\n",
              "      <th>1</th>\n",
              "      <td>18955e83d337fd6b2def6b18a428ac77</td>\n",
              "      <td>290c77bc529b7ac935b93aa66c333dc3</td>\n",
              "      <td>9790</td>\n",
              "      <td>sao bernardo do campo</td>\n",
              "      <td>SP</td>\n",
              "      <td>29150127e6685892b6eab3eec79f59c7</td>\n",
              "      <td>delivered</td>\n",
              "      <td>2018-01-12 20:48:24</td>\n",
              "      <td>2018-01-12 20:58:32</td>\n",
              "      <td>2018-01-15 17:14:59</td>\n",
              "      <td>2018-01-29 12:41:19</td>\n",
              "      <td>2018-02-06 00:00:00</td>\n",
              "      <td>1</td>\n",
              "      <td>4aa6014eceb682077f9dc4bffebc05b0</td>\n",
              "      <td>b8bc237ba3788b23da09c0f1f3a3288c</td>\n",
              "      <td>2018-01-18 20:58:32</td>\n",
              "      <td>289.00</td>\n",
              "      <td>46.48</td>\n",
              "    </tr>\n",
              "    <tr>\n",
              "      <th>2</th>\n",
              "      <td>4e7b3e00288586ebd08712fdd0374a03</td>\n",
              "      <td>060e732b5b29e8181a18229c7b0b2b5e</td>\n",
              "      <td>1151</td>\n",
              "      <td>sao paulo</td>\n",
              "      <td>SP</td>\n",
              "      <td>b2059ed67ce144a36e2aa97d2c9e9ad2</td>\n",
              "      <td>delivered</td>\n",
              "      <td>2018-05-19 16:07:45</td>\n",
              "      <td>2018-05-20 16:19:10</td>\n",
              "      <td>2018-06-11 14:31:00</td>\n",
              "      <td>2018-06-14 17:58:51</td>\n",
              "      <td>2018-06-13 00:00:00</td>\n",
              "      <td>1</td>\n",
              "      <td>bd07b66896d6f1494f5b86251848ced7</td>\n",
              "      <td>7c67e1448b00f6e969d365cea6b010ab</td>\n",
              "      <td>2018-06-05 16:19:10</td>\n",
              "      <td>139.94</td>\n",
              "      <td>17.79</td>\n",
              "    </tr>\n",
              "    <tr>\n",
              "      <th>3</th>\n",
              "      <td>b2b6027bc5c5109e529d4dc6358b12c3</td>\n",
              "      <td>259dac757896d24d7702b9acbbff3f3c</td>\n",
              "      <td>8775</td>\n",
              "      <td>mogi das cruzes</td>\n",
              "      <td>SP</td>\n",
              "      <td>951670f92359f4fe4a63112aa7306eba</td>\n",
              "      <td>delivered</td>\n",
              "      <td>2018-03-13 16:06:38</td>\n",
              "      <td>2018-03-13 17:29:19</td>\n",
              "      <td>2018-03-27 23:22:42</td>\n",
              "      <td>2018-03-28 16:04:25</td>\n",
              "      <td>2018-04-10 00:00:00</td>\n",
              "      <td>1</td>\n",
              "      <td>a5647c44af977b148e0a3a4751a09e2e</td>\n",
              "      <td>7c67e1448b00f6e969d365cea6b010ab</td>\n",
              "      <td>2018-03-27 16:31:16</td>\n",
              "      <td>149.94</td>\n",
              "      <td>23.36</td>\n",
              "    </tr>\n",
              "    <tr>\n",
              "      <th>4</th>\n",
              "      <td>4f2d8ab171c80ec8364f7c12e35b23ad</td>\n",
              "      <td>345ecd01c38d18a9036ed96c73b8d066</td>\n",
              "      <td>13056</td>\n",
              "      <td>campinas</td>\n",
              "      <td>SP</td>\n",
              "      <td>6b7d50bd145f6fc7f33cebabd7e49d0f</td>\n",
              "      <td>delivered</td>\n",
              "      <td>2018-07-29 09:51:30</td>\n",
              "      <td>2018-07-29 10:10:09</td>\n",
              "      <td>2018-07-30 15:16:00</td>\n",
              "      <td>2018-08-09 20:55:48</td>\n",
              "      <td>2018-08-15 00:00:00</td>\n",
              "      <td>1</td>\n",
              "      <td>9391a573abe00141c56e38d84d7d5b3b</td>\n",
              "      <td>4a3ca9315b744ce9f8e9374361493884</td>\n",
              "      <td>2018-07-31 10:10:09</td>\n",
              "      <td>230.00</td>\n",
              "      <td>22.25</td>\n",
              "    </tr>\n",
              "  </tbody>\n",
              "</table>\n",
              "</div>"
            ],
            "text/plain": [
              "                        customer_id  ... freight_value\n",
              "0  06b8999e2fba1a1fbc88172c00ba8bc7  ...         21.88\n",
              "1  18955e83d337fd6b2def6b18a428ac77  ...         46.48\n",
              "2  4e7b3e00288586ebd08712fdd0374a03  ...         17.79\n",
              "3  b2b6027bc5c5109e529d4dc6358b12c3  ...         23.36\n",
              "4  4f2d8ab171c80ec8364f7c12e35b23ad  ...         22.25\n",
              "\n",
              "[5 rows x 18 columns]"
            ]
          },
          "metadata": {
            "tags": []
          },
          "execution_count": 12
        }
      ]
    },
    {
      "cell_type": "code",
      "metadata": {
        "id": "JTraw3haJzbI",
        "colab_type": "code",
        "colab": {
          "base_uri": "https://localhost:8080/",
          "height": 34
        },
        "outputId": "bde9f684-52cd-449d-ea5d-6e0a28759809"
      },
      "source": [
        "df.shape"
      ],
      "execution_count": 13,
      "outputs": [
        {
          "output_type": "execute_result",
          "data": {
            "text/plain": [
              "(112650, 18)"
            ]
          },
          "metadata": {
            "tags": []
          },
          "execution_count": 13
        }
      ]
    },
    {
      "cell_type": "code",
      "metadata": {
        "id": "PuUc4ViNJ2in",
        "colab_type": "code",
        "colab": {
          "base_uri": "https://localhost:8080/",
          "height": 340
        },
        "outputId": "449eb8ad-4db7-4866-aa3e-5ac661c6e0cc"
      },
      "source": [
        "# Tipo das variáveis\n",
        "df.dtypes"
      ],
      "execution_count": 14,
      "outputs": [
        {
          "output_type": "execute_result",
          "data": {
            "text/plain": [
              "customer_id                       object\n",
              "customer_unique_id                object\n",
              "customer_zip_code_prefix           int64\n",
              "customer_city                     object\n",
              "customer_state                    object\n",
              "order_id                          object\n",
              "order_status                      object\n",
              "order_purchase_timestamp          object\n",
              "order_approved_at                 object\n",
              "order_delivered_carrier_date      object\n",
              "order_delivered_customer_date     object\n",
              "order_estimated_delivery_date     object\n",
              "order_item_id                      int64\n",
              "product_id                        object\n",
              "seller_id                         object\n",
              "shipping_limit_date               object\n",
              "price                            float64\n",
              "freight_value                    float64\n",
              "dtype: object"
            ]
          },
          "metadata": {
            "tags": []
          },
          "execution_count": 14
        }
      ]
    },
    {
      "cell_type": "markdown",
      "metadata": {
        "id": "89X7vYOlJRUB",
        "colab_type": "text"
      },
      "source": [
        "Agora, como desejamos trabalhar com séries temporais podemos considerar a coluna order_purchase_timestamp (que indica a data e a hora em que a ordem de compra foi gerada) e colocá-la como índice do dataframe. Mas antes, devemos converter esta coluna para o formato *datetime* uma vez que originalmente ela está no formato *object*."
      ]
    },
    {
      "cell_type": "code",
      "metadata": {
        "id": "YADXoQG_HaK2",
        "colab_type": "code",
        "colab": {}
      },
      "source": [
        "df['order_purchase_timestamp'] = pd.to_datetime(df['order_purchase_timestamp'])"
      ],
      "execution_count": 15,
      "outputs": []
    },
    {
      "cell_type": "code",
      "metadata": {
        "id": "6zkMHbEgKH4p",
        "colab_type": "code",
        "colab": {
          "base_uri": "https://localhost:8080/",
          "height": 289
        },
        "outputId": "d43338a3-767e-45da-d8a5-93580ca3184e"
      },
      "source": [
        "df.set_index(keys=df['order_purchase_timestamp'], inplace=True)\n",
        "df.head()"
      ],
      "execution_count": 16,
      "outputs": [
        {
          "output_type": "execute_result",
          "data": {
            "text/html": [
              "<div>\n",
              "<style scoped>\n",
              "    .dataframe tbody tr th:only-of-type {\n",
              "        vertical-align: middle;\n",
              "    }\n",
              "\n",
              "    .dataframe tbody tr th {\n",
              "        vertical-align: top;\n",
              "    }\n",
              "\n",
              "    .dataframe thead th {\n",
              "        text-align: right;\n",
              "    }\n",
              "</style>\n",
              "<table border=\"1\" class=\"dataframe\">\n",
              "  <thead>\n",
              "    <tr style=\"text-align: right;\">\n",
              "      <th></th>\n",
              "      <th>customer_id</th>\n",
              "      <th>customer_unique_id</th>\n",
              "      <th>customer_zip_code_prefix</th>\n",
              "      <th>customer_city</th>\n",
              "      <th>customer_state</th>\n",
              "      <th>order_id</th>\n",
              "      <th>order_status</th>\n",
              "      <th>order_purchase_timestamp</th>\n",
              "      <th>order_approved_at</th>\n",
              "      <th>order_delivered_carrier_date</th>\n",
              "      <th>order_delivered_customer_date</th>\n",
              "      <th>order_estimated_delivery_date</th>\n",
              "      <th>order_item_id</th>\n",
              "      <th>product_id</th>\n",
              "      <th>seller_id</th>\n",
              "      <th>shipping_limit_date</th>\n",
              "      <th>price</th>\n",
              "      <th>freight_value</th>\n",
              "    </tr>\n",
              "    <tr>\n",
              "      <th>order_purchase_timestamp</th>\n",
              "      <th></th>\n",
              "      <th></th>\n",
              "      <th></th>\n",
              "      <th></th>\n",
              "      <th></th>\n",
              "      <th></th>\n",
              "      <th></th>\n",
              "      <th></th>\n",
              "      <th></th>\n",
              "      <th></th>\n",
              "      <th></th>\n",
              "      <th></th>\n",
              "      <th></th>\n",
              "      <th></th>\n",
              "      <th></th>\n",
              "      <th></th>\n",
              "      <th></th>\n",
              "      <th></th>\n",
              "    </tr>\n",
              "  </thead>\n",
              "  <tbody>\n",
              "    <tr>\n",
              "      <th>2017-05-16 15:05:35</th>\n",
              "      <td>06b8999e2fba1a1fbc88172c00ba8bc7</td>\n",
              "      <td>861eff4711a542e4b93843c6dd7febb0</td>\n",
              "      <td>14409</td>\n",
              "      <td>franca</td>\n",
              "      <td>SP</td>\n",
              "      <td>00e7ee1b050b8499577073aeb2a297a1</td>\n",
              "      <td>delivered</td>\n",
              "      <td>2017-05-16 15:05:35</td>\n",
              "      <td>2017-05-16 15:22:12</td>\n",
              "      <td>2017-05-23 10:47:57</td>\n",
              "      <td>2017-05-25 10:35:35</td>\n",
              "      <td>2017-06-05 00:00:00</td>\n",
              "      <td>1</td>\n",
              "      <td>a9516a079e37a9c9c36b9b78b10169e8</td>\n",
              "      <td>7c67e1448b00f6e969d365cea6b010ab</td>\n",
              "      <td>2017-05-22 15:22:12</td>\n",
              "      <td>124.99</td>\n",
              "      <td>21.88</td>\n",
              "    </tr>\n",
              "    <tr>\n",
              "      <th>2018-01-12 20:48:24</th>\n",
              "      <td>18955e83d337fd6b2def6b18a428ac77</td>\n",
              "      <td>290c77bc529b7ac935b93aa66c333dc3</td>\n",
              "      <td>9790</td>\n",
              "      <td>sao bernardo do campo</td>\n",
              "      <td>SP</td>\n",
              "      <td>29150127e6685892b6eab3eec79f59c7</td>\n",
              "      <td>delivered</td>\n",
              "      <td>2018-01-12 20:48:24</td>\n",
              "      <td>2018-01-12 20:58:32</td>\n",
              "      <td>2018-01-15 17:14:59</td>\n",
              "      <td>2018-01-29 12:41:19</td>\n",
              "      <td>2018-02-06 00:00:00</td>\n",
              "      <td>1</td>\n",
              "      <td>4aa6014eceb682077f9dc4bffebc05b0</td>\n",
              "      <td>b8bc237ba3788b23da09c0f1f3a3288c</td>\n",
              "      <td>2018-01-18 20:58:32</td>\n",
              "      <td>289.00</td>\n",
              "      <td>46.48</td>\n",
              "    </tr>\n",
              "    <tr>\n",
              "      <th>2018-05-19 16:07:45</th>\n",
              "      <td>4e7b3e00288586ebd08712fdd0374a03</td>\n",
              "      <td>060e732b5b29e8181a18229c7b0b2b5e</td>\n",
              "      <td>1151</td>\n",
              "      <td>sao paulo</td>\n",
              "      <td>SP</td>\n",
              "      <td>b2059ed67ce144a36e2aa97d2c9e9ad2</td>\n",
              "      <td>delivered</td>\n",
              "      <td>2018-05-19 16:07:45</td>\n",
              "      <td>2018-05-20 16:19:10</td>\n",
              "      <td>2018-06-11 14:31:00</td>\n",
              "      <td>2018-06-14 17:58:51</td>\n",
              "      <td>2018-06-13 00:00:00</td>\n",
              "      <td>1</td>\n",
              "      <td>bd07b66896d6f1494f5b86251848ced7</td>\n",
              "      <td>7c67e1448b00f6e969d365cea6b010ab</td>\n",
              "      <td>2018-06-05 16:19:10</td>\n",
              "      <td>139.94</td>\n",
              "      <td>17.79</td>\n",
              "    </tr>\n",
              "    <tr>\n",
              "      <th>2018-03-13 16:06:38</th>\n",
              "      <td>b2b6027bc5c5109e529d4dc6358b12c3</td>\n",
              "      <td>259dac757896d24d7702b9acbbff3f3c</td>\n",
              "      <td>8775</td>\n",
              "      <td>mogi das cruzes</td>\n",
              "      <td>SP</td>\n",
              "      <td>951670f92359f4fe4a63112aa7306eba</td>\n",
              "      <td>delivered</td>\n",
              "      <td>2018-03-13 16:06:38</td>\n",
              "      <td>2018-03-13 17:29:19</td>\n",
              "      <td>2018-03-27 23:22:42</td>\n",
              "      <td>2018-03-28 16:04:25</td>\n",
              "      <td>2018-04-10 00:00:00</td>\n",
              "      <td>1</td>\n",
              "      <td>a5647c44af977b148e0a3a4751a09e2e</td>\n",
              "      <td>7c67e1448b00f6e969d365cea6b010ab</td>\n",
              "      <td>2018-03-27 16:31:16</td>\n",
              "      <td>149.94</td>\n",
              "      <td>23.36</td>\n",
              "    </tr>\n",
              "    <tr>\n",
              "      <th>2018-07-29 09:51:30</th>\n",
              "      <td>4f2d8ab171c80ec8364f7c12e35b23ad</td>\n",
              "      <td>345ecd01c38d18a9036ed96c73b8d066</td>\n",
              "      <td>13056</td>\n",
              "      <td>campinas</td>\n",
              "      <td>SP</td>\n",
              "      <td>6b7d50bd145f6fc7f33cebabd7e49d0f</td>\n",
              "      <td>delivered</td>\n",
              "      <td>2018-07-29 09:51:30</td>\n",
              "      <td>2018-07-29 10:10:09</td>\n",
              "      <td>2018-07-30 15:16:00</td>\n",
              "      <td>2018-08-09 20:55:48</td>\n",
              "      <td>2018-08-15 00:00:00</td>\n",
              "      <td>1</td>\n",
              "      <td>9391a573abe00141c56e38d84d7d5b3b</td>\n",
              "      <td>4a3ca9315b744ce9f8e9374361493884</td>\n",
              "      <td>2018-07-31 10:10:09</td>\n",
              "      <td>230.00</td>\n",
              "      <td>22.25</td>\n",
              "    </tr>\n",
              "  </tbody>\n",
              "</table>\n",
              "</div>"
            ],
            "text/plain": [
              "                                               customer_id  ... freight_value\n",
              "order_purchase_timestamp                                    ...              \n",
              "2017-05-16 15:05:35       06b8999e2fba1a1fbc88172c00ba8bc7  ...         21.88\n",
              "2018-01-12 20:48:24       18955e83d337fd6b2def6b18a428ac77  ...         46.48\n",
              "2018-05-19 16:07:45       4e7b3e00288586ebd08712fdd0374a03  ...         17.79\n",
              "2018-03-13 16:06:38       b2b6027bc5c5109e529d4dc6358b12c3  ...         23.36\n",
              "2018-07-29 09:51:30       4f2d8ab171c80ec8364f7c12e35b23ad  ...         22.25\n",
              "\n",
              "[5 rows x 18 columns]"
            ]
          },
          "metadata": {
            "tags": []
          },
          "execution_count": 16
        }
      ]
    },
    {
      "cell_type": "code",
      "metadata": {
        "id": "kelojVIEKSt-",
        "colab_type": "code",
        "colab": {
          "base_uri": "https://localhost:8080/",
          "height": 34
        },
        "outputId": "75d851bf-4cd1-4a12-d63d-730b4caf08f4"
      },
      "source": [
        "df.shape"
      ],
      "execution_count": 17,
      "outputs": [
        {
          "output_type": "execute_result",
          "data": {
            "text/plain": [
              "(112650, 18)"
            ]
          },
          "metadata": {
            "tags": []
          },
          "execution_count": 17
        }
      ]
    }
  ]
}