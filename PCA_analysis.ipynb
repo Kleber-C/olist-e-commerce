{
  "nbformat": 4,
  "nbformat_minor": 0,
  "metadata": {
    "colab": {
      "name": "PCA_analysis.ipynb",
      "provenance": [],
      "include_colab_link": true
    },
    "kernelspec": {
      "name": "python3",
      "display_name": "Python 3"
    }
  },
  "cells": [
    {
      "cell_type": "markdown",
      "metadata": {
        "id": "view-in-github",
        "colab_type": "text"
      },
      "source": [
        "<a href=\"https://colab.research.google.com/github/Mario-RJunior/olist-e-commerce/blob/master/PCA_analysis.ipynb\" target=\"_parent\"><img src=\"https://colab.research.google.com/assets/colab-badge.svg\" alt=\"Open In Colab\"/></a>"
      ]
    },
    {
      "cell_type": "markdown",
      "metadata": {
        "id": "51l2RUiuzNOb",
        "colab_type": "text"
      },
      "source": [
        "# Análise dos Componentes Principais (PCA)"
      ]
    },
    {
      "cell_type": "markdown",
      "metadata": {
        "id": "j2bLE2GqzZOt",
        "colab_type": "text"
      },
      "source": [
        "Neste notebook iremos explorar as compras realizadas do ponto de vista dos tipos de produtos, ou seja, levando em consideração o departamento (categoria) a que eles se encontram. Para isso abordaremos uma técnica denominada Análise dos Componentes Principais (do inglês PCA - Principal Components Analysis) e nosso objetivo é tirar insigths acerca das vendas de cada departamento."
      ]
    },
    {
      "cell_type": "code",
      "metadata": {
        "id": "VuCWieH2zLhI",
        "colab_type": "code",
        "colab": {
          "base_uri": "https://localhost:8080/",
          "height": 71
        },
        "outputId": "270f6616-55cb-42cd-b027-bacf8061b07f"
      },
      "source": [
        "# Importando as bibliotecas\n",
        "import pandas as pd\n",
        "import matplotlib.pyplot as plt\n",
        "import seaborn as sns"
      ],
      "execution_count": 1,
      "outputs": [
        {
          "output_type": "stream",
          "text": [
            "/usr/local/lib/python3.6/dist-packages/statsmodels/tools/_testing.py:19: FutureWarning: pandas.util.testing is deprecated. Use the functions in the public API at pandas.testing instead.\n",
            "  import pandas.util.testing as tm\n"
          ],
          "name": "stderr"
        }
      ]
    },
    {
      "cell_type": "code",
      "metadata": {
        "id": "COPdDDnq0pmG",
        "colab_type": "code",
        "colab": {
          "base_uri": "https://localhost:8080/",
          "height": 136
        },
        "outputId": "8d5f650f-5111-41e5-f194-2c5b2c0efb35"
      },
      "source": [
        "! git clone https://github.com/Mario-RJunior/olist-e-commerce"
      ],
      "execution_count": 2,
      "outputs": [
        {
          "output_type": "stream",
          "text": [
            "Cloning into 'olist-e-commerce'...\n",
            "remote: Enumerating objects: 142, done.\u001b[K\n",
            "remote: Counting objects: 100% (142/142), done.\u001b[K\n",
            "remote: Compressing objects: 100% (142/142), done.\u001b[K\n",
            "remote: Total 323 (delta 89), reused 0 (delta 0), pack-reused 181\u001b[K\n",
            "Receiving objects: 100% (323/323), 26.44 MiB | 21.37 MiB/s, done.\n",
            "Resolving deltas: 100% (189/189), done.\n"
          ],
          "name": "stdout"
        }
      ]
    },
    {
      "cell_type": "markdown",
      "metadata": {
        "id": "6RyHueNl_Fy9",
        "colab_type": "text"
      },
      "source": [
        "- Carregando os dataframes"
      ]
    },
    {
      "cell_type": "code",
      "metadata": {
        "id": "aGgr3zxO0O9R",
        "colab_type": "code",
        "colab": {}
      },
      "source": [
        "# Criando os dataframes a serem usados\n",
        "customer = pd.read_csv('olist-e-commerce/datasets/olist_customers_dataset.csv')\n",
        "orders = pd.read_csv('olist-e-commerce/datasets/olist_orders_dataset.csv', \n",
        "                     usecols=['order_id', 'customer_id'])\n",
        "orders_items = pd.read_csv('olist-e-commerce/datasets/olist_order_items_dataset.csv', \n",
        "                           usecols=['order_id', 'order_item_id', 'product_id', 'price', 'freight_value'])\n",
        "products = pd.read_csv('olist-e-commerce/datasets/olist_products_dataset.csv', \n",
        "                   usecols=['product_id', 'product_category_name'])"
      ],
      "execution_count": 3,
      "outputs": []
    },
    {
      "cell_type": "code",
      "metadata": {
        "id": "-QnkglhY1EHn",
        "colab_type": "code",
        "colab": {
          "base_uri": "https://localhost:8080/",
          "height": 204
        },
        "outputId": "d3bc2fc8-2063-42a0-b6f9-d97029b46f5f"
      },
      "source": [
        "customer.head()"
      ],
      "execution_count": 4,
      "outputs": [
        {
          "output_type": "execute_result",
          "data": {
            "text/html": [
              "<div>\n",
              "<style scoped>\n",
              "    .dataframe tbody tr th:only-of-type {\n",
              "        vertical-align: middle;\n",
              "    }\n",
              "\n",
              "    .dataframe tbody tr th {\n",
              "        vertical-align: top;\n",
              "    }\n",
              "\n",
              "    .dataframe thead th {\n",
              "        text-align: right;\n",
              "    }\n",
              "</style>\n",
              "<table border=\"1\" class=\"dataframe\">\n",
              "  <thead>\n",
              "    <tr style=\"text-align: right;\">\n",
              "      <th></th>\n",
              "      <th>customer_id</th>\n",
              "      <th>customer_unique_id</th>\n",
              "      <th>customer_zip_code_prefix</th>\n",
              "      <th>customer_city</th>\n",
              "      <th>customer_state</th>\n",
              "    </tr>\n",
              "  </thead>\n",
              "  <tbody>\n",
              "    <tr>\n",
              "      <th>0</th>\n",
              "      <td>06b8999e2fba1a1fbc88172c00ba8bc7</td>\n",
              "      <td>861eff4711a542e4b93843c6dd7febb0</td>\n",
              "      <td>14409</td>\n",
              "      <td>franca</td>\n",
              "      <td>SP</td>\n",
              "    </tr>\n",
              "    <tr>\n",
              "      <th>1</th>\n",
              "      <td>18955e83d337fd6b2def6b18a428ac77</td>\n",
              "      <td>290c77bc529b7ac935b93aa66c333dc3</td>\n",
              "      <td>9790</td>\n",
              "      <td>sao bernardo do campo</td>\n",
              "      <td>SP</td>\n",
              "    </tr>\n",
              "    <tr>\n",
              "      <th>2</th>\n",
              "      <td>4e7b3e00288586ebd08712fdd0374a03</td>\n",
              "      <td>060e732b5b29e8181a18229c7b0b2b5e</td>\n",
              "      <td>1151</td>\n",
              "      <td>sao paulo</td>\n",
              "      <td>SP</td>\n",
              "    </tr>\n",
              "    <tr>\n",
              "      <th>3</th>\n",
              "      <td>b2b6027bc5c5109e529d4dc6358b12c3</td>\n",
              "      <td>259dac757896d24d7702b9acbbff3f3c</td>\n",
              "      <td>8775</td>\n",
              "      <td>mogi das cruzes</td>\n",
              "      <td>SP</td>\n",
              "    </tr>\n",
              "    <tr>\n",
              "      <th>4</th>\n",
              "      <td>4f2d8ab171c80ec8364f7c12e35b23ad</td>\n",
              "      <td>345ecd01c38d18a9036ed96c73b8d066</td>\n",
              "      <td>13056</td>\n",
              "      <td>campinas</td>\n",
              "      <td>SP</td>\n",
              "    </tr>\n",
              "  </tbody>\n",
              "</table>\n",
              "</div>"
            ],
            "text/plain": [
              "                        customer_id  ... customer_state\n",
              "0  06b8999e2fba1a1fbc88172c00ba8bc7  ...             SP\n",
              "1  18955e83d337fd6b2def6b18a428ac77  ...             SP\n",
              "2  4e7b3e00288586ebd08712fdd0374a03  ...             SP\n",
              "3  b2b6027bc5c5109e529d4dc6358b12c3  ...             SP\n",
              "4  4f2d8ab171c80ec8364f7c12e35b23ad  ...             SP\n",
              "\n",
              "[5 rows x 5 columns]"
            ]
          },
          "metadata": {
            "tags": []
          },
          "execution_count": 4
        }
      ]
    },
    {
      "cell_type": "code",
      "metadata": {
        "id": "-47fU0NP1IW2",
        "colab_type": "code",
        "colab": {
          "base_uri": "https://localhost:8080/",
          "height": 204
        },
        "outputId": "91907a80-6806-4915-e831-99b301472971"
      },
      "source": [
        "orders.head()"
      ],
      "execution_count": 5,
      "outputs": [
        {
          "output_type": "execute_result",
          "data": {
            "text/html": [
              "<div>\n",
              "<style scoped>\n",
              "    .dataframe tbody tr th:only-of-type {\n",
              "        vertical-align: middle;\n",
              "    }\n",
              "\n",
              "    .dataframe tbody tr th {\n",
              "        vertical-align: top;\n",
              "    }\n",
              "\n",
              "    .dataframe thead th {\n",
              "        text-align: right;\n",
              "    }\n",
              "</style>\n",
              "<table border=\"1\" class=\"dataframe\">\n",
              "  <thead>\n",
              "    <tr style=\"text-align: right;\">\n",
              "      <th></th>\n",
              "      <th>order_id</th>\n",
              "      <th>customer_id</th>\n",
              "    </tr>\n",
              "  </thead>\n",
              "  <tbody>\n",
              "    <tr>\n",
              "      <th>0</th>\n",
              "      <td>e481f51cbdc54678b7cc49136f2d6af7</td>\n",
              "      <td>9ef432eb6251297304e76186b10a928d</td>\n",
              "    </tr>\n",
              "    <tr>\n",
              "      <th>1</th>\n",
              "      <td>53cdb2fc8bc7dce0b6741e2150273451</td>\n",
              "      <td>b0830fb4747a6c6d20dea0b8c802d7ef</td>\n",
              "    </tr>\n",
              "    <tr>\n",
              "      <th>2</th>\n",
              "      <td>47770eb9100c2d0c44946d9cf07ec65d</td>\n",
              "      <td>41ce2a54c0b03bf3443c3d931a367089</td>\n",
              "    </tr>\n",
              "    <tr>\n",
              "      <th>3</th>\n",
              "      <td>949d5b44dbf5de918fe9c16f97b45f8a</td>\n",
              "      <td>f88197465ea7920adcdbec7375364d82</td>\n",
              "    </tr>\n",
              "    <tr>\n",
              "      <th>4</th>\n",
              "      <td>ad21c59c0840e6cb83a9ceb5573f8159</td>\n",
              "      <td>8ab97904e6daea8866dbdbc4fb7aad2c</td>\n",
              "    </tr>\n",
              "  </tbody>\n",
              "</table>\n",
              "</div>"
            ],
            "text/plain": [
              "                           order_id                       customer_id\n",
              "0  e481f51cbdc54678b7cc49136f2d6af7  9ef432eb6251297304e76186b10a928d\n",
              "1  53cdb2fc8bc7dce0b6741e2150273451  b0830fb4747a6c6d20dea0b8c802d7ef\n",
              "2  47770eb9100c2d0c44946d9cf07ec65d  41ce2a54c0b03bf3443c3d931a367089\n",
              "3  949d5b44dbf5de918fe9c16f97b45f8a  f88197465ea7920adcdbec7375364d82\n",
              "4  ad21c59c0840e6cb83a9ceb5573f8159  8ab97904e6daea8866dbdbc4fb7aad2c"
            ]
          },
          "metadata": {
            "tags": []
          },
          "execution_count": 5
        }
      ]
    },
    {
      "cell_type": "code",
      "metadata": {
        "id": "Z0iYMouz1MwX",
        "colab_type": "code",
        "colab": {
          "base_uri": "https://localhost:8080/",
          "height": 204
        },
        "outputId": "dea360ba-b53e-401e-88c3-3ac6cb2042dc"
      },
      "source": [
        "orders_items.head()"
      ],
      "execution_count": 6,
      "outputs": [
        {
          "output_type": "execute_result",
          "data": {
            "text/html": [
              "<div>\n",
              "<style scoped>\n",
              "    .dataframe tbody tr th:only-of-type {\n",
              "        vertical-align: middle;\n",
              "    }\n",
              "\n",
              "    .dataframe tbody tr th {\n",
              "        vertical-align: top;\n",
              "    }\n",
              "\n",
              "    .dataframe thead th {\n",
              "        text-align: right;\n",
              "    }\n",
              "</style>\n",
              "<table border=\"1\" class=\"dataframe\">\n",
              "  <thead>\n",
              "    <tr style=\"text-align: right;\">\n",
              "      <th></th>\n",
              "      <th>order_id</th>\n",
              "      <th>order_item_id</th>\n",
              "      <th>product_id</th>\n",
              "      <th>price</th>\n",
              "      <th>freight_value</th>\n",
              "    </tr>\n",
              "  </thead>\n",
              "  <tbody>\n",
              "    <tr>\n",
              "      <th>0</th>\n",
              "      <td>00010242fe8c5a6d1ba2dd792cb16214</td>\n",
              "      <td>1</td>\n",
              "      <td>4244733e06e7ecb4970a6e2683c13e61</td>\n",
              "      <td>58.90</td>\n",
              "      <td>13.29</td>\n",
              "    </tr>\n",
              "    <tr>\n",
              "      <th>1</th>\n",
              "      <td>00018f77f2f0320c557190d7a144bdd3</td>\n",
              "      <td>1</td>\n",
              "      <td>e5f2d52b802189ee658865ca93d83a8f</td>\n",
              "      <td>239.90</td>\n",
              "      <td>19.93</td>\n",
              "    </tr>\n",
              "    <tr>\n",
              "      <th>2</th>\n",
              "      <td>000229ec398224ef6ca0657da4fc703e</td>\n",
              "      <td>1</td>\n",
              "      <td>c777355d18b72b67abbeef9df44fd0fd</td>\n",
              "      <td>199.00</td>\n",
              "      <td>17.87</td>\n",
              "    </tr>\n",
              "    <tr>\n",
              "      <th>3</th>\n",
              "      <td>00024acbcdf0a6daa1e931b038114c75</td>\n",
              "      <td>1</td>\n",
              "      <td>7634da152a4610f1595efa32f14722fc</td>\n",
              "      <td>12.99</td>\n",
              "      <td>12.79</td>\n",
              "    </tr>\n",
              "    <tr>\n",
              "      <th>4</th>\n",
              "      <td>00042b26cf59d7ce69dfabb4e55b4fd9</td>\n",
              "      <td>1</td>\n",
              "      <td>ac6c3623068f30de03045865e4e10089</td>\n",
              "      <td>199.90</td>\n",
              "      <td>18.14</td>\n",
              "    </tr>\n",
              "  </tbody>\n",
              "</table>\n",
              "</div>"
            ],
            "text/plain": [
              "                           order_id  order_item_id  ...   price  freight_value\n",
              "0  00010242fe8c5a6d1ba2dd792cb16214              1  ...   58.90          13.29\n",
              "1  00018f77f2f0320c557190d7a144bdd3              1  ...  239.90          19.93\n",
              "2  000229ec398224ef6ca0657da4fc703e              1  ...  199.00          17.87\n",
              "3  00024acbcdf0a6daa1e931b038114c75              1  ...   12.99          12.79\n",
              "4  00042b26cf59d7ce69dfabb4e55b4fd9              1  ...  199.90          18.14\n",
              "\n",
              "[5 rows x 5 columns]"
            ]
          },
          "metadata": {
            "tags": []
          },
          "execution_count": 6
        }
      ]
    },
    {
      "cell_type": "code",
      "metadata": {
        "id": "Rme5OJ9j1Qdh",
        "colab_type": "code",
        "colab": {
          "base_uri": "https://localhost:8080/",
          "height": 204
        },
        "outputId": "9e9b082a-1498-4d8a-d59a-c00478cceba0"
      },
      "source": [
        "products.head()"
      ],
      "execution_count": 7,
      "outputs": [
        {
          "output_type": "execute_result",
          "data": {
            "text/html": [
              "<div>\n",
              "<style scoped>\n",
              "    .dataframe tbody tr th:only-of-type {\n",
              "        vertical-align: middle;\n",
              "    }\n",
              "\n",
              "    .dataframe tbody tr th {\n",
              "        vertical-align: top;\n",
              "    }\n",
              "\n",
              "    .dataframe thead th {\n",
              "        text-align: right;\n",
              "    }\n",
              "</style>\n",
              "<table border=\"1\" class=\"dataframe\">\n",
              "  <thead>\n",
              "    <tr style=\"text-align: right;\">\n",
              "      <th></th>\n",
              "      <th>product_id</th>\n",
              "      <th>product_category_name</th>\n",
              "    </tr>\n",
              "  </thead>\n",
              "  <tbody>\n",
              "    <tr>\n",
              "      <th>0</th>\n",
              "      <td>1e9e8ef04dbcff4541ed26657ea517e5</td>\n",
              "      <td>perfumaria</td>\n",
              "    </tr>\n",
              "    <tr>\n",
              "      <th>1</th>\n",
              "      <td>3aa071139cb16b67ca9e5dea641aaa2f</td>\n",
              "      <td>artes</td>\n",
              "    </tr>\n",
              "    <tr>\n",
              "      <th>2</th>\n",
              "      <td>96bd76ec8810374ed1b65e291975717f</td>\n",
              "      <td>esporte_lazer</td>\n",
              "    </tr>\n",
              "    <tr>\n",
              "      <th>3</th>\n",
              "      <td>cef67bcfe19066a932b7673e239eb23d</td>\n",
              "      <td>bebes</td>\n",
              "    </tr>\n",
              "    <tr>\n",
              "      <th>4</th>\n",
              "      <td>9dc1a7de274444849c219cff195d0b71</td>\n",
              "      <td>utilidades_domesticas</td>\n",
              "    </tr>\n",
              "  </tbody>\n",
              "</table>\n",
              "</div>"
            ],
            "text/plain": [
              "                         product_id  product_category_name\n",
              "0  1e9e8ef04dbcff4541ed26657ea517e5             perfumaria\n",
              "1  3aa071139cb16b67ca9e5dea641aaa2f                  artes\n",
              "2  96bd76ec8810374ed1b65e291975717f          esporte_lazer\n",
              "3  cef67bcfe19066a932b7673e239eb23d                  bebes\n",
              "4  9dc1a7de274444849c219cff195d0b71  utilidades_domesticas"
            ]
          },
          "metadata": {
            "tags": []
          },
          "execution_count": 7
        }
      ]
    },
    {
      "cell_type": "code",
      "metadata": {
        "id": "RNBAcUJ01ZPW",
        "colab_type": "code",
        "colab": {
          "base_uri": "https://localhost:8080/",
          "height": 102
        },
        "outputId": "ef726f1f-1032-4cf3-dca0-d9347f55569e"
      },
      "source": [
        "print(f'Shape dos dataframes: \\ncustomer: {customer.shape}\\n'\n",
        "      f'orders: {orders.shape} \\norders_items: {orders_items.shape}\\n'\n",
        "      f'products: {products.shape}')"
      ],
      "execution_count": 8,
      "outputs": [
        {
          "output_type": "stream",
          "text": [
            "Shape dos dataframes: \n",
            "customer: (99441, 5)\n",
            "orders: (99441, 2) \n",
            "orders_items: (112650, 5)\n",
            "products: (32951, 2)\n"
          ],
          "name": "stdout"
        }
      ]
    },
    {
      "cell_type": "markdown",
      "metadata": {
        "id": "N3GHpIYd_Pwg",
        "colab_type": "text"
      },
      "source": [
        "- Fazendo um merge dos dataframes acima"
      ]
    },
    {
      "cell_type": "markdown",
      "metadata": {
        "id": "X2rtWMch_VLN",
        "colab_type": "text"
      },
      "source": [
        "Podemos agora gerar um dataframe apenas que consiste em uma junção dos quatro carregados anteriormente."
      ]
    },
    {
      "cell_type": "code",
      "metadata": {
        "id": "nPldcBrc1vLl",
        "colab_type": "code",
        "colab": {
          "base_uri": "https://localhost:8080/",
          "height": 224
        },
        "outputId": "be5edc40-5949-49a4-a54f-53ca7e4adb8b"
      },
      "source": [
        "# Merge dos dataframes\n",
        "df = pd.merge(left=products,\n",
        "             right=orders_items,\n",
        "             on='product_id')\n",
        "df = pd.merge(left=df,\n",
        "             right=orders,\n",
        "             on='order_id')\n",
        "df = pd.merge(left=df,\n",
        "             right=customer,\n",
        "             on='customer_id')\n",
        "df.head()"
      ],
      "execution_count": 10,
      "outputs": [
        {
          "output_type": "execute_result",
          "data": {
            "text/html": [
              "<div>\n",
              "<style scoped>\n",
              "    .dataframe tbody tr th:only-of-type {\n",
              "        vertical-align: middle;\n",
              "    }\n",
              "\n",
              "    .dataframe tbody tr th {\n",
              "        vertical-align: top;\n",
              "    }\n",
              "\n",
              "    .dataframe thead th {\n",
              "        text-align: right;\n",
              "    }\n",
              "</style>\n",
              "<table border=\"1\" class=\"dataframe\">\n",
              "  <thead>\n",
              "    <tr style=\"text-align: right;\">\n",
              "      <th></th>\n",
              "      <th>product_id</th>\n",
              "      <th>product_category_name</th>\n",
              "      <th>order_id</th>\n",
              "      <th>order_item_id</th>\n",
              "      <th>price</th>\n",
              "      <th>freight_value</th>\n",
              "      <th>customer_id</th>\n",
              "      <th>customer_unique_id</th>\n",
              "      <th>customer_zip_code_prefix</th>\n",
              "      <th>customer_city</th>\n",
              "      <th>customer_state</th>\n",
              "    </tr>\n",
              "  </thead>\n",
              "  <tbody>\n",
              "    <tr>\n",
              "      <th>0</th>\n",
              "      <td>1e9e8ef04dbcff4541ed26657ea517e5</td>\n",
              "      <td>perfumaria</td>\n",
              "      <td>e17e4f88e31525f7deef66779844ddce</td>\n",
              "      <td>1</td>\n",
              "      <td>10.91</td>\n",
              "      <td>7.39</td>\n",
              "      <td>f8a3e963a310aa58b60a5b1fed5bceb5</td>\n",
              "      <td>b1a1199364a4a7fe27c4486ab63f550d</td>\n",
              "      <td>13848</td>\n",
              "      <td>mogi-guacu</td>\n",
              "      <td>SP</td>\n",
              "    </tr>\n",
              "    <tr>\n",
              "      <th>1</th>\n",
              "      <td>3aa071139cb16b67ca9e5dea641aaa2f</td>\n",
              "      <td>artes</td>\n",
              "      <td>5236307716393b7114b53ee991f36956</td>\n",
              "      <td>1</td>\n",
              "      <td>248.00</td>\n",
              "      <td>17.99</td>\n",
              "      <td>03fc97548af8f58fefc768d12b546c9c</td>\n",
              "      <td>4b86049cb99e4aa774031daa9cd18f18</td>\n",
              "      <td>20551</td>\n",
              "      <td>rio de janeiro</td>\n",
              "      <td>RJ</td>\n",
              "    </tr>\n",
              "    <tr>\n",
              "      <th>2</th>\n",
              "      <td>96bd76ec8810374ed1b65e291975717f</td>\n",
              "      <td>esporte_lazer</td>\n",
              "      <td>01f66e58769f84129811d43eefd187fb</td>\n",
              "      <td>1</td>\n",
              "      <td>79.80</td>\n",
              "      <td>7.82</td>\n",
              "      <td>e41819d1c95c12c9ce495b630eab8aee</td>\n",
              "      <td>f63805d9c7edb84d92413af34b86a39c</td>\n",
              "      <td>5821</td>\n",
              "      <td>sao paulo</td>\n",
              "      <td>SP</td>\n",
              "    </tr>\n",
              "    <tr>\n",
              "      <th>3</th>\n",
              "      <td>cef67bcfe19066a932b7673e239eb23d</td>\n",
              "      <td>bebes</td>\n",
              "      <td>143d00a4f2dde4e0364ee1821577adb3</td>\n",
              "      <td>1</td>\n",
              "      <td>112.30</td>\n",
              "      <td>9.54</td>\n",
              "      <td>322162b5ca010c2b059cb5224dd818b1</td>\n",
              "      <td>619e926d09b26efbd5180368b1ddc874</td>\n",
              "      <td>2018</td>\n",
              "      <td>sao paulo</td>\n",
              "      <td>SP</td>\n",
              "    </tr>\n",
              "    <tr>\n",
              "      <th>4</th>\n",
              "      <td>9dc1a7de274444849c219cff195d0b71</td>\n",
              "      <td>utilidades_domesticas</td>\n",
              "      <td>86cafb8794cb99a9b1b77fc8e48fbbbb</td>\n",
              "      <td>1</td>\n",
              "      <td>37.90</td>\n",
              "      <td>8.29</td>\n",
              "      <td>c11c31965ff02cc1d7132df8edfcbc22</td>\n",
              "      <td>ad353b4fb0e294adc4eda48af73e68a6</td>\n",
              "      <td>5835</td>\n",
              "      <td>sao paulo</td>\n",
              "      <td>SP</td>\n",
              "    </tr>\n",
              "  </tbody>\n",
              "</table>\n",
              "</div>"
            ],
            "text/plain": [
              "                         product_id  ... customer_state\n",
              "0  1e9e8ef04dbcff4541ed26657ea517e5  ...             SP\n",
              "1  3aa071139cb16b67ca9e5dea641aaa2f  ...             RJ\n",
              "2  96bd76ec8810374ed1b65e291975717f  ...             SP\n",
              "3  cef67bcfe19066a932b7673e239eb23d  ...             SP\n",
              "4  9dc1a7de274444849c219cff195d0b71  ...             SP\n",
              "\n",
              "[5 rows x 11 columns]"
            ]
          },
          "metadata": {
            "tags": []
          },
          "execution_count": 10
        }
      ]
    },
    {
      "cell_type": "code",
      "metadata": {
        "id": "13o97i8y3hcZ",
        "colab_type": "code",
        "colab": {
          "base_uri": "https://localhost:8080/",
          "height": 34
        },
        "outputId": "74754f9c-b552-4583-cb69-e2a54752cd97"
      },
      "source": [
        "df.shape"
      ],
      "execution_count": 11,
      "outputs": [
        {
          "output_type": "execute_result",
          "data": {
            "text/plain": [
              "(112650, 11)"
            ]
          },
          "metadata": {
            "tags": []
          },
          "execution_count": 11
        }
      ]
    },
    {
      "cell_type": "markdown",
      "metadata": {
        "id": "8SijXORJDOoK",
        "colab_type": "text"
      },
      "source": [
        "- Verificando valores missing"
      ]
    },
    {
      "cell_type": "code",
      "metadata": {
        "id": "r70xgwG8DQ91",
        "colab_type": "code",
        "colab": {
          "base_uri": "https://localhost:8080/",
          "height": 221
        },
        "outputId": "2bf57fad-3141-4d2c-c3a4-a0c97254bde5"
      },
      "source": [
        "df.isnull().sum()"
      ],
      "execution_count": 12,
      "outputs": [
        {
          "output_type": "execute_result",
          "data": {
            "text/plain": [
              "product_id                     0\n",
              "product_category_name       1603\n",
              "order_id                       0\n",
              "order_item_id                  0\n",
              "price                          0\n",
              "freight_value                  0\n",
              "customer_id                    0\n",
              "customer_unique_id             0\n",
              "customer_zip_code_prefix       0\n",
              "customer_city                  0\n",
              "customer_state                 0\n",
              "dtype: int64"
            ]
          },
          "metadata": {
            "tags": []
          },
          "execution_count": 12
        }
      ]
    },
    {
      "cell_type": "markdown",
      "metadata": {
        "id": "zlzkaxFFDVvU",
        "colab_type": "text"
      },
      "source": [
        "Note que há 1603 valores faltantes no dataframe, todos localizados na coluna product_category_name. Então, inicialmente iremos testar nosso modelo de PCA deletando estes valores. Note que neste caso temos um dataframe com 112650 registros e portanto estaremos retirando uma quantidade correspondente a menos de 2% dele, não sendo então uma quantidade tão significativa a ponto de prejudicar o modelo."
      ]
    },
    {
      "cell_type": "code",
      "metadata": {
        "id": "J4HL4w11DT9c",
        "colab_type": "code",
        "colab": {
          "base_uri": "https://localhost:8080/",
          "height": 34
        },
        "outputId": "638444e0-aa25-4859-83f1-e711ab07da6c"
      },
      "source": [
        "# Cálculo da porcentagem de dados retirados\n",
        "dados_retirados = 1603\n",
        "quantidade_total = 112650\n",
        "porcentagem = (dados_retirados / quantidade_total) * 100\n",
        "print(f'Dados retirados: {round(porcentagem, 2)}%.')"
      ],
      "execution_count": 13,
      "outputs": [
        {
          "output_type": "stream",
          "text": [
            "Dados retirados: 1.42%.\n"
          ],
          "name": "stdout"
        }
      ]
    },
    {
      "cell_type": "markdown",
      "metadata": {
        "id": "SizrtyOnE4wJ",
        "colab_type": "text"
      },
      "source": [
        "- Retirando registros com valores faltantes"
      ]
    },
    {
      "cell_type": "markdown",
      "metadata": {
        "id": "dERsZe-LFAeE",
        "colab_type": "text"
      },
      "source": [
        "Podemos então retirar tais registros procedendo da seguinte maneira:"
      ]
    },
    {
      "cell_type": "code",
      "metadata": {
        "id": "V7p_1WpIEdEQ",
        "colab_type": "code",
        "colab": {}
      },
      "source": [
        "# Excluindo os registros\n",
        "df.dropna(axis=0, inplace=True)"
      ],
      "execution_count": 14,
      "outputs": []
    },
    {
      "cell_type": "code",
      "metadata": {
        "id": "qHex5M4vFL5S",
        "colab_type": "code",
        "colab": {
          "base_uri": "https://localhost:8080/",
          "height": 34
        },
        "outputId": "e166c208-d918-4c1f-898d-2d269cdc2e17"
      },
      "source": [
        "# Verificando novo shape\n",
        "df.shape"
      ],
      "execution_count": 15,
      "outputs": [
        {
          "output_type": "execute_result",
          "data": {
            "text/plain": [
              "(111047, 11)"
            ]
          },
          "metadata": {
            "tags": []
          },
          "execution_count": 15
        }
      ]
    },
    {
      "cell_type": "markdown",
      "metadata": {
        "id": "BxGUQD_dFbHF",
        "colab_type": "text"
      },
      "source": [
        "Portanto agora trabalharemos com um dataframe cujo shape é de 111047 linhas e 11 colunas."
      ]
    },
    {
      "cell_type": "markdown",
      "metadata": {
        "id": "T22w0Ra_sP3M",
        "colab_type": "text"
      },
      "source": [
        "- Agrupando categorias"
      ]
    },
    {
      "cell_type": "code",
      "metadata": {
        "id": "_RB8-fZxsR41",
        "colab_type": "code",
        "colab": {
          "base_uri": "https://localhost:8080/",
          "height": 510
        },
        "outputId": "58f0d434-fd92-48ee-8218-93603a82f75f"
      },
      "source": [
        "# Vendo quais são as categorias dos produtos\n",
        "df['product_category_name'].unique()"
      ],
      "execution_count": 16,
      "outputs": [
        {
          "output_type": "execute_result",
          "data": {
            "text/plain": [
              "array(['perfumaria', 'artes', 'esporte_lazer', 'bebes',\n",
              "       'utilidades_domesticas', 'instrumentos_musicais', 'cool_stuff',\n",
              "       'moveis_decoracao', 'eletrodomesticos', 'brinquedos',\n",
              "       'cama_mesa_banho', 'construcao_ferramentas_seguranca',\n",
              "       'informatica_acessorios', 'beleza_saude', 'malas_acessorios',\n",
              "       'ferramentas_jardim', 'moveis_escritorio', 'automotivo',\n",
              "       'eletronicos', 'fashion_calcados', 'telefonia', 'papelaria',\n",
              "       'fashion_bolsas_e_acessorios', 'pcs', 'casa_construcao',\n",
              "       'relogios_presentes', 'construcao_ferramentas_construcao',\n",
              "       'pet_shop', 'eletroportateis', 'agro_industria_e_comercio',\n",
              "       'moveis_sala', 'sinalizacao_e_seguranca', 'climatizacao',\n",
              "       'consoles_games', 'livros_interesse_geral',\n",
              "       'construcao_ferramentas_ferramentas',\n",
              "       'fashion_underwear_e_moda_praia', 'fashion_roupa_masculina',\n",
              "       'moveis_cozinha_area_de_servico_jantar_e_jardim',\n",
              "       'industria_comercio_e_negocios', 'telefonia_fixa',\n",
              "       'construcao_ferramentas_iluminacao', 'livros_tecnicos',\n",
              "       'eletrodomesticos_2', 'artigos_de_festas', 'bebidas',\n",
              "       'market_place', 'la_cuisine', 'construcao_ferramentas_jardim',\n",
              "       'fashion_roupa_feminina', 'casa_conforto', 'audio',\n",
              "       'alimentos_bebidas', 'musica', 'alimentos',\n",
              "       'tablets_impressao_imagem', 'livros_importados',\n",
              "       'portateis_casa_forno_e_cafe', 'fashion_esporte',\n",
              "       'artigos_de_natal', 'fashion_roupa_infanto_juvenil',\n",
              "       'dvds_blu_ray', 'artes_e_artesanato', 'pc_gamer', 'flores',\n",
              "       'moveis_quarto', 'cine_foto', 'fraldas_higiene', 'casa_conforto_2',\n",
              "       'portateis_cozinha_e_preparadores_de_alimentos',\n",
              "       'seguros_e_servicos', 'moveis_colchao_e_estofado',\n",
              "       'cds_dvds_musicais'], dtype=object)"
            ]
          },
          "metadata": {
            "tags": []
          },
          "execution_count": 16
        }
      ]
    },
    {
      "cell_type": "code",
      "metadata": {
        "id": "435jGGu2sd0E",
        "colab_type": "code",
        "colab": {
          "base_uri": "https://localhost:8080/",
          "height": 34
        },
        "outputId": "98ac97df-814a-4d06-8849-4da5938274a2"
      },
      "source": [
        "# Vendo quantas categorias há dos produtos\n",
        "df['product_category_name'].nunique()"
      ],
      "execution_count": 17,
      "outputs": [
        {
          "output_type": "execute_result",
          "data": {
            "text/plain": [
              "73"
            ]
          },
          "metadata": {
            "tags": []
          },
          "execution_count": 17
        }
      ]
    },
    {
      "cell_type": "markdown",
      "metadata": {
        "id": "zj42rRofsp8x",
        "colab_type": "text"
      },
      "source": [
        "Vemos então que há 73 categorias e ao verificar cada uma notamos que muitas delas são ligeiramente repetidas, ou pelo menos poderiam ser agrupadas em uma única categoria, diminuindo assim este número alto. Portanto iremos agrupar categorias semelhantes com o código abaixo."
      ]
    },
    {
      "cell_type": "code",
      "metadata": {
        "id": "7T6TuAVUsonq",
        "colab_type": "code",
        "colab": {}
      },
      "source": [
        "# Agrupando categorias similares\n",
        "df['product_category_name'] = df['product_category_name'].replace('telefonia_fixa', 'telefonia')\\\n",
        ".replace('eletrodomesticos_2', 'eletrodomesticos'). replace('bebes', 'brinquedos_e_bebes')\\\n",
        ".replace('fraldas_higiene', 'brinquedos_e_bebes').replace('brinquedos', 'brinquedos_e_bebes')\\\n",
        ".replace('artes', 'artes_e_artesanato').replace('bebidas', 'alimentos_bebidas'). replace('alimentos', 'alimentos_bebidas')\\\n",
        ".replace('casa_conforto_2', 'casa_conforto').replace('musica', 'musicas_cds_dvds_blu_ray')\\\n",
        ".replace('cds_dvds_musicais', 'musicas_cds_dvds_blu_ray').replace('dvds_blu_ray', 'musicas_cds_dvds_blu_ray')\\\n",
        ".replace('livros_importados', 'livros').replace('livros_tecnicos', 'livros').replace('livros_interesse_geral', 'livros')\\\n",
        ".replace('fashion_bolsas_e_acessorios', 'moda_beleza_perfumaria').replace('fashion_calcados', 'moda_beleza_perfumaria')\\\n",
        ".replace('fashion_underwear_e_moda_praia', 'moda_beleza_perfumaria')\\\n",
        ".replace('fashion_roupa_masculina', 'moda_beleza_perfumaria').replace('fashion_roupa_feminina', 'moda_beleza_perfumaria')\\\n",
        ".replace('fashion_esporte', 'moda_beleza_perfumaria').replace('fashion_roupa_infanto_juvenil', 'moda_beleza_perfumaria')\\\n",
        ".replace('relogios_presentes', 'moda_beleza_perfumaria').replace('perfumaria', 'moda_beleza_perfumaria')\\\n",
        ".replace('construcao_ferramentas_construcao', 'construção_ferramentas').replace('casa_construcao', 'construção_ferramentas')\\\n",
        ".replace('construcao_ferramentas_seguranca', 'construção_ferramentas')\\\n",
        ".replace('construcao_ferramentas_ferramentas', 'construção_ferramentas')\\\n",
        ".replace('construcao_ferramentas_iluminacao', 'construção_ferramentas')\\\n",
        ".replace('construcao_ferramentas_jardim', 'construção_ferramentas')\\\n",
        ".replace('moveis_decoracao', 'moveis_decoracao')\\\n",
        ".replace('moveis_escritorio', 'moveis_decoracao')\\\n",
        ".replace('moveis_sala', 'moveis_decoracao')\\\n",
        ".replace('moveis_cozinha_area_de_servico_jantar_e_jardim', 'moveis_decoracao')\\\n",
        ".replace('moveis_quarto', 'moveis_decoracao')\\\n",
        ".replace('moveis_colchao_e_estofado', 'moveis_decoracao')\\\n",
        ".replace('informatica_acessorios', 'informatica_tablets')\\\n",
        ".replace('pcs', 'informatica_tablets')\\\n",
        ".replace('pc_gamer', 'informatica_tablets')\\\n",
        ".replace('tablets_impressao_imagem', 'informatica_tablets')\\\n",
        ".replace('agro_industria_e_comercio', 'industria_comercio')\\\n",
        ".replace('industria_comercio_e_negocios', 'industria_comercio')\\\n",
        ".replace('portateis_casa_forno_e_cafe', 'portateis_casa')\\\n",
        ".replace('portateis_cozinha_e_preparadores_de_alimentos', 'portateis_casa')\\\n",
        ".replace('artigos_de_festas', 'artigos_festas')\\\n",
        ".replace('artigos_de_natal', 'artigos_festas')\\\n",
        ".replace('eletronicos', 'eletronicos_games')\\\n",
        ".replace('consoles_games', 'eletronicos_games')\\\n",
        ".replace('eletronicos_games', 'eletronicos_games_livros')\\\n",
        ".replace('livros', 'eletronicos_games_livros')\\\n",
        ".replace('cine_foto', 'cine_foto_audio')\\\n",
        ".replace('audio', 'cine_foto_audio')\\\n",
        ".replace('sinalizacao_e_seguranca', 'sinalizacao_e_seguranca_servicos')\\\n",
        ".replace('seguros_e_servicos', 'sinalizacao_e_seguranca_servicos')"
      ],
      "execution_count": 19,
      "outputs": []
    },
    {
      "cell_type": "markdown",
      "metadata": {
        "id": "qXteSnOEtYl2",
        "colab_type": "text"
      },
      "source": [
        "Verificando novamente as categorias e suas quantidades."
      ]
    },
    {
      "cell_type": "code",
      "metadata": {
        "id": "E9RW8gdItO-k",
        "colab_type": "code",
        "colab": {
          "base_uri": "https://localhost:8080/",
          "height": 221
        },
        "outputId": "047956ea-7b2d-4bed-af98-9448585e0f98"
      },
      "source": [
        "# Vendo quais são as categorias dos produtos\n",
        "df['product_category_name'].unique()"
      ],
      "execution_count": 20,
      "outputs": [
        {
          "output_type": "execute_result",
          "data": {
            "text/plain": [
              "array(['moda_beleza_perfumaria', 'artes_e_artesanato', 'esporte_lazer',\n",
              "       'brinquedos_e_bebes', 'utilidades_domesticas',\n",
              "       'instrumentos_musicais', 'cool_stuff', 'moveis_decoracao',\n",
              "       'eletrodomesticos', 'cama_mesa_banho', 'construção_ferramentas',\n",
              "       'informatica_tablets', 'beleza_saude', 'malas_acessorios',\n",
              "       'ferramentas_jardim', 'automotivo', 'eletronicos_games_livros',\n",
              "       'telefonia', 'papelaria', 'pet_shop', 'eletroportateis',\n",
              "       'industria_comercio', 'sinalizacao_e_seguranca_servicos',\n",
              "       'climatizacao', 'artigos_festas', 'alimentos_bebidas',\n",
              "       'market_place', 'la_cuisine', 'casa_conforto', 'cine_foto_audio',\n",
              "       'musicas_cds_dvds_blu_ray', 'portateis_casa', 'flores'],\n",
              "      dtype=object)"
            ]
          },
          "metadata": {
            "tags": []
          },
          "execution_count": 20
        }
      ]
    },
    {
      "cell_type": "code",
      "metadata": {
        "id": "O2ECV0FKtcSj",
        "colab_type": "code",
        "colab": {
          "base_uri": "https://localhost:8080/",
          "height": 34
        },
        "outputId": "f8208ff8-5f7a-4eba-eb5e-e953de44c3fa"
      },
      "source": [
        "# Vendo quantas categorias há dos produtos\n",
        "df['product_category_name'].nunique()"
      ],
      "execution_count": 21,
      "outputs": [
        {
          "output_type": "execute_result",
          "data": {
            "text/plain": [
              "33"
            ]
          },
          "metadata": {
            "tags": []
          },
          "execution_count": 21
        }
      ]
    },
    {
      "cell_type": "markdown",
      "metadata": {
        "id": "FiRcr_httjrB",
        "colab_type": "text"
      },
      "source": [
        "Ou seja, conseguimos reduzir o número de categorias em 40 unidades. \n",
        "\n",
        "Uma outra mudança importante a se fazer é no que diz respeito à seleção das features. Tendo em vista que queremos relacionar os clientes com as compras de cada categoria precisamos envolver apenas as features relacionadas à análise. Portanto, podemos redefinir o dataframe df conforme o código abaixo."
      ]
    },
    {
      "cell_type": "code",
      "metadata": {
        "id": "JZwbgZP1vtnn",
        "colab_type": "code",
        "colab": {
          "base_uri": "https://localhost:8080/",
          "height": 204
        },
        "outputId": "31bd4853-bd0a-4911-bdcf-c9e0948ea2eb"
      },
      "source": [
        "# Criação do dataframe das categorias\n",
        "df_category = df.groupby(['customer_unique_id', 'product_category_name']).agg({\n",
        "    'price': 'sum'\n",
        "}).reset_index()\n",
        "\n",
        "# Renomeando as colunas\n",
        "df_category.rename(\n",
        "    columns={'product_category_name': 'categorias',\n",
        "             'price': 'preco'\n",
        "             }, inplace=True\n",
        "             )\n",
        "# Exibindo as 5 primeiras linhas\n",
        "df_category.head()"
      ],
      "execution_count": 24,
      "outputs": [
        {
          "output_type": "execute_result",
          "data": {
            "text/html": [
              "<div>\n",
              "<style scoped>\n",
              "    .dataframe tbody tr th:only-of-type {\n",
              "        vertical-align: middle;\n",
              "    }\n",
              "\n",
              "    .dataframe tbody tr th {\n",
              "        vertical-align: top;\n",
              "    }\n",
              "\n",
              "    .dataframe thead th {\n",
              "        text-align: right;\n",
              "    }\n",
              "</style>\n",
              "<table border=\"1\" class=\"dataframe\">\n",
              "  <thead>\n",
              "    <tr style=\"text-align: right;\">\n",
              "      <th></th>\n",
              "      <th>customer_unique_id</th>\n",
              "      <th>categorias</th>\n",
              "      <th>preco</th>\n",
              "    </tr>\n",
              "  </thead>\n",
              "  <tbody>\n",
              "    <tr>\n",
              "      <th>0</th>\n",
              "      <td>0000366f3b9a7992bf8c76cfdf3221e2</td>\n",
              "      <td>cama_mesa_banho</td>\n",
              "      <td>129.90</td>\n",
              "    </tr>\n",
              "    <tr>\n",
              "      <th>1</th>\n",
              "      <td>0000b849f77a49e4a4ce2b2a4ca5be3f</td>\n",
              "      <td>beleza_saude</td>\n",
              "      <td>18.90</td>\n",
              "    </tr>\n",
              "    <tr>\n",
              "      <th>2</th>\n",
              "      <td>0000f46a3911fa3c0805444483337064</td>\n",
              "      <td>papelaria</td>\n",
              "      <td>69.00</td>\n",
              "    </tr>\n",
              "    <tr>\n",
              "      <th>3</th>\n",
              "      <td>0000f6ccb0745a6a4b88665a16c9f078</td>\n",
              "      <td>telefonia</td>\n",
              "      <td>25.99</td>\n",
              "    </tr>\n",
              "    <tr>\n",
              "      <th>4</th>\n",
              "      <td>0004aac84e0df4da2b147fca70cf8255</td>\n",
              "      <td>telefonia</td>\n",
              "      <td>180.00</td>\n",
              "    </tr>\n",
              "  </tbody>\n",
              "</table>\n",
              "</div>"
            ],
            "text/plain": [
              "                 customer_unique_id       categorias   preco\n",
              "0  0000366f3b9a7992bf8c76cfdf3221e2  cama_mesa_banho  129.90\n",
              "1  0000b849f77a49e4a4ce2b2a4ca5be3f     beleza_saude   18.90\n",
              "2  0000f46a3911fa3c0805444483337064        papelaria   69.00\n",
              "3  0000f6ccb0745a6a4b88665a16c9f078        telefonia   25.99\n",
              "4  0004aac84e0df4da2b147fca70cf8255        telefonia  180.00"
            ]
          },
          "metadata": {
            "tags": []
          },
          "execution_count": 24
        }
      ]
    },
    {
      "cell_type": "markdown",
      "metadata": {
        "id": "IcwW0ixmw-Qm",
        "colab_type": "text"
      },
      "source": [
        "- Distribuindo as categorias em colunas"
      ]
    },
    {
      "cell_type": "markdown",
      "metadata": {
        "id": "rl9RsCVAxJ1R",
        "colab_type": "text"
      },
      "source": [
        "Para melhor visualização e análise do dataframe podemos redefini-lo de forma que possamos visualizar as categorias como colunas. "
      ]
    },
    {
      "cell_type": "code",
      "metadata": {
        "id": "8KmKE7Mjwz_M",
        "colab_type": "code",
        "colab": {
          "base_uri": "https://localhost:8080/",
          "height": 255
        },
        "outputId": "c365b0b6-39fa-42c2-d2c5-6d36c2cc88a1"
      },
      "source": [
        "# Redefinindo o dataframe\n",
        "df_category = df_category.pivot_table(\n",
        "    'preco', ['customer_unique_id'], \n",
        "    'categorias')\n",
        "\n",
        "df_category.head()"
      ],
      "execution_count": 27,
      "outputs": [
        {
          "output_type": "execute_result",
          "data": {
            "text/html": [
              "<div>\n",
              "<style scoped>\n",
              "    .dataframe tbody tr th:only-of-type {\n",
              "        vertical-align: middle;\n",
              "    }\n",
              "\n",
              "    .dataframe tbody tr th {\n",
              "        vertical-align: top;\n",
              "    }\n",
              "\n",
              "    .dataframe thead th {\n",
              "        text-align: right;\n",
              "    }\n",
              "</style>\n",
              "<table border=\"1\" class=\"dataframe\">\n",
              "  <thead>\n",
              "    <tr style=\"text-align: right;\">\n",
              "      <th>categorias</th>\n",
              "      <th>alimentos_bebidas</th>\n",
              "      <th>artes_e_artesanato</th>\n",
              "      <th>artigos_festas</th>\n",
              "      <th>automotivo</th>\n",
              "      <th>beleza_saude</th>\n",
              "      <th>brinquedos_e_bebes</th>\n",
              "      <th>cama_mesa_banho</th>\n",
              "      <th>casa_conforto</th>\n",
              "      <th>cine_foto_audio</th>\n",
              "      <th>climatizacao</th>\n",
              "      <th>construção_ferramentas</th>\n",
              "      <th>cool_stuff</th>\n",
              "      <th>eletrodomesticos</th>\n",
              "      <th>eletronicos_games_livros</th>\n",
              "      <th>eletroportateis</th>\n",
              "      <th>esporte_lazer</th>\n",
              "      <th>ferramentas_jardim</th>\n",
              "      <th>flores</th>\n",
              "      <th>industria_comercio</th>\n",
              "      <th>informatica_tablets</th>\n",
              "      <th>instrumentos_musicais</th>\n",
              "      <th>la_cuisine</th>\n",
              "      <th>malas_acessorios</th>\n",
              "      <th>market_place</th>\n",
              "      <th>moda_beleza_perfumaria</th>\n",
              "      <th>moveis_decoracao</th>\n",
              "      <th>musicas_cds_dvds_blu_ray</th>\n",
              "      <th>papelaria</th>\n",
              "      <th>pet_shop</th>\n",
              "      <th>portateis_casa</th>\n",
              "      <th>sinalizacao_e_seguranca_servicos</th>\n",
              "      <th>telefonia</th>\n",
              "      <th>utilidades_domesticas</th>\n",
              "    </tr>\n",
              "    <tr>\n",
              "      <th>customer_unique_id</th>\n",
              "      <th></th>\n",
              "      <th></th>\n",
              "      <th></th>\n",
              "      <th></th>\n",
              "      <th></th>\n",
              "      <th></th>\n",
              "      <th></th>\n",
              "      <th></th>\n",
              "      <th></th>\n",
              "      <th></th>\n",
              "      <th></th>\n",
              "      <th></th>\n",
              "      <th></th>\n",
              "      <th></th>\n",
              "      <th></th>\n",
              "      <th></th>\n",
              "      <th></th>\n",
              "      <th></th>\n",
              "      <th></th>\n",
              "      <th></th>\n",
              "      <th></th>\n",
              "      <th></th>\n",
              "      <th></th>\n",
              "      <th></th>\n",
              "      <th></th>\n",
              "      <th></th>\n",
              "      <th></th>\n",
              "      <th></th>\n",
              "      <th></th>\n",
              "      <th></th>\n",
              "      <th></th>\n",
              "      <th></th>\n",
              "      <th></th>\n",
              "    </tr>\n",
              "  </thead>\n",
              "  <tbody>\n",
              "    <tr>\n",
              "      <th>0000366f3b9a7992bf8c76cfdf3221e2</th>\n",
              "      <td>NaN</td>\n",
              "      <td>NaN</td>\n",
              "      <td>NaN</td>\n",
              "      <td>NaN</td>\n",
              "      <td>NaN</td>\n",
              "      <td>NaN</td>\n",
              "      <td>129.9</td>\n",
              "      <td>NaN</td>\n",
              "      <td>NaN</td>\n",
              "      <td>NaN</td>\n",
              "      <td>NaN</td>\n",
              "      <td>NaN</td>\n",
              "      <td>NaN</td>\n",
              "      <td>NaN</td>\n",
              "      <td>NaN</td>\n",
              "      <td>NaN</td>\n",
              "      <td>NaN</td>\n",
              "      <td>NaN</td>\n",
              "      <td>NaN</td>\n",
              "      <td>NaN</td>\n",
              "      <td>NaN</td>\n",
              "      <td>NaN</td>\n",
              "      <td>NaN</td>\n",
              "      <td>NaN</td>\n",
              "      <td>NaN</td>\n",
              "      <td>NaN</td>\n",
              "      <td>NaN</td>\n",
              "      <td>NaN</td>\n",
              "      <td>NaN</td>\n",
              "      <td>NaN</td>\n",
              "      <td>NaN</td>\n",
              "      <td>NaN</td>\n",
              "      <td>NaN</td>\n",
              "    </tr>\n",
              "    <tr>\n",
              "      <th>0000b849f77a49e4a4ce2b2a4ca5be3f</th>\n",
              "      <td>NaN</td>\n",
              "      <td>NaN</td>\n",
              "      <td>NaN</td>\n",
              "      <td>NaN</td>\n",
              "      <td>18.9</td>\n",
              "      <td>NaN</td>\n",
              "      <td>NaN</td>\n",
              "      <td>NaN</td>\n",
              "      <td>NaN</td>\n",
              "      <td>NaN</td>\n",
              "      <td>NaN</td>\n",
              "      <td>NaN</td>\n",
              "      <td>NaN</td>\n",
              "      <td>NaN</td>\n",
              "      <td>NaN</td>\n",
              "      <td>NaN</td>\n",
              "      <td>NaN</td>\n",
              "      <td>NaN</td>\n",
              "      <td>NaN</td>\n",
              "      <td>NaN</td>\n",
              "      <td>NaN</td>\n",
              "      <td>NaN</td>\n",
              "      <td>NaN</td>\n",
              "      <td>NaN</td>\n",
              "      <td>NaN</td>\n",
              "      <td>NaN</td>\n",
              "      <td>NaN</td>\n",
              "      <td>NaN</td>\n",
              "      <td>NaN</td>\n",
              "      <td>NaN</td>\n",
              "      <td>NaN</td>\n",
              "      <td>NaN</td>\n",
              "      <td>NaN</td>\n",
              "    </tr>\n",
              "    <tr>\n",
              "      <th>0000f46a3911fa3c0805444483337064</th>\n",
              "      <td>NaN</td>\n",
              "      <td>NaN</td>\n",
              "      <td>NaN</td>\n",
              "      <td>NaN</td>\n",
              "      <td>NaN</td>\n",
              "      <td>NaN</td>\n",
              "      <td>NaN</td>\n",
              "      <td>NaN</td>\n",
              "      <td>NaN</td>\n",
              "      <td>NaN</td>\n",
              "      <td>NaN</td>\n",
              "      <td>NaN</td>\n",
              "      <td>NaN</td>\n",
              "      <td>NaN</td>\n",
              "      <td>NaN</td>\n",
              "      <td>NaN</td>\n",
              "      <td>NaN</td>\n",
              "      <td>NaN</td>\n",
              "      <td>NaN</td>\n",
              "      <td>NaN</td>\n",
              "      <td>NaN</td>\n",
              "      <td>NaN</td>\n",
              "      <td>NaN</td>\n",
              "      <td>NaN</td>\n",
              "      <td>NaN</td>\n",
              "      <td>NaN</td>\n",
              "      <td>NaN</td>\n",
              "      <td>69.0</td>\n",
              "      <td>NaN</td>\n",
              "      <td>NaN</td>\n",
              "      <td>NaN</td>\n",
              "      <td>NaN</td>\n",
              "      <td>NaN</td>\n",
              "    </tr>\n",
              "    <tr>\n",
              "      <th>0000f6ccb0745a6a4b88665a16c9f078</th>\n",
              "      <td>NaN</td>\n",
              "      <td>NaN</td>\n",
              "      <td>NaN</td>\n",
              "      <td>NaN</td>\n",
              "      <td>NaN</td>\n",
              "      <td>NaN</td>\n",
              "      <td>NaN</td>\n",
              "      <td>NaN</td>\n",
              "      <td>NaN</td>\n",
              "      <td>NaN</td>\n",
              "      <td>NaN</td>\n",
              "      <td>NaN</td>\n",
              "      <td>NaN</td>\n",
              "      <td>NaN</td>\n",
              "      <td>NaN</td>\n",
              "      <td>NaN</td>\n",
              "      <td>NaN</td>\n",
              "      <td>NaN</td>\n",
              "      <td>NaN</td>\n",
              "      <td>NaN</td>\n",
              "      <td>NaN</td>\n",
              "      <td>NaN</td>\n",
              "      <td>NaN</td>\n",
              "      <td>NaN</td>\n",
              "      <td>NaN</td>\n",
              "      <td>NaN</td>\n",
              "      <td>NaN</td>\n",
              "      <td>NaN</td>\n",
              "      <td>NaN</td>\n",
              "      <td>NaN</td>\n",
              "      <td>NaN</td>\n",
              "      <td>25.99</td>\n",
              "      <td>NaN</td>\n",
              "    </tr>\n",
              "    <tr>\n",
              "      <th>0004aac84e0df4da2b147fca70cf8255</th>\n",
              "      <td>NaN</td>\n",
              "      <td>NaN</td>\n",
              "      <td>NaN</td>\n",
              "      <td>NaN</td>\n",
              "      <td>NaN</td>\n",
              "      <td>NaN</td>\n",
              "      <td>NaN</td>\n",
              "      <td>NaN</td>\n",
              "      <td>NaN</td>\n",
              "      <td>NaN</td>\n",
              "      <td>NaN</td>\n",
              "      <td>NaN</td>\n",
              "      <td>NaN</td>\n",
              "      <td>NaN</td>\n",
              "      <td>NaN</td>\n",
              "      <td>NaN</td>\n",
              "      <td>NaN</td>\n",
              "      <td>NaN</td>\n",
              "      <td>NaN</td>\n",
              "      <td>NaN</td>\n",
              "      <td>NaN</td>\n",
              "      <td>NaN</td>\n",
              "      <td>NaN</td>\n",
              "      <td>NaN</td>\n",
              "      <td>NaN</td>\n",
              "      <td>NaN</td>\n",
              "      <td>NaN</td>\n",
              "      <td>NaN</td>\n",
              "      <td>NaN</td>\n",
              "      <td>NaN</td>\n",
              "      <td>NaN</td>\n",
              "      <td>180.00</td>\n",
              "      <td>NaN</td>\n",
              "    </tr>\n",
              "  </tbody>\n",
              "</table>\n",
              "</div>"
            ],
            "text/plain": [
              "categorias                        alimentos_bebidas  ...  utilidades_domesticas\n",
              "customer_unique_id                                   ...                       \n",
              "0000366f3b9a7992bf8c76cfdf3221e2                NaN  ...                    NaN\n",
              "0000b849f77a49e4a4ce2b2a4ca5be3f                NaN  ...                    NaN\n",
              "0000f46a3911fa3c0805444483337064                NaN  ...                    NaN\n",
              "0000f6ccb0745a6a4b88665a16c9f078                NaN  ...                    NaN\n",
              "0004aac84e0df4da2b147fca70cf8255                NaN  ...                    NaN\n",
              "\n",
              "[5 rows x 33 columns]"
            ]
          },
          "metadata": {
            "tags": []
          },
          "execution_count": 27
        }
      ]
    },
    {
      "cell_type": "code",
      "metadata": {
        "id": "ikAOLz_GxgNg",
        "colab_type": "code",
        "colab": {
          "base_uri": "https://localhost:8080/",
          "height": 34
        },
        "outputId": "2a0c79fa-2bd3-4eda-fdcd-fd7722e926f7"
      },
      "source": [
        "df_category.shape"
      ],
      "execution_count": 28,
      "outputs": [
        {
          "output_type": "execute_result",
          "data": {
            "text/plain": [
              "(94108, 33)"
            ]
          },
          "metadata": {
            "tags": []
          },
          "execution_count": 28
        }
      ]
    }
  ]
}