{
  "nbformat": 4,
  "nbformat_minor": 0,
  "metadata": {
    "colab": {
      "name": "PCA_analysis.ipynb",
      "provenance": [],
      "include_colab_link": true
    },
    "kernelspec": {
      "name": "python3",
      "display_name": "Python 3"
    }
  },
  "cells": [
    {
      "cell_type": "markdown",
      "metadata": {
        "id": "view-in-github",
        "colab_type": "text"
      },
      "source": [
        "<a href=\"https://colab.research.google.com/github/Mario-RJunior/olist-e-commerce/blob/master/PCA_analysis.ipynb\" target=\"_parent\"><img src=\"https://colab.research.google.com/assets/colab-badge.svg\" alt=\"Open In Colab\"/></a>"
      ]
    },
    {
      "cell_type": "markdown",
      "metadata": {
        "id": "51l2RUiuzNOb",
        "colab_type": "text"
      },
      "source": [
        "# Análise dos Componentes Principais (PCA)"
      ]
    },
    {
      "cell_type": "markdown",
      "metadata": {
        "id": "j2bLE2GqzZOt",
        "colab_type": "text"
      },
      "source": [
        "Neste notebook iremos explorar as compras realizadas do ponto de vista dos tipos de produtos, ou seja, levando em consideração o departamento (categoria) a que eles se encontram. Para isso abordaremos uma técnica denominada Análise dos Componentes Principais (do inglês PCA - Principal Components Analysis) e nosso objetivo é tirar insigths acerca das vendas de cada departamento."
      ]
    },
    {
      "cell_type": "code",
      "metadata": {
        "id": "VuCWieH2zLhI",
        "colab_type": "code",
        "colab": {
          "base_uri": "https://localhost:8080/",
          "height": 71
        },
        "outputId": "4e2a74c0-519f-4f63-e9c7-750d557cfe24"
      },
      "source": [
        "# Importando as bibliotecas\n",
        "import pandas as pd\n",
        "import numpy as np\n",
        "import matplotlib.pyplot as plt\n",
        "import seaborn as sns\n",
        "import categories as ct\n",
        "import visuals as vs\n",
        "from sklearn.decomposition import PCA"
      ],
      "execution_count": 1,
      "outputs": [
        {
          "output_type": "stream",
          "text": [
            "/usr/local/lib/python3.6/dist-packages/statsmodels/tools/_testing.py:19: FutureWarning: pandas.util.testing is deprecated. Use the functions in the public API at pandas.testing instead.\n",
            "  import pandas.util.testing as tm\n"
          ],
          "name": "stderr"
        }
      ]
    },
    {
      "cell_type": "code",
      "metadata": {
        "id": "COPdDDnq0pmG",
        "colab_type": "code",
        "colab": {
          "base_uri": "https://localhost:8080/",
          "height": 34
        },
        "outputId": "d9ddcc5f-7e71-4e56-937e-4cfef6030139"
      },
      "source": [
        "! git clone https://github.com/Mario-RJunior/olist-e-commerce"
      ],
      "execution_count": 2,
      "outputs": [
        {
          "output_type": "stream",
          "text": [
            "fatal: destination path 'olist-e-commerce' already exists and is not an empty directory.\n"
          ],
          "name": "stdout"
        }
      ]
    },
    {
      "cell_type": "markdown",
      "metadata": {
        "id": "6RyHueNl_Fy9",
        "colab_type": "text"
      },
      "source": [
        "- Carregando os dataframes"
      ]
    },
    {
      "cell_type": "code",
      "metadata": {
        "id": "aGgr3zxO0O9R",
        "colab_type": "code",
        "colab": {}
      },
      "source": [
        "# Criando os dataframes a serem usados\n",
        "customer = pd.read_csv('olist-e-commerce/datasets/olist_customers_dataset.csv')\n",
        "orders = pd.read_csv('olist-e-commerce/datasets/olist_orders_dataset.csv', \n",
        "                     usecols=['order_id', 'customer_id'])\n",
        "orders_items = pd.read_csv('olist-e-commerce/datasets/olist_order_items_dataset.csv', \n",
        "                           usecols=['order_id', 'order_item_id', 'product_id', 'price', 'freight_value'])\n",
        "products = pd.read_csv('olist-e-commerce/datasets/olist_products_dataset.csv', \n",
        "                   usecols=['product_id', 'product_category_name'])"
      ],
      "execution_count": 3,
      "outputs": []
    },
    {
      "cell_type": "code",
      "metadata": {
        "id": "-QnkglhY1EHn",
        "colab_type": "code",
        "colab": {
          "base_uri": "https://localhost:8080/",
          "height": 204
        },
        "outputId": "b5f3b073-5b46-4cba-e80c-ce49a4f72e92"
      },
      "source": [
        "customer.head()"
      ],
      "execution_count": 4,
      "outputs": [
        {
          "output_type": "execute_result",
          "data": {
            "text/html": [
              "<div>\n",
              "<style scoped>\n",
              "    .dataframe tbody tr th:only-of-type {\n",
              "        vertical-align: middle;\n",
              "    }\n",
              "\n",
              "    .dataframe tbody tr th {\n",
              "        vertical-align: top;\n",
              "    }\n",
              "\n",
              "    .dataframe thead th {\n",
              "        text-align: right;\n",
              "    }\n",
              "</style>\n",
              "<table border=\"1\" class=\"dataframe\">\n",
              "  <thead>\n",
              "    <tr style=\"text-align: right;\">\n",
              "      <th></th>\n",
              "      <th>customer_id</th>\n",
              "      <th>customer_unique_id</th>\n",
              "      <th>customer_zip_code_prefix</th>\n",
              "      <th>customer_city</th>\n",
              "      <th>customer_state</th>\n",
              "    </tr>\n",
              "  </thead>\n",
              "  <tbody>\n",
              "    <tr>\n",
              "      <th>0</th>\n",
              "      <td>06b8999e2fba1a1fbc88172c00ba8bc7</td>\n",
              "      <td>861eff4711a542e4b93843c6dd7febb0</td>\n",
              "      <td>14409</td>\n",
              "      <td>franca</td>\n",
              "      <td>SP</td>\n",
              "    </tr>\n",
              "    <tr>\n",
              "      <th>1</th>\n",
              "      <td>18955e83d337fd6b2def6b18a428ac77</td>\n",
              "      <td>290c77bc529b7ac935b93aa66c333dc3</td>\n",
              "      <td>9790</td>\n",
              "      <td>sao bernardo do campo</td>\n",
              "      <td>SP</td>\n",
              "    </tr>\n",
              "    <tr>\n",
              "      <th>2</th>\n",
              "      <td>4e7b3e00288586ebd08712fdd0374a03</td>\n",
              "      <td>060e732b5b29e8181a18229c7b0b2b5e</td>\n",
              "      <td>1151</td>\n",
              "      <td>sao paulo</td>\n",
              "      <td>SP</td>\n",
              "    </tr>\n",
              "    <tr>\n",
              "      <th>3</th>\n",
              "      <td>b2b6027bc5c5109e529d4dc6358b12c3</td>\n",
              "      <td>259dac757896d24d7702b9acbbff3f3c</td>\n",
              "      <td>8775</td>\n",
              "      <td>mogi das cruzes</td>\n",
              "      <td>SP</td>\n",
              "    </tr>\n",
              "    <tr>\n",
              "      <th>4</th>\n",
              "      <td>4f2d8ab171c80ec8364f7c12e35b23ad</td>\n",
              "      <td>345ecd01c38d18a9036ed96c73b8d066</td>\n",
              "      <td>13056</td>\n",
              "      <td>campinas</td>\n",
              "      <td>SP</td>\n",
              "    </tr>\n",
              "  </tbody>\n",
              "</table>\n",
              "</div>"
            ],
            "text/plain": [
              "                        customer_id  ... customer_state\n",
              "0  06b8999e2fba1a1fbc88172c00ba8bc7  ...             SP\n",
              "1  18955e83d337fd6b2def6b18a428ac77  ...             SP\n",
              "2  4e7b3e00288586ebd08712fdd0374a03  ...             SP\n",
              "3  b2b6027bc5c5109e529d4dc6358b12c3  ...             SP\n",
              "4  4f2d8ab171c80ec8364f7c12e35b23ad  ...             SP\n",
              "\n",
              "[5 rows x 5 columns]"
            ]
          },
          "metadata": {
            "tags": []
          },
          "execution_count": 4
        }
      ]
    },
    {
      "cell_type": "code",
      "metadata": {
        "id": "-47fU0NP1IW2",
        "colab_type": "code",
        "colab": {
          "base_uri": "https://localhost:8080/",
          "height": 204
        },
        "outputId": "34edfcbd-79be-4cb0-b335-393816197d79"
      },
      "source": [
        "orders.head()"
      ],
      "execution_count": 5,
      "outputs": [
        {
          "output_type": "execute_result",
          "data": {
            "text/html": [
              "<div>\n",
              "<style scoped>\n",
              "    .dataframe tbody tr th:only-of-type {\n",
              "        vertical-align: middle;\n",
              "    }\n",
              "\n",
              "    .dataframe tbody tr th {\n",
              "        vertical-align: top;\n",
              "    }\n",
              "\n",
              "    .dataframe thead th {\n",
              "        text-align: right;\n",
              "    }\n",
              "</style>\n",
              "<table border=\"1\" class=\"dataframe\">\n",
              "  <thead>\n",
              "    <tr style=\"text-align: right;\">\n",
              "      <th></th>\n",
              "      <th>order_id</th>\n",
              "      <th>customer_id</th>\n",
              "    </tr>\n",
              "  </thead>\n",
              "  <tbody>\n",
              "    <tr>\n",
              "      <th>0</th>\n",
              "      <td>e481f51cbdc54678b7cc49136f2d6af7</td>\n",
              "      <td>9ef432eb6251297304e76186b10a928d</td>\n",
              "    </tr>\n",
              "    <tr>\n",
              "      <th>1</th>\n",
              "      <td>53cdb2fc8bc7dce0b6741e2150273451</td>\n",
              "      <td>b0830fb4747a6c6d20dea0b8c802d7ef</td>\n",
              "    </tr>\n",
              "    <tr>\n",
              "      <th>2</th>\n",
              "      <td>47770eb9100c2d0c44946d9cf07ec65d</td>\n",
              "      <td>41ce2a54c0b03bf3443c3d931a367089</td>\n",
              "    </tr>\n",
              "    <tr>\n",
              "      <th>3</th>\n",
              "      <td>949d5b44dbf5de918fe9c16f97b45f8a</td>\n",
              "      <td>f88197465ea7920adcdbec7375364d82</td>\n",
              "    </tr>\n",
              "    <tr>\n",
              "      <th>4</th>\n",
              "      <td>ad21c59c0840e6cb83a9ceb5573f8159</td>\n",
              "      <td>8ab97904e6daea8866dbdbc4fb7aad2c</td>\n",
              "    </tr>\n",
              "  </tbody>\n",
              "</table>\n",
              "</div>"
            ],
            "text/plain": [
              "                           order_id                       customer_id\n",
              "0  e481f51cbdc54678b7cc49136f2d6af7  9ef432eb6251297304e76186b10a928d\n",
              "1  53cdb2fc8bc7dce0b6741e2150273451  b0830fb4747a6c6d20dea0b8c802d7ef\n",
              "2  47770eb9100c2d0c44946d9cf07ec65d  41ce2a54c0b03bf3443c3d931a367089\n",
              "3  949d5b44dbf5de918fe9c16f97b45f8a  f88197465ea7920adcdbec7375364d82\n",
              "4  ad21c59c0840e6cb83a9ceb5573f8159  8ab97904e6daea8866dbdbc4fb7aad2c"
            ]
          },
          "metadata": {
            "tags": []
          },
          "execution_count": 5
        }
      ]
    },
    {
      "cell_type": "code",
      "metadata": {
        "id": "Z0iYMouz1MwX",
        "colab_type": "code",
        "colab": {
          "base_uri": "https://localhost:8080/",
          "height": 204
        },
        "outputId": "cda51453-e914-4a92-b5cd-d6a8c8956856"
      },
      "source": [
        "orders_items.head()"
      ],
      "execution_count": 6,
      "outputs": [
        {
          "output_type": "execute_result",
          "data": {
            "text/html": [
              "<div>\n",
              "<style scoped>\n",
              "    .dataframe tbody tr th:only-of-type {\n",
              "        vertical-align: middle;\n",
              "    }\n",
              "\n",
              "    .dataframe tbody tr th {\n",
              "        vertical-align: top;\n",
              "    }\n",
              "\n",
              "    .dataframe thead th {\n",
              "        text-align: right;\n",
              "    }\n",
              "</style>\n",
              "<table border=\"1\" class=\"dataframe\">\n",
              "  <thead>\n",
              "    <tr style=\"text-align: right;\">\n",
              "      <th></th>\n",
              "      <th>order_id</th>\n",
              "      <th>order_item_id</th>\n",
              "      <th>product_id</th>\n",
              "      <th>price</th>\n",
              "      <th>freight_value</th>\n",
              "    </tr>\n",
              "  </thead>\n",
              "  <tbody>\n",
              "    <tr>\n",
              "      <th>0</th>\n",
              "      <td>00010242fe8c5a6d1ba2dd792cb16214</td>\n",
              "      <td>1</td>\n",
              "      <td>4244733e06e7ecb4970a6e2683c13e61</td>\n",
              "      <td>58.90</td>\n",
              "      <td>13.29</td>\n",
              "    </tr>\n",
              "    <tr>\n",
              "      <th>1</th>\n",
              "      <td>00018f77f2f0320c557190d7a144bdd3</td>\n",
              "      <td>1</td>\n",
              "      <td>e5f2d52b802189ee658865ca93d83a8f</td>\n",
              "      <td>239.90</td>\n",
              "      <td>19.93</td>\n",
              "    </tr>\n",
              "    <tr>\n",
              "      <th>2</th>\n",
              "      <td>000229ec398224ef6ca0657da4fc703e</td>\n",
              "      <td>1</td>\n",
              "      <td>c777355d18b72b67abbeef9df44fd0fd</td>\n",
              "      <td>199.00</td>\n",
              "      <td>17.87</td>\n",
              "    </tr>\n",
              "    <tr>\n",
              "      <th>3</th>\n",
              "      <td>00024acbcdf0a6daa1e931b038114c75</td>\n",
              "      <td>1</td>\n",
              "      <td>7634da152a4610f1595efa32f14722fc</td>\n",
              "      <td>12.99</td>\n",
              "      <td>12.79</td>\n",
              "    </tr>\n",
              "    <tr>\n",
              "      <th>4</th>\n",
              "      <td>00042b26cf59d7ce69dfabb4e55b4fd9</td>\n",
              "      <td>1</td>\n",
              "      <td>ac6c3623068f30de03045865e4e10089</td>\n",
              "      <td>199.90</td>\n",
              "      <td>18.14</td>\n",
              "    </tr>\n",
              "  </tbody>\n",
              "</table>\n",
              "</div>"
            ],
            "text/plain": [
              "                           order_id  order_item_id  ...   price  freight_value\n",
              "0  00010242fe8c5a6d1ba2dd792cb16214              1  ...   58.90          13.29\n",
              "1  00018f77f2f0320c557190d7a144bdd3              1  ...  239.90          19.93\n",
              "2  000229ec398224ef6ca0657da4fc703e              1  ...  199.00          17.87\n",
              "3  00024acbcdf0a6daa1e931b038114c75              1  ...   12.99          12.79\n",
              "4  00042b26cf59d7ce69dfabb4e55b4fd9              1  ...  199.90          18.14\n",
              "\n",
              "[5 rows x 5 columns]"
            ]
          },
          "metadata": {
            "tags": []
          },
          "execution_count": 6
        }
      ]
    },
    {
      "cell_type": "code",
      "metadata": {
        "id": "Rme5OJ9j1Qdh",
        "colab_type": "code",
        "colab": {
          "base_uri": "https://localhost:8080/",
          "height": 204
        },
        "outputId": "e6db027a-a653-4d96-a770-8f672e64a94c"
      },
      "source": [
        "products.head()"
      ],
      "execution_count": 7,
      "outputs": [
        {
          "output_type": "execute_result",
          "data": {
            "text/html": [
              "<div>\n",
              "<style scoped>\n",
              "    .dataframe tbody tr th:only-of-type {\n",
              "        vertical-align: middle;\n",
              "    }\n",
              "\n",
              "    .dataframe tbody tr th {\n",
              "        vertical-align: top;\n",
              "    }\n",
              "\n",
              "    .dataframe thead th {\n",
              "        text-align: right;\n",
              "    }\n",
              "</style>\n",
              "<table border=\"1\" class=\"dataframe\">\n",
              "  <thead>\n",
              "    <tr style=\"text-align: right;\">\n",
              "      <th></th>\n",
              "      <th>product_id</th>\n",
              "      <th>product_category_name</th>\n",
              "    </tr>\n",
              "  </thead>\n",
              "  <tbody>\n",
              "    <tr>\n",
              "      <th>0</th>\n",
              "      <td>1e9e8ef04dbcff4541ed26657ea517e5</td>\n",
              "      <td>perfumaria</td>\n",
              "    </tr>\n",
              "    <tr>\n",
              "      <th>1</th>\n",
              "      <td>3aa071139cb16b67ca9e5dea641aaa2f</td>\n",
              "      <td>artes</td>\n",
              "    </tr>\n",
              "    <tr>\n",
              "      <th>2</th>\n",
              "      <td>96bd76ec8810374ed1b65e291975717f</td>\n",
              "      <td>esporte_lazer</td>\n",
              "    </tr>\n",
              "    <tr>\n",
              "      <th>3</th>\n",
              "      <td>cef67bcfe19066a932b7673e239eb23d</td>\n",
              "      <td>bebes</td>\n",
              "    </tr>\n",
              "    <tr>\n",
              "      <th>4</th>\n",
              "      <td>9dc1a7de274444849c219cff195d0b71</td>\n",
              "      <td>utilidades_domesticas</td>\n",
              "    </tr>\n",
              "  </tbody>\n",
              "</table>\n",
              "</div>"
            ],
            "text/plain": [
              "                         product_id  product_category_name\n",
              "0  1e9e8ef04dbcff4541ed26657ea517e5             perfumaria\n",
              "1  3aa071139cb16b67ca9e5dea641aaa2f                  artes\n",
              "2  96bd76ec8810374ed1b65e291975717f          esporte_lazer\n",
              "3  cef67bcfe19066a932b7673e239eb23d                  bebes\n",
              "4  9dc1a7de274444849c219cff195d0b71  utilidades_domesticas"
            ]
          },
          "metadata": {
            "tags": []
          },
          "execution_count": 7
        }
      ]
    },
    {
      "cell_type": "code",
      "metadata": {
        "id": "RNBAcUJ01ZPW",
        "colab_type": "code",
        "colab": {
          "base_uri": "https://localhost:8080/",
          "height": 102
        },
        "outputId": "2a57b1cd-7ece-4764-eb7c-06f1a2840e2a"
      },
      "source": [
        "print(f'Shape dos dataframes: \\ncustomer: {customer.shape}\\n'\n",
        "      f'orders: {orders.shape} \\norders_items: {orders_items.shape}\\n'\n",
        "      f'products: {products.shape}')"
      ],
      "execution_count": 8,
      "outputs": [
        {
          "output_type": "stream",
          "text": [
            "Shape dos dataframes: \n",
            "customer: (99441, 5)\n",
            "orders: (99441, 2) \n",
            "orders_items: (112650, 5)\n",
            "products: (32951, 2)\n"
          ],
          "name": "stdout"
        }
      ]
    },
    {
      "cell_type": "markdown",
      "metadata": {
        "id": "N3GHpIYd_Pwg",
        "colab_type": "text"
      },
      "source": [
        "- Fazendo um merge dos dataframes acima"
      ]
    },
    {
      "cell_type": "markdown",
      "metadata": {
        "id": "X2rtWMch_VLN",
        "colab_type": "text"
      },
      "source": [
        "Podemos agora gerar um dataframe apenas que consiste em uma junção dos quatro carregados anteriormente."
      ]
    },
    {
      "cell_type": "code",
      "metadata": {
        "id": "nPldcBrc1vLl",
        "colab_type": "code",
        "colab": {
          "base_uri": "https://localhost:8080/",
          "height": 224
        },
        "outputId": "325dafa7-48a1-4d49-c5d4-98817e1394c7"
      },
      "source": [
        "# Merge dos dataframes\n",
        "df = pd.merge(left=products,\n",
        "             right=orders_items,\n",
        "             on='product_id')\n",
        "df = pd.merge(left=df,\n",
        "             right=orders,\n",
        "             on='order_id')\n",
        "df = pd.merge(left=df,\n",
        "             right=customer,\n",
        "             on='customer_id')\n",
        "df.head()"
      ],
      "execution_count": 9,
      "outputs": [
        {
          "output_type": "execute_result",
          "data": {
            "text/html": [
              "<div>\n",
              "<style scoped>\n",
              "    .dataframe tbody tr th:only-of-type {\n",
              "        vertical-align: middle;\n",
              "    }\n",
              "\n",
              "    .dataframe tbody tr th {\n",
              "        vertical-align: top;\n",
              "    }\n",
              "\n",
              "    .dataframe thead th {\n",
              "        text-align: right;\n",
              "    }\n",
              "</style>\n",
              "<table border=\"1\" class=\"dataframe\">\n",
              "  <thead>\n",
              "    <tr style=\"text-align: right;\">\n",
              "      <th></th>\n",
              "      <th>product_id</th>\n",
              "      <th>product_category_name</th>\n",
              "      <th>order_id</th>\n",
              "      <th>order_item_id</th>\n",
              "      <th>price</th>\n",
              "      <th>freight_value</th>\n",
              "      <th>customer_id</th>\n",
              "      <th>customer_unique_id</th>\n",
              "      <th>customer_zip_code_prefix</th>\n",
              "      <th>customer_city</th>\n",
              "      <th>customer_state</th>\n",
              "    </tr>\n",
              "  </thead>\n",
              "  <tbody>\n",
              "    <tr>\n",
              "      <th>0</th>\n",
              "      <td>1e9e8ef04dbcff4541ed26657ea517e5</td>\n",
              "      <td>perfumaria</td>\n",
              "      <td>e17e4f88e31525f7deef66779844ddce</td>\n",
              "      <td>1</td>\n",
              "      <td>10.91</td>\n",
              "      <td>7.39</td>\n",
              "      <td>f8a3e963a310aa58b60a5b1fed5bceb5</td>\n",
              "      <td>b1a1199364a4a7fe27c4486ab63f550d</td>\n",
              "      <td>13848</td>\n",
              "      <td>mogi-guacu</td>\n",
              "      <td>SP</td>\n",
              "    </tr>\n",
              "    <tr>\n",
              "      <th>1</th>\n",
              "      <td>3aa071139cb16b67ca9e5dea641aaa2f</td>\n",
              "      <td>artes</td>\n",
              "      <td>5236307716393b7114b53ee991f36956</td>\n",
              "      <td>1</td>\n",
              "      <td>248.00</td>\n",
              "      <td>17.99</td>\n",
              "      <td>03fc97548af8f58fefc768d12b546c9c</td>\n",
              "      <td>4b86049cb99e4aa774031daa9cd18f18</td>\n",
              "      <td>20551</td>\n",
              "      <td>rio de janeiro</td>\n",
              "      <td>RJ</td>\n",
              "    </tr>\n",
              "    <tr>\n",
              "      <th>2</th>\n",
              "      <td>96bd76ec8810374ed1b65e291975717f</td>\n",
              "      <td>esporte_lazer</td>\n",
              "      <td>01f66e58769f84129811d43eefd187fb</td>\n",
              "      <td>1</td>\n",
              "      <td>79.80</td>\n",
              "      <td>7.82</td>\n",
              "      <td>e41819d1c95c12c9ce495b630eab8aee</td>\n",
              "      <td>f63805d9c7edb84d92413af34b86a39c</td>\n",
              "      <td>5821</td>\n",
              "      <td>sao paulo</td>\n",
              "      <td>SP</td>\n",
              "    </tr>\n",
              "    <tr>\n",
              "      <th>3</th>\n",
              "      <td>cef67bcfe19066a932b7673e239eb23d</td>\n",
              "      <td>bebes</td>\n",
              "      <td>143d00a4f2dde4e0364ee1821577adb3</td>\n",
              "      <td>1</td>\n",
              "      <td>112.30</td>\n",
              "      <td>9.54</td>\n",
              "      <td>322162b5ca010c2b059cb5224dd818b1</td>\n",
              "      <td>619e926d09b26efbd5180368b1ddc874</td>\n",
              "      <td>2018</td>\n",
              "      <td>sao paulo</td>\n",
              "      <td>SP</td>\n",
              "    </tr>\n",
              "    <tr>\n",
              "      <th>4</th>\n",
              "      <td>9dc1a7de274444849c219cff195d0b71</td>\n",
              "      <td>utilidades_domesticas</td>\n",
              "      <td>86cafb8794cb99a9b1b77fc8e48fbbbb</td>\n",
              "      <td>1</td>\n",
              "      <td>37.90</td>\n",
              "      <td>8.29</td>\n",
              "      <td>c11c31965ff02cc1d7132df8edfcbc22</td>\n",
              "      <td>ad353b4fb0e294adc4eda48af73e68a6</td>\n",
              "      <td>5835</td>\n",
              "      <td>sao paulo</td>\n",
              "      <td>SP</td>\n",
              "    </tr>\n",
              "  </tbody>\n",
              "</table>\n",
              "</div>"
            ],
            "text/plain": [
              "                         product_id  ... customer_state\n",
              "0  1e9e8ef04dbcff4541ed26657ea517e5  ...             SP\n",
              "1  3aa071139cb16b67ca9e5dea641aaa2f  ...             RJ\n",
              "2  96bd76ec8810374ed1b65e291975717f  ...             SP\n",
              "3  cef67bcfe19066a932b7673e239eb23d  ...             SP\n",
              "4  9dc1a7de274444849c219cff195d0b71  ...             SP\n",
              "\n",
              "[5 rows x 11 columns]"
            ]
          },
          "metadata": {
            "tags": []
          },
          "execution_count": 9
        }
      ]
    },
    {
      "cell_type": "code",
      "metadata": {
        "id": "13o97i8y3hcZ",
        "colab_type": "code",
        "colab": {
          "base_uri": "https://localhost:8080/",
          "height": 34
        },
        "outputId": "aee391ea-de69-40fb-a40d-40946a488b73"
      },
      "source": [
        "df.shape"
      ],
      "execution_count": 10,
      "outputs": [
        {
          "output_type": "execute_result",
          "data": {
            "text/plain": [
              "(112650, 11)"
            ]
          },
          "metadata": {
            "tags": []
          },
          "execution_count": 10
        }
      ]
    },
    {
      "cell_type": "markdown",
      "metadata": {
        "id": "8SijXORJDOoK",
        "colab_type": "text"
      },
      "source": [
        "- Verificando valores missing"
      ]
    },
    {
      "cell_type": "code",
      "metadata": {
        "id": "r70xgwG8DQ91",
        "colab_type": "code",
        "colab": {
          "base_uri": "https://localhost:8080/",
          "height": 221
        },
        "outputId": "8cc9c2b7-758e-4ac1-9231-c9fdb8436810"
      },
      "source": [
        "df.isnull().sum()"
      ],
      "execution_count": 11,
      "outputs": [
        {
          "output_type": "execute_result",
          "data": {
            "text/plain": [
              "product_id                     0\n",
              "product_category_name       1603\n",
              "order_id                       0\n",
              "order_item_id                  0\n",
              "price                          0\n",
              "freight_value                  0\n",
              "customer_id                    0\n",
              "customer_unique_id             0\n",
              "customer_zip_code_prefix       0\n",
              "customer_city                  0\n",
              "customer_state                 0\n",
              "dtype: int64"
            ]
          },
          "metadata": {
            "tags": []
          },
          "execution_count": 11
        }
      ]
    },
    {
      "cell_type": "markdown",
      "metadata": {
        "id": "zlzkaxFFDVvU",
        "colab_type": "text"
      },
      "source": [
        "Note que há 1603 valores faltantes no dataframe, todos localizados na coluna product_category_name. Então, inicialmente iremos testar nosso modelo de PCA deletando estes valores. Note que neste caso temos um dataframe com 112650 registros e portanto estaremos retirando uma quantidade correspondente a menos de 2% dele, não sendo então uma quantidade tão significativa a ponto de prejudicar o modelo."
      ]
    },
    {
      "cell_type": "code",
      "metadata": {
        "id": "J4HL4w11DT9c",
        "colab_type": "code",
        "colab": {
          "base_uri": "https://localhost:8080/",
          "height": 34
        },
        "outputId": "72dc819b-6b2c-4462-ccf2-424ef0bd5429"
      },
      "source": [
        "# Cálculo da porcentagem de dados retirados\n",
        "dados_retirados = 1603\n",
        "quantidade_total = 112650\n",
        "porcentagem = (dados_retirados / quantidade_total) * 100\n",
        "print(f'Dados retirados: {round(porcentagem, 2)}%.')"
      ],
      "execution_count": 12,
      "outputs": [
        {
          "output_type": "stream",
          "text": [
            "Dados retirados: 1.42%.\n"
          ],
          "name": "stdout"
        }
      ]
    },
    {
      "cell_type": "markdown",
      "metadata": {
        "id": "SizrtyOnE4wJ",
        "colab_type": "text"
      },
      "source": [
        "- Retirando registros com valores faltantes"
      ]
    },
    {
      "cell_type": "markdown",
      "metadata": {
        "id": "dERsZe-LFAeE",
        "colab_type": "text"
      },
      "source": [
        "Podemos então retirar tais registros procedendo da seguinte maneira:"
      ]
    },
    {
      "cell_type": "code",
      "metadata": {
        "id": "V7p_1WpIEdEQ",
        "colab_type": "code",
        "colab": {}
      },
      "source": [
        "# Excluindo os registros\n",
        "df.dropna(axis=0, inplace=True)"
      ],
      "execution_count": 13,
      "outputs": []
    },
    {
      "cell_type": "code",
      "metadata": {
        "id": "qHex5M4vFL5S",
        "colab_type": "code",
        "colab": {
          "base_uri": "https://localhost:8080/",
          "height": 34
        },
        "outputId": "d9cad23d-ab55-4b3a-cd09-951e2954f69a"
      },
      "source": [
        "# Verificando novo shape\n",
        "df.shape"
      ],
      "execution_count": 14,
      "outputs": [
        {
          "output_type": "execute_result",
          "data": {
            "text/plain": [
              "(111047, 11)"
            ]
          },
          "metadata": {
            "tags": []
          },
          "execution_count": 14
        }
      ]
    },
    {
      "cell_type": "markdown",
      "metadata": {
        "id": "BxGUQD_dFbHF",
        "colab_type": "text"
      },
      "source": [
        "Portanto agora trabalharemos com um dataframe cujo shape é de 111047 linhas e 11 colunas."
      ]
    },
    {
      "cell_type": "markdown",
      "metadata": {
        "id": "T22w0Ra_sP3M",
        "colab_type": "text"
      },
      "source": [
        "- Agrupando categorias"
      ]
    },
    {
      "cell_type": "code",
      "metadata": {
        "id": "_RB8-fZxsR41",
        "colab_type": "code",
        "colab": {
          "base_uri": "https://localhost:8080/",
          "height": 510
        },
        "outputId": "e35a9c7f-2d85-4552-ba42-b9e1f6bb30b6"
      },
      "source": [
        "# Vendo quais são as categorias dos produtos\n",
        "df['product_category_name'].unique()"
      ],
      "execution_count": 15,
      "outputs": [
        {
          "output_type": "execute_result",
          "data": {
            "text/plain": [
              "array(['perfumaria', 'artes', 'esporte_lazer', 'bebes',\n",
              "       'utilidades_domesticas', 'instrumentos_musicais', 'cool_stuff',\n",
              "       'moveis_decoracao', 'eletrodomesticos', 'brinquedos',\n",
              "       'cama_mesa_banho', 'construcao_ferramentas_seguranca',\n",
              "       'informatica_acessorios', 'beleza_saude', 'malas_acessorios',\n",
              "       'ferramentas_jardim', 'moveis_escritorio', 'automotivo',\n",
              "       'eletronicos', 'fashion_calcados', 'telefonia', 'papelaria',\n",
              "       'fashion_bolsas_e_acessorios', 'pcs', 'casa_construcao',\n",
              "       'relogios_presentes', 'construcao_ferramentas_construcao',\n",
              "       'pet_shop', 'eletroportateis', 'agro_industria_e_comercio',\n",
              "       'moveis_sala', 'sinalizacao_e_seguranca', 'climatizacao',\n",
              "       'consoles_games', 'livros_interesse_geral',\n",
              "       'construcao_ferramentas_ferramentas',\n",
              "       'fashion_underwear_e_moda_praia', 'fashion_roupa_masculina',\n",
              "       'moveis_cozinha_area_de_servico_jantar_e_jardim',\n",
              "       'industria_comercio_e_negocios', 'telefonia_fixa',\n",
              "       'construcao_ferramentas_iluminacao', 'livros_tecnicos',\n",
              "       'eletrodomesticos_2', 'artigos_de_festas', 'bebidas',\n",
              "       'market_place', 'la_cuisine', 'construcao_ferramentas_jardim',\n",
              "       'fashion_roupa_feminina', 'casa_conforto', 'audio',\n",
              "       'alimentos_bebidas', 'musica', 'alimentos',\n",
              "       'tablets_impressao_imagem', 'livros_importados',\n",
              "       'portateis_casa_forno_e_cafe', 'fashion_esporte',\n",
              "       'artigos_de_natal', 'fashion_roupa_infanto_juvenil',\n",
              "       'dvds_blu_ray', 'artes_e_artesanato', 'pc_gamer', 'flores',\n",
              "       'moveis_quarto', 'cine_foto', 'fraldas_higiene', 'casa_conforto_2',\n",
              "       'portateis_cozinha_e_preparadores_de_alimentos',\n",
              "       'seguros_e_servicos', 'moveis_colchao_e_estofado',\n",
              "       'cds_dvds_musicais'], dtype=object)"
            ]
          },
          "metadata": {
            "tags": []
          },
          "execution_count": 15
        }
      ]
    },
    {
      "cell_type": "code",
      "metadata": {
        "id": "435jGGu2sd0E",
        "colab_type": "code",
        "colab": {
          "base_uri": "https://localhost:8080/",
          "height": 34
        },
        "outputId": "64f0dcda-8b00-41c5-ab44-1c44a4de4f15"
      },
      "source": [
        "# Vendo quantas categorias há dos produtos\n",
        "df['product_category_name'].nunique()"
      ],
      "execution_count": 16,
      "outputs": [
        {
          "output_type": "execute_result",
          "data": {
            "text/plain": [
              "73"
            ]
          },
          "metadata": {
            "tags": []
          },
          "execution_count": 16
        }
      ]
    },
    {
      "cell_type": "markdown",
      "metadata": {
        "id": "zj42rRofsp8x",
        "colab_type": "text"
      },
      "source": [
        "Vemos então que há 73 categorias e ao verificar cada uma notamos que muitas delas são ligeiramente repetidas, ou pelo menos poderiam ser agrupadas em uma única categoria, diminuindo assim este número alto. Portanto iremos agrupar categorias semelhantes com o código abaixo."
      ]
    },
    {
      "cell_type": "code",
      "metadata": {
        "id": "GfsPBpx4UBRj",
        "colab_type": "code",
        "colab": {}
      },
      "source": [
        "df = ct.join_categories(df)"
      ],
      "execution_count": 17,
      "outputs": []
    },
    {
      "cell_type": "markdown",
      "metadata": {
        "id": "qXteSnOEtYl2",
        "colab_type": "text"
      },
      "source": [
        "Verificando novamente as categorias e suas quantidades."
      ]
    },
    {
      "cell_type": "code",
      "metadata": {
        "id": "E9RW8gdItO-k",
        "colab_type": "code",
        "colab": {
          "base_uri": "https://localhost:8080/",
          "height": 221
        },
        "outputId": "d21e2602-e335-4ba2-a25f-1a8f5f39f316"
      },
      "source": [
        "# Vendo quais são as categorias dos produtos\n",
        "df['product_category_name'].unique()"
      ],
      "execution_count": 18,
      "outputs": [
        {
          "output_type": "execute_result",
          "data": {
            "text/plain": [
              "array(['moda_beleza_perfumaria', 'artes_e_artesanato', 'esporte_lazer',\n",
              "       'brinquedos_e_bebes', 'utilidades_domesticas',\n",
              "       'instrumentos_musicais', 'cool_stuff', 'moveis_decoracao',\n",
              "       'eletrodomesticos', 'cama_mesa_banho', 'construção_ferramentas',\n",
              "       'informatica_tablets', 'beleza_saude', 'malas_acessorios',\n",
              "       'ferramentas_jardim', 'automotivo', 'eletronicos_games_livros',\n",
              "       'telefonia', 'papelaria', 'pet_shop', 'eletroportateis',\n",
              "       'industria_comercio', 'sinalizacao_e_seguranca_servicos',\n",
              "       'climatizacao', 'artigos_festas', 'alimentos_bebidas',\n",
              "       'market_place', 'la_cuisine', 'casa_conforto', 'cine_foto_audio',\n",
              "       'musicas_cds_dvds_blu_ray', 'portateis_casa', 'flores'],\n",
              "      dtype=object)"
            ]
          },
          "metadata": {
            "tags": []
          },
          "execution_count": 18
        }
      ]
    },
    {
      "cell_type": "code",
      "metadata": {
        "id": "O2ECV0FKtcSj",
        "colab_type": "code",
        "colab": {
          "base_uri": "https://localhost:8080/",
          "height": 34
        },
        "outputId": "5f25fd62-1deb-4fb1-c858-0cdbde529726"
      },
      "source": [
        "# Vendo quantas categorias há dos produtos\n",
        "df['product_category_name'].nunique()"
      ],
      "execution_count": 19,
      "outputs": [
        {
          "output_type": "execute_result",
          "data": {
            "text/plain": [
              "33"
            ]
          },
          "metadata": {
            "tags": []
          },
          "execution_count": 19
        }
      ]
    },
    {
      "cell_type": "markdown",
      "metadata": {
        "id": "FiRcr_httjrB",
        "colab_type": "text"
      },
      "source": [
        "Ou seja, conseguimos reduzir o número de categorias em 40 unidades. \n",
        "\n",
        "Uma outra mudança importante a se fazer é no que diz respeito à seleção das features. Tendo em vista que queremos relacionar os clientes com as compras de cada categoria precisamos envolver apenas as features relacionadas à análise. Portanto, podemos redefinir o dataframe df conforme o código abaixo."
      ]
    },
    {
      "cell_type": "code",
      "metadata": {
        "id": "JZwbgZP1vtnn",
        "colab_type": "code",
        "colab": {
          "base_uri": "https://localhost:8080/",
          "height": 204
        },
        "outputId": "b2ad62e0-5de0-4cd3-81df-e68b184f723a"
      },
      "source": [
        "# Criação do dataframe das categorias\n",
        "df_category = df.groupby(['customer_unique_id', 'product_category_name']).agg({\n",
        "    'price': 'sum'\n",
        "}).reset_index()\n",
        "\n",
        "# Renomeando as colunas\n",
        "df_category.rename(\n",
        "    columns={'product_category_name': 'categorias',\n",
        "             'price': 'preco'\n",
        "             }, inplace=True\n",
        "             )\n",
        "# Exibindo as 5 primeiras linhas\n",
        "df_category.head()"
      ],
      "execution_count": 20,
      "outputs": [
        {
          "output_type": "execute_result",
          "data": {
            "text/html": [
              "<div>\n",
              "<style scoped>\n",
              "    .dataframe tbody tr th:only-of-type {\n",
              "        vertical-align: middle;\n",
              "    }\n",
              "\n",
              "    .dataframe tbody tr th {\n",
              "        vertical-align: top;\n",
              "    }\n",
              "\n",
              "    .dataframe thead th {\n",
              "        text-align: right;\n",
              "    }\n",
              "</style>\n",
              "<table border=\"1\" class=\"dataframe\">\n",
              "  <thead>\n",
              "    <tr style=\"text-align: right;\">\n",
              "      <th></th>\n",
              "      <th>customer_unique_id</th>\n",
              "      <th>categorias</th>\n",
              "      <th>preco</th>\n",
              "    </tr>\n",
              "  </thead>\n",
              "  <tbody>\n",
              "    <tr>\n",
              "      <th>0</th>\n",
              "      <td>0000366f3b9a7992bf8c76cfdf3221e2</td>\n",
              "      <td>cama_mesa_banho</td>\n",
              "      <td>129.90</td>\n",
              "    </tr>\n",
              "    <tr>\n",
              "      <th>1</th>\n",
              "      <td>0000b849f77a49e4a4ce2b2a4ca5be3f</td>\n",
              "      <td>beleza_saude</td>\n",
              "      <td>18.90</td>\n",
              "    </tr>\n",
              "    <tr>\n",
              "      <th>2</th>\n",
              "      <td>0000f46a3911fa3c0805444483337064</td>\n",
              "      <td>papelaria</td>\n",
              "      <td>69.00</td>\n",
              "    </tr>\n",
              "    <tr>\n",
              "      <th>3</th>\n",
              "      <td>0000f6ccb0745a6a4b88665a16c9f078</td>\n",
              "      <td>telefonia</td>\n",
              "      <td>25.99</td>\n",
              "    </tr>\n",
              "    <tr>\n",
              "      <th>4</th>\n",
              "      <td>0004aac84e0df4da2b147fca70cf8255</td>\n",
              "      <td>telefonia</td>\n",
              "      <td>180.00</td>\n",
              "    </tr>\n",
              "  </tbody>\n",
              "</table>\n",
              "</div>"
            ],
            "text/plain": [
              "                 customer_unique_id       categorias   preco\n",
              "0  0000366f3b9a7992bf8c76cfdf3221e2  cama_mesa_banho  129.90\n",
              "1  0000b849f77a49e4a4ce2b2a4ca5be3f     beleza_saude   18.90\n",
              "2  0000f46a3911fa3c0805444483337064        papelaria   69.00\n",
              "3  0000f6ccb0745a6a4b88665a16c9f078        telefonia   25.99\n",
              "4  0004aac84e0df4da2b147fca70cf8255        telefonia  180.00"
            ]
          },
          "metadata": {
            "tags": []
          },
          "execution_count": 20
        }
      ]
    },
    {
      "cell_type": "markdown",
      "metadata": {
        "id": "IcwW0ixmw-Qm",
        "colab_type": "text"
      },
      "source": [
        "- Distribuindo as categorias em colunas"
      ]
    },
    {
      "cell_type": "markdown",
      "metadata": {
        "id": "rl9RsCVAxJ1R",
        "colab_type": "text"
      },
      "source": [
        "Para melhor visualização e análise do dataframe podemos redefini-lo de forma que possamos visualizar as categorias como colunas. Para isso, podemos fazê-lo de duas formas considerando:\n",
        "\n",
        "- Os preços gastos por cada cliente em cada categoria.\n",
        "\n",
        "- Apenas as flags para cada categoria, ou seja, se comprou (valor igual a 1) se não comprou (valor igual a zero). Este método é como se tratassemos como variáveis dummy."
      ]
    },
    {
      "cell_type": "markdown",
      "metadata": {
        "id": "OP19c87vxD4g",
        "colab_type": "text"
      },
      "source": [
        "1) Considerando os preços"
      ]
    },
    {
      "cell_type": "code",
      "metadata": {
        "id": "8KmKE7Mjwz_M",
        "colab_type": "code",
        "colab": {
          "base_uri": "https://localhost:8080/",
          "height": 255
        },
        "outputId": "630c8454-799c-4390-b695-1bb8e68cbfd9"
      },
      "source": [
        "# Criando o dataframe\n",
        "df_category_precos = df_category.pivot_table(\n",
        "    'preco', ['customer_unique_id'], \n",
        "    'categorias')\n",
        "\n",
        "# Preenchedo os valores faltantes com zero\n",
        "df_category_precos.fillna(value=0, inplace=True)\n",
        "\n",
        "df_category_precos.head()"
      ],
      "execution_count": 21,
      "outputs": [
        {
          "output_type": "execute_result",
          "data": {
            "text/html": [
              "<div>\n",
              "<style scoped>\n",
              "    .dataframe tbody tr th:only-of-type {\n",
              "        vertical-align: middle;\n",
              "    }\n",
              "\n",
              "    .dataframe tbody tr th {\n",
              "        vertical-align: top;\n",
              "    }\n",
              "\n",
              "    .dataframe thead th {\n",
              "        text-align: right;\n",
              "    }\n",
              "</style>\n",
              "<table border=\"1\" class=\"dataframe\">\n",
              "  <thead>\n",
              "    <tr style=\"text-align: right;\">\n",
              "      <th>categorias</th>\n",
              "      <th>alimentos_bebidas</th>\n",
              "      <th>artes_e_artesanato</th>\n",
              "      <th>artigos_festas</th>\n",
              "      <th>automotivo</th>\n",
              "      <th>beleza_saude</th>\n",
              "      <th>brinquedos_e_bebes</th>\n",
              "      <th>cama_mesa_banho</th>\n",
              "      <th>casa_conforto</th>\n",
              "      <th>cine_foto_audio</th>\n",
              "      <th>climatizacao</th>\n",
              "      <th>construção_ferramentas</th>\n",
              "      <th>cool_stuff</th>\n",
              "      <th>eletrodomesticos</th>\n",
              "      <th>eletronicos_games_livros</th>\n",
              "      <th>eletroportateis</th>\n",
              "      <th>esporte_lazer</th>\n",
              "      <th>ferramentas_jardim</th>\n",
              "      <th>flores</th>\n",
              "      <th>industria_comercio</th>\n",
              "      <th>informatica_tablets</th>\n",
              "      <th>instrumentos_musicais</th>\n",
              "      <th>la_cuisine</th>\n",
              "      <th>malas_acessorios</th>\n",
              "      <th>market_place</th>\n",
              "      <th>moda_beleza_perfumaria</th>\n",
              "      <th>moveis_decoracao</th>\n",
              "      <th>musicas_cds_dvds_blu_ray</th>\n",
              "      <th>papelaria</th>\n",
              "      <th>pet_shop</th>\n",
              "      <th>portateis_casa</th>\n",
              "      <th>sinalizacao_e_seguranca_servicos</th>\n",
              "      <th>telefonia</th>\n",
              "      <th>utilidades_domesticas</th>\n",
              "    </tr>\n",
              "    <tr>\n",
              "      <th>customer_unique_id</th>\n",
              "      <th></th>\n",
              "      <th></th>\n",
              "      <th></th>\n",
              "      <th></th>\n",
              "      <th></th>\n",
              "      <th></th>\n",
              "      <th></th>\n",
              "      <th></th>\n",
              "      <th></th>\n",
              "      <th></th>\n",
              "      <th></th>\n",
              "      <th></th>\n",
              "      <th></th>\n",
              "      <th></th>\n",
              "      <th></th>\n",
              "      <th></th>\n",
              "      <th></th>\n",
              "      <th></th>\n",
              "      <th></th>\n",
              "      <th></th>\n",
              "      <th></th>\n",
              "      <th></th>\n",
              "      <th></th>\n",
              "      <th></th>\n",
              "      <th></th>\n",
              "      <th></th>\n",
              "      <th></th>\n",
              "      <th></th>\n",
              "      <th></th>\n",
              "      <th></th>\n",
              "      <th></th>\n",
              "      <th></th>\n",
              "      <th></th>\n",
              "    </tr>\n",
              "  </thead>\n",
              "  <tbody>\n",
              "    <tr>\n",
              "      <th>0000366f3b9a7992bf8c76cfdf3221e2</th>\n",
              "      <td>0.0</td>\n",
              "      <td>0.0</td>\n",
              "      <td>0.0</td>\n",
              "      <td>0.0</td>\n",
              "      <td>0.0</td>\n",
              "      <td>0.0</td>\n",
              "      <td>129.9</td>\n",
              "      <td>0.0</td>\n",
              "      <td>0.0</td>\n",
              "      <td>0.0</td>\n",
              "      <td>0.0</td>\n",
              "      <td>0.0</td>\n",
              "      <td>0.0</td>\n",
              "      <td>0.0</td>\n",
              "      <td>0.0</td>\n",
              "      <td>0.0</td>\n",
              "      <td>0.0</td>\n",
              "      <td>0.0</td>\n",
              "      <td>0.0</td>\n",
              "      <td>0.0</td>\n",
              "      <td>0.0</td>\n",
              "      <td>0.0</td>\n",
              "      <td>0.0</td>\n",
              "      <td>0.0</td>\n",
              "      <td>0.0</td>\n",
              "      <td>0.0</td>\n",
              "      <td>0.0</td>\n",
              "      <td>0.0</td>\n",
              "      <td>0.0</td>\n",
              "      <td>0.0</td>\n",
              "      <td>0.0</td>\n",
              "      <td>0.00</td>\n",
              "      <td>0.0</td>\n",
              "    </tr>\n",
              "    <tr>\n",
              "      <th>0000b849f77a49e4a4ce2b2a4ca5be3f</th>\n",
              "      <td>0.0</td>\n",
              "      <td>0.0</td>\n",
              "      <td>0.0</td>\n",
              "      <td>0.0</td>\n",
              "      <td>18.9</td>\n",
              "      <td>0.0</td>\n",
              "      <td>0.0</td>\n",
              "      <td>0.0</td>\n",
              "      <td>0.0</td>\n",
              "      <td>0.0</td>\n",
              "      <td>0.0</td>\n",
              "      <td>0.0</td>\n",
              "      <td>0.0</td>\n",
              "      <td>0.0</td>\n",
              "      <td>0.0</td>\n",
              "      <td>0.0</td>\n",
              "      <td>0.0</td>\n",
              "      <td>0.0</td>\n",
              "      <td>0.0</td>\n",
              "      <td>0.0</td>\n",
              "      <td>0.0</td>\n",
              "      <td>0.0</td>\n",
              "      <td>0.0</td>\n",
              "      <td>0.0</td>\n",
              "      <td>0.0</td>\n",
              "      <td>0.0</td>\n",
              "      <td>0.0</td>\n",
              "      <td>0.0</td>\n",
              "      <td>0.0</td>\n",
              "      <td>0.0</td>\n",
              "      <td>0.0</td>\n",
              "      <td>0.00</td>\n",
              "      <td>0.0</td>\n",
              "    </tr>\n",
              "    <tr>\n",
              "      <th>0000f46a3911fa3c0805444483337064</th>\n",
              "      <td>0.0</td>\n",
              "      <td>0.0</td>\n",
              "      <td>0.0</td>\n",
              "      <td>0.0</td>\n",
              "      <td>0.0</td>\n",
              "      <td>0.0</td>\n",
              "      <td>0.0</td>\n",
              "      <td>0.0</td>\n",
              "      <td>0.0</td>\n",
              "      <td>0.0</td>\n",
              "      <td>0.0</td>\n",
              "      <td>0.0</td>\n",
              "      <td>0.0</td>\n",
              "      <td>0.0</td>\n",
              "      <td>0.0</td>\n",
              "      <td>0.0</td>\n",
              "      <td>0.0</td>\n",
              "      <td>0.0</td>\n",
              "      <td>0.0</td>\n",
              "      <td>0.0</td>\n",
              "      <td>0.0</td>\n",
              "      <td>0.0</td>\n",
              "      <td>0.0</td>\n",
              "      <td>0.0</td>\n",
              "      <td>0.0</td>\n",
              "      <td>0.0</td>\n",
              "      <td>0.0</td>\n",
              "      <td>69.0</td>\n",
              "      <td>0.0</td>\n",
              "      <td>0.0</td>\n",
              "      <td>0.0</td>\n",
              "      <td>0.00</td>\n",
              "      <td>0.0</td>\n",
              "    </tr>\n",
              "    <tr>\n",
              "      <th>0000f6ccb0745a6a4b88665a16c9f078</th>\n",
              "      <td>0.0</td>\n",
              "      <td>0.0</td>\n",
              "      <td>0.0</td>\n",
              "      <td>0.0</td>\n",
              "      <td>0.0</td>\n",
              "      <td>0.0</td>\n",
              "      <td>0.0</td>\n",
              "      <td>0.0</td>\n",
              "      <td>0.0</td>\n",
              "      <td>0.0</td>\n",
              "      <td>0.0</td>\n",
              "      <td>0.0</td>\n",
              "      <td>0.0</td>\n",
              "      <td>0.0</td>\n",
              "      <td>0.0</td>\n",
              "      <td>0.0</td>\n",
              "      <td>0.0</td>\n",
              "      <td>0.0</td>\n",
              "      <td>0.0</td>\n",
              "      <td>0.0</td>\n",
              "      <td>0.0</td>\n",
              "      <td>0.0</td>\n",
              "      <td>0.0</td>\n",
              "      <td>0.0</td>\n",
              "      <td>0.0</td>\n",
              "      <td>0.0</td>\n",
              "      <td>0.0</td>\n",
              "      <td>0.0</td>\n",
              "      <td>0.0</td>\n",
              "      <td>0.0</td>\n",
              "      <td>0.0</td>\n",
              "      <td>25.99</td>\n",
              "      <td>0.0</td>\n",
              "    </tr>\n",
              "    <tr>\n",
              "      <th>0004aac84e0df4da2b147fca70cf8255</th>\n",
              "      <td>0.0</td>\n",
              "      <td>0.0</td>\n",
              "      <td>0.0</td>\n",
              "      <td>0.0</td>\n",
              "      <td>0.0</td>\n",
              "      <td>0.0</td>\n",
              "      <td>0.0</td>\n",
              "      <td>0.0</td>\n",
              "      <td>0.0</td>\n",
              "      <td>0.0</td>\n",
              "      <td>0.0</td>\n",
              "      <td>0.0</td>\n",
              "      <td>0.0</td>\n",
              "      <td>0.0</td>\n",
              "      <td>0.0</td>\n",
              "      <td>0.0</td>\n",
              "      <td>0.0</td>\n",
              "      <td>0.0</td>\n",
              "      <td>0.0</td>\n",
              "      <td>0.0</td>\n",
              "      <td>0.0</td>\n",
              "      <td>0.0</td>\n",
              "      <td>0.0</td>\n",
              "      <td>0.0</td>\n",
              "      <td>0.0</td>\n",
              "      <td>0.0</td>\n",
              "      <td>0.0</td>\n",
              "      <td>0.0</td>\n",
              "      <td>0.0</td>\n",
              "      <td>0.0</td>\n",
              "      <td>0.0</td>\n",
              "      <td>180.00</td>\n",
              "      <td>0.0</td>\n",
              "    </tr>\n",
              "  </tbody>\n",
              "</table>\n",
              "</div>"
            ],
            "text/plain": [
              "categorias                        alimentos_bebidas  ...  utilidades_domesticas\n",
              "customer_unique_id                                   ...                       \n",
              "0000366f3b9a7992bf8c76cfdf3221e2                0.0  ...                    0.0\n",
              "0000b849f77a49e4a4ce2b2a4ca5be3f                0.0  ...                    0.0\n",
              "0000f46a3911fa3c0805444483337064                0.0  ...                    0.0\n",
              "0000f6ccb0745a6a4b88665a16c9f078                0.0  ...                    0.0\n",
              "0004aac84e0df4da2b147fca70cf8255                0.0  ...                    0.0\n",
              "\n",
              "[5 rows x 33 columns]"
            ]
          },
          "metadata": {
            "tags": []
          },
          "execution_count": 21
        }
      ]
    },
    {
      "cell_type": "code",
      "metadata": {
        "id": "ikAOLz_GxgNg",
        "colab_type": "code",
        "colab": {
          "base_uri": "https://localhost:8080/",
          "height": 34
        },
        "outputId": "8c2e40f0-4824-4c3f-e9c2-c079e1d3948d"
      },
      "source": [
        "df_category_precos.shape"
      ],
      "execution_count": 22,
      "outputs": [
        {
          "output_type": "execute_result",
          "data": {
            "text/plain": [
              "(94108, 33)"
            ]
          },
          "metadata": {
            "tags": []
          },
          "execution_count": 22
        }
      ]
    },
    {
      "cell_type": "markdown",
      "metadata": {
        "id": "7LDEWDg9yDkR",
        "colab_type": "text"
      },
      "source": [
        "2) Considerando as flags"
      ]
    },
    {
      "cell_type": "code",
      "metadata": {
        "id": "IrAwp_cBuYAr",
        "colab_type": "code",
        "colab": {
          "base_uri": "https://localhost:8080/",
          "height": 255
        },
        "outputId": "35988c29-b575-4db0-9144-0f5637381c25"
      },
      "source": [
        "# Criando o dataframe\n",
        "df_category_flags = pd.get_dummies(df_category.set_index('customer_unique_id'))\n",
        "\n",
        "# Excluindo a coluna \"preco\"\n",
        "df_category_flags.drop(labels='preco', axis=1, inplace=True)\n",
        "\n",
        "# Editando o dataframe para nosso propósito\n",
        "df_category_flags = df_category_flags.groupby(df_category_flags.index).sum()\n",
        "\n",
        "# Renomeando as colunas do dataframe\n",
        "df_category_flags = ct.rename_columns(df_category_flags)\n",
        "df_category_flags.head()"
      ],
      "execution_count": 23,
      "outputs": [
        {
          "output_type": "execute_result",
          "data": {
            "text/html": [
              "<div>\n",
              "<style scoped>\n",
              "    .dataframe tbody tr th:only-of-type {\n",
              "        vertical-align: middle;\n",
              "    }\n",
              "\n",
              "    .dataframe tbody tr th {\n",
              "        vertical-align: top;\n",
              "    }\n",
              "\n",
              "    .dataframe thead th {\n",
              "        text-align: right;\n",
              "    }\n",
              "</style>\n",
              "<table border=\"1\" class=\"dataframe\">\n",
              "  <thead>\n",
              "    <tr style=\"text-align: right;\">\n",
              "      <th></th>\n",
              "      <th>alimentos_bebidas</th>\n",
              "      <th>artes_e_artesanato</th>\n",
              "      <th>artigos_festas</th>\n",
              "      <th>automotivo</th>\n",
              "      <th>beleza_saude</th>\n",
              "      <th>brinquedos_e_bebes</th>\n",
              "      <th>cama_mesa_banho</th>\n",
              "      <th>casa_conforto</th>\n",
              "      <th>cine_foto_audio</th>\n",
              "      <th>climatizacao</th>\n",
              "      <th>construção_ferramentas</th>\n",
              "      <th>cool_stuff</th>\n",
              "      <th>eletrodomesticos</th>\n",
              "      <th>eletronicos_games_livros</th>\n",
              "      <th>eletroportateis</th>\n",
              "      <th>esporte_lazer</th>\n",
              "      <th>ferramentas_jardim</th>\n",
              "      <th>flores</th>\n",
              "      <th>industria_comercio</th>\n",
              "      <th>informatica_tablets</th>\n",
              "      <th>instrumentos_musicais</th>\n",
              "      <th>la_cuisine</th>\n",
              "      <th>malas_acessorios</th>\n",
              "      <th>market_place</th>\n",
              "      <th>moda_beleza_perfumaria</th>\n",
              "      <th>moveis_decoracao</th>\n",
              "      <th>musicas_cds_dvds_blu_ray</th>\n",
              "      <th>papelaria</th>\n",
              "      <th>pet_shop</th>\n",
              "      <th>portateis_casa</th>\n",
              "      <th>sinalizacao_e_seguranca_servicos</th>\n",
              "      <th>telefonia</th>\n",
              "      <th>utilidades_domesticas</th>\n",
              "    </tr>\n",
              "    <tr>\n",
              "      <th>customer_unique_id</th>\n",
              "      <th></th>\n",
              "      <th></th>\n",
              "      <th></th>\n",
              "      <th></th>\n",
              "      <th></th>\n",
              "      <th></th>\n",
              "      <th></th>\n",
              "      <th></th>\n",
              "      <th></th>\n",
              "      <th></th>\n",
              "      <th></th>\n",
              "      <th></th>\n",
              "      <th></th>\n",
              "      <th></th>\n",
              "      <th></th>\n",
              "      <th></th>\n",
              "      <th></th>\n",
              "      <th></th>\n",
              "      <th></th>\n",
              "      <th></th>\n",
              "      <th></th>\n",
              "      <th></th>\n",
              "      <th></th>\n",
              "      <th></th>\n",
              "      <th></th>\n",
              "      <th></th>\n",
              "      <th></th>\n",
              "      <th></th>\n",
              "      <th></th>\n",
              "      <th></th>\n",
              "      <th></th>\n",
              "      <th></th>\n",
              "      <th></th>\n",
              "    </tr>\n",
              "  </thead>\n",
              "  <tbody>\n",
              "    <tr>\n",
              "      <th>0000366f3b9a7992bf8c76cfdf3221e2</th>\n",
              "      <td>0</td>\n",
              "      <td>0</td>\n",
              "      <td>0</td>\n",
              "      <td>0</td>\n",
              "      <td>0</td>\n",
              "      <td>0</td>\n",
              "      <td>1</td>\n",
              "      <td>0</td>\n",
              "      <td>0</td>\n",
              "      <td>0</td>\n",
              "      <td>0</td>\n",
              "      <td>0</td>\n",
              "      <td>0</td>\n",
              "      <td>0</td>\n",
              "      <td>0</td>\n",
              "      <td>0</td>\n",
              "      <td>0</td>\n",
              "      <td>0</td>\n",
              "      <td>0</td>\n",
              "      <td>0</td>\n",
              "      <td>0</td>\n",
              "      <td>0</td>\n",
              "      <td>0</td>\n",
              "      <td>0</td>\n",
              "      <td>0</td>\n",
              "      <td>0</td>\n",
              "      <td>0</td>\n",
              "      <td>0</td>\n",
              "      <td>0</td>\n",
              "      <td>0</td>\n",
              "      <td>0</td>\n",
              "      <td>0</td>\n",
              "      <td>0</td>\n",
              "    </tr>\n",
              "    <tr>\n",
              "      <th>0000b849f77a49e4a4ce2b2a4ca5be3f</th>\n",
              "      <td>0</td>\n",
              "      <td>0</td>\n",
              "      <td>0</td>\n",
              "      <td>0</td>\n",
              "      <td>1</td>\n",
              "      <td>0</td>\n",
              "      <td>0</td>\n",
              "      <td>0</td>\n",
              "      <td>0</td>\n",
              "      <td>0</td>\n",
              "      <td>0</td>\n",
              "      <td>0</td>\n",
              "      <td>0</td>\n",
              "      <td>0</td>\n",
              "      <td>0</td>\n",
              "      <td>0</td>\n",
              "      <td>0</td>\n",
              "      <td>0</td>\n",
              "      <td>0</td>\n",
              "      <td>0</td>\n",
              "      <td>0</td>\n",
              "      <td>0</td>\n",
              "      <td>0</td>\n",
              "      <td>0</td>\n",
              "      <td>0</td>\n",
              "      <td>0</td>\n",
              "      <td>0</td>\n",
              "      <td>0</td>\n",
              "      <td>0</td>\n",
              "      <td>0</td>\n",
              "      <td>0</td>\n",
              "      <td>0</td>\n",
              "      <td>0</td>\n",
              "    </tr>\n",
              "    <tr>\n",
              "      <th>0000f46a3911fa3c0805444483337064</th>\n",
              "      <td>0</td>\n",
              "      <td>0</td>\n",
              "      <td>0</td>\n",
              "      <td>0</td>\n",
              "      <td>0</td>\n",
              "      <td>0</td>\n",
              "      <td>0</td>\n",
              "      <td>0</td>\n",
              "      <td>0</td>\n",
              "      <td>0</td>\n",
              "      <td>0</td>\n",
              "      <td>0</td>\n",
              "      <td>0</td>\n",
              "      <td>0</td>\n",
              "      <td>0</td>\n",
              "      <td>0</td>\n",
              "      <td>0</td>\n",
              "      <td>0</td>\n",
              "      <td>0</td>\n",
              "      <td>0</td>\n",
              "      <td>0</td>\n",
              "      <td>0</td>\n",
              "      <td>0</td>\n",
              "      <td>0</td>\n",
              "      <td>0</td>\n",
              "      <td>0</td>\n",
              "      <td>0</td>\n",
              "      <td>1</td>\n",
              "      <td>0</td>\n",
              "      <td>0</td>\n",
              "      <td>0</td>\n",
              "      <td>0</td>\n",
              "      <td>0</td>\n",
              "    </tr>\n",
              "    <tr>\n",
              "      <th>0000f6ccb0745a6a4b88665a16c9f078</th>\n",
              "      <td>0</td>\n",
              "      <td>0</td>\n",
              "      <td>0</td>\n",
              "      <td>0</td>\n",
              "      <td>0</td>\n",
              "      <td>0</td>\n",
              "      <td>0</td>\n",
              "      <td>0</td>\n",
              "      <td>0</td>\n",
              "      <td>0</td>\n",
              "      <td>0</td>\n",
              "      <td>0</td>\n",
              "      <td>0</td>\n",
              "      <td>0</td>\n",
              "      <td>0</td>\n",
              "      <td>0</td>\n",
              "      <td>0</td>\n",
              "      <td>0</td>\n",
              "      <td>0</td>\n",
              "      <td>0</td>\n",
              "      <td>0</td>\n",
              "      <td>0</td>\n",
              "      <td>0</td>\n",
              "      <td>0</td>\n",
              "      <td>0</td>\n",
              "      <td>0</td>\n",
              "      <td>0</td>\n",
              "      <td>0</td>\n",
              "      <td>0</td>\n",
              "      <td>0</td>\n",
              "      <td>0</td>\n",
              "      <td>1</td>\n",
              "      <td>0</td>\n",
              "    </tr>\n",
              "    <tr>\n",
              "      <th>0004aac84e0df4da2b147fca70cf8255</th>\n",
              "      <td>0</td>\n",
              "      <td>0</td>\n",
              "      <td>0</td>\n",
              "      <td>0</td>\n",
              "      <td>0</td>\n",
              "      <td>0</td>\n",
              "      <td>0</td>\n",
              "      <td>0</td>\n",
              "      <td>0</td>\n",
              "      <td>0</td>\n",
              "      <td>0</td>\n",
              "      <td>0</td>\n",
              "      <td>0</td>\n",
              "      <td>0</td>\n",
              "      <td>0</td>\n",
              "      <td>0</td>\n",
              "      <td>0</td>\n",
              "      <td>0</td>\n",
              "      <td>0</td>\n",
              "      <td>0</td>\n",
              "      <td>0</td>\n",
              "      <td>0</td>\n",
              "      <td>0</td>\n",
              "      <td>0</td>\n",
              "      <td>0</td>\n",
              "      <td>0</td>\n",
              "      <td>0</td>\n",
              "      <td>0</td>\n",
              "      <td>0</td>\n",
              "      <td>0</td>\n",
              "      <td>0</td>\n",
              "      <td>1</td>\n",
              "      <td>0</td>\n",
              "    </tr>\n",
              "  </tbody>\n",
              "</table>\n",
              "</div>"
            ],
            "text/plain": [
              "                                  alimentos_bebidas  ...  utilidades_domesticas\n",
              "customer_unique_id                                   ...                       \n",
              "0000366f3b9a7992bf8c76cfdf3221e2                  0  ...                      0\n",
              "0000b849f77a49e4a4ce2b2a4ca5be3f                  0  ...                      0\n",
              "0000f46a3911fa3c0805444483337064                  0  ...                      0\n",
              "0000f6ccb0745a6a4b88665a16c9f078                  0  ...                      0\n",
              "0004aac84e0df4da2b147fca70cf8255                  0  ...                      0\n",
              "\n",
              "[5 rows x 33 columns]"
            ]
          },
          "metadata": {
            "tags": []
          },
          "execution_count": 23
        }
      ]
    },
    {
      "cell_type": "code",
      "metadata": {
        "id": "guE6ifvFzj_w",
        "colab_type": "code",
        "colab": {
          "base_uri": "https://localhost:8080/",
          "height": 34
        },
        "outputId": "5d064c88-3d41-40b1-fdb9-a77eea3d1ba6"
      },
      "source": [
        "df_category_flags.shape"
      ],
      "execution_count": 24,
      "outputs": [
        {
          "output_type": "execute_result",
          "data": {
            "text/plain": [
              "(94108, 33)"
            ]
          },
          "metadata": {
            "tags": []
          },
          "execution_count": 24
        }
      ]
    },
    {
      "cell_type": "markdown",
      "metadata": {
        "id": "e5RCO5cYSjfq",
        "colab_type": "text"
      },
      "source": [
        "- Aplicação do PCA"
      ]
    },
    {
      "cell_type": "markdown",
      "metadata": {
        "id": "-POQIxskSmt0",
        "colab_type": "text"
      },
      "source": [
        "Agora sim iremos analisar as categorias compradas por cada cliente e para isso utilizaremos o algorítimo de análise dos componentes principais (PCA). Inicialmente aplicaremos no dataframe com as flags e ver o seu comportamento."
      ]
    },
    {
      "cell_type": "code",
      "metadata": {
        "id": "uebDLmQIAPM8",
        "colab_type": "code",
        "colab": {}
      },
      "source": [
        "# Construindo o modelo do PCA\n",
        "def pca_model(df):\n",
        "  pca = PCA(n_components=11)\n",
        "  df = pca.fit_transform(df)\n",
        "  componentes = pca.explained_variance_ratio_\n",
        "  sum_componentes = np.cumsum(componentes)\n",
        "  return componentes, sum_componentes, pca"
      ],
      "execution_count": 25,
      "outputs": []
    },
    {
      "cell_type": "markdown",
      "metadata": {
        "id": "0LqXBRxQUvVe",
        "colab_type": "text"
      },
      "source": [
        "***Nota***: \n",
        "\n",
        "Consideramos 11 componentes principais uma vez que desta maneira elas apresentam uma boa representatividade das features como um todo."
      ]
    },
    {
      "cell_type": "markdown",
      "metadata": {
        "id": "_MALEVDpXhBE",
        "colab_type": "text"
      },
      "source": [
        "1) Dataframe df_category_precos"
      ]
    },
    {
      "cell_type": "code",
      "metadata": {
        "id": "3oLs5DKNXsRw",
        "colab_type": "code",
        "colab": {}
      },
      "source": [
        "componentes_principais_p , soma_acumulativa_p, pca_p = pca_model(df_category_precos)"
      ],
      "execution_count": 26,
      "outputs": []
    },
    {
      "cell_type": "code",
      "metadata": {
        "id": "XHf-cGHqZoFl",
        "colab_type": "code",
        "colab": {
          "base_uri": "https://localhost:8080/",
          "height": 68
        },
        "outputId": "0375e8cd-1488-4309-bd94-1099e96583cf"
      },
      "source": [
        "# Verificando a variância\n",
        "componentes_principais_p"
      ],
      "execution_count": 27,
      "outputs": [
        {
          "output_type": "execute_result",
          "data": {
            "text/plain": [
              "array([0.1321704 , 0.12507177, 0.08072925, 0.06440146, 0.06061917,\n",
              "       0.05416875, 0.05135621, 0.04883255, 0.04399815, 0.04023957,\n",
              "       0.03843039])"
            ]
          },
          "metadata": {
            "tags": []
          },
          "execution_count": 27
        }
      ]
    },
    {
      "cell_type": "code",
      "metadata": {
        "id": "mGpDlGeBZyPV",
        "colab_type": "code",
        "colab": {
          "base_uri": "https://localhost:8080/",
          "height": 68
        },
        "outputId": "c9eeaa0c-7496-4e5d-a537-c8f0275463a3"
      },
      "source": [
        "# Verificando a soma acumulativa da variância\n",
        "soma_acumulativa_p"
      ],
      "execution_count": 28,
      "outputs": [
        {
          "output_type": "execute_result",
          "data": {
            "text/plain": [
              "array([0.1321704 , 0.25724217, 0.33797142, 0.40237288, 0.46299205,\n",
              "       0.5171608 , 0.56851701, 0.61734956, 0.66134771, 0.70158727,\n",
              "       0.74001767])"
            ]
          },
          "metadata": {
            "tags": []
          },
          "execution_count": 28
        }
      ]
    },
    {
      "cell_type": "markdown",
      "metadata": {
        "id": "llhgOx8PdZwV",
        "colab_type": "text"
      },
      "source": [
        "- PLots do resultado do PCA"
      ]
    },
    {
      "cell_type": "code",
      "metadata": {
        "id": "Ku2g0rsKdY9s",
        "colab_type": "code",
        "colab": {
          "base_uri": "https://localhost:8080/",
          "height": 604
        },
        "outputId": "aad199e6-72cd-44ea-f519-fe8c466e545d"
      },
      "source": [
        "resultados_pca_p = vs.pca_results(df_category_precos, pca_p)"
      ],
      "execution_count": 29,
      "outputs": [
        {
          "output_type": "display_data",
          "data": {
            "image/png": "[encoded data removed]",
            "text/plain": [
              "<Figure size 1368x576 with 1 Axes>"
            ]
          },
          "metadata": {
            "tags": [],
            "needs_background": "light"
          }
        }
      ]
    },
    {
      "cell_type": "markdown",
      "metadata": {
        "id": "olE08y4PT2KM",
        "colab_type": "text"
      },
      "source": [
        "- Gráfico Explained Variance Ratio x Principal Components"
      ]
    },
    {
      "cell_type": "code",
      "metadata": {
        "id": "VQZ5zBWkHogp",
        "colab_type": "code",
        "colab": {
          "base_uri": "https://localhost:8080/",
          "height": 388
        },
        "outputId": "cf60f95d-e530-4d1d-8e41-3da467542ca5"
      },
      "source": [
        "plt.figure(figsize=(10,6))\n",
        "plt.plot(range(1, 12), soma_acumulativa_p, \n",
        "         label='cumulative explained variance')\n",
        "plt.bar(range(1, 12), componentes_principais_p, alpha=0.5, align='center', \n",
        "        label='individual explained variance')\n",
        "plt.xlabel('Principal Components')\n",
        "plt.ylabel('Explained Variance Ratio')\n",
        "plt.legend(loc='best')\n",
        "plt.show()"
      ],
      "execution_count": 30,
      "outputs": [
        {
          "output_type": "display_data",
          "data": {
            "image/png": "[encoded data removed]",
            "text/plain": [
              "<Figure size 720x432 with 1 Axes>"
            ]
          },
          "metadata": {
            "tags": [],
            "needs_background": "light"
          }
        }
      ]
    },
    {
      "cell_type": "markdown",
      "metadata": {
        "id": "U3F7izENYCrc",
        "colab_type": "text"
      },
      "source": [
        "2) Dataframe df_category_flags"
      ]
    },
    {
      "cell_type": "code",
      "metadata": {
        "id": "_3Ti4LLXYLl8",
        "colab_type": "code",
        "colab": {}
      },
      "source": [
        "componentes_principais_f , soma_acumulativa_f, pca_f = pca_model(df_category_flags)"
      ],
      "execution_count": 31,
      "outputs": []
    },
    {
      "cell_type": "code",
      "metadata": {
        "id": "S3v-Uo8vYTqL",
        "colab_type": "code",
        "colab": {
          "base_uri": "https://localhost:8080/",
          "height": 68
        },
        "outputId": "0d461634-f306-4706-c065-61434931743e"
      },
      "source": [
        "# Verificando a variância\n",
        "componentes_principais_f"
      ],
      "execution_count": 32,
      "outputs": [
        {
          "output_type": "execute_result",
          "data": {
            "text/plain": [
              "array([0.11723583, 0.09938366, 0.09396423, 0.08806888, 0.08009181,\n",
              "       0.07519782, 0.06712062, 0.05583983, 0.0488926 , 0.04481687,\n",
              "       0.04125273])"
            ]
          },
          "metadata": {
            "tags": []
          },
          "execution_count": 32
        }
      ]
    },
    {
      "cell_type": "code",
      "metadata": {
        "id": "YrBPEYtpYWmH",
        "colab_type": "code",
        "colab": {
          "base_uri": "https://localhost:8080/",
          "height": 68
        },
        "outputId": "0326332c-b21f-4e6f-c4b2-c2f0cf0ccfcb"
      },
      "source": [
        "# Verificando a soma acumulativa da variância\n",
        "soma_acumulativa_f"
      ],
      "execution_count": 33,
      "outputs": [
        {
          "output_type": "execute_result",
          "data": {
            "text/plain": [
              "array([0.11723583, 0.21661949, 0.31058371, 0.39865259, 0.4787444 ,\n",
              "       0.55394222, 0.62106284, 0.67690267, 0.72579526, 0.77061213,\n",
              "       0.81186486])"
            ]
          },
          "metadata": {
            "tags": []
          },
          "execution_count": 33
        }
      ]
    },
    {
      "cell_type": "markdown",
      "metadata": {
        "id": "iYsfn6v2fLqF",
        "colab_type": "text"
      },
      "source": [
        "- PLots do resultado do PCA"
      ]
    },
    {
      "cell_type": "code",
      "metadata": {
        "id": "2KIIK29GfKkf",
        "colab_type": "code",
        "colab": {
          "base_uri": "https://localhost:8080/",
          "height": 604
        },
        "outputId": "1a3d0a15-ac48-4b5e-a56e-11192fc61d3d"
      },
      "source": [
        "resultados_pca_f = vs.pca_results(df_category_precos, pca_f)"
      ],
      "execution_count": 34,
      "outputs": [
        {
          "output_type": "display_data",
          "data": {
            "image/png": "[encoded data removed]",
            "text/plain": [
              "<Figure size 1368x576 with 1 Axes>"
            ]
          },
          "metadata": {
            "tags": [],
            "needs_background": "light"
          }
        }
      ]
    },
    {
      "cell_type": "markdown",
      "metadata": {
        "id": "gC08oGYnbGb5",
        "colab_type": "text"
      },
      "source": [
        "- Gráfico Explained Variance Ratio x Principal Components"
      ]
    },
    {
      "cell_type": "code",
      "metadata": {
        "id": "m0Sul5FnYZsv",
        "colab_type": "code",
        "colab": {
          "base_uri": "https://localhost:8080/",
          "height": 388
        },
        "outputId": "0b67bc7f-640d-4899-a5c1-eb666489c09e"
      },
      "source": [
        "plt.figure(figsize=(10,6))\n",
        "plt.plot(range(1, 12), soma_acumulativa_f, \n",
        "         label='cumulative explained variance')\n",
        "plt.bar(range(1, 12), componentes_principais_f, alpha=0.5, align='center', \n",
        "        label='individual explained variance')\n",
        "plt.xlabel('Principal Components')\n",
        "plt.ylabel('Explained Variance Ratio')\n",
        "plt.legend(loc='best')\n",
        "plt.show()"
      ],
      "execution_count": 35,
      "outputs": [
        {
          "output_type": "display_data",
          "data": {
            "image/png": "[encoded data removed]",
            "text/plain": [
              "<Figure size 720x432 with 1 Axes>"
            ]
          },
          "metadata": {
            "tags": [],
            "needs_background": "light"
          }
        }
      ]
    }
  ]
}